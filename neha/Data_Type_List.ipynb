{
 "cells": [
  {
   "cell_type": "markdown",
   "metadata": {},
   "source": [
    "<h2 style='color:#123456'>List Data Type</h2>\n",
    "<p style='color:red'>List is combination of items, items can be homogenous or hetrogenous. If all items of list is homogenous then list is known as array. List type is mutable data type. </p>\n",
    "<p style='color:#660000'>Homogenous --> all elements are of same data type</p>\n",
    "<p style='color:#660000'>Hetrogenous --> all elements are of different different types</p>\n",
    "\n",
    "<p> for Example : - <br/>\n",
    "    mylist1 = [ 1,2,3,4,5] or mylist2 = ['hi','hello','how' ] are of homogenous list or we can these are arrays <br/>\n",
    "    mylist2 = [ 1,3.14,'hello','hi',5+6j ] is a hetro genous list </p>\n",
    "    \n",
    " <p style='color:red'>Array-->array is collection of similar data types or we can say an array is a collection of homogenous data types. </p>\n",
    " \n",
    " <h3>Note:- All arrays are list but all lists are not array</h3>"
   ]
  },
  {
   "cell_type": "code",
   "execution_count": 4,
   "metadata": {},
   "outputs": [
    {
     "name": "stdout",
     "output_type": "stream",
     "text": [
      "['2-shirts', '3-jeans', 'one plus six T', '2kg chawal', '1 airplane']\n"
     ]
    }
   ],
   "source": [
    "#syntax name_list = [ item1, item2, item3, ..., itemn ]\n",
    "shopping_list = [ '2-shirts','3-jeans','one plus six T','2kg chawal','1 airplane']\n",
    "print(shopping_list)"
   ]
  },
  {
   "cell_type": "markdown",
   "metadata": {},
   "source": [
    "<h3 style='color:#123456'>List support indexing and slicing same as strings</h3> "
   ]
  },
  {
   "cell_type": "code",
   "execution_count": 6,
   "metadata": {},
   "outputs": [],
   "source": [
    "programming_languages = [ 'python','java','c','c++','php','.net','shell scripting',\n",
    "                       'c#','scala','pig','go','swift','javascript','r','angular js',\n",
    "                       'node js','block chain','html','css','bootstrap','xml','json',\n",
    "                       'sql','mongodb',]"
   ]
  },
  {
   "cell_type": "code",
   "execution_count": 7,
   "metadata": {},
   "outputs": [
    {
     "name": "stdout",
     "output_type": "stream",
     "text": [
      "['python', 'java', 'c', 'c++', 'php', '.net', 'shell scripting', 'c#', 'scala', 'pig', 'go', 'swift', 'javascript', 'r', 'angular js', 'node js', 'block chain', 'html', 'css', 'bootstrap', 'xml', 'json', 'sql', 'mongodb']\n"
     ]
    }
   ],
   "source": [
    "print(programming_languages)"
   ]
  },
  {
   "cell_type": "code",
   "execution_count": 8,
   "metadata": {},
   "outputs": [
    {
     "name": "stdout",
     "output_type": "stream",
     "text": [
      "Total languages =  24\n"
     ]
    }
   ],
   "source": [
    "print(\"Total languages = \",len(programming_languages))"
   ]
  },
  {
   "cell_type": "code",
   "execution_count": 9,
   "metadata": {},
   "outputs": [
    {
     "name": "stdout",
     "output_type": "stream",
     "text": [
      "Top 5 languages in market :  ['python', 'java', 'c', 'c++', 'php']\n",
      "Last 5 languages in market :  ['bootstrap', 'xml', 'json', 'sql', 'mongodb']\n"
     ]
    }
   ],
   "source": [
    "print(\"Top 5 languages in market : \",programming_languages[:5])\n",
    "print(\"Last 5 languages in market : \",programming_languages[-5:])"
   ]
  },
  {
   "cell_type": "code",
   "execution_count": 10,
   "metadata": {},
   "outputs": [
    {
     "name": "stdout",
     "output_type": "stream",
     "text": [
      "['mongodb', 'sql', 'json', 'xml', 'bootstrap', 'css', 'html', 'block chain', 'node js', 'angular js', 'r', 'javascript', 'swift', 'go', 'pig', 'scala', 'c#', 'shell scripting', '.net', 'php', 'c++', 'c', 'java', 'python']\n"
     ]
    }
   ],
   "source": [
    "n = programming_languages[::-1]\n",
    "print(n)"
   ]
  },
  {
   "cell_type": "code",
   "execution_count": 18,
   "metadata": {},
   "outputs": [
    {
     "name": "stdout",
     "output_type": "stream",
     "text": [
      "['hello', 1, 'something']\n"
     ]
    }
   ],
   "source": [
    "l = [ 'hello', 'bye',1,5.6,'something']\n",
    "print(l[::2])"
   ]
  },
  {
   "cell_type": "code",
   "execution_count": 19,
   "metadata": {},
   "outputs": [
    {
     "name": "stdout",
     "output_type": "stream",
     "text": [
      "['hello', 'my name is sachin', 1, 5.6, 'something']\n"
     ]
    }
   ],
   "source": [
    "l[1] = 'my name is sachin' #will over-write value on position 1\n",
    "print(l) #this is the proof that list is mutable"
   ]
  },
  {
   "cell_type": "code",
   "execution_count": 20,
   "metadata": {},
   "outputs": [
    {
     "name": "stdout",
     "output_type": "stream",
     "text": [
      "['hello', 'my name is sachin', 1, 'something']\n"
     ]
    }
   ],
   "source": [
    "del l[3] # will remove item from position 3 it means 5.6 will be deleted\n",
    "print(l)"
   ]
  },
  {
   "cell_type": "markdown",
   "metadata": {},
   "source": [
    "<h2 style='color:#123456'>Built-in functions of list</h2>\n",
    "<ol>\n",
    "    <li>\n",
    "        <p style='color:#123123'>To add items to a list </p>\n",
    "        <ul style='color:#123456'>\n",
    "            <li>list.append(item) --> will add item at the end of list</li>\n",
    "            <li>list.insert(index,item) --> will add item at position index in list</li>\n",
    "            <li>list.extend(sequence) --> will append each item from sequence at the end of the list</li>\n",
    "        </ul>\n",
    "    <li> <p style='color:#123123'>To delete items from a list </p>\n",
    "        <ul style='color:#123456'>\n",
    "            <li>list.pop() --> will delete last item from a list (opposite of append) </li>\n",
    "            <li>list.pop(index) ---> will delete item from position index (opposite of insert)</li>\n",
    "            <li>list.remove(item) --> will delete first occurence of item from list</li>\n",
    "        </ul>\n",
    "    <li> <p style='color:#123123'> Some Common Functions of list </p>\n",
    "        <ul style='color:#123456'>\n",
    "            <li> list.sort() --> will sort all the items inplace in ascending order.</li>\n",
    "            <li> list.sort(reverse=True) --> will sort all the items inplace in descending order.\n",
    "            <p style='color:red'>Note :- for sort function list should homogenous</p> \n",
    "            </li>\n",
    "            <li> list.reverse() --> will reverse position of all items in place, same as as list[::-1] </li>\n",
    "            <li>list.clear() --> will clear all the item from a list, will create empty list. </li>\n",
    "            <li>new_list = list.copy() --> will return a copy of list and store it into new_list</li>\n",
    "            <li> item_index = list.index(item) --> will return index number of item or we can say will return position of item from list, if item is not available then it will give an error item not found.</li>\n",
    "            <li> item_count = list.count(item) --> will count repeatation of item inside list or will count how many time item occurs inside a list.</li>\n",
    "        </ul>\n",
    "        </ol>"
   ]
  },
  {
   "cell_type": "code",
   "execution_count": 21,
   "metadata": {},
   "outputs": [
    {
     "name": "stdout",
     "output_type": "stream",
     "text": [
      "['__add__', '__class__', '__contains__', '__delattr__', '__delitem__', '__dir__', '__doc__', '__eq__', '__format__', '__ge__', '__getattribute__', '__getitem__', '__gt__', '__hash__', '__iadd__', '__imul__', '__init__', '__init_subclass__', '__iter__', '__le__', '__len__', '__lt__', '__mul__', '__ne__', '__new__', '__reduce__', '__reduce_ex__', '__repr__', '__reversed__', '__rmul__', '__setattr__', '__setitem__', '__sizeof__', '__str__', '__subclasshook__', 'append', 'clear', 'copy', 'count', 'extend', 'index', 'insert', 'pop', 'remove', 'reverse', 'sort']\n"
     ]
    }
   ],
   "source": [
    "print(dir(list))"
   ]
  },
  {
   "cell_type": "code",
   "execution_count": 22,
   "metadata": {},
   "outputs": [
    {
     "name": "stdout",
     "output_type": "stream",
     "text": [
      "['hello', 1, 2, 3, 'hi']\n",
      "['hello', 1, 2, 3, 'hi', 'sachin']\n"
     ]
    }
   ],
   "source": [
    "#to add items\n",
    "l = [ 'hello',1,2,3,'hi',]\n",
    "print(l)\n",
    "#let's add an item at the end of the list\n",
    "l.append('sachin')\n",
    "print(l)"
   ]
  },
  {
   "cell_type": "code",
   "execution_count": 23,
   "metadata": {},
   "outputs": [
    {
     "name": "stdout",
     "output_type": "stream",
     "text": [
      "['hello', 1, 2, 3, 'hi', 'sachin', 3.14]\n"
     ]
    }
   ],
   "source": [
    "l.append(3.14) # will add 3.14 at the end\n",
    "print(l)"
   ]
  },
  {
   "cell_type": "code",
   "execution_count": 24,
   "metadata": {},
   "outputs": [
    {
     "name": "stdout",
     "output_type": "stream",
     "text": [
      "['hello', 1, 2, 3, 'hi', 'sachin', 3.14, [1, 'two', 3, 'four']]\n"
     ]
    }
   ],
   "source": [
    "l.append([1,'two',3,'four']) #will add this list at the end as it is\n",
    "print(l)"
   ]
  },
  {
   "cell_type": "code",
   "execution_count": null,
   "metadata": {},
   "outputs": [],
   "source": []
  }
 ],
 "metadata": {
  "kernelspec": {
   "display_name": "Python 3",
   "language": "python",
   "name": "python3"
  },
  "language_info": {
   "codemirror_mode": {
    "name": "ipython",
    "version": 3
   },
   "file_extension": ".py",
   "mimetype": "text/x-python",
   "name": "python",
   "nbconvert_exporter": "python",
   "pygments_lexer": "ipython3",
   "version": "3.6.5"
  }
 },
 "nbformat": 4,
 "nbformat_minor": 2
}
