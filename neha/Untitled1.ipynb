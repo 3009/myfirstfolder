{
 "cells": [
  {
   "cell_type": "code",
   "execution_count": 9,
   "metadata": {},
   "outputs": [
    {
     "name": "stdout",
     "output_type": "stream",
     "text": [
      "tie\n"
     ]
    }
   ],
   "source": [
    "#rock paper scissor\n",
    "p1=['paper','rock','scissor']\n",
    "p2=['paper','rock','scissor']\n",
    "if(p1==p1and p2==p2[1]):\n",
    "    print(\"p1 is winner\")\n",
    "elif(p1==p1[2] and p2==p2[0]):\n",
    "    print(\"p1 is winner\")\n",
    "elif(p1==p1[1] and p2==p2[2]):\n",
    "    print(\"p1 is winner\")\n",
    "elif(p1==p2):\n",
    "    print(\"tie\")\n",
    "else:\n",
    "    print(\"p2 is winner\")"
   ]
  },
  {
   "cell_type": "code",
   "execution_count": null,
   "metadata": {},
   "outputs": [],
   "source": []
  }
 ],
 "metadata": {
  "kernelspec": {
   "display_name": "Python 3",
   "language": "python",
   "name": "python3"
  },
  "language_info": {
   "codemirror_mode": {
    "name": "ipython",
    "version": 3
   },
   "file_extension": ".py",
   "mimetype": "text/x-python",
   "name": "python",
   "nbconvert_exporter": "python",
   "pygments_lexer": "ipython3",
   "version": "3.6.5"
  }
 },
 "nbformat": 4,
 "nbformat_minor": 2
}
