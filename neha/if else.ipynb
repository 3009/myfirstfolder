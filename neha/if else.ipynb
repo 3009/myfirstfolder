{
 "cells": [
  {
   "cell_type": "code",
   "execution_count": 1,
   "metadata": {},
   "outputs": [
    {
     "name": "stdout",
     "output_type": "stream",
     "text": [
      "enter a numberneha soni\n",
      "odd\n"
     ]
    }
   ],
   "source": [
    "a=input(\"enter a number\")\n",
    "if (len(a)%2==0):\n",
    "    print(\"even\")\n",
    "else:\n",
    "    print(\"odd\")\n",
    "    "
   ]
  },
  {
   "cell_type": "code",
   "execution_count": 3,
   "metadata": {},
   "outputs": [
    {
     "name": "stdout",
     "output_type": "stream",
     "text": [
      "0.0\n"
     ]
    }
   ],
   "source": [
    "a=0/2\n",
    "print(a)"
   ]
  },
  {
   "cell_type": "code",
   "execution_count": 4,
   "metadata": {},
   "outputs": [
    {
     "name": "stdout",
     "output_type": "stream",
     "text": [
      "0.696845301935949\n"
     ]
    }
   ],
   "source": [
    "a=0.3**0.3\n",
    "print(a)"
   ]
  },
  {
   "cell_type": "code",
   "execution_count": 5,
   "metadata": {},
   "outputs": [
    {
     "name": "stdout",
     "output_type": "stream",
     "text": [
      "0.779055912670449\n"
     ]
    }
   ],
   "source": [
    "a=0.7**0.7\n",
    "print(a)"
   ]
  },
  {
   "cell_type": "code",
   "execution_count": 6,
   "metadata": {},
   "outputs": [
    {
     "name": "stdout",
     "output_type": "stream",
     "text": [
      "0.7360219228178333\n"
     ]
    }
   ],
   "source": [
    "a=0.6**0.6\n",
    "print(a)"
   ]
  },
  {
   "cell_type": "code",
   "execution_count": 18,
   "metadata": {},
   "outputs": [
    {
     "name": "stdout",
     "output_type": "stream",
     "text": [
      "enter a number2\n",
      "even\n"
     ]
    }
   ],
   "source": [
    "a=int(input(\"enter a number\"))\n",
    "if(a==0):\n",
    "    print(\"true\")\n",
    "elif(a%2==0):\n",
    "    print(\"even\")\n",
    "else:\n",
    "    print(\"odd\")\n",
    "    "
   ]
  },
  {
   "cell_type": "code",
   "execution_count": 22,
   "metadata": {},
   "outputs": [
    {
     "name": "stdout",
     "output_type": "stream",
     "text": [
      "enter a number0\n",
      "sunday\n"
     ]
    }
   ],
   "source": [
    "a=int(input(\"enter a number\"))\n",
    "if(a==0 or a==7):\n",
    "    print(\"sunday\")\n",
    "elif(a==1):\n",
    "    print(\"monday\")\n",
    "elif(a==2):\n",
    "    print(\"tuesday\")\n",
    "elif(a==3):\n",
    "    print(\"wednesday\")\n",
    "elif(a==4):\n",
    "    print(\"thrusday\")\n",
    "elif(a==5):\n",
    "    print(\"friday\")\n",
    "elif(a==6):\n",
    "    print(\"staurday\")\n",
    "else:\n",
    "    print(\"invalid\")"
   ]
  },
  {
   "cell_type": "code",
   "execution_count": 4,
   "metadata": {},
   "outputs": [
    {
     "name": "stdout",
     "output_type": "stream",
     "text": [
      "enter a number2\n",
      "odd\n"
     ]
    }
   ],
   "source": [
    "a=int(input(\"enter a number\"))\n",
    "if a%2:\n",
    "    print(\"even\")\n",
    "else:\n",
    "    print(\"odd\")\n",
    "    \n",
    "    "
   ]
  },
  {
   "cell_type": "raw",
   "metadata": {},
   "source": [
    "Condition is two = true or false\n",
    "indent= whitespace"
   ]
  },
  {
   "cell_type": "code",
   "execution_count": 6,
   "metadata": {},
   "outputs": [
    {
     "name": "stdout",
     "output_type": "stream",
     "text": [
      "hello world\n",
      "before if\n",
      "this is if\n",
      "i am inside if\n",
      "control flow\n",
      "test 123\n",
      "after if\n",
      "bye world\n"
     ]
    }
   ],
   "source": [
    "print(\"hello world\")\n",
    "print(\"before if\")      #false in python= False,None,'',{},[],empty.\n",
    "if True:                 # indentation operator is used to give block of statements with whitespace. \n",
    "    print(\"this is if\")             #input() returns null string so the condition will be false.\n",
    "    print(\"i am inside if\")         #print() gives none.\n",
    "    print(\"control flow\")\n",
    "    print(\"test 123\")\n",
    "else:\n",
    "    print(\"this is else part\")\n",
    "    print(\"i am inside else\")\n",
    "print(\"after if\")\n",
    "print(\"bye world\")"
   ]
  },
  {
   "cell_type": "code",
   "execution_count": 3,
   "metadata": {},
   "outputs": [
    {
     "name": "stdout",
     "output_type": "stream",
     "text": [
      "enter a color red\n",
      "color is red\n"
     ]
    }
   ],
   "source": [
    "a=input(\"enter a color \")\n",
    "if(a=='red'):\n",
    "    print(\"color is red\")\n",
    "elif(a=='blue'):\n",
    "    print(\"color is blue\")\n",
    "else:\n",
    "    print(\"color is not red and blue\")\n"
   ]
  },
  {
   "cell_type": "code",
   "execution_count": 7,
   "metadata": {},
   "outputs": [
    {
     "name": "stdout",
     "output_type": "stream",
     "text": [
      "enter a color red\n",
      "color is red\n"
     ]
    }
   ],
   "source": [
    "a=input(\"enter a color \")\n",
    "if (a is not 'red'):\n",
    "    print(\"color is red\")\n",
    "else:\n",
    "    print(\"color is not red\")"
   ]
  },
  {
   "cell_type": "raw",
   "metadata": {},
   "source": [
    "#print(\"{} is greatest\",format(x))= {} is a buffer which takes some string from the given program.\n"
   ]
  },
  {
   "cell_type": "code",
   "execution_count": 8,
   "metadata": {},
   "outputs": [
    {
     "name": "stdout",
     "output_type": "stream",
     "text": [
      "6 is greatest\n"
     ]
    }
   ],
   "source": [
    "x=6\n",
    "print(x,\"is greatest\")"
   ]
  },
  {
   "cell_type": "markdown",
   "metadata": {},
   "source": [
    "<h1 style='color:#12345'>Assignment 7</h1>"
   ]
  },
  {
   "cell_type": "code",
   "execution_count": 2,
   "metadata": {},
   "outputs": [
    {
     "name": "stdout",
     "output_type": "stream",
     "text": [
      "enter a number7\n",
      "enter other number8\n",
      "b is maximum\n"
     ]
    }
   ],
   "source": [
    "a=int(input(\"enter a number\"))\n",
    "b=int(input(\"enter other number\"))\n",
    "if a>b:\n",
    "    print(\"a is maximum\")\n",
    "else:\n",
    "    print(\"b is maximum\")"
   ]
  },
  {
   "cell_type": "code",
   "execution_count": 3,
   "metadata": {},
   "outputs": [
    {
     "name": "stdout",
     "output_type": "stream",
     "text": [
      "enter a number1\n",
      "enter a number2\n",
      "enter third number3\n",
      "c is maximum\n"
     ]
    }
   ],
   "source": [
    "a=int(input(\"enter a number\"))\n",
    "b=int(input(\"enter a number\"))\n",
    "c=int(input(\"enter third number\"))\n",
    "if(a>b and a>b):\n",
    "    print(\"a is maximum\")\n",
    "elif(b>a and b>c):\n",
    "    print(\"b is maximum\")\n",
    "else:\n",
    "    print(\"c is maximum\")"
   ]
  },
  {
   "cell_type": "code",
   "execution_count": 4,
   "metadata": {},
   "outputs": [
    {
     "name": "stdout",
     "output_type": "stream",
     "text": [
      "enter a number55\n",
      "a is divisible by 5 and 11\n"
     ]
    }
   ],
   "source": [
    "a=int(input(\"enter a number\"))\n",
    "if(a%5==0 and a%11==0):\n",
    "    print(\"a is divisible by 5 and 11\")\n",
    "else:\n",
    "    print(\"not divisible\")\n",
    "    "
   ]
  },
  {
   "cell_type": "code",
   "execution_count": 6,
   "metadata": {},
   "outputs": [
    {
     "name": "stdout",
     "output_type": "stream",
     "text": [
      "enter a number4\n",
      "number is even\n"
     ]
    }
   ],
   "source": [
    "a=int(input(\"enter a number\"))\n",
    "if(a%2==0):\n",
    "    print(\"number is even\")\n",
    "else:\n",
    "    print(\"number is odd\")"
   ]
  },
  {
   "cell_type": "code",
   "execution_count": 8,
   "metadata": {},
   "outputs": [
    {
     "name": "stdout",
     "output_type": "stream",
     "text": [
      "enter a character a\n",
      "character is vowel\n"
     ]
    }
   ],
   "source": [
    "a=input(\"enter a character \")\n",
    "if(a=='a'or a=='e' or a=='i' or a=='o' or a=='u'):\n",
    "    print(\"character is vowel\")\n",
    "else:\n",
    "    print(\"character is consonent\")"
   ]
  },
  {
   "cell_type": "code",
   "execution_count": 13,
   "metadata": {},
   "outputs": [
    {
     "name": "stdout",
     "output_type": "stream",
     "text": [
      "enter a character65\n",
      "character is a alphabet\n"
     ]
    }
   ],
   "source": [
    "a=int(input(\"enter a character\"))\n",
    "if(a>=65 and a<=122):\n",
    "    print(\"character is a alphabet\")\n",
    "elif(a>=48 and a<=57):\n",
    "    print(\"character is a digit\")\n",
    "else:\n",
    "    print(\"character is  a special character\")\n"
   ]
  },
  {
   "cell_type": "code",
   "execution_count": 3,
   "metadata": {},
   "outputs": [
    {
     "name": "stdout",
     "output_type": "stream",
     "text": [
      "enter a number4\n",
      "number is positive\n"
     ]
    }
   ],
   "source": [
    "a=int(input(\"enter a number\"))\n",
    "if(a>0):\n",
    "    print(\"number is positive\")\n",
    "elif(a<0):\n",
    "    print(\"number is negative\")\n",
    "else:\n",
    "    print(\"number is 0\")"
   ]
  },
  {
   "cell_type": "code",
   "execution_count": 2,
   "metadata": {},
   "outputs": [
    {
     "name": "stdout",
     "output_type": "stream",
     "text": [
      "enter a year1900\n",
      "none\n"
     ]
    }
   ],
   "source": [
    "b=int(input(\"enter a year\"))\n",
    "if(b%4==0 and b%100!=0):\n",
    "    if(b%400==0):\n",
    "        print(\"year is leap\")\n",
    "elif(b%4!=0):\n",
    "    print(\"year is not leap\")\n",
    "else:\n",
    "    print(\"none\")"
   ]
  },
  {
   "cell_type": "code",
   "execution_count": 12,
   "metadata": {},
   "outputs": [
    {
     "name": "stdout",
     "output_type": "stream",
     "text": [
      "enter a number70\n",
      "enter a number80\n",
      "enter a number90\n",
      "enter a number60\n",
      "enter a number70\n",
      "370\n",
      "74.0\n",
      "Grade C\n"
     ]
    }
   ],
   "source": [
    "phy=int(input(\"enter a number\"))\n",
    "chem=int(input(\"enter a number\"))\n",
    "bio=int(input(\"enter a number\"))\n",
    "math=int(input(\"enter a number\"))\n",
    "comp=int(input(\"enter a number\"))\n",
    "total=phy+chem+bio+math+comp\n",
    "per=(total/500)*100\n",
    "print(total)\n",
    "print(per)\n",
    "if(per>=90):\n",
    "    print(\"Grade A\")\n",
    "elif(per>=80):\n",
    "    print(\"Grade B\")\n",
    "elif(per>=70):\n",
    "    print(\"Grade C\")\n",
    "elif(per>=60):\n",
    "    print(\"Grade D\")\n",
    "elif(per>=50):\n",
    "    print(\"Grade E\")\n",
    "elif(per<40):\n",
    "    print(\"Grade F\")\n",
    "else:\n",
    "    print(\"Fail\")\n",
    "    \n",
    "\n",
    "\n",
    "\n",
    "\n",
    "\n",
    "\n",
    "\n",
    "\n"
   ]
  },
  {
   "cell_type": "code",
   "execution_count": 1,
   "metadata": {},
   "outputs": [
    {
     "name": "stdout",
     "output_type": "stream",
     "text": [
      "enter a number4\n",
      "april with num of days 30\n"
     ]
    }
   ],
   "source": [
    "a=int(input(\"enter a number\"))\n",
    "if(a==1):\n",
    "    print(\"january with number of days 31\")\n",
    "elif(a==2):\n",
    "    print(\"Februray with number of days 28\")\n",
    "elif(a==3):\n",
    "    print(\"March with num of days 31\")\n",
    "elif(a==4):\n",
    "    print(\"april with num of days 30\")\n",
    "elif(a==5):\n",
    "    print(\"may with num of days 31\")\n",
    "elif(a==6):\n",
    "    print(\"June with num of days 30\")\n",
    "elif(a==7):\n",
    "    print(\"July with num of days 31\")\n",
    "elif(a==8):\n",
    "    print(\"August with num of days 31\")\n",
    "elif(a==9):\n",
    "    print(\"September with num of days 30\")\n",
    "elif(a==10):\n",
    "    print(\"october with num of days 31\")\n",
    "elif(a==11):\n",
    "    print(\"november with num of days 30\")\n",
    "elif(a==12):\n",
    "    print(\"december with num of days 31\")\n",
    "else:\n",
    "    print(\"invalid\")"
   ]
  },
  {
   "cell_type": "code",
   "execution_count": 3,
   "metadata": {},
   "outputs": [
    {
     "name": "stdout",
     "output_type": "stream",
     "text": [
      "enter a num1900\n",
      "year is not a leap year\n"
     ]
    }
   ],
   "source": [
    "year=int(input(\"enter a num\"))\n",
    "if(year%4==0) and (year%100 or year%400==0):\n",
    "    print(\"year is leap year\")\n",
    "else:\n",
    "    print(\"year is not a leap year\")"
   ]
  },
  {
   "cell_type": "code",
   "execution_count": 2,
   "metadata": {},
   "outputs": [],
   "source": [
    "# for notes question = we will use % and // "
   ]
  },
  {
   "cell_type": "code",
   "execution_count": 2,
   "metadata": {},
   "outputs": [
    {
     "name": "stdout",
     "output_type": "stream",
     "text": [
      "enter amount2000\n",
      "enter amount2000\n",
      "0\n",
      "2000= 0\n",
      "500= 0\n",
      "200= 0\n",
      "100= 0\n",
      "50= 0\n",
      "20= 0\n",
      "20= 0\n",
      "5= 0\n",
      "2= 0\n",
      "1= 0\n"
     ]
    }
   ],
   "source": [
    "#bill=int(input(\"enter amount\"))\n",
    "amount=int(input(\"enter amount\"))\n",
    "#amount=amount-bill\n",
    "N1=amount//2000\n",
    "print('2000=',N1)\n",
    "cal1=amount%2000\n",
    "N2=cal1//500\n",
    "print('500=',N2)\n",
    "cal2=cal1%500\n",
    "N3=cal2//200\n",
    "print('200=',N3)\n",
    "cal3=cal2%200\n",
    "N4=cal3//100\n",
    "print('100=',N4)\n",
    "cal4=cal3%100\n",
    "N5=cal4//50\n",
    "print('50=',N5)\n",
    "cal5=cal4%50\n",
    "N6=cal5//20\n",
    "print('20=',N6)\n",
    "cal6=cal5%20\n",
    "N7=cal6//10\n",
    "print('20=',N7)\n",
    "cal7=cal6%10\n",
    "N8=cal7//5\n",
    "print('5=',N8)\n",
    "cal8=cal7%5\n",
    "N9=cal8//2\n",
    "print('2=',N9)\n",
    "cal9=cal8%2\n",
    "N10=cal9//1\n",
    "print('1=',N10)\n",
    "cal10=cal9%1\n"
   ]
  },
  {
   "cell_type": "code",
   "execution_count": 8,
   "metadata": {},
   "outputs": [
    {
     "name": "stdout",
     "output_type": "stream",
     "text": [
      "enter a character5\n",
      "character is not alphabet\n"
     ]
    }
   ],
   "source": [
    "a=input(\"enter a character\")\n",
    "if((a>='a' and a<='z') or (a>='A' and a<='B')):\n",
    "    print(\"character is alphabet\")\n",
    "else:\n",
    "    print(\"character is not alphabet\")"
   ]
  },
  {
   "cell_type": "code",
   "execution_count": 19,
   "metadata": {},
   "outputs": [
    {
     "name": "stdout",
     "output_type": "stream",
     "text": [
      "enter a characterV\n",
      "character is uppercase\n"
     ]
    }
   ],
   "source": [
    "b=input(\"enter a character\")\n",
    "if (b.islower()):\n",
    "    print(\"character is lowercase\")\n",
    "elif(b.isupper()):\n",
    "    print(\"character is uppercase\")\n",
    "else:\n",
    "    print(invalid)"
   ]
  },
  {
   "cell_type": "code",
   "execution_count": 23,
   "metadata": {},
   "outputs": [
    {
     "name": "stdout",
     "output_type": "stream",
     "text": [
      "enter a number4\n",
      "factorial\n",
      "factorial\n",
      "factorial\n",
      "factorial\n"
     ]
    }
   ],
   "source": [
    "a=int(input(\"enter a number\"))\n",
    "for i in range(1,a+1):\n",
    "    print(\"factorial\")\n",
    "    "
   ]
  },
  {
   "cell_type": "code",
   "execution_count": 3,
   "metadata": {},
   "outputs": [
    {
     "name": "stdout",
     "output_type": "stream",
     "text": [
      "['BPF', 'LOG4', 'NV_MAGICCONST', 'RECIP_BPF', 'Random', 'SG_MAGICCONST', 'SystemRandom', 'TWOPI', '_BuiltinMethodType', '_MethodType', '_Sequence', '_Set', '__all__', '__builtins__', '__cached__', '__doc__', '__file__', '__loader__', '__name__', '__package__', '__spec__', '_acos', '_bisect', '_ceil', '_cos', '_e', '_exp', '_inst', '_itertools', '_log', '_pi', '_random', '_sha512', '_sin', '_sqrt', '_test', '_test_generator', '_urandom', '_warn', 'betavariate', 'choice', 'choices', 'expovariate', 'gammavariate', 'gauss', 'getrandbits', 'getstate', 'lognormvariate', 'normalvariate', 'paretovariate', 'randint', 'random', 'randrange', 'sample', 'seed', 'setstate', 'shuffle', 'triangular', 'uniform', 'vonmisesvariate', 'weibullvariate']\n"
     ]
    }
   ],
   "source": [
    "import random\n",
    "print(dir(random))"
   ]
  },
  {
   "cell_type": "code",
   "execution_count": null,
   "metadata": {},
   "outputs": [],
   "source": [
    "electricity=int(input(\"enter your unit number\"))\n"
   ]
  },
  {
   "cell_type": "code",
   "execution_count": 19,
   "metadata": {},
   "outputs": [
    {
     "name": "stdout",
     "output_type": "stream",
     "text": [
      "None\n"
     ]
    }
   ],
   "source": [
    "import random\n",
    "l=[1,2,3,4]\n",
    "k=random.shuffle(l)\n",
    "print(k)"
   ]
  },
  {
   "cell_type": "code",
   "execution_count": null,
   "metadata": {},
   "outputs": [],
   "source": []
  }
 ],
 "metadata": {
  "kernelspec": {
   "display_name": "Python 3",
   "language": "python",
   "name": "python3"
  },
  "language_info": {
   "codemirror_mode": {
    "name": "ipython",
    "version": 3
   },
   "file_extension": ".py",
   "mimetype": "text/x-python",
   "name": "python",
   "nbconvert_exporter": "python",
   "pygments_lexer": "ipython3",
   "version": "3.6.5"
  }
 },
 "nbformat": 4,
 "nbformat_minor": 2
}
