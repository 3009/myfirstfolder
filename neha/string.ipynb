{
 "cells": [
  {
   "cell_type": "code",
   "execution_count": 2,
   "metadata": {},
   "outputs": [
    {
     "name": "stdout",
     "output_type": "stream",
     "text": [
      "enter a charneha\n",
      "<class 'str'>\n"
     ]
    }
   ],
   "source": [
    "x=input(\"enter a char\")\n",
    "print(type(x))"
   ]
  },
  {
   "cell_type": "code",
   "execution_count": null,
   "metadata": {},
   "outputs": [],
   "source": [
    "s=\"hello world\"\n",
    "print(\"length of string is\",len(s))#it will give length of a string"
   ]
  },
  {
   "cell_type": "raw",
   "metadata": {},
   "source": [
    "we do traversing through index \n",
    "in positive index first index is 0 and last index = len(sn)-1\n",
    "in negative index it starts from -1 to -len(str) it means last index is -1 and first index = -n or -len(str)"
   ]
  },
  {
   "cell_type": "code",
   "execution_count": 4,
   "metadata": {},
   "outputs": [],
   "source": [
    "#index--> position of a char (item) inside a string (sequence)"
   ]
  },
  {
   "cell_type": "code",
   "execution_count": 5,
   "metadata": {},
   "outputs": [
    {
     "name": "stdout",
     "output_type": "stream",
     "text": [
      "l\n"
     ]
    }
   ],
   "source": [
    "s=\"hello world!\"\n",
    "#[]-->it is used to traverse an index number and known is indexing\n",
    "item=s[3] \n",
    "print(item)"
   ]
  },
  {
   "cell_type": "code",
   "execution_count": 6,
   "metadata": {},
   "outputs": [
    {
     "name": "stdout",
     "output_type": "stream",
     "text": [
      "ell\n"
     ]
    }
   ],
   "source": [
    "s=\"hello world\"\n",
    "x=s[1]+s[2]+s[3]\n",
    "print(x)\n"
   ]
  },
  {
   "cell_type": "code",
   "execution_count": 8,
   "metadata": {},
   "outputs": [
    {
     "name": "stdout",
     "output_type": "stream",
     "text": [
      "ell\n"
     ]
    }
   ],
   "source": [
    "s=\"hello world\"\n",
    "x=s[-10]+s[-9]+s[-8]\n",
    "print(x)\n",
    "#()-->paranthesis is used to call a function like print()\n",
    "#[]-->square brackets used for travesrsing or indexing like str[5]"
   ]
  },
  {
   "cell_type": "code",
   "execution_count": 10,
   "metadata": {},
   "outputs": [
    {
     "name": "stdout",
     "output_type": "stream",
     "text": [
      "llo w\n",
      "hello world\n"
     ]
    }
   ],
   "source": [
    "#slicing--> used to get a sub string (part of a string) from a string\n",
    "#str[start:end:step] where\n",
    "#start--> index from where we will start traversing\n",
    "#end--> index where we should end our traversing\n",
    "#step--> we will jump steps to traverse item from start-end\n",
    "name=\"hello world\"\n",
    "ans=name[2:7:1]\n",
    "#it will starts from 2 means i\n",
    "#will end at 6 means w but as indexing starts from 0 we always go end -1 \n",
    "#we will end at 6\n",
    "#sliced string is -->\"llo\"\n",
    "#traverse with step 1 it means traverse all inside string\n",
    "print(ans)\n",
    "print(name)"
   ]
  },
  {
   "cell_type": "code",
   "execution_count": 11,
   "metadata": {},
   "outputs": [
    {
     "name": "stdout",
     "output_type": "stream",
     "text": [
      "l o\n",
      "hello world\n"
     ]
    }
   ],
   "source": [
    "s=\"hello world\"\n",
    "ans=name[3:9:2]\n",
    "print(ans)\n",
    "print(s)"
   ]
  },
  {
   "cell_type": "code",
   "execution_count": 12,
   "metadata": {},
   "outputs": [
    {
     "name": "stdout",
     "output_type": "stream",
     "text": [
      "eoo\n",
      "hello world!\n"
     ]
    }
   ],
   "source": [
    "s=\"hello world!\"\n",
    "ans=name[1:10:3]\n",
    "print(ans)\n",
    "print(s)"
   ]
  },
  {
   "cell_type": "code",
   "execution_count": 13,
   "metadata": {},
   "outputs": [
    {
     "name": "stdout",
     "output_type": "stream",
     "text": [
      "\n",
      "hello world\n"
     ]
    }
   ],
   "source": [
    "s=\"hello world\"\n",
    "ans=s[10:1:2]\n",
    "print(ans)\n",
    "print(s)"
   ]
  },
  {
   "cell_type": "code",
   "execution_count": 14,
   "metadata": {},
   "outputs": [
    {
     "name": "stdout",
     "output_type": "stream",
     "text": [
      "drwol\n",
      "hello world\n"
     ]
    }
   ],
   "source": [
    "s=\"hello world\"\n",
    "ans=s[10:1:-2]\n",
    "print(ans)\n",
    "print(s)"
   ]
  },
  {
   "cell_type": "code",
   "execution_count": 15,
   "metadata": {},
   "outputs": [
    {
     "name": "stdout",
     "output_type": "stream",
     "text": [
      "\n",
      "hello world\n"
     ]
    }
   ],
   "source": [
    "s=s=\"hello world\"\n",
    "ans=s[0:len(s):-2]\n",
    "print(ans)\n",
    "print(s)"
   ]
  },
  {
   "cell_type": "code",
   "execution_count": 17,
   "metadata": {},
   "outputs": [
    {
     "name": "stdout",
     "output_type": "stream",
     "text": [
      "dlrow olle\n",
      "hello world\n"
     ]
    }
   ],
   "source": [
    "s=\"hello world\"\n",
    "ans=s[len(s):0:-1]\n",
    "print(ans)\n",
    "print(s)"
   ]
  },
  {
   "cell_type": "code",
   "execution_count": 18,
   "metadata": {},
   "outputs": [
    {
     "name": "stdout",
     "output_type": "stream",
     "text": [
      "hello world\n"
     ]
    }
   ],
   "source": [
    "s=\"hello world\"\n",
    "j=s[:]#by default step value is 1\n",
    "print(j)\n"
   ]
  },
  {
   "cell_type": "code",
   "execution_count": 19,
   "metadata": {},
   "outputs": [
    {
     "name": "stdout",
     "output_type": "stream",
     "text": [
      "hello worl\n",
      "hello world\n"
     ]
    }
   ],
   "source": [
    "s=\"hello world\"\n",
    "print(s[:-1])\n",
    "print(s)"
   ]
  },
  {
   "cell_type": "code",
   "execution_count": 21,
   "metadata": {},
   "outputs": [
    {
     "name": "stdout",
     "output_type": "stream",
     "text": [
      "llo worl\n",
      "hello world!\n"
     ]
    }
   ],
   "source": [
    "s=\"hello world!\"\n",
    "ans=s[-10:-2]\n",
    "print(ans)\n",
    "print(s)"
   ]
  },
  {
   "cell_type": "code",
   "execution_count": 23,
   "metadata": {},
   "outputs": [
    {
     "name": "stdout",
     "output_type": "stream",
     "text": [
      "\n",
      "hello world\n"
     ]
    }
   ],
   "source": [
    "s=\"hello world\"\n",
    "ans=s[-6:5:2]\n",
    "print(ans)\n",
    "print(s)"
   ]
  },
  {
   "cell_type": "code",
   "execution_count": 25,
   "metadata": {},
   "outputs": [
    {
     "name": "stdout",
     "output_type": "stream",
     "text": [
      "wr\n",
      "hello world!\n"
     ]
    }
   ],
   "source": [
    "s=\"hello world!\"\n",
    "ans=s[-6:10:2]\n",
    "print(ans)\n",
    "print(s)"
   ]
  },
  {
   "cell_type": "code",
   "execution_count": 26,
   "metadata": {},
   "outputs": [
    {
     "name": "stdout",
     "output_type": "stream",
     "text": [
      "['__add__', '__class__', '__contains__', '__delattr__', '__dir__', '__doc__', '__eq__', '__format__', '__ge__', '__getattribute__', '__getitem__', '__getnewargs__', '__gt__', '__hash__', '__init__', '__init_subclass__', '__iter__', '__le__', '__len__', '__lt__', '__mod__', '__mul__', '__ne__', '__new__', '__reduce__', '__reduce_ex__', '__repr__', '__rmod__', '__rmul__', '__setattr__', '__sizeof__', '__str__', '__subclasshook__', 'capitalize', 'casefold', 'center', 'count', 'encode', 'endswith', 'expandtabs', 'find', 'format', 'format_map', 'index', 'isalnum', 'isalpha', 'isdecimal', 'isdigit', 'isidentifier', 'islower', 'isnumeric', 'isprintable', 'isspace', 'istitle', 'isupper', 'join', 'ljust', 'lower', 'lstrip', 'maketrans', 'partition', 'replace', 'rfind', 'rindex', 'rjust', 'rpartition', 'rsplit', 'rstrip', 'split', 'splitlines', 'startswith', 'strip', 'swapcase', 'title', 'translate', 'upper', 'zfill']\n"
     ]
    }
   ],
   "source": [
    "print(dir(str))"
   ]
  },
  {
   "cell_type": "code",
   "execution_count": 28,
   "metadata": {},
   "outputs": [
    {
     "name": "stdout",
     "output_type": "stream",
     "text": [
      "hello world!\n"
     ]
    },
    {
     "data": {
      "text/plain": [
       "'Hello world!'"
      ]
     },
     "execution_count": 28,
     "metadata": {},
     "output_type": "execute_result"
    }
   ],
   "source": [
    "s=\"hello world!\"\n",
    "print(s)\n",
    "s.capitalize()"
   ]
  },
  {
   "cell_type": "code",
   "execution_count": 32,
   "metadata": {},
   "outputs": [
    {
     "name": "stdout",
     "output_type": "stream",
     "text": [
      "S.center(width[, fillchar]) -> str\n",
      "\n",
      "Return S centered in a string of length width. Padding is\n",
      "done using the specified fill character (default is a space)\n",
      "       MY name is KHAN        \n",
      "#######MY name is KHAN########\n"
     ]
    }
   ],
   "source": [
    "s=\"MY name is KHAN\"\n",
    "print(s.center.__doc__)\n",
    "k=s.center(30)\n",
    "j=s.center(30,'#')\n",
    "print(k)\n",
    "print(j)"
   ]
  },
  {
   "cell_type": "code",
   "execution_count": 36,
   "metadata": {},
   "outputs": [
    {
     "name": "stdout",
     "output_type": "stream",
     "text": [
      "S.split(sep=None, maxsplit=-1) -> list of strings\n",
      "\n",
      "Return a list of the words in S, using sep as the\n",
      "delimiter string.  If maxsplit is given, at most maxsplit\n",
      "splits are done. If sep is not specified or is None, any\n",
      "whitespace string is a separator and empty strings are\n",
      "removed from the result.\n"
     ]
    },
    {
     "data": {
      "text/plain": [
       "['he', '', 'o, wor', 'd']"
      ]
     },
     "execution_count": 36,
     "metadata": {},
     "output_type": "execute_result"
    }
   ],
   "source": [
    "s=\"hello, world\"\n",
    "print(s.split.__doc__)\n",
    "s.split('l')"
   ]
  },
  {
   "cell_type": "code",
   "execution_count": 3,
   "metadata": {},
   "outputs": [
    {
     "name": "stdout",
     "output_type": "stream",
     "text": [
      "['hello', 'neha', 'how', 'was', 'your', 'day']\n"
     ]
    }
   ],
   "source": [
    "s=\"hello neha how was your day\"\n",
    "k=s.split()\n",
    "print(k)"
   ]
  },
  {
   "cell_type": "code",
   "execution_count": 4,
   "metadata": {},
   "outputs": [
    {
     "name": "stdout",
     "output_type": "stream",
     "text": [
      "hellothe day was goodnehathe day was goodhowthe day was goodwasthe day was goodyourthe day was goodday\n"
     ]
    }
   ],
   "source": [
    "s=\"hello neha how was your day\"\n",
    "j='the day was good'.join(k)\n",
    "print(j)"
   ]
  },
  {
   "cell_type": "code",
   "execution_count": 9,
   "metadata": {},
   "outputs": [
    {
     "name": "stdout",
     "output_type": "stream",
     "text": [
      "'hthe day was goodethe day was goodlthe day was goodlthe day was goodothe day was good the day was goodnthe day was goodethe day was goodhthe day was goodathe day was good the day was goodhthe day was goodothe day was goodwthe day was good the day was goodwthe day was goodathe day was goodsthe day was good the day was goodythe day was goodothe day was gooduthe day was goodrthe day was good the day was gooddthe day was goodathe day was goody'\n",
      "hthe day was goodethe day was goodlthe day was goodlthe day was goodothe day was good the day was goodnthe day was goodethe day was goodhthe day was goodathe day was good the day was goodhthe day was goodothe day was goodwthe day was good the day was goodwthe day was goodathe day was goodsthe day was good the day was goodythe day was goodothe day was gooduthe day was goodrthe day was good the day was gooddthe day was goodathe day was goody\n"
     ]
    }
   ],
   "source": [
    "s=\"hello neha how was your day\"\n",
    "j=\"the day was good\".join(s)\n",
    "print(repr(j))\n",
    "print(j) #we should pass the list so first split the string then join "
   ]
  },
  {
   "cell_type": "code",
   "execution_count": 6,
   "metadata": {},
   "outputs": [
    {
     "name": "stdout",
     "output_type": "stream",
     "text": [
      "hello neha how was your day the day was good\n"
     ]
    }
   ],
   "source": [
    "s=\"hello neha how was your day\"\n",
    "j='the day was good'\n",
    "print(s,j)"
   ]
  },
  {
   "cell_type": "code",
   "execution_count": null,
   "metadata": {},
   "outputs": [],
   "source": [
    "s=\"hello neha how was your day\"\n",
    "j=input(\"enter your ans= \")\n",
    "print(j)\n",
    "print(s,j)"
   ]
  },
  {
   "cell_type": "code",
   "execution_count": null,
   "metadata": {},
   "outputs": [],
   "source": [
    "s=\"hello neha how was your day\"\n",
    "j=input(\"enter your ans=\")\n",
    "print(j)\n",
    "print(s,j)"
   ]
  },
  {
   "cell_type": "code",
   "execution_count": 1,
   "metadata": {},
   "outputs": [
    {
     "name": "stdout",
     "output_type": "stream",
     "text": [
      "enter your ans= the day was good\n",
      "the day was good\n",
      "hello neha how was your day the day was good\n"
     ]
    }
   ],
   "source": [
    "a=\"hello neha how was your day\"\n",
    "b=input(\"enter your ans= \")\n",
    "print(b)\n",
    "print(a,b)"
   ]
  },
  {
   "cell_type": "code",
   "execution_count": 2,
   "metadata": {},
   "outputs": [
    {
     "data": {
      "text/plain": [
       "b'hello world'"
      ]
     },
     "execution_count": 2,
     "metadata": {},
     "output_type": "execute_result"
    }
   ],
   "source": [
    "s=\"hello world\"\n",
    "s.encode()"
   ]
  },
  {
   "cell_type": "code",
   "execution_count": 3,
   "metadata": {},
   "outputs": [
    {
     "name": "stdout",
     "output_type": "stream",
     "text": [
      "S.encode(encoding='utf-8', errors='strict') -> bytes\n",
      "\n",
      "Encode S using the codec registered for encoding. Default encoding\n",
      "is 'utf-8'. errors may be given to set a different error\n",
      "handling scheme. Default is 'strict' meaning that encoding errors raise\n",
      "a UnicodeEncodeError. Other possible values are 'ignore', 'replace' and\n",
      "'xmlcharrefreplace' as well as any other name registered with\n",
      "codecs.register_error that can handle UnicodeEncodeErrors.\n"
     ]
    }
   ],
   "source": [
    "print(s.encode.__doc__)"
   ]
  },
  {
   "cell_type": "code",
   "execution_count": 7,
   "metadata": {},
   "outputs": [
    {
     "name": "stdout",
     "output_type": "stream",
     "text": [
      "Help on built-in function encode:\n",
      "\n",
      "encode(...) method of builtins.str instance\n",
      "    S.encode(encoding='utf-8', errors='strict') -> bytes\n",
      "    \n",
      "    Encode S using the codec registered for encoding. Default encoding\n",
      "    is 'utf-8'. errors may be given to set a different error\n",
      "    handling scheme. Default is 'strict' meaning that encoding errors raise\n",
      "    a UnicodeEncodeError. Other possible values are 'ignore', 'replace' and\n",
      "    'xmlcharrefreplace' as well as any other name registered with\n",
      "    codecs.register_error that can handle UnicodeEncodeErrors.\n",
      "\n",
      "None\n"
     ]
    }
   ],
   "source": [
    "print(help(s.encode))"
   ]
  },
  {
   "cell_type": "code",
   "execution_count": 11,
   "metadata": {},
   "outputs": [
    {
     "name": "stdout",
     "output_type": "stream",
     "text": [
      "'hthe day was goodethe day was goodlthe day was goodlthe day was goodothe day was good the day was goodnthe day was goodethe day was goodhthe day was goodathe day was good the day was goodhthe day was goodothe day was goodwthe day was good the day was goodwthe day was goodathe day was goodsthe day was good the day was goodythe day was goodothe day was gooduthe day was goodrthe day was good the day was gooddthe day was goodathe day was goody'\n",
      "hthe day was goodethe day was goodlthe day was goodlthe day was goodothe day was good the day was goodnthe day was goodethe day was goodhthe day was goodathe day was good the day was goodhthe day was goodothe day was goodwthe day was good the day was goodwthe day was goodathe day was goodsthe day was good the day was goodythe day was goodothe day was gooduthe day was goodrthe day was good the day was gooddthe day was goodathe day was goody\n"
     ]
    }
   ],
   "source": [
    "s=\"hello neha how was your day\"\n",
    "j='the day was good'.join(s)\n",
    "print(repr(j))\n",
    "print(j)"
   ]
  },
  {
   "cell_type": "code",
   "execution_count": 17,
   "metadata": {},
   "outputs": [
    {
     "name": "stdout",
     "output_type": "stream",
     "text": [
      "encoded string b'this is a string example....wow!!!'\n"
     ]
    }
   ],
   "source": [
    "str=\"this is a string example....wow!!!\"\n",
    "print(\"encoded string\",str.encode())\n",
    "#print(\"encoded string\", +str.encode('base64','strict'))"
   ]
  },
  {
   "cell_type": "code",
   "execution_count": 19,
   "metadata": {},
   "outputs": [
    {
     "name": "stdout",
     "output_type": "stream",
     "text": [
      "5\n",
      "2\n"
     ]
    }
   ],
   "source": [
    "#rindex--> it returns the last index of a string\n",
    "str1 = \"this is string example....wow!!!\";\n",
    "str2 = \"is\";\n",
    "\n",
    "print(str1.rindex(str2))\n",
    "print(str1.index(str2))"
   ]
  },
  {
   "cell_type": "code",
   "execution_count": 20,
   "metadata": {},
   "outputs": [
    {
     "name": "stdout",
     "output_type": "stream",
     "text": [
      "11\n"
     ]
    }
   ],
   "source": [
    "str= \"my name is khan\"\n",
    "result= str.index('khan')\n",
    "print(result)"
   ]
  },
  {
   "cell_type": "code",
   "execution_count": 21,
   "metadata": {},
   "outputs": [
    {
     "name": "stdout",
     "output_type": "stream",
     "text": [
      "3\n"
     ]
    }
   ],
   "source": [
    "str= \"my name is khan\"\n",
    "result= str.index('name')\n",
    "print(result)"
   ]
  },
  {
   "cell_type": "code",
   "execution_count": 22,
   "metadata": {},
   "outputs": [
    {
     "name": "stdout",
     "output_type": "stream",
     "text": [
      "11\n"
     ]
    }
   ],
   "source": [
    "str= \"my name is khan\"\n",
    "result= str.rindex('khan')\n",
    "print(result)"
   ]
  },
  {
   "cell_type": "code",
   "execution_count": 26,
   "metadata": {},
   "outputs": [
    {
     "name": "stdout",
     "output_type": "stream",
     "text": [
      "8\n",
      "8\n"
     ]
    }
   ],
   "source": [
    "str= \"my name is khan\"\n",
    "result= str.rindex('is')\n",
    "j=str.index('is')\n",
    "print(result)\n",
    "print(j)"
   ]
  },
  {
   "cell_type": "code",
   "execution_count": 5,
   "metadata": {},
   "outputs": [
    {
     "name": "stdout",
     "output_type": "stream",
     "text": [
      "enter an identifiername\n"
     ]
    },
    {
     "data": {
      "text/plain": [
       "True"
      ]
     },
     "execution_count": 5,
     "metadata": {},
     "output_type": "execute_result"
    }
   ],
   "source": [
    "name=input(\"enter an identifier\")\n",
    "name.isidentifier() #it will identify the identfier and accordingly return the true or false\n"
   ]
  },
  {
   "cell_type": "code",
   "execution_count": 6,
   "metadata": {},
   "outputs": [
    {
     "name": "stdout",
     "output_type": "stream",
     "text": [
      "enter a number123\n"
     ]
    },
    {
     "data": {
      "text/plain": [
       "True"
      ]
     },
     "execution_count": 6,
     "metadata": {},
     "output_type": "execute_result"
    }
   ],
   "source": [
    "d=input(\"enter a number\")\n",
    "d.isdigit() #it identify the digit in the string\n"
   ]
  },
  {
   "cell_type": "code",
   "execution_count": 7,
   "metadata": {},
   "outputs": [
    {
     "name": "stdout",
     "output_type": "stream",
     "text": [
      "enter a numbername\n"
     ]
    },
    {
     "data": {
      "text/plain": [
       "True"
      ]
     },
     "execution_count": 7,
     "metadata": {},
     "output_type": "execute_result"
    }
   ],
   "source": [
    "d=input(\"enter a number\")\n",
    "d.isalnum() #alpha numeric--> in which we can take string or number but not whitespace or special character"
   ]
  },
  {
   "cell_type": "code",
   "execution_count": 8,
   "metadata": {},
   "outputs": [
    {
     "name": "stdout",
     "output_type": "stream",
     "text": [
      "enter a number123@\n"
     ]
    },
    {
     "data": {
      "text/plain": [
       "False"
      ]
     },
     "execution_count": 8,
     "metadata": {},
     "output_type": "execute_result"
    }
   ],
   "source": [
    "d=input(\"enter a number\")\n",
    "d.isdigit()"
   ]
  },
  {
   "cell_type": "code",
   "execution_count": 9,
   "metadata": {},
   "outputs": [
    {
     "name": "stdout",
     "output_type": "stream",
     "text": [
      "enter a numbernam1\n"
     ]
    },
    {
     "data": {
      "text/plain": [
       "False"
      ]
     },
     "execution_count": 9,
     "metadata": {},
     "output_type": "execute_result"
    }
   ],
   "source": [
    "d=input(\"enter a number\")\n",
    "d.isalpha() #it inputs alphabets only"
   ]
  },
  {
   "cell_type": "code",
   "execution_count": 10,
   "metadata": {},
   "outputs": [
    {
     "name": "stdout",
     "output_type": "stream",
     "text": [
      "enter a number3%2\n"
     ]
    },
    {
     "data": {
      "text/plain": [
       "False"
      ]
     },
     "execution_count": 10,
     "metadata": {},
     "output_type": "execute_result"
    }
   ],
   "source": [
    "d=input(\"enter a number\")\n",
    "d.isdecimal()"
   ]
  },
  {
   "cell_type": "code",
   "execution_count": 12,
   "metadata": {},
   "outputs": [
    {
     "name": "stdout",
     "output_type": "stream",
     "text": [
      "enter a number3%4\n",
      "False\n",
      "False\n",
      "False\n"
     ]
    }
   ],
   "source": [
    "d=input(\"enter a number\")\n",
    "print(d.isdigit())\n",
    "print(d.isdecimal())\n",
    "print(d.isnumeric())"
   ]
  },
  {
   "cell_type": "code",
   "execution_count": 13,
   "metadata": {},
   "outputs": [
    {
     "name": "stdout",
     "output_type": "stream",
     "text": [
      "   \n"
     ]
    },
    {
     "data": {
      "text/plain": [
       "True"
      ]
     },
     "execution_count": 13,
     "metadata": {},
     "output_type": "execute_result"
    }
   ],
   "source": [
    "s=input()\n",
    "s.isspace() #it represent space"
   ]
  },
  {
   "cell_type": "code",
   "execution_count": 14,
   "metadata": {},
   "outputs": [
    {
     "name": "stdout",
     "output_type": "stream",
     "text": [
      "students . have you read about python\n"
     ]
    }
   ],
   "source": [
    "s=\"hello students . have you read about python\"\n",
    "index=s.find('students')\n",
    "print(s[index:])"
   ]
  },
  {
   "cell_type": "raw",
   "metadata": {},
   "source": [
    "#split function by default runs -1 times means it split all the world \n",
    "#partition remove or partition one time. we can pass the value for how many times it will partition\n",
    "#center by default fill character is whitespace\n",
    "#zfill by default fill character is 0 and it is used in padding and it takes width."
   ]
  },
  {
   "cell_type": "code",
   "execution_count": 15,
   "metadata": {},
   "outputs": [
    {
     "name": "stdout",
     "output_type": "stream",
     "text": [
      "0000000000101011\n"
     ]
    }
   ],
   "source": [
    "x='101011'\n",
    "print(x.zfill(16))"
   ]
  },
  {
   "cell_type": "code",
   "execution_count": null,
   "metadata": {},
   "outputs": [],
   "source": []
  }
 ],
 "metadata": {
  "kernelspec": {
   "display_name": "Python 3",
   "language": "python",
   "name": "python3"
  },
  "language_info": {
   "codemirror_mode": {
    "name": "ipython",
    "version": 3
   },
   "file_extension": ".py",
   "mimetype": "text/x-python",
   "name": "python",
   "nbconvert_exporter": "python",
   "pygments_lexer": "ipython3",
   "version": "3.6.5"
  }
 },
 "nbformat": 4,
 "nbformat_minor": 2
}
