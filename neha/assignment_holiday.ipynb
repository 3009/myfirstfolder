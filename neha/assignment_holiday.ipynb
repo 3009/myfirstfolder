{
 "cells": [
  {
   "cell_type": "code",
   "execution_count": 1,
   "metadata": {},
   "outputs": [
    {
     "name": "stdout",
     "output_type": "stream",
     "text": [
      "enter a number3\n",
      "enter a number1\n",
      "enter a number2\n",
      "enter a number3\n",
      "6\n"
     ]
    }
   ],
   "source": [
    "n=int(input(\"enter a number\")) #sum of numbers entered\n",
    "add=0\n",
    "for var in range(n):\n",
    "    a=int(input(\"enter a number\"))\n",
    "    add=add+a\n",
    "print(add)"
   ]
  },
  {
   "cell_type": "code",
   "execution_count": 7,
   "metadata": {},
   "outputs": [
    {
     "name": "stdout",
     "output_type": "stream",
     "text": [
      "enter a number1\n",
      "enter a number2\n",
      "4\n"
     ]
    }
   ],
   "source": [
    "a=int(input(\"enter a number\")) #multiplication of two entered numbers\n",
    "b=int(input(\"enter a number\"))\n",
    "add=0\n",
    "mul=0\n",
    "if (a and b>=0):\n",
    "    for var in range(b):\n",
    "    \n",
    "        add=add+a\n",
    "        mul=b+add\n",
    "    print(mul)\n",
    "else:\n",
    "    print(\"number is negative\")\n"
   ]
  },
  {
   "cell_type": "code",
   "execution_count": 12,
   "metadata": {},
   "outputs": [
    {
     "name": "stdout",
     "output_type": "stream",
     "text": [
      "enter a number2\n",
      "enter a number3\n",
      "6\n"
     ]
    }
   ],
   "source": [
    "a=int(input(\"enter a number\")) #multiplication of two positive numbers\n",
    "b=int(input(\"enter a number\"))\n",
    "add=0\n",
    "if (a and b>=0):\n",
    "    for var in range(b):\n",
    "    \n",
    "        add=add+a\n",
    "    print(add)\n",
    "else:\n",
    "    print(\"number is negative\")\n"
   ]
  },
  {
   "cell_type": "code",
   "execution_count": 2,
   "metadata": {},
   "outputs": [
    {
     "name": "stdout",
     "output_type": "stream",
     "text": [
      "enter a number4\n",
      "enter a number3\n",
      "1\n",
      "1.3333333333333333\n"
     ]
    }
   ],
   "source": [
    "a=int(input(\"enter a number\")) #program to find quotient and remainder\n",
    "b=int(input(\"enter a number\"))\n",
    "if (a>b):\n",
    "    rem=a%b\n",
    "    quotient=a/b\n",
    "    print(rem)\n",
    "    print(quotient)\n",
    "else:\n",
    "    print(\"invalid input\")"
   ]
  },
  {
   "cell_type": "code",
   "execution_count": 3,
   "metadata": {},
   "outputs": [
    {
     "name": "stdout",
     "output_type": "stream",
     "text": [
      "enter day30\n",
      "enter month11\n",
      "enter year2018\n",
      "30-11-2018\n"
     ]
    }
   ],
   "source": [
    "day=int(input(\"enter day\")) #check weather entered date is valid or not \n",
    "month=int(input(\"enter month\"))\n",
    "year=int(input(\"enter year\"))\n",
    "if(day<=31 and month<=12 and year>=1000):\n",
    "    print(day,\"-\",month,\"-\",year,sep='')\n",
    "else:\n",
    "    print(\"invalid date\")"
   ]
  },
  {
   "cell_type": "code",
   "execution_count": 2,
   "metadata": {},
   "outputs": [
    {
     "name": "stdout",
     "output_type": "stream",
     "text": [
      "1\n",
      "1\n",
      "2\n",
      "3\n",
      "5\n",
      "8\n",
      "13\n",
      "21\n",
      "34\n",
      "55\n"
     ]
    }
   ],
   "source": [
    "first=0 #fibonacci series\n",
    "second=1\n",
    "third=0\n",
    "for var in range(10):\n",
    "    first=second\n",
    "    second=third\n",
    "    third=first+second\n",
    "    print(third)\n",
    "    "
   ]
  },
  {
   "cell_type": "code",
   "execution_count": 1,
   "metadata": {},
   "outputs": [
    {
     "name": "stdout",
     "output_type": "stream",
     "text": [
      "\\n\n"
     ]
    }
   ],
   "source": [
    "print(\"\\\\n\")"
   ]
  },
  {
   "cell_type": "code",
   "execution_count": 10,
   "metadata": {},
   "outputs": [
    {
     "name": "stdout",
     "output_type": "stream",
     "text": [
      "3445556666777778888889999999"
     ]
    }
   ],
   "source": [
    "for row in range(1,10):\n",
    "    for col in range(row-2):\n",
    "        print(row,end=\"\")\n",
    "    #var=var-2\n",
    "    \n"
   ]
  },
  {
   "cell_type": "code",
   "execution_count": 19,
   "metadata": {},
   "outputs": [
    {
     "name": "stdout",
     "output_type": "stream",
     "text": [
      "enter a number456\n",
      "15\n"
     ]
    }
   ],
   "source": [
    "num=int(input(\"enter a number\")) #sum of digits of any number\n",
    "a=num\n",
    "num_sum=0\n",
    "while a:\n",
    "    last_digit = a  % 10  \n",
    "    num_sum = num_sum + last_digit \n",
    "    a= a // 10 \n",
    "print(num_sum)"
   ]
  },
  {
   "cell_type": "code",
   "execution_count": 22,
   "metadata": {},
   "outputs": [
    {
     "name": "stdout",
     "output_type": "stream",
     "text": [
      "Enter a number : 456\n",
      "Total num of digits in 456 are 3\n"
     ]
    }
   ],
   "source": [
    "num = int(input(\"Enter a number : \")) #to find number of digits in a given number\n",
    "abc=num\n",
    "num_of_digits = 0 \n",
    "while abc: #1\n",
    "    num_of_digits +=1\n",
    "    abc = abc // 10  \n",
    "print(f\"Total num of digits in {num} are {num_of_digits}\")  "
   ]
  },
  {
   "cell_type": "code",
   "execution_count": 25,
   "metadata": {},
   "outputs": [
    {
     "name": "stdout",
     "output_type": "stream",
     "text": [
      "Enter a number : 345\n",
      "543\n"
     ]
    }
   ],
   "source": [
    "num = int(input(\"Enter a number : \")) #print reverse of a given input\n",
    "abc=num\n",
    "rev=0\n",
    "while abc: \n",
    "    reverse=abc%10\n",
    "    rev=(rev*10)+reverse\n",
    "    abc=abc//10\n",
    "print(rev)"
   ]
  },
  {
   "cell_type": "code",
   "execution_count": 27,
   "metadata": {},
   "outputs": [
    {
     "name": "stdout",
     "output_type": "stream",
     "text": [
      "Enter a number121\n",
      "121\n",
      "the given number 121 is palindrome number\n"
     ]
    }
   ],
   "source": [
    "num = int(input(\"Enter a number\")) #program to find palindrome number\n",
    "abc=num\n",
    "rev=0\n",
    "while abc: \n",
    "    reverse=abc%10\n",
    "    rev=(rev*10)+reverse\n",
    "    abc=abc//10\n",
    "print(rev)\n",
    "if(rev==num):\n",
    "    print(f\"the given number {num} is palindrome number\")\n",
    "else:\n",
    "    print(\"number is not palindrome\")"
   ]
  },
  {
   "cell_type": "code",
   "execution_count": 33,
   "metadata": {},
   "outputs": [
    {
     "name": "stdout",
     "output_type": "stream",
     "text": [
      "enter a number: 2\n"
     ]
    }
   ],
   "source": [
    "n=int(input(\"enter a number: \")) #program to print all prime numbers from n\n",
    "for var in range(2,n):\n",
    "    if(n%1==0 and n%var==0) and (n%2):\n",
    "        print(\"number is prime\")\n",
    "    else:\n",
    "        print(\"number is not prime\")"
   ]
  },
  {
   "cell_type": "code",
   "execution_count": 35,
   "metadata": {},
   "outputs": [
    {
     "name": "stdout",
     "output_type": "stream",
     "text": [
      "Enter a number : 345\n",
      "543\n",
      "(543, 543)\n"
     ]
    }
   ],
   "source": [
    "num = int(input(\"Enter a number : \")) #print reverse of a given input\n",
    "abc=num                               # and also double of that reverse number\n",
    "rev=0\n",
    "while abc: \n",
    "    reverse=abc%10\n",
    "    rev=(rev*10)+reverse\n",
    "    #double=rev*2\n",
    "    double=rev,rev\n",
    "    abc=abc//10\n",
    "    \n",
    "print(rev)\n",
    "print(double)"
   ]
  },
  {
   "cell_type": "code",
   "execution_count": 36,
   "metadata": {},
   "outputs": [
    {
     "name": "stdout",
     "output_type": "stream",
     "text": [
      "enter a number: 2\n",
      "enter a number: 3\n",
      "8\n"
     ]
    }
   ],
   "source": [
    "x=int(input(\"enter a number: \"))#find value of x is raised to the power y\n",
    "y=int(input(\"enter a number: \"))\n",
    "if(x and y>0):\n",
    "    z=x**y\n",
    "    print(z)\n",
    "else:\n",
    "    print(\"number is invalid\")"
   ]
  },
  {
   "cell_type": "markdown",
   "metadata": {},
   "source": [
    "HISTOGRAM --> a diagram consisting of rectangles whose area is proportional to the frequency of a variable and whose width is equal to the class interval."
   ]
  },
  {
   "cell_type": "code",
   "execution_count": null,
   "metadata": {},
   "outputs": [],
   "source": [
    "for var in range(10):\n",
    "    a=int(input(\"enter a number\")) #program to find quotient and remainder\n",
    "    b=int(input(\"enter a number\"))\n",
    "    if (a>b):\n",
    "        rem=a%b\n",
    "        quotient=a/b\n",
    "        print(rem)\n",
    "        print(quotient)\n",
    "    else:\n",
    "        print(\"invalid input\")"
   ]
  },
  {
   "cell_type": "raw",
   "metadata": {},
   "source": [
    "l=[\"neha\",\"soni\",1,2,3]\n",
    "print(*l) ---> it will give items in sequence \n",
    "#output --> \n",
    "neha\n",
    "soni\n",
    "1\n",
    "2\n",
    "3\n"
   ]
  },
  {
   "cell_type": "code",
   "execution_count": 6,
   "metadata": {},
   "outputs": [
    {
     "name": "stdout",
     "output_type": "stream",
     "text": [
      "enter a number5\n",
      "1 2 3 4 5 6 7 8 9 \n",
      "1 2 3 4 5 6 7 \n",
      "1 2 3 4 5 \n",
      "1 2 3 \n",
      "1 \n"
     ]
    }
   ],
   "source": [
    "n=int(input(\"enter a number\"))\n",
    "for row in range(n,0,-1):\n",
    "    for col in range(1,row*2):\n",
    "        print(col,end=' ')\n",
    "    print()"
   ]
  },
  {
   "cell_type": "code",
   "execution_count": 2,
   "metadata": {},
   "outputs": [
    {
     "name": "stdout",
     "output_type": "stream",
     "text": [
      "enter a number5\n",
      "1 \n",
      "1 2 3 \n",
      "1 2 3 4 5 \n",
      "1 2 3 4 5 6 7 \n",
      "1 2 3 4 5 6 7 8 9 \n"
     ]
    }
   ],
   "source": [
    "num=int(input(\"enter a number\"))\n",
    "k=1\n",
    "for row in range(1,num+1):\n",
    "    for col in range(1,k+1):\n",
    "        print(col,end=' ')\n",
    "    k=k+2\n",
    "    print()\n",
    "    "
   ]
  },
  {
   "cell_type": "code",
   "execution_count": 3,
   "metadata": {},
   "outputs": [
    {
     "name": "stdout",
     "output_type": "stream",
     "text": [
      "* \n",
      "* * * \n",
      "* * * * * \n",
      "* * * * * * * \n",
      "* * * * * * * * * \n"
     ]
    }
   ],
   "source": [
    "for i in range(1,6):\n",
    "    for j in range(1,(2*i)):\n",
    "        print(\"*\",end=\" \")\n",
    "    print()"
   ]
  },
  {
   "cell_type": "code",
   "execution_count": null,
   "metadata": {},
   "outputs": [],
   "source": [
    "\n",
    "    "
   ]
  },
  {
   "cell_type": "code",
   "execution_count": null,
   "metadata": {},
   "outputs": [],
   "source": []
  }
 ],
 "metadata": {
  "kernelspec": {
   "display_name": "Python 3",
   "language": "python",
   "name": "python3"
  },
  "language_info": {
   "codemirror_mode": {
    "name": "ipython",
    "version": 3
   },
   "file_extension": ".py",
   "mimetype": "text/x-python",
   "name": "python",
   "nbconvert_exporter": "python",
   "pygments_lexer": "ipython3",
   "version": "3.6.5"
  }
 },
 "nbformat": 4,
 "nbformat_minor": 2
}
