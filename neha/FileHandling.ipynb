{
 "cells": [
  {
   "cell_type": "markdown",
   "metadata": {},
   "source": [
    "<h1 style='color:#123456'>File Handling</h1>"
   ]
  },
  {
   "cell_type": "code",
   "execution_count": 2,
   "metadata": {},
   "outputs": [
    {
     "data": {
      "text/plain": [
       "'C:\\\\batch10'"
      ]
     },
     "execution_count": 2,
     "metadata": {},
     "output_type": "execute_result"
    }
   ],
   "source": [
    "import os \n",
    "os.getcwd()"
   ]
  },
  {
   "cell_type": "code",
   "execution_count": 3,
   "metadata": {},
   "outputs": [
    {
     "ename": "FileNotFoundError",
     "evalue": "[Errno 2] No such file or directory: 'abracadabra'",
     "output_type": "error",
     "traceback": [
      "\u001b[1;31m---------------------------------------------------------------------------\u001b[0m",
      "\u001b[1;31mFileNotFoundError\u001b[0m                         Traceback (most recent call last)",
      "\u001b[1;32m<ipython-input-3-28af197d41a5>\u001b[0m in \u001b[0;36m<module>\u001b[1;34m()\u001b[0m\n\u001b[1;32m----> 1\u001b[1;33m \u001b[0mfp\u001b[0m \u001b[1;33m=\u001b[0m \u001b[0mopen\u001b[0m\u001b[1;33m(\u001b[0m\u001b[1;34m'abracadabra'\u001b[0m\u001b[1;33m)\u001b[0m\u001b[1;33m\u001b[0m\u001b[0m\n\u001b[0m",
      "\u001b[1;31mFileNotFoundError\u001b[0m: [Errno 2] No such file or directory: 'abracadabra'"
     ]
    }
   ],
   "source": [
    "fp = open('abracadabra')"
   ]
  },
  {
   "cell_type": "code",
   "execution_count": 6,
   "metadata": {},
   "outputs": [
    {
     "name": "stdout",
     "output_type": "stream",
     "text": [
      "c:\\data\\you\\me\\thank\\you\n",
      "c:\\data\\you\\me\\thank\\you\n"
     ]
    }
   ],
   "source": [
    "name = input()\n",
    "print(name)"
   ]
  },
  {
   "cell_type": "code",
   "execution_count": 7,
   "metadata": {},
   "outputs": [
    {
     "name": "stdout",
     "output_type": "stream",
     "text": [
      "'c:\\\\data\\\\you\\\\me\\\\thank\\\\you'\n"
     ]
    }
   ],
   "source": [
    "print(repr(name))"
   ]
  },
  {
   "cell_type": "code",
   "execution_count": 8,
   "metadata": {},
   "outputs": [
    {
     "data": {
      "text/plain": [
       "'c:\\\\data\\\\you\\\\me\\\\thank\\\\you'"
      ]
     },
     "execution_count": 8,
     "metadata": {},
     "output_type": "execute_result"
    }
   ],
   "source": [
    "name"
   ]
  },
  {
   "cell_type": "code",
   "execution_count": 13,
   "metadata": {},
   "outputs": [
    {
     "name": "stdout",
     "output_type": "stream",
     "text": [
      "\\n\n"
     ]
    }
   ],
   "source": [
    "print(\"\\\\n\")"
   ]
  },
  {
   "cell_type": "code",
   "execution_count": 3,
   "metadata": {},
   "outputs": [],
   "source": [
    "fp = open('C:\\\\users\\\\sachin\\\\Desktop\\\\aws_instance.ppk')"
   ]
  },
  {
   "cell_type": "code",
   "execution_count": 4,
   "metadata": {},
   "outputs": [
    {
     "name": "stdout",
     "output_type": "stream",
     "text": [
      "<class '_io.TextIOWrapper'>\n"
     ]
    }
   ],
   "source": [
    "print(type(fp))"
   ]
  },
  {
   "cell_type": "code",
   "execution_count": 5,
   "metadata": {},
   "outputs": [
    {
     "name": "stdout",
     "output_type": "stream",
     "text": [
      "['_CHUNK_SIZE', '__class__', '__del__', '__delattr__', '__dict__', '__dir__', '__doc__', '__enter__', '__eq__', '__exit__', '__format__', '__ge__', '__getattribute__', '__getstate__', '__gt__', '__hash__', '__init__', '__init_subclass__', '__iter__', '__le__', '__lt__', '__ne__', '__new__', '__next__', '__reduce__', '__reduce_ex__', '__repr__', '__setattr__', '__sizeof__', '__str__', '__subclasshook__', '_checkClosed', '_checkReadable', '_checkSeekable', '_checkWritable', '_finalizing', 'buffer', 'close', 'closed', 'detach', 'encoding', 'errors', 'fileno', 'flush', 'isatty', 'line_buffering', 'mode', 'name', 'newlines', 'read', 'readable', 'readline', 'readlines', 'reconfigure', 'seek', 'seekable', 'tell', 'truncate', 'writable', 'write', 'write_through', 'writelines']\n"
     ]
    }
   ],
   "source": [
    "print(dir(fp))"
   ]
  },
  {
   "cell_type": "code",
   "execution_count": 6,
   "metadata": {},
   "outputs": [],
   "source": [
    "# read, write, tell, seek , readline, readlines, readable, writeable, seekabled"
   ]
  },
  {
   "cell_type": "code",
   "execution_count": 7,
   "metadata": {},
   "outputs": [
    {
     "name": "stdout",
     "output_type": "stream",
     "text": [
      "File name = C:\\users\\sachin\\Desktop\\aws_instance.ppk\n"
     ]
    }
   ],
   "source": [
    "print(f\"File name = {fp.name}\")"
   ]
  },
  {
   "cell_type": "code",
   "execution_count": 9,
   "metadata": {},
   "outputs": [
    {
     "name": "stdout",
     "output_type": "stream",
     "text": [
      "Is seekable = True\n"
     ]
    }
   ],
   "source": [
    "print(f\"Is seekable = {fp.seekable()}\")"
   ]
  },
  {
   "cell_type": "code",
   "execution_count": 14,
   "metadata": {},
   "outputs": [
    {
     "name": "stdout",
     "output_type": "stream",
     "text": [
      "Is readable = True\n"
     ]
    }
   ],
   "source": [
    "print(f\"Is readable = {fp.readable()}\")"
   ]
  },
  {
   "cell_type": "code",
   "execution_count": 16,
   "metadata": {},
   "outputs": [
    {
     "name": "stdout",
     "output_type": "stream",
     "text": [
      "Is writeable = False\n"
     ]
    }
   ],
   "source": [
    "print(f\"Is writeable = {fp.writable()}\")"
   ]
  },
  {
   "cell_type": "code",
   "execution_count": 17,
   "metadata": {},
   "outputs": [],
   "source": [
    "data = fp.read()"
   ]
  },
  {
   "cell_type": "code",
   "execution_count": 18,
   "metadata": {},
   "outputs": [
    {
     "name": "stdout",
     "output_type": "stream",
     "text": [
      "PuTTY-User-Key-File-2: ssh-rsa\n",
      "Encryption: none\n",
      "Comment: imported-openssh-key\n",
      "Public-Lines: 6\n",
      "AAAAB3NzaC1yc2EAAAADAQABAAABAQCpfymgEgcW4H8kdAHQMHJq/pbf5V/uByT6\n",
      "M9ntyc+jeW0RJD9h7DuZ5bo+6jDisbhJLR24AUOcIMPcjNnge6YRadkjvIdpuk6u\n",
      "Xgz+pAhUsEd1E7/fgY5JdSkzUsq8S3XdvpmC/qY218rRk7FnuH4uxdP/USu7gA8n\n",
      "04UDbMBNR5zqwQwR9Oj5e+0bYrnxEonFo2Fp1llGpHzUBt2OLnyOzwkkJ77DUKJ+\n",
      "hpiAlnFO0IUoqKviCE60bkm9iw6jOUYJ5SS7V16icuVxyQ4/Os3+x7UFwCJRWwFF\n",
      "o3zhF09QPEIK2VXgcWfHp4a7nveYBUP4jh2/0RHuDXbvqkjP+ecV\n",
      "Private-Lines: 14\n",
      "AAABABR5E6IOC2UsAK96g62N7IQX9Ele/1NU8ZZ3JN+f/MCWLiJf6nf9fMV+Bh0L\n",
      "VJRNOyE7nddX776wBnhhWv/Ob6Sy0FOMth6DLnXJTnCDh64TDM6LcCWjFHiy+iME\n",
      "4RAVXUtHdmtoLtN5BTqDSG5qznL/2jeAqnOfaDU7S1m6jQ/IX5ah25gNDJ4ctoTI\n",
      "9SJ/x/JCUWLEZ6CeqDpYm38oyxLGcfVjduE78MMYVx/DkdJNxFEds0L4iGyheC+6\n",
      "5EHNJOTI346CtiUmN0XBtYC5lmjs1o9WXTQmRIP426nty09Cw25yyeU0Vg6JvemP\n",
      "+ecwnsvmolfMhcAMdKqwYqyWNQEAAACBAPZ5Y5lxcASzdz0ibXJSBF7XDxMOawcc\n",
      "pLdIEfi7I28/ZdaRQvFnQKS0yB83iUUj9igz+JFvV+lKS99QbnmHSZi2UyfuUAWa\n",
      "SNNDgVuYc9HPEBPft+v47CYsgDI3s6aJBlOkRjifv1J45VH93Fr+rQJZqTgm6Ch7\n",
      "gn3d9jbelDxxAAAAgQCwDCj8VPP9Iy2LUM8vtSVfg8kYgkxTrufQHyOpdNxpKyQ5\n",
      "0sAvY/3RD7Dy4PXWNoIvdTRssrpgVPzgGntF62GvEzjZP07cl//B2aXlBcFzX5qr\n",
      "fdYiFZJoahJbhHmcMkCUt1oOYHITJRyc5au7iueFYza1RJrb2KogCJ1CSqA25QAA\n",
      "AIEAnWwcMyo1aLEg4kjcliifNUhVHfvoOH0azKfjNF49qF7YZCSrZPh9D5ACEN/B\n",
      "pfP2ptN9JghqRL0NIfyCgEljex/0pL55esVmmAbaQynTOHIe9yd2ccPi1jBHn2lY\n",
      "7s+Lzh655HIsyLUmhd2dze1ofH1b9bmiOwR3JSlqaCmQ+ws=\n",
      "Private-MAC: 163a1bd721096bef22d005b4aad97213ea9327aa\n",
      "\n"
     ]
    }
   ],
   "source": [
    "print(data)"
   ]
  },
  {
   "cell_type": "code",
   "execution_count": 19,
   "metadata": {},
   "outputs": [
    {
     "ename": "UnsupportedOperation",
     "evalue": "not writable",
     "output_type": "error",
     "traceback": [
      "\u001b[1;31m---------------------------------------------------------------------------\u001b[0m",
      "\u001b[1;31mUnsupportedOperation\u001b[0m                      Traceback (most recent call last)",
      "\u001b[1;32m<ipython-input-19-0d69e5f04233>\u001b[0m in \u001b[0;36m<module>\u001b[1;34m()\u001b[0m\n\u001b[1;32m----> 1\u001b[1;33m \u001b[0mfp\u001b[0m\u001b[1;33m.\u001b[0m\u001b[0mwrite\u001b[0m\u001b[1;33m(\u001b[0m\u001b[1;34m\"HI i am writing into file\"\u001b[0m\u001b[1;33m)\u001b[0m\u001b[1;33m\u001b[0m\u001b[0m\n\u001b[0m",
      "\u001b[1;31mUnsupportedOperation\u001b[0m: not writable"
     ]
    }
   ],
   "source": [
    "fp.write(\"HI i am writing into file\")"
   ]
  },
  {
   "cell_type": "code",
   "execution_count": 20,
   "metadata": {},
   "outputs": [],
   "source": [
    "fp.close()"
   ]
  },
  {
   "cell_type": "code",
   "execution_count": 22,
   "metadata": {},
   "outputs": [],
   "source": [
    "fp = open('C:\\\\users\\\\sachin\\\\Desktop\\\\Hello.txt','w+')\n"
   ]
  },
  {
   "cell_type": "code",
   "execution_count": 23,
   "metadata": {},
   "outputs": [
    {
     "name": "stdout",
     "output_type": "stream",
     "text": [
      "\n",
      "id\tname\tenglish\thindi\tmaths\n",
      "1\tsachin\t56\t78\t100\n",
      "2\tmeena\t90\t95\t99\n",
      "2\tmeena\t90\t95\t992\t\n",
      "meena\t90\t95\t992\t\n",
      "meena\t90\t95\t992\t\n",
      "meena\t90\t95\t992\t\n",
      "meena\t90\t95\t99\n",
      "\n"
     ]
    }
   ],
   "source": [
    "data = \"\"\"\n",
    "id\\tname\\tenglish\\thindi\\tmaths\n",
    "1\\tsachin\\t56\\t78\\t100\n",
    "2\\tmeena\\t90\\t95\\t99\n",
    "2\\tmeena\\t90\\t95\\t992\\t\n",
    "meena\\t90\\t95\\t992\\t\n",
    "meena\\t90\\t95\\t992\\t\n",
    "meena\\t90\\t95\\t992\\t\n",
    "meena\\t90\\t95\\t99\n",
    "\"\"\"\n",
    "print(data)"
   ]
  },
  {
   "cell_type": "code",
   "execution_count": 24,
   "metadata": {},
   "outputs": [
    {
     "data": {
      "text/plain": [
       "150"
      ]
     },
     "execution_count": 24,
     "metadata": {},
     "output_type": "execute_result"
    }
   ],
   "source": [
    "fp.write(data)"
   ]
  },
  {
   "cell_type": "code",
   "execution_count": 25,
   "metadata": {},
   "outputs": [],
   "source": [
    "fp.close()"
   ]
  },
  {
   "cell_type": "code",
   "execution_count": 26,
   "metadata": {},
   "outputs": [],
   "source": [
    "fp = open('C:\\\\users\\\\sachin\\\\desktop\\\\hello.txt')\n",
    "data = fp.read()\n",
    "fp.close()"
   ]
  },
  {
   "cell_type": "code",
   "execution_count": 27,
   "metadata": {},
   "outputs": [
    {
     "name": "stdout",
     "output_type": "stream",
     "text": [
      "\n",
      "id\tname\tenglish\thindi\tmaths\n",
      "1\tsachin\t56\t78\t100\n",
      "2\tmeena\t90\t95\t99\n",
      "2\tmeena\t90\t95\t992\t\n",
      "meena\t90\t95\t992\t\n",
      "meena\t90\t95\t992\t\n",
      "meena\t90\t95\t992\t\n",
      "meena\t90\t95\t99\n",
      "\n"
     ]
    }
   ],
   "source": [
    "print(data)"
   ]
  },
  {
   "cell_type": "code",
   "execution_count": 28,
   "metadata": {},
   "outputs": [],
   "source": [
    "fp  = open('c:\\\\users\\\\sachin\\\\desktop\\\\hello.txt')"
   ]
  },
  {
   "cell_type": "code",
   "execution_count": 1,
   "metadata": {},
   "outputs": [],
   "source": [
    "fp = open('c:\\\\users\\\\sachin\\\\desktop\\\\student.txt')"
   ]
  },
  {
   "cell_type": "code",
   "execution_count": 2,
   "metadata": {},
   "outputs": [],
   "source": [
    "data = fp.read()\n",
    "fp.close()"
   ]
  },
  {
   "cell_type": "code",
   "execution_count": 3,
   "metadata": {},
   "outputs": [
    {
     "name": "stdout",
     "output_type": "stream",
     "text": [
      "1\tsachin\t56\t74\t78\n",
      "2\tmeena\t66\t67\t61\n",
      "3\tpoonam\t70\t85\t83\n",
      "4\tneha\t77\t67\t73\n",
      "5\tmanish\t78\t75\t56\n",
      "6\tram\t67\t56\t34\n",
      "7\tsubham\t76\t64\t45\n"
     ]
    }
   ],
   "source": [
    "print(data)"
   ]
  },
  {
   "cell_type": "code",
   "execution_count": 4,
   "metadata": {},
   "outputs": [
    {
     "name": "stdout",
     "output_type": "stream",
     "text": [
      "'1\\tsachin\\t56\\t74\\t78\\n2\\tmeena\\t66\\t67\\t61\\n3\\tpoonam\\t70\\t85\\t83\\n4\\tneha\\t77\\t67\\t73\\n5\\tmanish\\t78\\t75\\t56\\n6\\tram\\t67\\t56\\t34\\n7\\tsubham\\t76\\t64\\t45'\n"
     ]
    }
   ],
   "source": [
    "print(repr(data))"
   ]
  },
  {
   "cell_type": "code",
   "execution_count": 5,
   "metadata": {},
   "outputs": [],
   "source": [
    "rows = data.split('\\n')"
   ]
  },
  {
   "cell_type": "code",
   "execution_count": 6,
   "metadata": {},
   "outputs": [
    {
     "data": {
      "text/plain": [
       "['1\\tsachin\\t56\\t74\\t78',\n",
       " '2\\tmeena\\t66\\t67\\t61',\n",
       " '3\\tpoonam\\t70\\t85\\t83',\n",
       " '4\\tneha\\t77\\t67\\t73',\n",
       " '5\\tmanish\\t78\\t75\\t56',\n",
       " '6\\tram\\t67\\t56\\t34',\n",
       " '7\\tsubham\\t76\\t64\\t45']"
      ]
     },
     "execution_count": 6,
     "metadata": {},
     "output_type": "execute_result"
    }
   ],
   "source": [
    "rows"
   ]
  },
  {
   "cell_type": "code",
   "execution_count": 11,
   "metadata": {},
   "outputs": [
    {
     "data": {
      "text/plain": [
       "'s'"
      ]
     },
     "execution_count": 11,
     "metadata": {},
     "output_type": "execute_result"
    }
   ],
   "source": [
    "rows[0][2]"
   ]
  },
  {
   "cell_type": "code",
   "execution_count": 57,
   "metadata": {},
   "outputs": [
    {
     "name": "stdout",
     "output_type": "stream",
     "text": [
      "file location = C:\\users\\sachin\\desktop\\st2.txt\n",
      "Directory path = C:\\users\\sachin\\desktop\n",
      "C:\\users\\sachin\\desktop\\st2_result.txt\n"
     ]
    }
   ],
   "source": [
    "import os\n",
    "path = 'C:\\\\users\\\\sachin\\\\desktop\\\\st2.txt'\n",
    "dir_name = os.path.dirname(path)\n",
    "print(f\"file location = {path}\" )\n",
    "print(f\"Directory path = {dir_name}\")\n",
    "new_path = os.path.join(dir_name,'st2_result.txt')\n",
    "print(new_path)"
   ]
  },
  {
   "cell_type": "code",
   "execution_count": 69,
   "metadata": {},
   "outputs": [
    {
     "name": "stdout",
     "output_type": "stream",
     "text": [
      "'C:\\\\users\\\\sachin\\\\desktop\\\\st2.txt'\n",
      "['C:', 'users', 'sachin', 'desktop', 'st2.txt']\n",
      "st2.txt\n",
      "['st2', 'txt']\n",
      "st2_result.txt\n",
      "C:\\users\\sachin\\desktop\\st2_result.txt\n"
     ]
    }
   ],
   "source": [
    "print(repr(path))\n",
    "d = path.split('\\\\')\n",
    "print(d)\n",
    "d = d[-1]\n",
    "print(d)\n",
    "d = d.split('.')\n",
    "print(d)\n",
    "d = d[0]+'_result.'+d[1]\n",
    "print(d)\n",
    "fname = os.path.join(dir_name,d)\n",
    "print(fname)"
   ]
  },
  {
   "cell_type": "code",
   "execution_count": 84,
   "metadata": {},
   "outputs": [],
   "source": [
    "#%%file c:\\\\users\\\\sachin\\\\desktop\\\\result.py\n",
    "import os\n",
    "def result(path,sep='\\t'):\n",
    "    fp = open(path)\n",
    "    data = fp.read()\n",
    "    fp.close()\n",
    "    rows = data.split('\\n')\n",
    "    new_data = [] \n",
    "    for line in rows : \n",
    "        d = line.split(sep)\n",
    "        d[2] = int(d[2])\n",
    "        d[3] = int(d[3])\n",
    "        d[4] = int(d[4])\n",
    "        d.append((d[2]+d[3]+d[4])/3)\n",
    "        d[2] = str(d[2])\n",
    "        d[3] = str(d[3])\n",
    "        d[4] = str(d[4])\n",
    "        d[5] = str(round(d[5],2))\n",
    "        d = '\\t'.join(d)\n",
    "        new_data.append(d)\n",
    "    #print(new_data)\n",
    "    final_data = '\\n'.join(new_data)\n",
    "    #print(repr(final_data))\n",
    "    dir_name = os.path.dirname(path)\n",
    "    fname = path.split('\\\\')[-1]\n",
    "    fname = fname.split('.')\n",
    "    fname = fname[0]+'_result.'+fname[1]\n",
    "    fname = os.path.join(dir_name,fname)\n",
    "    fp = open(fname,'w')\n",
    "    fp.write(final_data)\n",
    "    fp.close()\n",
    "    print(\"Your Result is sucessfully written\")"
   ]
  },
  {
   "cell_type": "code",
   "execution_count": 85,
   "metadata": {},
   "outputs": [
    {
     "name": "stdout",
     "output_type": "stream",
     "text": [
      "Your Result is sucessfully written\n"
     ]
    }
   ],
   "source": [
    "result('C:\\\\users\\\\sachin\\\\desktop\\\\student.txt',sep=',')"
   ]
  },
  {
   "cell_type": "code",
   "execution_count": 88,
   "metadata": {},
   "outputs": [
    {
     "ename": "TypeError",
     "evalue": "type str doesn't define __round__ method",
     "output_type": "error",
     "traceback": [
      "\u001b[1;31m---------------------------------------------------------------------------\u001b[0m",
      "\u001b[1;31mTypeError\u001b[0m                                 Traceback (most recent call last)",
      "\u001b[1;32m<ipython-input-88-430cfc754aff>\u001b[0m in \u001b[0;36m<module>\u001b[1;34m()\u001b[0m\n\u001b[1;32m----> 1\u001b[1;33m \u001b[0mresult\u001b[0m\u001b[1;33m(\u001b[0m\u001b[1;34m'C:\\\\users\\\\sachin\\\\desktop\\\\st2_result.txt'\u001b[0m\u001b[1;33m)\u001b[0m\u001b[1;33m\u001b[0m\u001b[0m\n\u001b[0m",
      "\u001b[1;32m<ipython-input-84-4de4c97c9d81>\u001b[0m in \u001b[0;36mresult\u001b[1;34m(path, sep)\u001b[0m\n\u001b[0;32m     16\u001b[0m         \u001b[0md\u001b[0m\u001b[1;33m[\u001b[0m\u001b[1;36m3\u001b[0m\u001b[1;33m]\u001b[0m \u001b[1;33m=\u001b[0m \u001b[0mstr\u001b[0m\u001b[1;33m(\u001b[0m\u001b[0md\u001b[0m\u001b[1;33m[\u001b[0m\u001b[1;36m3\u001b[0m\u001b[1;33m]\u001b[0m\u001b[1;33m)\u001b[0m\u001b[1;33m\u001b[0m\u001b[0m\n\u001b[0;32m     17\u001b[0m         \u001b[0md\u001b[0m\u001b[1;33m[\u001b[0m\u001b[1;36m4\u001b[0m\u001b[1;33m]\u001b[0m \u001b[1;33m=\u001b[0m \u001b[0mstr\u001b[0m\u001b[1;33m(\u001b[0m\u001b[0md\u001b[0m\u001b[1;33m[\u001b[0m\u001b[1;36m4\u001b[0m\u001b[1;33m]\u001b[0m\u001b[1;33m)\u001b[0m\u001b[1;33m\u001b[0m\u001b[0m\n\u001b[1;32m---> 18\u001b[1;33m         \u001b[0md\u001b[0m\u001b[1;33m[\u001b[0m\u001b[1;36m5\u001b[0m\u001b[1;33m]\u001b[0m \u001b[1;33m=\u001b[0m \u001b[0mstr\u001b[0m\u001b[1;33m(\u001b[0m\u001b[0mround\u001b[0m\u001b[1;33m(\u001b[0m\u001b[0md\u001b[0m\u001b[1;33m[\u001b[0m\u001b[1;36m5\u001b[0m\u001b[1;33m]\u001b[0m\u001b[1;33m,\u001b[0m\u001b[1;36m2\u001b[0m\u001b[1;33m)\u001b[0m\u001b[1;33m)\u001b[0m\u001b[1;33m\u001b[0m\u001b[0m\n\u001b[0m\u001b[0;32m     19\u001b[0m         \u001b[0md\u001b[0m \u001b[1;33m=\u001b[0m \u001b[1;34m'\\t'\u001b[0m\u001b[1;33m.\u001b[0m\u001b[0mjoin\u001b[0m\u001b[1;33m(\u001b[0m\u001b[0md\u001b[0m\u001b[1;33m)\u001b[0m\u001b[1;33m\u001b[0m\u001b[0m\n\u001b[0;32m     20\u001b[0m         \u001b[0mnew_data\u001b[0m\u001b[1;33m.\u001b[0m\u001b[0mappend\u001b[0m\u001b[1;33m(\u001b[0m\u001b[0md\u001b[0m\u001b[1;33m)\u001b[0m\u001b[1;33m\u001b[0m\u001b[0m\n",
      "\u001b[1;31mTypeError\u001b[0m: type str doesn't define __round__ method"
     ]
    }
   ],
   "source": [
    "result('C:\\\\users\\\\sachin\\\\desktop\\\\st2_result.txt')"
   ]
  },
  {
   "cell_type": "code",
   "execution_count": 87,
   "metadata": {},
   "outputs": [],
   "source": [
    "f = open('C:\\\\users\\\\sachin\\\\desktop\\\\student.txt')\n",
    "d = f.read()\n",
    "f.close()\n",
    "d = d.replace(',',':')\n",
    "f = open('C:\\\\users\\\\sachin\\\\desktop\\\\student1.txt','w')\n",
    "f.write(d)\n",
    "f.close()\n"
   ]
  },
  {
   "cell_type": "code",
   "execution_count": 98,
   "metadata": {},
   "outputs": [],
   "source": [
    "#%%file c:\\\\users\\\\sachin\\\\desktop\\\\result.py\n",
    "import os\n",
    "def result(path,sep='\\t'):\n",
    "    fp = open(path)\n",
    "    data = fp.read()\n",
    "    fp.close()\n",
    "    rows = data.split('\\n')\n",
    "    new_data = [] \n",
    "    for line in rows : \n",
    "        d = line.split(sep)\n",
    "        d.append(str(round(sum(list(map(eval,d[2:])))/(len(d)-2),2)))\n",
    "        d = '\\t'.join(d)\n",
    "        new_data.append(d)\n",
    "    final_data = '\\n'.join(new_data)\n",
    "    dir_name = os.path.dirname(path)\n",
    "    fname = path.split('\\\\')[-1]\n",
    "    fname = fname.split('.')\n",
    "    fname = fname[0]+'_result.'+fname[1]\n",
    "    fname = os.path.join(dir_name,fname)\n",
    "    fp = open(fname,'w')\n",
    "    fp.write(final_data)\n",
    "    fp.close()\n",
    "    print(\"Your Result is sucessfully written\")"
   ]
  },
  {
   "cell_type": "code",
   "execution_count": 99,
   "metadata": {},
   "outputs": [
    {
     "name": "stdout",
     "output_type": "stream",
     "text": [
      "Your Result is sucessfully written\n"
     ]
    }
   ],
   "source": [
    "result('C:\\\\users\\\\sachin\\\\desktop\\\\st2_result.txt')"
   ]
  },
  {
   "cell_type": "code",
   "execution_count": 100,
   "metadata": {},
   "outputs": [
    {
     "name": "stdout",
     "output_type": "stream",
     "text": [
      "Your Result is sucessfully written\n"
     ]
    }
   ],
   "source": [
    "result('C:\\\\users\\\\sachin\\\\desktop\\\\st2_result_result.txt')"
   ]
  },
  {
   "cell_type": "code",
   "execution_count": null,
   "metadata": {},
   "outputs": [],
   "source": []
  }
 ],
 "metadata": {
  "kernelspec": {
   "display_name": "Python 3",
   "language": "python",
   "name": "python3"
  },
  "language_info": {
   "codemirror_mode": {
    "name": "ipython",
    "version": 3
   },
   "file_extension": ".py",
   "mimetype": "text/x-python",
   "name": "python",
   "nbconvert_exporter": "python",
   "pygments_lexer": "ipython3",
   "version": "3.6.5"
  }
 },
 "nbformat": 4,
 "nbformat_minor": 2
}
