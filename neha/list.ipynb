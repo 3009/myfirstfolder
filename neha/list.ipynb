{
 "cells": [
  {
   "cell_type": "raw",
   "metadata": {},
   "source": [
    "list is a combination of items, items can be homogenous or hetrogenous. If all homogenous or hetrogenous. If all items of list is homogenous then list is known as array.\n",
    "#homogenous--> all elements are of same type.\n",
    "#hetrogenous-->all elements are of different types.\n",
    "\n",
    "Array is a collection of same data types.\n",
    "note:- all arrays are list but all are not array."
   ]
  },
  {
   "cell_type": "code",
   "execution_count": 1,
   "metadata": {},
   "outputs": [
    {
     "name": "stdout",
     "output_type": "stream",
     "text": [
      "['2-shirt', '3-jeans', 'one iphone', '2kg chawal', '1 airoplane']\n"
     ]
    }
   ],
   "source": [
    "#syntax name_list = [ item1, item2, item3,....., itemn ]\n",
    "shopping_list = [ '2-shirt', '3-jeans', 'one iphone', '2kg chawal', '1 airoplane']\n",
    "print(shopping_list)"
   ]
  },
  {
   "cell_type": "markdown",
   "metadata": {},
   "source": [
    "<h1 style='color:#12345'>list support indexing and slicing same as strings</h1>"
   ]
  },
  {
   "cell_type": "code",
   "execution_count": 1,
   "metadata": {},
   "outputs": [
    {
     "name": "stdout",
     "output_type": "stream",
     "text": [
      "['python', 'c', 'c++', 'php', '.net', 'shell scripting', 'c#', 'scala', 'pig', 'javascript', 'angular js', 'r']\n"
     ]
    }
   ],
   "source": [
    "programming_language = [ 'python', 'c', 'c++', 'php', '.net',\n",
    "                        'shell scripting', 'c#', 'scala', 'pig', \n",
    "                        'javascript', 'angular js', 'r']\n",
    "print(programming_language) \n"
   ]
  },
  {
   "cell_type": "code",
   "execution_count": 2,
   "metadata": {},
   "outputs": [
    {
     "name": "stdout",
     "output_type": "stream",
     "text": [
      "top 5 lang in market : ['python', 'c', 'c++', 'php', '.net', 'shell scripting', 'c#']\n",
      "last 5 lang in market : ['scala', 'pig', 'javascript', 'angular js', 'r']\n"
     ]
    }
   ],
   "source": [
    "print(\"top 5 lang in market :\", programming_language[:-5])\n",
    "print(\"last 5 lang in market :\", programming_language[-5:])\n"
   ]
  },
  {
   "cell_type": "code",
   "execution_count": 8,
   "metadata": {},
   "outputs": [
    {
     "name": "stdout",
     "output_type": "stream",
     "text": [
      "['r', 'angular j', 'javascript', 'pig', 'scala', 'c#', 'shell scripting', '.net', 'php', 'c++', 'c', 'python']\n"
     ]
    }
   ],
   "source": [
    "n= programming_language[::-1]\n",
    "print(n)"
   ]
  },
  {
   "cell_type": "code",
   "execution_count": 9,
   "metadata": {},
   "outputs": [
    {
     "name": "stdout",
     "output_type": "stream",
     "text": [
      "['hello', 'bye']\n"
     ]
    }
   ],
   "source": [
    "l=['hello','bye']\n",
    "print(l)"
   ]
  },
  {
   "cell_type": "code",
   "execution_count": 10,
   "metadata": {},
   "outputs": [
    {
     "name": "stdout",
     "output_type": "stream",
     "text": [
      "['hello', 'heloo']\n"
     ]
    }
   ],
   "source": [
    "l[1]='heloo'  #replace\n",
    "print(l)"
   ]
  },
  {
   "cell_type": "code",
   "execution_count": 11,
   "metadata": {},
   "outputs": [
    {
     "name": "stdout",
     "output_type": "stream",
     "text": [
      "['hello']\n"
     ]
    }
   ],
   "source": [
    "del l[1] #it will remove items from position 1 \n",
    "print(l)"
   ]
  },
  {
   "cell_type": "raw",
   "metadata": {},
   "source": [
    "1. buit-in functions of list.\n",
    "a))-->to add items to a list\n",
    "* list.append(item) --> will add item at the end of list.\n",
    "* list.insert(index,item) --> will add item at position index in list.\n",
    "* list.expend(sequence)--> will append each item from sequence at the end of the list.\n",
    "\n",
    "b))--> to delete items from the list.\n",
    "* list.pop()--> will delete last item from the list.\n",
    "* list.pop(index)--> will delete items from the position.\n",
    "* list.remove(item)--> will delete first occurence of item from the list.\n",
    "\n",
    "c))--> some common functions of list.\n",
    "* list.sort()--> will sort all the items inplace in ascending order \n",
    "* list.sort(reverse-true)--> descending order sorting.\n",
    "* list.reverse()--> will reverse the position of all the items [::-1].\n",
    "* list.clear()--> will create empty list.\n",
    "* item_index = list.index(item)--> will return index number of item or we can say will return position   of item from list."
   ]
  },
  {
   "cell_type": "code",
   "execution_count": 12,
   "metadata": {},
   "outputs": [
    {
     "name": "stdout",
     "output_type": "stream",
     "text": [
      "['__add__', '__class__', '__contains__', '__delattr__', '__delitem__', '__dir__', '__doc__', '__eq__', '__format__', '__ge__', '__getattribute__', '__getitem__', '__gt__', '__hash__', '__iadd__', '__imul__', '__init__', '__init_subclass__', '__iter__', '__le__', '__len__', '__lt__', '__mul__', '__ne__', '__new__', '__reduce__', '__reduce_ex__', '__repr__', '__reversed__', '__rmul__', '__setattr__', '__setitem__', '__sizeof__', '__str__', '__subclasshook__', 'append', 'clear', 'copy', 'count', 'extend', 'index', 'insert', 'pop', 'remove', 'reverse', 'sort']\n"
     ]
    }
   ],
   "source": [
    "print(dir(list))"
   ]
  },
  {
   "cell_type": "code",
   "execution_count": 1,
   "metadata": {},
   "outputs": [
    {
     "name": "stdout",
     "output_type": "stream",
     "text": [
      "[1, 2, 4, 5, 6]\n"
     ]
    }
   ],
   "source": [
    "s=[1,2,3,4,5,6]\n",
    "s.remove(3)\n",
    "print(s)"
   ]
  },
  {
   "cell_type": "code",
   "execution_count": null,
   "metadata": {},
   "outputs": [],
   "source": [
    "s= "
   ]
  }
 ],
 "metadata": {
  "kernelspec": {
   "display_name": "Python 3",
   "language": "python",
   "name": "python3"
  },
  "language_info": {
   "codemirror_mode": {
    "name": "ipython",
    "version": 3
   },
   "file_extension": ".py",
   "mimetype": "text/x-python",
   "name": "python",
   "nbconvert_exporter": "python",
   "pygments_lexer": "ipython3",
   "version": "3.6.5"
  }
 },
 "nbformat": 4,
 "nbformat_minor": 2
}
