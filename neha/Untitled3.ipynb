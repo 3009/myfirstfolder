{
 "cells": [
  {
   "cell_type": "code",
   "execution_count": 7,
   "metadata": {},
   "outputs": [
    {
     "name": "stdout",
     "output_type": "stream",
     "text": [
      "enter a number2\n",
      "enter digits1\n",
      "enter digits2\n",
      "4\n"
     ]
    }
   ],
   "source": [
    "n=int(input(\"enter a number\")) #sum of numbers entered\n",
    "for var in range(n):\n",
    "    a=int(input(\"enter digits\"))\n",
    "add=a+a\n",
    "print(add)"
   ]
  },
  {
   "cell_type": "code",
   "execution_count": 18,
   "metadata": {},
   "outputs": [
    {
     "name": "stdout",
     "output_type": "stream",
     "text": [
      "enter a number3\n",
      "enter digits2\n",
      "enter digits3\n",
      "enter digits4\n",
      "9\n"
     ]
    }
   ],
   "source": [
    "n=int(input(\"enter a number\")) #sum of numbers entered\n",
    "add=0\n",
    "for var in range(n):\n",
    "    a=int(input(\"enter digits\"))\n",
    "    add=add+a\n",
    "\n",
    "print(add)\n",
    "    "
   ]
  },
  {
   "cell_type": "code",
   "execution_count": null,
   "metadata": {},
   "outputs": [],
   "source": []
  },
  {
   "cell_type": "code",
   "execution_count": null,
   "metadata": {},
   "outputs": [],
   "source": []
  }
 ],
 "metadata": {
  "kernelspec": {
   "display_name": "Python 3",
   "language": "python",
   "name": "python3"
  },
  "language_info": {
   "codemirror_mode": {
    "name": "ipython",
    "version": 3
   },
   "file_extension": ".py",
   "mimetype": "text/x-python",
   "name": "python",
   "nbconvert_exporter": "python",
   "pygments_lexer": "ipython3",
   "version": "3.6.5"
  }
 },
 "nbformat": 4,
 "nbformat_minor": 2
}
