{
 "cells": [
  {
   "cell_type": "markdown",
   "metadata": {},
   "source": [
    "<h2 style='color:red'>What is a Function ? </h2>\n",
    "\n",
    "<p>A function is block of code or group of statements to perform a specific task. Function are used to make a code a portable or reuseable. <p>"
   ]
  },
  {
   "cell_type": "markdown",
   "metadata": {},
   "source": [
    "<h2 >Function Consists of three things </h2>\n",
    "<ol>\n",
    "<li> Function Defination </li>\n",
    "<li> Function Calling </li>\n",
    "<li> Return Value </li>\n",
    "</ol>"
   ]
  },
  {
   "cell_type": "markdown",
   "metadata": {},
   "source": [
    "<h2>Type of Function </h2>\n",
    "<ol>\n",
    "<li>Built-in Functions</li>\n",
    "<li>User Define functions</li>\n",
    "</ol>"
   ]
  },
  {
   "cell_type": "markdown",
   "metadata": {},
   "source": [
    "<h2>some examples of bulit-in functions </h2>\n",
    "<ol>\n",
    "<li>print -->used to print objects on standard output</li>\n",
    "<li>input -->used to take input from user</li>\n",
    "<li>int, float, complex, list, tuple, str, dict, set, frozenset, bin, oct, hex, chr, ord, eval, bool --> for type conversion</li>\n",
    "<li>enumerate,pow, divmod, zip, sum, sorted, reversed, min, max, len, repr, round, abs --> to process or manipluate data</li>\n",
    "<li>staticmethod,issubclass,super,delattr classmethod, next, setattr, getattr, isinstance, type, iter, callable, hasattr</li>\n",
    "<li>map, filter, format, vars,locals,globals etc. --> other important function</li>"
   ]
  },
  {
   "cell_type": "code",
   "execution_count": 5,
   "metadata": {},
   "outputs": [
    {
     "name": "stdout",
     "output_type": "stream",
     "text": [
      "False\n",
      "True\n"
     ]
    }
   ],
   "source": [
    "one = any([0,'',{},[],]) # any(sequence) --> will True if any of one in sequence is True\n",
    "two = any([0,'',{},1])\n",
    "print(one)\n",
    "print(two)"
   ]
  },
  {
   "cell_type": "code",
   "execution_count": 7,
   "metadata": {},
   "outputs": [
    {
     "name": "stdout",
     "output_type": "stream",
     "text": [
      "False\n",
      "True\n"
     ]
    }
   ],
   "source": [
    "#all(sequence) --> return True if all items in seq is True\n",
    "one = all([ {},1,'hi',[1,2,3]])\n",
    "two = all([ 1,1.2,1+3j,'hi',[1,2],(2,'hi'),{'one':'two'}])\n",
    "print(one)\n",
    "print(two)"
   ]
  },
  {
   "cell_type": "code",
   "execution_count": 9,
   "metadata": {},
   "outputs": [
    {
     "name": "stdout",
     "output_type": "stream",
     "text": [
      "(0, 'h') (1, 'e') (2, 'l') (3, 'l') (4, 'o')\n",
      "(0, 'hi') (1, 'hello') (2, 'how') (3, 'are') (4, 'you')\n",
      "(0, 'one') (1, 'two') (2, 'three')\n"
     ]
    }
   ],
   "source": [
    "#enumerate(seq) function --> will return seq with index values\n",
    "one = enumerate('hello')\n",
    "two = enumerate(['hi','hello','how','are','you'])\n",
    "three = enumerate({'one':1,'two':2,'three':3})\n",
    "print(*one)\n",
    "print(*two)\n",
    "print(*three)"
   ]
  },
  {
   "cell_type": "code",
   "execution_count": 11,
   "metadata": {},
   "outputs": [
    {
     "name": "stdout",
     "output_type": "stream",
     "text": [
      "3.142857142857143\n",
      "3.142857142857143\n"
     ]
    }
   ],
   "source": [
    "#abs() --> will return absolute value \n",
    "pi = 22/7\n",
    "print(pi)\n",
    "x = abs(pi)\n",
    "print(x)"
   ]
  },
  {
   "cell_type": "code",
   "execution_count": 15,
   "metadata": {},
   "outputs": [
    {
     "name": "stdout",
     "output_type": "stream",
     "text": [
      "3.142857142857143\n",
      "3\n",
      "4\n"
     ]
    }
   ],
   "source": [
    "#round() --> round will roundup the float value\n",
    "pi = 22/7\n",
    "print(pi)\n",
    "r = round(pi)\n",
    "print(r)\n",
    "x = round(3.5)\n",
    "print(x)"
   ]
  },
  {
   "cell_type": "code",
   "execution_count": 22,
   "metadata": {},
   "outputs": [
    {
     "name": "stdout",
     "output_type": "stream",
     "text": [
      "['__doc__', '__loader__', '__name__', '__package__', '__spec__', 'acos', 'acosh', 'asin', 'asinh', 'atan', 'atan2', 'atanh', 'ceil', 'copysign', 'cos', 'cosh', 'degrees', 'e', 'erf', 'erfc', 'exp', 'expm1', 'fabs', 'factorial', 'floor', 'fmod', 'frexp', 'fsum', 'gamma', 'gcd', 'hypot', 'inf', 'isclose', 'isfinite', 'isinf', 'isnan', 'ldexp', 'lgamma', 'log', 'log10', 'log1p', 'log2', 'modf', 'nan', 'pi', 'pow', 'radians', 'remainder', 'sin', 'sinh', 'sqrt', 'tan', 'tanh', 'tau', 'trunc']\n",
      "squreroot of 127 is 11.27\n",
      "4\n",
      "3\n"
     ]
    }
   ],
   "source": [
    "#these are not builtin function these part of math module\n",
    "import math\n",
    "print(dir(math))\n",
    "sq = math.sqrt(127)\n",
    "print(f'squreroot of 127 is {sq:.2f}')\n",
    "x = math.ceil(3.6)\n",
    "y = math.floor(3.6)\n",
    "print(x)\n",
    "print(y)"
   ]
  },
  {
   "cell_type": "code",
   "execution_count": 27,
   "metadata": {},
   "outputs": [
    {
     "name": "stdout",
     "output_type": "stream",
     "text": [
      "'hello world'\n",
      "'\\u03c0'\n"
     ]
    }
   ],
   "source": [
    "#ascii will change utf-8 values to ascii\n",
    "data = ascii('hello world')\n",
    "print(data)\n",
    "d = ascii('π')\n",
    "print(d)"
   ]
  },
  {
   "cell_type": "code",
   "execution_count": 29,
   "metadata": {},
   "outputs": [
    {
     "name": "stdout",
     "output_type": "stream",
     "text": [
      "Help on built-in function breakpoint in module builtins:\n",
      "\n",
      "breakpoint(...)\n",
      "    breakpoint(*args, **kws)\n",
      "    \n",
      "    Call sys.breakpointhook(*args, **kws).  sys.breakpointhook() must accept\n",
      "    whatever arguments are passed.\n",
      "    \n",
      "    By default, this drops you into the pdb debugger.\n",
      "\n"
     ]
    }
   ],
   "source": [
    "#breakpoint() --> used to debug a code --> pdb (pythond dubug)\n",
    "help(breakpoint)"
   ]
  },
  {
   "cell_type": "code",
   "execution_count": 35,
   "metadata": {},
   "outputs": [
    {
     "name": "stdout",
     "output_type": "stream",
     "text": [
      "b'Hello World'\n",
      "b'\\xff\\xfeH\\x00e\\x00l\\x00l\\x00o\\x00 \\x00W\\x00o\\x00r\\x00l\\x00d\\x00'\n",
      "b'\\xff\\xfe\\x00\\x00H\\x00\\x00\\x00e\\x00\\x00\\x00l\\x00\\x00\\x00l\\x00\\x00\\x00o\\x00\\x00\\x00 \\x00\\x00\\x00W\\x00\\x00\\x00o\\x00\\x00\\x00r\\x00\\x00\\x00l\\x00\\x00\\x00d\\x00\\x00\\x00'\n",
      "b'Hello World'\n",
      "b'Hello World'\n"
     ]
    }
   ],
   "source": [
    "#bytes --> will change string encoding\n",
    "data = 'Hello World'\n",
    "var1 = bytes(data,encoding='utf-8')\n",
    "var2 = bytes(data,encoding='utf-16')\n",
    "var3 = bytes(data,encoding='utf-32')\n",
    "var4 = bytes(data,encoding='ascii')\n",
    "var5 = bytes(data,encoding='ansi')\n",
    "print(var1)\n",
    "print(var2)\n",
    "print(var3)\n",
    "print(var4)\n",
    "print(var5)"
   ]
  },
  {
   "cell_type": "code",
   "execution_count": 40,
   "metadata": {},
   "outputs": [
    {
     "name": "stdout",
     "output_type": "stream",
     "text": [
      "bytearray(b'\\xff\\xfeh\\x00e\\x00l\\x00l\\x00o\\x00w\\x00o\\x00r\\x00l\\x00d\\x00')\n"
     ]
    }
   ],
   "source": [
    "#help(bytearray)\n",
    "x = bytearray('helloworld',encoding='utf-16')\n",
    "print(x)\n"
   ]
  },
  {
   "cell_type": "code",
   "execution_count": 46,
   "metadata": {},
   "outputs": [
    {
     "name": "stdout",
     "output_type": "stream",
     "text": [
      "False\n",
      "True\n",
      "True\n"
     ]
    }
   ],
   "source": [
    "hello = 'sachin' #callable return true if you can call a function or not\n",
    "print(callable(hello))\n",
    "print(callable(print))\n",
    "print(callable(input))"
   ]
  },
  {
   "cell_type": "code",
   "execution_count": 51,
   "metadata": {},
   "outputs": [
    {
     "name": "stdout",
     "output_type": "stream",
     "text": [
      "ϰ\n",
      "ජ\n",
      "A\n"
     ]
    }
   ],
   "source": [
    "#chr(int) --> will return utf-8 char for given int value\n",
    "print(chr(1008))\n",
    "print(chr(3490))\n",
    "print(chr(65))"
   ]
  },
  {
   "cell_type": "code",
   "execution_count": 54,
   "metadata": {},
   "outputs": [
    {
     "name": "stdout",
     "output_type": "stream",
     "text": [
      "966\n",
      "φ\n"
     ]
    }
   ],
   "source": [
    "#ord(char) --> wil return an int value for utf-8 charcter\n",
    "print(ord('φ'))\n",
    "print(chr(966))"
   ]
  },
  {
   "cell_type": "code",
   "execution_count": 56,
   "metadata": {},
   "outputs": [
    {
     "ename": "TypeError",
     "evalue": "compile() missing required argument 'mode' (pos 3)",
     "output_type": "error",
     "traceback": [
      "\u001b[1;31m---------------------------------------------------------------------------\u001b[0m",
      "\u001b[1;31mTypeError\u001b[0m                                 Traceback (most recent call last)",
      "\u001b[1;32m<ipython-input-56-6193a593adf3>\u001b[0m in \u001b[0;36m<module>\u001b[1;34m()\u001b[0m\n\u001b[1;32m----> 1\u001b[1;33m \u001b[0mcompile\u001b[0m\u001b[1;33m(\u001b[0m\u001b[1;34m'print(\"Hello World\")'\u001b[0m\u001b[1;33m,\u001b[0m\u001b[1;34m'one'\u001b[0m\u001b[1;33m)\u001b[0m\u001b[1;33m\u001b[0m\u001b[0m\n\u001b[0m",
      "\u001b[1;31mTypeError\u001b[0m: compile() missing required argument 'mode' (pos 3)"
     ]
    }
   ],
   "source": []
  },
  {
   "cell_type": "code",
   "execution_count": 57,
   "metadata": {},
   "outputs": [
    {
     "name": "stdout",
     "output_type": "stream",
     "text": [
      "Help on built-in function compile in module builtins:\n",
      "\n",
      "compile(source, filename, mode, flags=0, dont_inherit=False, optimize=-1)\n",
      "    Compile source into a code object that can be executed by exec() or eval().\n",
      "    \n",
      "    The source code may represent a Python module, statement or expression.\n",
      "    The filename will be used for run-time error messages.\n",
      "    The mode must be 'exec' to compile a module, 'single' to compile a\n",
      "    single (interactive) statement, or 'eval' to compile an expression.\n",
      "    The flags argument, if present, controls which future statements influence\n",
      "    the compilation of the code.\n",
      "    The dont_inherit argument, if true, stops the compilation inheriting\n",
      "    the effects of any future statements in effect in the code calling\n",
      "    compile; if absent or false these statements do influence the compilation,\n",
      "    in addition to any features explicitly specified.\n",
      "\n",
      "None\n"
     ]
    }
   ],
   "source": []
  },
  {
   "cell_type": "code",
   "execution_count": 60,
   "metadata": {},
   "outputs": [
    {
     "name": "stdout",
     "output_type": "stream",
     "text": [
      "{'__name__': '__main__', '__doc__': 'Automatically created module for IPython interactive environment', '__package__': None, '__loader__': None, '__spec__': None, '__builtin__': <module 'builtins' (built-in)>, '__builtins__': <module 'builtins' (built-in)>, '_ih': ['', '<h2>Type of Function </h2>\\n<ol>\\n<li>Built-in Functions</li>\\n<li>User Define functions</li>\\n</ol>', '<h2>Type of Function </h2>m\\n<ol>\\n<li>Built-in Functions</li>\\n<li>User Define functions</li>\\n</ol>', \"any([0,','{}',[]',]) # any(sequence) --> will True if any of one in sequence is True\", \"any([0,'',{},[],]) # any(sequence) --> will True if any of one in sequence is True\", \"one = any([0,'',{},[],]) # any(sequence) --> will True if any of one in sequence is True\\ntwo = any([0,'',{},1])\\nprint(one)\\nprint(two)\", \"#all(sequence) --> return True if all items in seq is True\\none = [ {},1,'hi',[1,2,3]]\\ntwo = [ 1,1.2,1+3j,'hi',[1,2],(2,'hi'),{'one':'two'}]\\nprint(one)\\nprint(two)\", \"#all(sequence) --> return True if all items in seq is True\\none = all([ {},1,'hi',[1,2,3]])\\ntwo = all([ 1,1.2,1+3j,'hi',[1,2],(2,'hi'),{'one':'two'}])\\nprint(one)\\nprint(two)\", \"#enumerate(seq) function --> will return seq with index values\\none = enumerate('hello')\\ntwo = enumerate(['hi','hello','how','are','you'])\\nthree = enumerate({'one':1,'two':2,'three':3})\\nprint(one)\\nprint(two)\\nprint(three)\", \"#enumerate(seq) function --> will return seq with index values\\none = enumerate('hello')\\ntwo = enumerate(['hi','hello','how','are','you'])\\nthree = enumerate({'one':1,'two':2,'three':3})\\nprint(*one)\\nprint(*two)\\nprint(*three)\", '#abs() --> will return absolute value \\npi = 22/7\\nprint(pi)\\nprint(abs(pi))', '#abs() --> will return absolute value \\npi = 22/7\\nprint(pi)\\nx = abs(pi)\\nprint(x)', '#round() --> round will roundup the float value\\npi = 22/7\\nprint(pi)\\nr = round(pi)\\nprint(r)', '#round() --> round will roundup the float value\\npi = 22/7\\nprint(pi)\\nr = round(pi)\\nprint(r)\\nround(3.6)', '#round() --> round will roundup the float value\\npi = 22/7\\nprint(pi)\\nr = round(pi)\\nprint(r)\\nx = round(3.6)\\nprint(x)', '#round() --> round will roundup the float value\\npi = 22/7\\nprint(pi)\\nr = round(pi)\\nprint(r)\\nx = round(3.5)\\nprint(x)', '#these are not builtin function these part of math module\\nimport math\\nprint(dir(math))', \"#these are not builtin function these part of math module\\nimport math\\nprint(dir(math))\\nprint('squreroot of 127 is ',math.sqrt(127))\\nx = math.celi(3.6)\\ny = math.floor(3.6)\\nprint(x)\\nprint(y)\", \"#these are not builtin function these part of math module\\nimport math\\nprint(dir(math))\\nprint('squreroot of 127 is ',math.sqrt(127))\\nx = math.cei(l3.6)\\ny = math.floor(3.6)\\nprint(x)\\nprint(y)\", \"#these are not builtin function these part of math module\\nimport math\\nprint(dir(math))\\nprint('squreroot of 127 is ',math.sqrt(127))\\nx = math.ceil(3.6)\\ny = math.floor(3.6)\\nprint(x)\\nprint(y)\", \"#these are not builtin function these part of math module\\nimport math\\nprint(dir(math))\\nsq = math.sqrt(127)\\nprint(f'squreroot of 127 is {sq}')\\nx = math.ceil(3.6)\\ny = math.floor(3.6)\\nprint(x)\\nprint(y)\", \"#these are not builtin function these part of math module\\nimport math\\nprint(dir(math))\\nsq = math.sqrt(127)\\nprint(f'squreroot of 127 is {sq:.3f}')\\nx = math.ceil(3.6)\\ny = math.floor(3.6)\\nprint(x)\\nprint(y)\", \"#these are not builtin function these part of math module\\nimport math\\nprint(dir(math))\\nsq = math.sqrt(127)\\nprint(f'squreroot of 127 is {sq:.2f}')\\nx = math.ceil(3.6)\\ny = math.floor(3.6)\\nprint(x)\\nprint(y)\", \"ascii('hello world')\", \"#ascii will change utf-8 values to ascii\\ndata = ascii('hello world')\", \"#ascii will change utf-8 values to ascii\\ndata = ascii('hello world')\\ndata\", \"#ascii will change utf-8 values to ascii\\ndata = ascii('hello world')\\ndata\\nd = ascii('π')\\nprint(d)\", \"#ascii will change utf-8 values to ascii\\ndata = ascii('hello world')\\nprint(data)\\nd = ascii('π')\\nprint(d)\", 'help(breakpoint)', '#breakpoint() --> used to debug a code --> pdb (pythond dubug)\\nhelp(breakpoint)', \"bytes('hello world')\", \"bytes('hello world',encoding='utf-8')\", \"bytes('hello world',encoding='utf-16')\", \"bytes('hello world',encoding='utf-32')\", \"data = 'Hello World'\\nvar1 = bytes(data,encoding='utf-8')\\nvar2 = bytes(data,encoding='utf-16')\\nvar3 = bytes(data,encoding='utf-32')\\nvar4 = bytes(data,encoding='ascii')\\nvar5 = bytes(data,encoding='ansi')\\nvar6 = bytes(data,encoding='utf-64')\\nprint(var1)\\nprint(var2)\\nprint(var3)\\nprint(var4)\\nprint(var5)\\nprint(var6)\", \"#bytes --> will change string encoding\\ndata = 'Hello World'\\nvar1 = bytes(data,encoding='utf-8')\\nvar2 = bytes(data,encoding='utf-16')\\nvar3 = bytes(data,encoding='utf-32')\\nvar4 = bytes(data,encoding='ascii')\\nvar5 = bytes(data,encoding='ansi')\\nprint(var1)\\nprint(var2)\\nprint(var3)\\nprint(var4)\\nprint(var5)\", 'help(bytearray)', \"#help(bytearray)\\nbytearray('helloworld')\", \"#help(bytearray)\\nbytearray('helloworld',encoding='utf-16')\", \"#help(bytearray)\\nx = bytearray('helloworld',encoding='utf-16')\\nprint(x)\\nprint(dir(x))\", \"#help(bytearray)\\nx = bytearray('helloworld',encoding='utf-16')\\nprint(x)\", 'hello.callable', \"hello = 'sachin'\\nhello.callable\", \"hello = 'sachin'\\ncallable(hello)\", 'callable(print)', \"hello = 'sachin'\\nprint(callable(hello))\\nprint(callable(print))\\nprint(callable(if))\", \"hello = 'sachin'\\nprint(callable(hello))\\nprint(callable(print))\\nprint(callable(input))\", '#chr(int) --> will return utf-8 char for given int value\\nprint(chr(1008))\\nprint(chr(3396))\\nprint(chr(65))', '#chr(int) --> will return utf-8 char for given int value\\nprint(chr(1008))\\nprint(chr(3390))\\nprint(chr(65))', '#chr(int) --> will return utf-8 char for given int value\\nprint(chr(1008))\\nprint(chr(3290))\\nprint(chr(65))', '#chr(int) --> will return utf-8 char for given int value\\nprint(chr(1008))\\nprint(chr(3190))\\nprint(chr(65))', '#chr(int) --> will return utf-8 char for given int value\\nprint(chr(1008))\\nprint(chr(3490))\\nprint(chr(65))', \"#ord(char) --> wil return an int value for utf-8 charcter\\n\\nprint(ord('φ'))\", \"#ord(char) --> wil return an int value for utf-8 charcter\\n\\nprint(ord('φ'))\\nprint(chr(966))\", \"#ord(char) --> wil return an int value for utf-8 charcter\\nprint(ord('φ'))\\nprint(chr(966))\", 'compile(\\'print(\"Hello World\")\\')', 'compile(\\'print(\"Hello World\")\\',\\'one\\')', 'print(help(compile))', '#global -->  will print global variables\\nglobals', '#global -->  will print global variables\\nglobals()', '#global -->  will print global variables\\nprint(globals())'], '_oh': {4: False, 13: 4, 23: \"'hello world'\", 25: \"'hello world'\", 31: b'hello world', 32: b'\\xff\\xfeh\\x00e\\x00l\\x00l\\x00o\\x00 \\x00w\\x00o\\x00r\\x00l\\x00d\\x00', 33: b'\\xff\\xfe\\x00\\x00h\\x00\\x00\\x00e\\x00\\x00\\x00l\\x00\\x00\\x00l\\x00\\x00\\x00o\\x00\\x00\\x00 \\x00\\x00\\x00w\\x00\\x00\\x00o\\x00\\x00\\x00r\\x00\\x00\\x00l\\x00\\x00\\x00d\\x00\\x00\\x00', 38: bytearray(b'\\xff\\xfeh\\x00e\\x00l\\x00l\\x00o\\x00w\\x00o\\x00r\\x00l\\x00d\\x00'), 43: False, 44: True, 58: <built-in function globals>, 59: {...}}, '_dh': ['C:\\\\batch10'], 'In': ['', '<h2>Type of Function </h2>\\n<ol>\\n<li>Built-in Functions</li>\\n<li>User Define functions</li>\\n</ol>', '<h2>Type of Function </h2>m\\n<ol>\\n<li>Built-in Functions</li>\\n<li>User Define functions</li>\\n</ol>', \"any([0,','{}',[]',]) # any(sequence) --> will True if any of one in sequence is True\", \"any([0,'',{},[],]) # any(sequence) --> will True if any of one in sequence is True\", \"one = any([0,'',{},[],]) # any(sequence) --> will True if any of one in sequence is True\\ntwo = any([0,'',{},1])\\nprint(one)\\nprint(two)\", \"#all(sequence) --> return True if all items in seq is True\\none = [ {},1,'hi',[1,2,3]]\\ntwo = [ 1,1.2,1+3j,'hi',[1,2],(2,'hi'),{'one':'two'}]\\nprint(one)\\nprint(two)\", \"#all(sequence) --> return True if all items in seq is True\\none = all([ {},1,'hi',[1,2,3]])\\ntwo = all([ 1,1.2,1+3j,'hi',[1,2],(2,'hi'),{'one':'two'}])\\nprint(one)\\nprint(two)\", \"#enumerate(seq) function --> will return seq with index values\\none = enumerate('hello')\\ntwo = enumerate(['hi','hello','how','are','you'])\\nthree = enumerate({'one':1,'two':2,'three':3})\\nprint(one)\\nprint(two)\\nprint(three)\", \"#enumerate(seq) function --> will return seq with index values\\none = enumerate('hello')\\ntwo = enumerate(['hi','hello','how','are','you'])\\nthree = enumerate({'one':1,'two':2,'three':3})\\nprint(*one)\\nprint(*two)\\nprint(*three)\", '#abs() --> will return absolute value \\npi = 22/7\\nprint(pi)\\nprint(abs(pi))', '#abs() --> will return absolute value \\npi = 22/7\\nprint(pi)\\nx = abs(pi)\\nprint(x)', '#round() --> round will roundup the float value\\npi = 22/7\\nprint(pi)\\nr = round(pi)\\nprint(r)', '#round() --> round will roundup the float value\\npi = 22/7\\nprint(pi)\\nr = round(pi)\\nprint(r)\\nround(3.6)', '#round() --> round will roundup the float value\\npi = 22/7\\nprint(pi)\\nr = round(pi)\\nprint(r)\\nx = round(3.6)\\nprint(x)', '#round() --> round will roundup the float value\\npi = 22/7\\nprint(pi)\\nr = round(pi)\\nprint(r)\\nx = round(3.5)\\nprint(x)', '#these are not builtin function these part of math module\\nimport math\\nprint(dir(math))', \"#these are not builtin function these part of math module\\nimport math\\nprint(dir(math))\\nprint('squreroot of 127 is ',math.sqrt(127))\\nx = math.celi(3.6)\\ny = math.floor(3.6)\\nprint(x)\\nprint(y)\", \"#these are not builtin function these part of math module\\nimport math\\nprint(dir(math))\\nprint('squreroot of 127 is ',math.sqrt(127))\\nx = math.cei(l3.6)\\ny = math.floor(3.6)\\nprint(x)\\nprint(y)\", \"#these are not builtin function these part of math module\\nimport math\\nprint(dir(math))\\nprint('squreroot of 127 is ',math.sqrt(127))\\nx = math.ceil(3.6)\\ny = math.floor(3.6)\\nprint(x)\\nprint(y)\", \"#these are not builtin function these part of math module\\nimport math\\nprint(dir(math))\\nsq = math.sqrt(127)\\nprint(f'squreroot of 127 is {sq}')\\nx = math.ceil(3.6)\\ny = math.floor(3.6)\\nprint(x)\\nprint(y)\", \"#these are not builtin function these part of math module\\nimport math\\nprint(dir(math))\\nsq = math.sqrt(127)\\nprint(f'squreroot of 127 is {sq:.3f}')\\nx = math.ceil(3.6)\\ny = math.floor(3.6)\\nprint(x)\\nprint(y)\", \"#these are not builtin function these part of math module\\nimport math\\nprint(dir(math))\\nsq = math.sqrt(127)\\nprint(f'squreroot of 127 is {sq:.2f}')\\nx = math.ceil(3.6)\\ny = math.floor(3.6)\\nprint(x)\\nprint(y)\", \"ascii('hello world')\", \"#ascii will change utf-8 values to ascii\\ndata = ascii('hello world')\", \"#ascii will change utf-8 values to ascii\\ndata = ascii('hello world')\\ndata\", \"#ascii will change utf-8 values to ascii\\ndata = ascii('hello world')\\ndata\\nd = ascii('π')\\nprint(d)\", \"#ascii will change utf-8 values to ascii\\ndata = ascii('hello world')\\nprint(data)\\nd = ascii('π')\\nprint(d)\", 'help(breakpoint)', '#breakpoint() --> used to debug a code --> pdb (pythond dubug)\\nhelp(breakpoint)', \"bytes('hello world')\", \"bytes('hello world',encoding='utf-8')\", \"bytes('hello world',encoding='utf-16')\", \"bytes('hello world',encoding='utf-32')\", \"data = 'Hello World'\\nvar1 = bytes(data,encoding='utf-8')\\nvar2 = bytes(data,encoding='utf-16')\\nvar3 = bytes(data,encoding='utf-32')\\nvar4 = bytes(data,encoding='ascii')\\nvar5 = bytes(data,encoding='ansi')\\nvar6 = bytes(data,encoding='utf-64')\\nprint(var1)\\nprint(var2)\\nprint(var3)\\nprint(var4)\\nprint(var5)\\nprint(var6)\", \"#bytes --> will change string encoding\\ndata = 'Hello World'\\nvar1 = bytes(data,encoding='utf-8')\\nvar2 = bytes(data,encoding='utf-16')\\nvar3 = bytes(data,encoding='utf-32')\\nvar4 = bytes(data,encoding='ascii')\\nvar5 = bytes(data,encoding='ansi')\\nprint(var1)\\nprint(var2)\\nprint(var3)\\nprint(var4)\\nprint(var5)\", 'help(bytearray)', \"#help(bytearray)\\nbytearray('helloworld')\", \"#help(bytearray)\\nbytearray('helloworld',encoding='utf-16')\", \"#help(bytearray)\\nx = bytearray('helloworld',encoding='utf-16')\\nprint(x)\\nprint(dir(x))\", \"#help(bytearray)\\nx = bytearray('helloworld',encoding='utf-16')\\nprint(x)\", 'hello.callable', \"hello = 'sachin'\\nhello.callable\", \"hello = 'sachin'\\ncallable(hello)\", 'callable(print)', \"hello = 'sachin'\\nprint(callable(hello))\\nprint(callable(print))\\nprint(callable(if))\", \"hello = 'sachin'\\nprint(callable(hello))\\nprint(callable(print))\\nprint(callable(input))\", '#chr(int) --> will return utf-8 char for given int value\\nprint(chr(1008))\\nprint(chr(3396))\\nprint(chr(65))', '#chr(int) --> will return utf-8 char for given int value\\nprint(chr(1008))\\nprint(chr(3390))\\nprint(chr(65))', '#chr(int) --> will return utf-8 char for given int value\\nprint(chr(1008))\\nprint(chr(3290))\\nprint(chr(65))', '#chr(int) --> will return utf-8 char for given int value\\nprint(chr(1008))\\nprint(chr(3190))\\nprint(chr(65))', '#chr(int) --> will return utf-8 char for given int value\\nprint(chr(1008))\\nprint(chr(3490))\\nprint(chr(65))', \"#ord(char) --> wil return an int value for utf-8 charcter\\n\\nprint(ord('φ'))\", \"#ord(char) --> wil return an int value for utf-8 charcter\\n\\nprint(ord('φ'))\\nprint(chr(966))\", \"#ord(char) --> wil return an int value for utf-8 charcter\\nprint(ord('φ'))\\nprint(chr(966))\", 'compile(\\'print(\"Hello World\")\\')', 'compile(\\'print(\"Hello World\")\\',\\'one\\')', 'print(help(compile))', '#global -->  will print global variables\\nglobals', '#global -->  will print global variables\\nglobals()', '#global -->  will print global variables\\nprint(globals())'], 'Out': {4: False, 13: 4, 23: \"'hello world'\", 25: \"'hello world'\", 31: b'hello world', 32: b'\\xff\\xfeh\\x00e\\x00l\\x00l\\x00o\\x00 \\x00w\\x00o\\x00r\\x00l\\x00d\\x00', 33: b'\\xff\\xfe\\x00\\x00h\\x00\\x00\\x00e\\x00\\x00\\x00l\\x00\\x00\\x00l\\x00\\x00\\x00o\\x00\\x00\\x00 \\x00\\x00\\x00w\\x00\\x00\\x00o\\x00\\x00\\x00r\\x00\\x00\\x00l\\x00\\x00\\x00d\\x00\\x00\\x00', 38: bytearray(b'\\xff\\xfeh\\x00e\\x00l\\x00l\\x00o\\x00w\\x00o\\x00r\\x00l\\x00d\\x00'), 43: False, 44: True, 58: <built-in function globals>, 59: {...}}, 'get_ipython': <bound method InteractiveShell.get_ipython of <ipykernel.zmqshell.ZMQInteractiveShell object at 0x0000016665589A90>>, 'exit': <IPython.core.autocall.ZMQExitAutocall object at 0x000001666719BB00>, 'quit': <IPython.core.autocall.ZMQExitAutocall object at 0x000001666719BB00>, '_': {...}, '__': <built-in function globals>, '___': True, '_i': '#global -->  will print global variables\\nglobals()', '_ii': '#global -->  will print global variables\\nglobals', '_iii': 'print(help(compile))', '_i1': '<h2>Type of Function </h2>\\n<ol>\\n<li>Built-in Functions</li>\\n<li>User Define functions</li>\\n</ol>', '_i2': '<h2>Type of Function </h2>m\\n<ol>\\n<li>Built-in Functions</li>\\n<li>User Define functions</li>\\n</ol>', '_i3': \"any([0,','{}',[]',]) # any(sequence) --> will True if any of one in sequence is True\", '_i4': \"any([0,'',{},[],]) # any(sequence) --> will True if any of one in sequence is True\", '_4': False, '_i5': \"one = any([0,'',{},[],]) # any(sequence) --> will True if any of one in sequence is True\\ntwo = any([0,'',{},1])\\nprint(one)\\nprint(two)\", 'one': <enumerate object at 0x000001666719C630>, 'two': <enumerate object at 0x000001666729DCA8>, '_i6': \"#all(sequence) --> return True if all items in seq is True\\none = [ {},1,'hi',[1,2,3]]\\ntwo = [ 1,1.2,1+3j,'hi',[1,2],(2,'hi'),{'one':'two'}]\\nprint(one)\\nprint(two)\", '_i7': \"#all(sequence) --> return True if all items in seq is True\\none = all([ {},1,'hi',[1,2,3]])\\ntwo = all([ 1,1.2,1+3j,'hi',[1,2],(2,'hi'),{'one':'two'}])\\nprint(one)\\nprint(two)\", '_i8': \"#enumerate(seq) function --> will return seq with index values\\none = enumerate('hello')\\ntwo = enumerate(['hi','hello','how','are','you'])\\nthree = enumerate({'one':1,'two':2,'three':3})\\nprint(one)\\nprint(two)\\nprint(three)\", 'three': <enumerate object at 0x00000166672D2E10>, '_i9': \"#enumerate(seq) function --> will return seq with index values\\none = enumerate('hello')\\ntwo = enumerate(['hi','hello','how','are','you'])\\nthree = enumerate({'one':1,'two':2,'three':3})\\nprint(*one)\\nprint(*two)\\nprint(*three)\", '_i10': '#abs() --> will return absolute value \\npi = 22/7\\nprint(pi)\\nprint(abs(pi))', 'pi': 3.142857142857143, '_i11': '#abs() --> will return absolute value \\npi = 22/7\\nprint(pi)\\nx = abs(pi)\\nprint(x)', 'x': bytearray(b'\\xff\\xfeh\\x00e\\x00l\\x00l\\x00o\\x00w\\x00o\\x00r\\x00l\\x00d\\x00'), '_i12': '#round() --> round will roundup the float value\\npi = 22/7\\nprint(pi)\\nr = round(pi)\\nprint(r)', 'r': 3, '_i13': '#round() --> round will roundup the float value\\npi = 22/7\\nprint(pi)\\nr = round(pi)\\nprint(r)\\nround(3.6)', '_13': 4, '_i14': '#round() --> round will roundup the float value\\npi = 22/7\\nprint(pi)\\nr = round(pi)\\nprint(r)\\nx = round(3.6)\\nprint(x)', '_i15': '#round() --> round will roundup the float value\\npi = 22/7\\nprint(pi)\\nr = round(pi)\\nprint(r)\\nx = round(3.5)\\nprint(x)', '_i16': '#these are not builtin function these part of math module\\nimport math\\nprint(dir(math))', 'math': <module 'math' (built-in)>, '_i17': \"#these are not builtin function these part of math module\\nimport math\\nprint(dir(math))\\nprint('squreroot of 127 is ',math.sqrt(127))\\nx = math.celi(3.6)\\ny = math.floor(3.6)\\nprint(x)\\nprint(y)\", '_i18': \"#these are not builtin function these part of math module\\nimport math\\nprint(dir(math))\\nprint('squreroot of 127 is ',math.sqrt(127))\\nx = math.cei(l3.6)\\ny = math.floor(3.6)\\nprint(x)\\nprint(y)\", '_i19': \"#these are not builtin function these part of math module\\nimport math\\nprint(dir(math))\\nprint('squreroot of 127 is ',math.sqrt(127))\\nx = math.ceil(3.6)\\ny = math.floor(3.6)\\nprint(x)\\nprint(y)\", 'y': 3, '_i20': \"#these are not builtin function these part of math module\\nimport math\\nprint(dir(math))\\nsq = math.sqrt(127)\\nprint(f'squreroot of 127 is {sq}')\\nx = math.ceil(3.6)\\ny = math.floor(3.6)\\nprint(x)\\nprint(y)\", 'sq': 11.269427669584644, '_i21': \"#these are not builtin function these part of math module\\nimport math\\nprint(dir(math))\\nsq = math.sqrt(127)\\nprint(f'squreroot of 127 is {sq:.3f}')\\nx = math.ceil(3.6)\\ny = math.floor(3.6)\\nprint(x)\\nprint(y)\", '_i22': \"#these are not builtin function these part of math module\\nimport math\\nprint(dir(math))\\nsq = math.sqrt(127)\\nprint(f'squreroot of 127 is {sq:.2f}')\\nx = math.ceil(3.6)\\ny = math.floor(3.6)\\nprint(x)\\nprint(y)\", '_i23': \"ascii('hello world')\", '_23': \"'hello world'\", '_i24': \"#ascii will change utf-8 values to ascii\\ndata = ascii('hello world')\", 'data': 'Hello World', '_i25': \"#ascii will change utf-8 values to ascii\\ndata = ascii('hello world')\\ndata\", '_25': \"'hello world'\", '_i26': \"#ascii will change utf-8 values to ascii\\ndata = ascii('hello world')\\ndata\\nd = ascii('π')\\nprint(d)\", 'd': \"'\\\\u03c0'\", '_i27': \"#ascii will change utf-8 values to ascii\\ndata = ascii('hello world')\\nprint(data)\\nd = ascii('π')\\nprint(d)\", '_i28': 'help(breakpoint)', '_i29': '#breakpoint() --> used to debug a code --> pdb (pythond dubug)\\nhelp(breakpoint)', '_i30': \"bytes('hello world')\", '_i31': \"bytes('hello world',encoding='utf-8')\", '_31': b'hello world', '_i32': \"bytes('hello world',encoding='utf-16')\", '_32': b'\\xff\\xfeh\\x00e\\x00l\\x00l\\x00o\\x00 \\x00w\\x00o\\x00r\\x00l\\x00d\\x00', '_i33': \"bytes('hello world',encoding='utf-32')\", '_33': b'\\xff\\xfe\\x00\\x00h\\x00\\x00\\x00e\\x00\\x00\\x00l\\x00\\x00\\x00l\\x00\\x00\\x00o\\x00\\x00\\x00 \\x00\\x00\\x00w\\x00\\x00\\x00o\\x00\\x00\\x00r\\x00\\x00\\x00l\\x00\\x00\\x00d\\x00\\x00\\x00', '_i34': \"data = 'Hello World'\\nvar1 = bytes(data,encoding='utf-8')\\nvar2 = bytes(data,encoding='utf-16')\\nvar3 = bytes(data,encoding='utf-32')\\nvar4 = bytes(data,encoding='ascii')\\nvar5 = bytes(data,encoding='ansi')\\nvar6 = bytes(data,encoding='utf-64')\\nprint(var1)\\nprint(var2)\\nprint(var3)\\nprint(var4)\\nprint(var5)\\nprint(var6)\", 'var1': b'Hello World', 'var2': b'\\xff\\xfeH\\x00e\\x00l\\x00l\\x00o\\x00 \\x00W\\x00o\\x00r\\x00l\\x00d\\x00', 'var3': b'\\xff\\xfe\\x00\\x00H\\x00\\x00\\x00e\\x00\\x00\\x00l\\x00\\x00\\x00l\\x00\\x00\\x00o\\x00\\x00\\x00 \\x00\\x00\\x00W\\x00\\x00\\x00o\\x00\\x00\\x00r\\x00\\x00\\x00l\\x00\\x00\\x00d\\x00\\x00\\x00', 'var4': b'Hello World', 'var5': b'Hello World', '_i35': \"#bytes --> will change string encoding\\ndata = 'Hello World'\\nvar1 = bytes(data,encoding='utf-8')\\nvar2 = bytes(data,encoding='utf-16')\\nvar3 = bytes(data,encoding='utf-32')\\nvar4 = bytes(data,encoding='ascii')\\nvar5 = bytes(data,encoding='ansi')\\nprint(var1)\\nprint(var2)\\nprint(var3)\\nprint(var4)\\nprint(var5)\", '_i36': 'help(bytearray)', '_i37': \"#help(bytearray)\\nbytearray('helloworld')\", '_i38': \"#help(bytearray)\\nbytearray('helloworld',encoding='utf-16')\", '_38': bytearray(b'\\xff\\xfeh\\x00e\\x00l\\x00l\\x00o\\x00w\\x00o\\x00r\\x00l\\x00d\\x00'), '_i39': \"#help(bytearray)\\nx = bytearray('helloworld',encoding='utf-16')\\nprint(x)\\nprint(dir(x))\", '_i40': \"#help(bytearray)\\nx = bytearray('helloworld',encoding='utf-16')\\nprint(x)\", '_i41': 'hello.callable', '_i42': \"hello = 'sachin'\\nhello.callable\", 'hello': 'sachin', '_i43': \"hello = 'sachin'\\ncallable(hello)\", '_43': False, '_i44': 'callable(print)', '_44': True, '_i45': \"hello = 'sachin'\\nprint(callable(hello))\\nprint(callable(print))\\nprint(callable(if))\", '_i46': \"hello = 'sachin'\\nprint(callable(hello))\\nprint(callable(print))\\nprint(callable(input))\", '_i47': '#chr(int) --> will return utf-8 char for given int value\\nprint(chr(1008))\\nprint(chr(3396))\\nprint(chr(65))', '_i48': '#chr(int) --> will return utf-8 char for given int value\\nprint(chr(1008))\\nprint(chr(3390))\\nprint(chr(65))', '_i49': '#chr(int) --> will return utf-8 char for given int value\\nprint(chr(1008))\\nprint(chr(3290))\\nprint(chr(65))', '_i50': '#chr(int) --> will return utf-8 char for given int value\\nprint(chr(1008))\\nprint(chr(3190))\\nprint(chr(65))', '_i51': '#chr(int) --> will return utf-8 char for given int value\\nprint(chr(1008))\\nprint(chr(3490))\\nprint(chr(65))', '_i52': \"#ord(char) --> wil return an int value for utf-8 charcter\\n\\nprint(ord('φ'))\", '_i53': \"#ord(char) --> wil return an int value for utf-8 charcter\\n\\nprint(ord('φ'))\\nprint(chr(966))\", '_i54': \"#ord(char) --> wil return an int value for utf-8 charcter\\nprint(ord('φ'))\\nprint(chr(966))\", '_i55': 'compile(\\'print(\"Hello World\")\\')', '_i56': 'compile(\\'print(\"Hello World\")\\',\\'one\\')', '_i57': 'print(help(compile))', '_i58': '#global -->  will print global variables\\nglobals', '_58': <built-in function globals>, '_i59': '#global -->  will print global variables\\nglobals()', '_59': {...}, '_i60': '#global -->  will print global variables\\nprint(globals())'}\n"
     ]
    }
   ],
   "source": [
    "#global -->  will print global variables\n",
    "print(globals())"
   ]
  },
  {
   "cell_type": "code",
   "execution_count": 63,
   "metadata": {},
   "outputs": [
    {
     "name": "stdout",
     "output_type": "stream",
     "text": [
      "{'__name__': '__main__', '__doc__': 'Automatically created module for IPython interactive environment', '__package__': None, '__loader__': None, '__spec__': None, '__builtin__': <module 'builtins' (built-in)>, '__builtins__': <module 'builtins' (built-in)>, '_ih': ['', '<h2>Type of Function </h2>\\n<ol>\\n<li>Built-in Functions</li>\\n<li>User Define functions</li>\\n</ol>', '<h2>Type of Function </h2>m\\n<ol>\\n<li>Built-in Functions</li>\\n<li>User Define functions</li>\\n</ol>', \"any([0,','{}',[]',]) # any(sequence) --> will True if any of one in sequence is True\", \"any([0,'',{},[],]) # any(sequence) --> will True if any of one in sequence is True\", \"one = any([0,'',{},[],]) # any(sequence) --> will True if any of one in sequence is True\\ntwo = any([0,'',{},1])\\nprint(one)\\nprint(two)\", \"#all(sequence) --> return True if all items in seq is True\\none = [ {},1,'hi',[1,2,3]]\\ntwo = [ 1,1.2,1+3j,'hi',[1,2],(2,'hi'),{'one':'two'}]\\nprint(one)\\nprint(two)\", \"#all(sequence) --> return True if all items in seq is True\\none = all([ {},1,'hi',[1,2,3]])\\ntwo = all([ 1,1.2,1+3j,'hi',[1,2],(2,'hi'),{'one':'two'}])\\nprint(one)\\nprint(two)\", \"#enumerate(seq) function --> will return seq with index values\\none = enumerate('hello')\\ntwo = enumerate(['hi','hello','how','are','you'])\\nthree = enumerate({'one':1,'two':2,'three':3})\\nprint(one)\\nprint(two)\\nprint(three)\", \"#enumerate(seq) function --> will return seq with index values\\none = enumerate('hello')\\ntwo = enumerate(['hi','hello','how','are','you'])\\nthree = enumerate({'one':1,'two':2,'three':3})\\nprint(*one)\\nprint(*two)\\nprint(*three)\", '#abs() --> will return absolute value \\npi = 22/7\\nprint(pi)\\nprint(abs(pi))', '#abs() --> will return absolute value \\npi = 22/7\\nprint(pi)\\nx = abs(pi)\\nprint(x)', '#round() --> round will roundup the float value\\npi = 22/7\\nprint(pi)\\nr = round(pi)\\nprint(r)', '#round() --> round will roundup the float value\\npi = 22/7\\nprint(pi)\\nr = round(pi)\\nprint(r)\\nround(3.6)', '#round() --> round will roundup the float value\\npi = 22/7\\nprint(pi)\\nr = round(pi)\\nprint(r)\\nx = round(3.6)\\nprint(x)', '#round() --> round will roundup the float value\\npi = 22/7\\nprint(pi)\\nr = round(pi)\\nprint(r)\\nx = round(3.5)\\nprint(x)', '#these are not builtin function these part of math module\\nimport math\\nprint(dir(math))', \"#these are not builtin function these part of math module\\nimport math\\nprint(dir(math))\\nprint('squreroot of 127 is ',math.sqrt(127))\\nx = math.celi(3.6)\\ny = math.floor(3.6)\\nprint(x)\\nprint(y)\", \"#these are not builtin function these part of math module\\nimport math\\nprint(dir(math))\\nprint('squreroot of 127 is ',math.sqrt(127))\\nx = math.cei(l3.6)\\ny = math.floor(3.6)\\nprint(x)\\nprint(y)\", \"#these are not builtin function these part of math module\\nimport math\\nprint(dir(math))\\nprint('squreroot of 127 is ',math.sqrt(127))\\nx = math.ceil(3.6)\\ny = math.floor(3.6)\\nprint(x)\\nprint(y)\", \"#these are not builtin function these part of math module\\nimport math\\nprint(dir(math))\\nsq = math.sqrt(127)\\nprint(f'squreroot of 127 is {sq}')\\nx = math.ceil(3.6)\\ny = math.floor(3.6)\\nprint(x)\\nprint(y)\", \"#these are not builtin function these part of math module\\nimport math\\nprint(dir(math))\\nsq = math.sqrt(127)\\nprint(f'squreroot of 127 is {sq:.3f}')\\nx = math.ceil(3.6)\\ny = math.floor(3.6)\\nprint(x)\\nprint(y)\", \"#these are not builtin function these part of math module\\nimport math\\nprint(dir(math))\\nsq = math.sqrt(127)\\nprint(f'squreroot of 127 is {sq:.2f}')\\nx = math.ceil(3.6)\\ny = math.floor(3.6)\\nprint(x)\\nprint(y)\", \"ascii('hello world')\", \"#ascii will change utf-8 values to ascii\\ndata = ascii('hello world')\", \"#ascii will change utf-8 values to ascii\\ndata = ascii('hello world')\\ndata\", \"#ascii will change utf-8 values to ascii\\ndata = ascii('hello world')\\ndata\\nd = ascii('π')\\nprint(d)\", \"#ascii will change utf-8 values to ascii\\ndata = ascii('hello world')\\nprint(data)\\nd = ascii('π')\\nprint(d)\", 'help(breakpoint)', '#breakpoint() --> used to debug a code --> pdb (pythond dubug)\\nhelp(breakpoint)', \"bytes('hello world')\", \"bytes('hello world',encoding='utf-8')\", \"bytes('hello world',encoding='utf-16')\", \"bytes('hello world',encoding='utf-32')\", \"data = 'Hello World'\\nvar1 = bytes(data,encoding='utf-8')\\nvar2 = bytes(data,encoding='utf-16')\\nvar3 = bytes(data,encoding='utf-32')\\nvar4 = bytes(data,encoding='ascii')\\nvar5 = bytes(data,encoding='ansi')\\nvar6 = bytes(data,encoding='utf-64')\\nprint(var1)\\nprint(var2)\\nprint(var3)\\nprint(var4)\\nprint(var5)\\nprint(var6)\", \"#bytes --> will change string encoding\\ndata = 'Hello World'\\nvar1 = bytes(data,encoding='utf-8')\\nvar2 = bytes(data,encoding='utf-16')\\nvar3 = bytes(data,encoding='utf-32')\\nvar4 = bytes(data,encoding='ascii')\\nvar5 = bytes(data,encoding='ansi')\\nprint(var1)\\nprint(var2)\\nprint(var3)\\nprint(var4)\\nprint(var5)\", 'help(bytearray)', \"#help(bytearray)\\nbytearray('helloworld')\", \"#help(bytearray)\\nbytearray('helloworld',encoding='utf-16')\", \"#help(bytearray)\\nx = bytearray('helloworld',encoding='utf-16')\\nprint(x)\\nprint(dir(x))\", \"#help(bytearray)\\nx = bytearray('helloworld',encoding='utf-16')\\nprint(x)\", 'hello.callable', \"hello = 'sachin'\\nhello.callable\", \"hello = 'sachin'\\ncallable(hello)\", 'callable(print)', \"hello = 'sachin'\\nprint(callable(hello))\\nprint(callable(print))\\nprint(callable(if))\", \"hello = 'sachin'\\nprint(callable(hello))\\nprint(callable(print))\\nprint(callable(input))\", '#chr(int) --> will return utf-8 char for given int value\\nprint(chr(1008))\\nprint(chr(3396))\\nprint(chr(65))', '#chr(int) --> will return utf-8 char for given int value\\nprint(chr(1008))\\nprint(chr(3390))\\nprint(chr(65))', '#chr(int) --> will return utf-8 char for given int value\\nprint(chr(1008))\\nprint(chr(3290))\\nprint(chr(65))', '#chr(int) --> will return utf-8 char for given int value\\nprint(chr(1008))\\nprint(chr(3190))\\nprint(chr(65))', '#chr(int) --> will return utf-8 char for given int value\\nprint(chr(1008))\\nprint(chr(3490))\\nprint(chr(65))', \"#ord(char) --> wil return an int value for utf-8 charcter\\n\\nprint(ord('φ'))\", \"#ord(char) --> wil return an int value for utf-8 charcter\\n\\nprint(ord('φ'))\\nprint(chr(966))\", \"#ord(char) --> wil return an int value for utf-8 charcter\\nprint(ord('φ'))\\nprint(chr(966))\", 'compile(\\'print(\"Hello World\")\\')', 'compile(\\'print(\"Hello World\")\\',\\'one\\')', 'print(help(compile))', '#global -->  will print global variables\\nglobals', '#global -->  will print global variables\\nglobals()', '#global -->  will print global variables\\nprint(globals())', '#locals --> for local variables\\n\\nlocals', '#locals --> for local variables\\n\\nlocals()', '#locals --> for local variables\\n\\nprint(locals())'], '_oh': {4: False, 13: 4, 23: \"'hello world'\", 25: \"'hello world'\", 31: b'hello world', 32: b'\\xff\\xfeh\\x00e\\x00l\\x00l\\x00o\\x00 \\x00w\\x00o\\x00r\\x00l\\x00d\\x00', 33: b'\\xff\\xfe\\x00\\x00h\\x00\\x00\\x00e\\x00\\x00\\x00l\\x00\\x00\\x00l\\x00\\x00\\x00o\\x00\\x00\\x00 \\x00\\x00\\x00w\\x00\\x00\\x00o\\x00\\x00\\x00r\\x00\\x00\\x00l\\x00\\x00\\x00d\\x00\\x00\\x00', 38: bytearray(b'\\xff\\xfeh\\x00e\\x00l\\x00l\\x00o\\x00w\\x00o\\x00r\\x00l\\x00d\\x00'), 43: False, 44: True, 58: <built-in function globals>, 59: {...}, 61: <built-in function locals>, 62: {...}}, '_dh': ['C:\\\\batch10'], 'In': ['', '<h2>Type of Function </h2>\\n<ol>\\n<li>Built-in Functions</li>\\n<li>User Define functions</li>\\n</ol>', '<h2>Type of Function </h2>m\\n<ol>\\n<li>Built-in Functions</li>\\n<li>User Define functions</li>\\n</ol>', \"any([0,','{}',[]',]) # any(sequence) --> will True if any of one in sequence is True\", \"any([0,'',{},[],]) # any(sequence) --> will True if any of one in sequence is True\", \"one = any([0,'',{},[],]) # any(sequence) --> will True if any of one in sequence is True\\ntwo = any([0,'',{},1])\\nprint(one)\\nprint(two)\", \"#all(sequence) --> return True if all items in seq is True\\none = [ {},1,'hi',[1,2,3]]\\ntwo = [ 1,1.2,1+3j,'hi',[1,2],(2,'hi'),{'one':'two'}]\\nprint(one)\\nprint(two)\", \"#all(sequence) --> return True if all items in seq is True\\none = all([ {},1,'hi',[1,2,3]])\\ntwo = all([ 1,1.2,1+3j,'hi',[1,2],(2,'hi'),{'one':'two'}])\\nprint(one)\\nprint(two)\", \"#enumerate(seq) function --> will return seq with index values\\none = enumerate('hello')\\ntwo = enumerate(['hi','hello','how','are','you'])\\nthree = enumerate({'one':1,'two':2,'three':3})\\nprint(one)\\nprint(two)\\nprint(three)\", \"#enumerate(seq) function --> will return seq with index values\\none = enumerate('hello')\\ntwo = enumerate(['hi','hello','how','are','you'])\\nthree = enumerate({'one':1,'two':2,'three':3})\\nprint(*one)\\nprint(*two)\\nprint(*three)\", '#abs() --> will return absolute value \\npi = 22/7\\nprint(pi)\\nprint(abs(pi))', '#abs() --> will return absolute value \\npi = 22/7\\nprint(pi)\\nx = abs(pi)\\nprint(x)', '#round() --> round will roundup the float value\\npi = 22/7\\nprint(pi)\\nr = round(pi)\\nprint(r)', '#round() --> round will roundup the float value\\npi = 22/7\\nprint(pi)\\nr = round(pi)\\nprint(r)\\nround(3.6)', '#round() --> round will roundup the float value\\npi = 22/7\\nprint(pi)\\nr = round(pi)\\nprint(r)\\nx = round(3.6)\\nprint(x)', '#round() --> round will roundup the float value\\npi = 22/7\\nprint(pi)\\nr = round(pi)\\nprint(r)\\nx = round(3.5)\\nprint(x)', '#these are not builtin function these part of math module\\nimport math\\nprint(dir(math))', \"#these are not builtin function these part of math module\\nimport math\\nprint(dir(math))\\nprint('squreroot of 127 is ',math.sqrt(127))\\nx = math.celi(3.6)\\ny = math.floor(3.6)\\nprint(x)\\nprint(y)\", \"#these are not builtin function these part of math module\\nimport math\\nprint(dir(math))\\nprint('squreroot of 127 is ',math.sqrt(127))\\nx = math.cei(l3.6)\\ny = math.floor(3.6)\\nprint(x)\\nprint(y)\", \"#these are not builtin function these part of math module\\nimport math\\nprint(dir(math))\\nprint('squreroot of 127 is ',math.sqrt(127))\\nx = math.ceil(3.6)\\ny = math.floor(3.6)\\nprint(x)\\nprint(y)\", \"#these are not builtin function these part of math module\\nimport math\\nprint(dir(math))\\nsq = math.sqrt(127)\\nprint(f'squreroot of 127 is {sq}')\\nx = math.ceil(3.6)\\ny = math.floor(3.6)\\nprint(x)\\nprint(y)\", \"#these are not builtin function these part of math module\\nimport math\\nprint(dir(math))\\nsq = math.sqrt(127)\\nprint(f'squreroot of 127 is {sq:.3f}')\\nx = math.ceil(3.6)\\ny = math.floor(3.6)\\nprint(x)\\nprint(y)\", \"#these are not builtin function these part of math module\\nimport math\\nprint(dir(math))\\nsq = math.sqrt(127)\\nprint(f'squreroot of 127 is {sq:.2f}')\\nx = math.ceil(3.6)\\ny = math.floor(3.6)\\nprint(x)\\nprint(y)\", \"ascii('hello world')\", \"#ascii will change utf-8 values to ascii\\ndata = ascii('hello world')\", \"#ascii will change utf-8 values to ascii\\ndata = ascii('hello world')\\ndata\", \"#ascii will change utf-8 values to ascii\\ndata = ascii('hello world')\\ndata\\nd = ascii('π')\\nprint(d)\", \"#ascii will change utf-8 values to ascii\\ndata = ascii('hello world')\\nprint(data)\\nd = ascii('π')\\nprint(d)\", 'help(breakpoint)', '#breakpoint() --> used to debug a code --> pdb (pythond dubug)\\nhelp(breakpoint)', \"bytes('hello world')\", \"bytes('hello world',encoding='utf-8')\", \"bytes('hello world',encoding='utf-16')\", \"bytes('hello world',encoding='utf-32')\", \"data = 'Hello World'\\nvar1 = bytes(data,encoding='utf-8')\\nvar2 = bytes(data,encoding='utf-16')\\nvar3 = bytes(data,encoding='utf-32')\\nvar4 = bytes(data,encoding='ascii')\\nvar5 = bytes(data,encoding='ansi')\\nvar6 = bytes(data,encoding='utf-64')\\nprint(var1)\\nprint(var2)\\nprint(var3)\\nprint(var4)\\nprint(var5)\\nprint(var6)\", \"#bytes --> will change string encoding\\ndata = 'Hello World'\\nvar1 = bytes(data,encoding='utf-8')\\nvar2 = bytes(data,encoding='utf-16')\\nvar3 = bytes(data,encoding='utf-32')\\nvar4 = bytes(data,encoding='ascii')\\nvar5 = bytes(data,encoding='ansi')\\nprint(var1)\\nprint(var2)\\nprint(var3)\\nprint(var4)\\nprint(var5)\", 'help(bytearray)', \"#help(bytearray)\\nbytearray('helloworld')\", \"#help(bytearray)\\nbytearray('helloworld',encoding='utf-16')\", \"#help(bytearray)\\nx = bytearray('helloworld',encoding='utf-16')\\nprint(x)\\nprint(dir(x))\", \"#help(bytearray)\\nx = bytearray('helloworld',encoding='utf-16')\\nprint(x)\", 'hello.callable', \"hello = 'sachin'\\nhello.callable\", \"hello = 'sachin'\\ncallable(hello)\", 'callable(print)', \"hello = 'sachin'\\nprint(callable(hello))\\nprint(callable(print))\\nprint(callable(if))\", \"hello = 'sachin'\\nprint(callable(hello))\\nprint(callable(print))\\nprint(callable(input))\", '#chr(int) --> will return utf-8 char for given int value\\nprint(chr(1008))\\nprint(chr(3396))\\nprint(chr(65))', '#chr(int) --> will return utf-8 char for given int value\\nprint(chr(1008))\\nprint(chr(3390))\\nprint(chr(65))', '#chr(int) --> will return utf-8 char for given int value\\nprint(chr(1008))\\nprint(chr(3290))\\nprint(chr(65))', '#chr(int) --> will return utf-8 char for given int value\\nprint(chr(1008))\\nprint(chr(3190))\\nprint(chr(65))', '#chr(int) --> will return utf-8 char for given int value\\nprint(chr(1008))\\nprint(chr(3490))\\nprint(chr(65))', \"#ord(char) --> wil return an int value for utf-8 charcter\\n\\nprint(ord('φ'))\", \"#ord(char) --> wil return an int value for utf-8 charcter\\n\\nprint(ord('φ'))\\nprint(chr(966))\", \"#ord(char) --> wil return an int value for utf-8 charcter\\nprint(ord('φ'))\\nprint(chr(966))\", 'compile(\\'print(\"Hello World\")\\')', 'compile(\\'print(\"Hello World\")\\',\\'one\\')', 'print(help(compile))', '#global -->  will print global variables\\nglobals', '#global -->  will print global variables\\nglobals()', '#global -->  will print global variables\\nprint(globals())', '#locals --> for local variables\\n\\nlocals', '#locals --> for local variables\\n\\nlocals()', '#locals --> for local variables\\n\\nprint(locals())'], 'Out': {4: False, 13: 4, 23: \"'hello world'\", 25: \"'hello world'\", 31: b'hello world', 32: b'\\xff\\xfeh\\x00e\\x00l\\x00l\\x00o\\x00 \\x00w\\x00o\\x00r\\x00l\\x00d\\x00', 33: b'\\xff\\xfe\\x00\\x00h\\x00\\x00\\x00e\\x00\\x00\\x00l\\x00\\x00\\x00l\\x00\\x00\\x00o\\x00\\x00\\x00 \\x00\\x00\\x00w\\x00\\x00\\x00o\\x00\\x00\\x00r\\x00\\x00\\x00l\\x00\\x00\\x00d\\x00\\x00\\x00', 38: bytearray(b'\\xff\\xfeh\\x00e\\x00l\\x00l\\x00o\\x00w\\x00o\\x00r\\x00l\\x00d\\x00'), 43: False, 44: True, 58: <built-in function globals>, 59: {...}, 61: <built-in function locals>, 62: {...}}, 'get_ipython': <bound method InteractiveShell.get_ipython of <ipykernel.zmqshell.ZMQInteractiveShell object at 0x0000016665589A90>>, 'exit': <IPython.core.autocall.ZMQExitAutocall object at 0x000001666719BB00>, 'quit': <IPython.core.autocall.ZMQExitAutocall object at 0x000001666719BB00>, '_': {...}, '__': <built-in function locals>, '___': {...}, '_i': '#locals --> for local variables\\n\\nlocals()', '_ii': '#locals --> for local variables\\n\\nlocals', '_iii': '#global -->  will print global variables\\nprint(globals())', '_i1': '<h2>Type of Function </h2>\\n<ol>\\n<li>Built-in Functions</li>\\n<li>User Define functions</li>\\n</ol>', '_i2': '<h2>Type of Function </h2>m\\n<ol>\\n<li>Built-in Functions</li>\\n<li>User Define functions</li>\\n</ol>', '_i3': \"any([0,','{}',[]',]) # any(sequence) --> will True if any of one in sequence is True\", '_i4': \"any([0,'',{},[],]) # any(sequence) --> will True if any of one in sequence is True\", '_4': False, '_i5': \"one = any([0,'',{},[],]) # any(sequence) --> will True if any of one in sequence is True\\ntwo = any([0,'',{},1])\\nprint(one)\\nprint(two)\", 'one': <enumerate object at 0x000001666719C630>, 'two': <enumerate object at 0x000001666729DCA8>, '_i6': \"#all(sequence) --> return True if all items in seq is True\\none = [ {},1,'hi',[1,2,3]]\\ntwo = [ 1,1.2,1+3j,'hi',[1,2],(2,'hi'),{'one':'two'}]\\nprint(one)\\nprint(two)\", '_i7': \"#all(sequence) --> return True if all items in seq is True\\none = all([ {},1,'hi',[1,2,3]])\\ntwo = all([ 1,1.2,1+3j,'hi',[1,2],(2,'hi'),{'one':'two'}])\\nprint(one)\\nprint(two)\", '_i8': \"#enumerate(seq) function --> will return seq with index values\\none = enumerate('hello')\\ntwo = enumerate(['hi','hello','how','are','you'])\\nthree = enumerate({'one':1,'two':2,'three':3})\\nprint(one)\\nprint(two)\\nprint(three)\", 'three': <enumerate object at 0x00000166672D2E10>, '_i9': \"#enumerate(seq) function --> will return seq with index values\\none = enumerate('hello')\\ntwo = enumerate(['hi','hello','how','are','you'])\\nthree = enumerate({'one':1,'two':2,'three':3})\\nprint(*one)\\nprint(*two)\\nprint(*three)\", '_i10': '#abs() --> will return absolute value \\npi = 22/7\\nprint(pi)\\nprint(abs(pi))', 'pi': 3.142857142857143, '_i11': '#abs() --> will return absolute value \\npi = 22/7\\nprint(pi)\\nx = abs(pi)\\nprint(x)', 'x': bytearray(b'\\xff\\xfeh\\x00e\\x00l\\x00l\\x00o\\x00w\\x00o\\x00r\\x00l\\x00d\\x00'), '_i12': '#round() --> round will roundup the float value\\npi = 22/7\\nprint(pi)\\nr = round(pi)\\nprint(r)', 'r': 3, '_i13': '#round() --> round will roundup the float value\\npi = 22/7\\nprint(pi)\\nr = round(pi)\\nprint(r)\\nround(3.6)', '_13': 4, '_i14': '#round() --> round will roundup the float value\\npi = 22/7\\nprint(pi)\\nr = round(pi)\\nprint(r)\\nx = round(3.6)\\nprint(x)', '_i15': '#round() --> round will roundup the float value\\npi = 22/7\\nprint(pi)\\nr = round(pi)\\nprint(r)\\nx = round(3.5)\\nprint(x)', '_i16': '#these are not builtin function these part of math module\\nimport math\\nprint(dir(math))', 'math': <module 'math' (built-in)>, '_i17': \"#these are not builtin function these part of math module\\nimport math\\nprint(dir(math))\\nprint('squreroot of 127 is ',math.sqrt(127))\\nx = math.celi(3.6)\\ny = math.floor(3.6)\\nprint(x)\\nprint(y)\", '_i18': \"#these are not builtin function these part of math module\\nimport math\\nprint(dir(math))\\nprint('squreroot of 127 is ',math.sqrt(127))\\nx = math.cei(l3.6)\\ny = math.floor(3.6)\\nprint(x)\\nprint(y)\", '_i19': \"#these are not builtin function these part of math module\\nimport math\\nprint(dir(math))\\nprint('squreroot of 127 is ',math.sqrt(127))\\nx = math.ceil(3.6)\\ny = math.floor(3.6)\\nprint(x)\\nprint(y)\", 'y': 3, '_i20': \"#these are not builtin function these part of math module\\nimport math\\nprint(dir(math))\\nsq = math.sqrt(127)\\nprint(f'squreroot of 127 is {sq}')\\nx = math.ceil(3.6)\\ny = math.floor(3.6)\\nprint(x)\\nprint(y)\", 'sq': 11.269427669584644, '_i21': \"#these are not builtin function these part of math module\\nimport math\\nprint(dir(math))\\nsq = math.sqrt(127)\\nprint(f'squreroot of 127 is {sq:.3f}')\\nx = math.ceil(3.6)\\ny = math.floor(3.6)\\nprint(x)\\nprint(y)\", '_i22': \"#these are not builtin function these part of math module\\nimport math\\nprint(dir(math))\\nsq = math.sqrt(127)\\nprint(f'squreroot of 127 is {sq:.2f}')\\nx = math.ceil(3.6)\\ny = math.floor(3.6)\\nprint(x)\\nprint(y)\", '_i23': \"ascii('hello world')\", '_23': \"'hello world'\", '_i24': \"#ascii will change utf-8 values to ascii\\ndata = ascii('hello world')\", 'data': 'Hello World', '_i25': \"#ascii will change utf-8 values to ascii\\ndata = ascii('hello world')\\ndata\", '_25': \"'hello world'\", '_i26': \"#ascii will change utf-8 values to ascii\\ndata = ascii('hello world')\\ndata\\nd = ascii('π')\\nprint(d)\", 'd': \"'\\\\u03c0'\", '_i27': \"#ascii will change utf-8 values to ascii\\ndata = ascii('hello world')\\nprint(data)\\nd = ascii('π')\\nprint(d)\", '_i28': 'help(breakpoint)', '_i29': '#breakpoint() --> used to debug a code --> pdb (pythond dubug)\\nhelp(breakpoint)', '_i30': \"bytes('hello world')\", '_i31': \"bytes('hello world',encoding='utf-8')\", '_31': b'hello world', '_i32': \"bytes('hello world',encoding='utf-16')\", '_32': b'\\xff\\xfeh\\x00e\\x00l\\x00l\\x00o\\x00 \\x00w\\x00o\\x00r\\x00l\\x00d\\x00', '_i33': \"bytes('hello world',encoding='utf-32')\", '_33': b'\\xff\\xfe\\x00\\x00h\\x00\\x00\\x00e\\x00\\x00\\x00l\\x00\\x00\\x00l\\x00\\x00\\x00o\\x00\\x00\\x00 \\x00\\x00\\x00w\\x00\\x00\\x00o\\x00\\x00\\x00r\\x00\\x00\\x00l\\x00\\x00\\x00d\\x00\\x00\\x00', '_i34': \"data = 'Hello World'\\nvar1 = bytes(data,encoding='utf-8')\\nvar2 = bytes(data,encoding='utf-16')\\nvar3 = bytes(data,encoding='utf-32')\\nvar4 = bytes(data,encoding='ascii')\\nvar5 = bytes(data,encoding='ansi')\\nvar6 = bytes(data,encoding='utf-64')\\nprint(var1)\\nprint(var2)\\nprint(var3)\\nprint(var4)\\nprint(var5)\\nprint(var6)\", 'var1': b'Hello World', 'var2': b'\\xff\\xfeH\\x00e\\x00l\\x00l\\x00o\\x00 \\x00W\\x00o\\x00r\\x00l\\x00d\\x00', 'var3': b'\\xff\\xfe\\x00\\x00H\\x00\\x00\\x00e\\x00\\x00\\x00l\\x00\\x00\\x00l\\x00\\x00\\x00o\\x00\\x00\\x00 \\x00\\x00\\x00W\\x00\\x00\\x00o\\x00\\x00\\x00r\\x00\\x00\\x00l\\x00\\x00\\x00d\\x00\\x00\\x00', 'var4': b'Hello World', 'var5': b'Hello World', '_i35': \"#bytes --> will change string encoding\\ndata = 'Hello World'\\nvar1 = bytes(data,encoding='utf-8')\\nvar2 = bytes(data,encoding='utf-16')\\nvar3 = bytes(data,encoding='utf-32')\\nvar4 = bytes(data,encoding='ascii')\\nvar5 = bytes(data,encoding='ansi')\\nprint(var1)\\nprint(var2)\\nprint(var3)\\nprint(var4)\\nprint(var5)\", '_i36': 'help(bytearray)', '_i37': \"#help(bytearray)\\nbytearray('helloworld')\", '_i38': \"#help(bytearray)\\nbytearray('helloworld',encoding='utf-16')\", '_38': bytearray(b'\\xff\\xfeh\\x00e\\x00l\\x00l\\x00o\\x00w\\x00o\\x00r\\x00l\\x00d\\x00'), '_i39': \"#help(bytearray)\\nx = bytearray('helloworld',encoding='utf-16')\\nprint(x)\\nprint(dir(x))\", '_i40': \"#help(bytearray)\\nx = bytearray('helloworld',encoding='utf-16')\\nprint(x)\", '_i41': 'hello.callable', '_i42': \"hello = 'sachin'\\nhello.callable\", 'hello': 'sachin', '_i43': \"hello = 'sachin'\\ncallable(hello)\", '_43': False, '_i44': 'callable(print)', '_44': True, '_i45': \"hello = 'sachin'\\nprint(callable(hello))\\nprint(callable(print))\\nprint(callable(if))\", '_i46': \"hello = 'sachin'\\nprint(callable(hello))\\nprint(callable(print))\\nprint(callable(input))\", '_i47': '#chr(int) --> will return utf-8 char for given int value\\nprint(chr(1008))\\nprint(chr(3396))\\nprint(chr(65))', '_i48': '#chr(int) --> will return utf-8 char for given int value\\nprint(chr(1008))\\nprint(chr(3390))\\nprint(chr(65))', '_i49': '#chr(int) --> will return utf-8 char for given int value\\nprint(chr(1008))\\nprint(chr(3290))\\nprint(chr(65))', '_i50': '#chr(int) --> will return utf-8 char for given int value\\nprint(chr(1008))\\nprint(chr(3190))\\nprint(chr(65))', '_i51': '#chr(int) --> will return utf-8 char for given int value\\nprint(chr(1008))\\nprint(chr(3490))\\nprint(chr(65))', '_i52': \"#ord(char) --> wil return an int value for utf-8 charcter\\n\\nprint(ord('φ'))\", '_i53': \"#ord(char) --> wil return an int value for utf-8 charcter\\n\\nprint(ord('φ'))\\nprint(chr(966))\", '_i54': \"#ord(char) --> wil return an int value for utf-8 charcter\\nprint(ord('φ'))\\nprint(chr(966))\", '_i55': 'compile(\\'print(\"Hello World\")\\')', '_i56': 'compile(\\'print(\"Hello World\")\\',\\'one\\')', '_i57': 'print(help(compile))', '_i58': '#global -->  will print global variables\\nglobals', '_58': <built-in function globals>, '_i59': '#global -->  will print global variables\\nglobals()', '_59': {...}, '_i60': '#global -->  will print global variables\\nprint(globals())', '_i61': '#locals --> for local variables\\n\\nlocals', '_61': <built-in function locals>, '_i62': '#locals --> for local variables\\n\\nlocals()', '_62': {...}, '_i63': '#locals --> for local variables\\n\\nprint(locals())'}\n"
     ]
    }
   ],
   "source": [
    "#locals --> for local variables\n",
    "\n",
    "print(locals())"
   ]
  },
  {
   "cell_type": "code",
   "execution_count": 65,
   "metadata": {},
   "outputs": [
    {
     "name": "stdout",
     "output_type": "stream",
     "text": [
      "-630579327259743570\n"
     ]
    }
   ],
   "source": [
    "#hash --> unique value for every object\n",
    "print(hash('sachin'))"
   ]
  },
  {
   "cell_type": "code",
   "execution_count": 66,
   "metadata": {},
   "outputs": [
    {
     "name": "stdout",
     "output_type": "stream",
     "text": [
      "-630579327259743570\n"
     ]
    }
   ],
   "source": [
    "print(hash(-630579327259743570))"
   ]
  },
  {
   "cell_type": "code",
   "execution_count": 67,
   "metadata": {},
   "outputs": [
    {
     "name": "stdout",
     "output_type": "stream",
     "text": [
      "-630579327259743570\n"
     ]
    }
   ],
   "source": [
    "print(hash('sachin'))"
   ]
  },
  {
   "cell_type": "code",
   "execution_count": 69,
   "metadata": {},
   "outputs": [
    {
     "name": "stdout",
     "output_type": "stream",
     "text": [
      "p\n",
      "y\n",
      "t\n",
      "h\n",
      "o\n",
      "n\n"
     ]
    },
    {
     "ename": "StopIteration",
     "evalue": "",
     "output_type": "error",
     "traceback": [
      "\u001b[1;31m---------------------------------------------------------------------------\u001b[0m",
      "\u001b[1;31mStopIteration\u001b[0m                             Traceback (most recent call last)",
      "\u001b[1;32m<ipython-input-69-00a1f7b46380>\u001b[0m in \u001b[0;36m<module>\u001b[1;34m()\u001b[0m\n\u001b[0;32m      3\u001b[0m \u001b[0ms\u001b[0m \u001b[1;33m=\u001b[0m \u001b[0miter\u001b[0m\u001b[1;33m(\u001b[0m\u001b[0ms\u001b[0m\u001b[1;33m)\u001b[0m\u001b[1;33m\u001b[0m\u001b[0m\n\u001b[0;32m      4\u001b[0m \u001b[1;32mwhile\u001b[0m \u001b[1;32mTrue\u001b[0m \u001b[1;33m:\u001b[0m\u001b[1;33m\u001b[0m\u001b[0m\n\u001b[1;32m----> 5\u001b[1;33m     \u001b[0mx\u001b[0m  \u001b[1;33m=\u001b[0m \u001b[0mnext\u001b[0m\u001b[1;33m(\u001b[0m\u001b[0ms\u001b[0m\u001b[1;33m)\u001b[0m\u001b[1;33m\u001b[0m\u001b[0m\n\u001b[0m\u001b[0;32m      6\u001b[0m     \u001b[0mprint\u001b[0m\u001b[1;33m(\u001b[0m\u001b[0mx\u001b[0m\u001b[1;33m)\u001b[0m\u001b[1;33m\u001b[0m\u001b[0m\n",
      "\u001b[1;31mStopIteration\u001b[0m: "
     ]
    }
   ],
   "source": [
    "#iter --> iterator\n",
    "s = 'python'\n",
    "s = iter(s)\n",
    "while True : \n",
    "    x  = next(s)\n",
    "    print(x)"
   ]
  },
  {
   "cell_type": "code",
   "execution_count": 71,
   "metadata": {},
   "outputs": [
    {
     "name": "stdout",
     "output_type": "stream",
     "text": [
      "{'__name__': '__main__', '__doc__': 'Automatically created module for IPython interactive environment', '__package__': None, '__loader__': None, '__spec__': None, '__builtin__': <module 'builtins' (built-in)>, '__builtins__': <module 'builtins' (built-in)>, '_ih': ['', '<h2>Type of Function </h2>\\n<ol>\\n<li>Built-in Functions</li>\\n<li>User Define functions</li>\\n</ol>', '<h2>Type of Function </h2>m\\n<ol>\\n<li>Built-in Functions</li>\\n<li>User Define functions</li>\\n</ol>', \"any([0,','{}',[]',]) # any(sequence) --> will True if any of one in sequence is True\", \"any([0,'',{},[],]) # any(sequence) --> will True if any of one in sequence is True\", \"one = any([0,'',{},[],]) # any(sequence) --> will True if any of one in sequence is True\\ntwo = any([0,'',{},1])\\nprint(one)\\nprint(two)\", \"#all(sequence) --> return True if all items in seq is True\\none = [ {},1,'hi',[1,2,3]]\\ntwo = [ 1,1.2,1+3j,'hi',[1,2],(2,'hi'),{'one':'two'}]\\nprint(one)\\nprint(two)\", \"#all(sequence) --> return True if all items in seq is True\\none = all([ {},1,'hi',[1,2,3]])\\ntwo = all([ 1,1.2,1+3j,'hi',[1,2],(2,'hi'),{'one':'two'}])\\nprint(one)\\nprint(two)\", \"#enumerate(seq) function --> will return seq with index values\\none = enumerate('hello')\\ntwo = enumerate(['hi','hello','how','are','you'])\\nthree = enumerate({'one':1,'two':2,'three':3})\\nprint(one)\\nprint(two)\\nprint(three)\", \"#enumerate(seq) function --> will return seq with index values\\none = enumerate('hello')\\ntwo = enumerate(['hi','hello','how','are','you'])\\nthree = enumerate({'one':1,'two':2,'three':3})\\nprint(*one)\\nprint(*two)\\nprint(*three)\", '#abs() --> will return absolute value \\npi = 22/7\\nprint(pi)\\nprint(abs(pi))', '#abs() --> will return absolute value \\npi = 22/7\\nprint(pi)\\nx = abs(pi)\\nprint(x)', '#round() --> round will roundup the float value\\npi = 22/7\\nprint(pi)\\nr = round(pi)\\nprint(r)', '#round() --> round will roundup the float value\\npi = 22/7\\nprint(pi)\\nr = round(pi)\\nprint(r)\\nround(3.6)', '#round() --> round will roundup the float value\\npi = 22/7\\nprint(pi)\\nr = round(pi)\\nprint(r)\\nx = round(3.6)\\nprint(x)', '#round() --> round will roundup the float value\\npi = 22/7\\nprint(pi)\\nr = round(pi)\\nprint(r)\\nx = round(3.5)\\nprint(x)', '#these are not builtin function these part of math module\\nimport math\\nprint(dir(math))', \"#these are not builtin function these part of math module\\nimport math\\nprint(dir(math))\\nprint('squreroot of 127 is ',math.sqrt(127))\\nx = math.celi(3.6)\\ny = math.floor(3.6)\\nprint(x)\\nprint(y)\", \"#these are not builtin function these part of math module\\nimport math\\nprint(dir(math))\\nprint('squreroot of 127 is ',math.sqrt(127))\\nx = math.cei(l3.6)\\ny = math.floor(3.6)\\nprint(x)\\nprint(y)\", \"#these are not builtin function these part of math module\\nimport math\\nprint(dir(math))\\nprint('squreroot of 127 is ',math.sqrt(127))\\nx = math.ceil(3.6)\\ny = math.floor(3.6)\\nprint(x)\\nprint(y)\", \"#these are not builtin function these part of math module\\nimport math\\nprint(dir(math))\\nsq = math.sqrt(127)\\nprint(f'squreroot of 127 is {sq}')\\nx = math.ceil(3.6)\\ny = math.floor(3.6)\\nprint(x)\\nprint(y)\", \"#these are not builtin function these part of math module\\nimport math\\nprint(dir(math))\\nsq = math.sqrt(127)\\nprint(f'squreroot of 127 is {sq:.3f}')\\nx = math.ceil(3.6)\\ny = math.floor(3.6)\\nprint(x)\\nprint(y)\", \"#these are not builtin function these part of math module\\nimport math\\nprint(dir(math))\\nsq = math.sqrt(127)\\nprint(f'squreroot of 127 is {sq:.2f}')\\nx = math.ceil(3.6)\\ny = math.floor(3.6)\\nprint(x)\\nprint(y)\", \"ascii('hello world')\", \"#ascii will change utf-8 values to ascii\\ndata = ascii('hello world')\", \"#ascii will change utf-8 values to ascii\\ndata = ascii('hello world')\\ndata\", \"#ascii will change utf-8 values to ascii\\ndata = ascii('hello world')\\ndata\\nd = ascii('π')\\nprint(d)\", \"#ascii will change utf-8 values to ascii\\ndata = ascii('hello world')\\nprint(data)\\nd = ascii('π')\\nprint(d)\", 'help(breakpoint)', '#breakpoint() --> used to debug a code --> pdb (pythond dubug)\\nhelp(breakpoint)', \"bytes('hello world')\", \"bytes('hello world',encoding='utf-8')\", \"bytes('hello world',encoding='utf-16')\", \"bytes('hello world',encoding='utf-32')\", \"data = 'Hello World'\\nvar1 = bytes(data,encoding='utf-8')\\nvar2 = bytes(data,encoding='utf-16')\\nvar3 = bytes(data,encoding='utf-32')\\nvar4 = bytes(data,encoding='ascii')\\nvar5 = bytes(data,encoding='ansi')\\nvar6 = bytes(data,encoding='utf-64')\\nprint(var1)\\nprint(var2)\\nprint(var3)\\nprint(var4)\\nprint(var5)\\nprint(var6)\", \"#bytes --> will change string encoding\\ndata = 'Hello World'\\nvar1 = bytes(data,encoding='utf-8')\\nvar2 = bytes(data,encoding='utf-16')\\nvar3 = bytes(data,encoding='utf-32')\\nvar4 = bytes(data,encoding='ascii')\\nvar5 = bytes(data,encoding='ansi')\\nprint(var1)\\nprint(var2)\\nprint(var3)\\nprint(var4)\\nprint(var5)\", 'help(bytearray)', \"#help(bytearray)\\nbytearray('helloworld')\", \"#help(bytearray)\\nbytearray('helloworld',encoding='utf-16')\", \"#help(bytearray)\\nx = bytearray('helloworld',encoding='utf-16')\\nprint(x)\\nprint(dir(x))\", \"#help(bytearray)\\nx = bytearray('helloworld',encoding='utf-16')\\nprint(x)\", 'hello.callable', \"hello = 'sachin'\\nhello.callable\", \"hello = 'sachin'\\ncallable(hello)\", 'callable(print)', \"hello = 'sachin'\\nprint(callable(hello))\\nprint(callable(print))\\nprint(callable(if))\", \"hello = 'sachin'\\nprint(callable(hello))\\nprint(callable(print))\\nprint(callable(input))\", '#chr(int) --> will return utf-8 char for given int value\\nprint(chr(1008))\\nprint(chr(3396))\\nprint(chr(65))', '#chr(int) --> will return utf-8 char for given int value\\nprint(chr(1008))\\nprint(chr(3390))\\nprint(chr(65))', '#chr(int) --> will return utf-8 char for given int value\\nprint(chr(1008))\\nprint(chr(3290))\\nprint(chr(65))', '#chr(int) --> will return utf-8 char for given int value\\nprint(chr(1008))\\nprint(chr(3190))\\nprint(chr(65))', '#chr(int) --> will return utf-8 char for given int value\\nprint(chr(1008))\\nprint(chr(3490))\\nprint(chr(65))', \"#ord(char) --> wil return an int value for utf-8 charcter\\n\\nprint(ord('φ'))\", \"#ord(char) --> wil return an int value for utf-8 charcter\\n\\nprint(ord('φ'))\\nprint(chr(966))\", \"#ord(char) --> wil return an int value for utf-8 charcter\\nprint(ord('φ'))\\nprint(chr(966))\", 'compile(\\'print(\"Hello World\")\\')', 'compile(\\'print(\"Hello World\")\\',\\'one\\')', 'print(help(compile))', '#global -->  will print global variables\\nglobals', '#global -->  will print global variables\\nglobals()', '#global -->  will print global variables\\nprint(globals())', '#locals --> for local variables\\n\\nlocals', '#locals --> for local variables\\n\\nlocals()', '#locals --> for local variables\\n\\nprint(locals())', '#hash --> unique value for every object', \"#hash --> unique value for every object\\nprint(hash('sachin'))\", 'print(hash(-630579327259743570))', \"print(hash('sachin'))\", \"#iter --> iterator\\ns = 'python'\\ns = iter(s)\\nwhile True : \\n    next(s)\", \"#iter --> iterator\\ns = 'python'\\ns = iter(s)\\nwhile True : \\n    x  = next(s)\\n    print(x)\", '#vars --> will print symbol table\\n\\nprint(vars)', '#vars --> will print symbol table\\n\\nprint(vars())'], '_oh': {4: False, 13: 4, 23: \"'hello world'\", 25: \"'hello world'\", 31: b'hello world', 32: b'\\xff\\xfeh\\x00e\\x00l\\x00l\\x00o\\x00 \\x00w\\x00o\\x00r\\x00l\\x00d\\x00', 33: b'\\xff\\xfe\\x00\\x00h\\x00\\x00\\x00e\\x00\\x00\\x00l\\x00\\x00\\x00l\\x00\\x00\\x00o\\x00\\x00\\x00 \\x00\\x00\\x00w\\x00\\x00\\x00o\\x00\\x00\\x00r\\x00\\x00\\x00l\\x00\\x00\\x00d\\x00\\x00\\x00', 38: bytearray(b'\\xff\\xfeh\\x00e\\x00l\\x00l\\x00o\\x00w\\x00o\\x00r\\x00l\\x00d\\x00'), 43: False, 44: True, 58: <built-in function globals>, 59: {...}, 61: <built-in function locals>, 62: {...}}, '_dh': ['C:\\\\batch10'], 'In': ['', '<h2>Type of Function </h2>\\n<ol>\\n<li>Built-in Functions</li>\\n<li>User Define functions</li>\\n</ol>', '<h2>Type of Function </h2>m\\n<ol>\\n<li>Built-in Functions</li>\\n<li>User Define functions</li>\\n</ol>', \"any([0,','{}',[]',]) # any(sequence) --> will True if any of one in sequence is True\", \"any([0,'',{},[],]) # any(sequence) --> will True if any of one in sequence is True\", \"one = any([0,'',{},[],]) # any(sequence) --> will True if any of one in sequence is True\\ntwo = any([0,'',{},1])\\nprint(one)\\nprint(two)\", \"#all(sequence) --> return True if all items in seq is True\\none = [ {},1,'hi',[1,2,3]]\\ntwo = [ 1,1.2,1+3j,'hi',[1,2],(2,'hi'),{'one':'two'}]\\nprint(one)\\nprint(two)\", \"#all(sequence) --> return True if all items in seq is True\\none = all([ {},1,'hi',[1,2,3]])\\ntwo = all([ 1,1.2,1+3j,'hi',[1,2],(2,'hi'),{'one':'two'}])\\nprint(one)\\nprint(two)\", \"#enumerate(seq) function --> will return seq with index values\\none = enumerate('hello')\\ntwo = enumerate(['hi','hello','how','are','you'])\\nthree = enumerate({'one':1,'two':2,'three':3})\\nprint(one)\\nprint(two)\\nprint(three)\", \"#enumerate(seq) function --> will return seq with index values\\none = enumerate('hello')\\ntwo = enumerate(['hi','hello','how','are','you'])\\nthree = enumerate({'one':1,'two':2,'three':3})\\nprint(*one)\\nprint(*two)\\nprint(*three)\", '#abs() --> will return absolute value \\npi = 22/7\\nprint(pi)\\nprint(abs(pi))', '#abs() --> will return absolute value \\npi = 22/7\\nprint(pi)\\nx = abs(pi)\\nprint(x)', '#round() --> round will roundup the float value\\npi = 22/7\\nprint(pi)\\nr = round(pi)\\nprint(r)', '#round() --> round will roundup the float value\\npi = 22/7\\nprint(pi)\\nr = round(pi)\\nprint(r)\\nround(3.6)', '#round() --> round will roundup the float value\\npi = 22/7\\nprint(pi)\\nr = round(pi)\\nprint(r)\\nx = round(3.6)\\nprint(x)', '#round() --> round will roundup the float value\\npi = 22/7\\nprint(pi)\\nr = round(pi)\\nprint(r)\\nx = round(3.5)\\nprint(x)', '#these are not builtin function these part of math module\\nimport math\\nprint(dir(math))', \"#these are not builtin function these part of math module\\nimport math\\nprint(dir(math))\\nprint('squreroot of 127 is ',math.sqrt(127))\\nx = math.celi(3.6)\\ny = math.floor(3.6)\\nprint(x)\\nprint(y)\", \"#these are not builtin function these part of math module\\nimport math\\nprint(dir(math))\\nprint('squreroot of 127 is ',math.sqrt(127))\\nx = math.cei(l3.6)\\ny = math.floor(3.6)\\nprint(x)\\nprint(y)\", \"#these are not builtin function these part of math module\\nimport math\\nprint(dir(math))\\nprint('squreroot of 127 is ',math.sqrt(127))\\nx = math.ceil(3.6)\\ny = math.floor(3.6)\\nprint(x)\\nprint(y)\", \"#these are not builtin function these part of math module\\nimport math\\nprint(dir(math))\\nsq = math.sqrt(127)\\nprint(f'squreroot of 127 is {sq}')\\nx = math.ceil(3.6)\\ny = math.floor(3.6)\\nprint(x)\\nprint(y)\", \"#these are not builtin function these part of math module\\nimport math\\nprint(dir(math))\\nsq = math.sqrt(127)\\nprint(f'squreroot of 127 is {sq:.3f}')\\nx = math.ceil(3.6)\\ny = math.floor(3.6)\\nprint(x)\\nprint(y)\", \"#these are not builtin function these part of math module\\nimport math\\nprint(dir(math))\\nsq = math.sqrt(127)\\nprint(f'squreroot of 127 is {sq:.2f}')\\nx = math.ceil(3.6)\\ny = math.floor(3.6)\\nprint(x)\\nprint(y)\", \"ascii('hello world')\", \"#ascii will change utf-8 values to ascii\\ndata = ascii('hello world')\", \"#ascii will change utf-8 values to ascii\\ndata = ascii('hello world')\\ndata\", \"#ascii will change utf-8 values to ascii\\ndata = ascii('hello world')\\ndata\\nd = ascii('π')\\nprint(d)\", \"#ascii will change utf-8 values to ascii\\ndata = ascii('hello world')\\nprint(data)\\nd = ascii('π')\\nprint(d)\", 'help(breakpoint)', '#breakpoint() --> used to debug a code --> pdb (pythond dubug)\\nhelp(breakpoint)', \"bytes('hello world')\", \"bytes('hello world',encoding='utf-8')\", \"bytes('hello world',encoding='utf-16')\", \"bytes('hello world',encoding='utf-32')\", \"data = 'Hello World'\\nvar1 = bytes(data,encoding='utf-8')\\nvar2 = bytes(data,encoding='utf-16')\\nvar3 = bytes(data,encoding='utf-32')\\nvar4 = bytes(data,encoding='ascii')\\nvar5 = bytes(data,encoding='ansi')\\nvar6 = bytes(data,encoding='utf-64')\\nprint(var1)\\nprint(var2)\\nprint(var3)\\nprint(var4)\\nprint(var5)\\nprint(var6)\", \"#bytes --> will change string encoding\\ndata = 'Hello World'\\nvar1 = bytes(data,encoding='utf-8')\\nvar2 = bytes(data,encoding='utf-16')\\nvar3 = bytes(data,encoding='utf-32')\\nvar4 = bytes(data,encoding='ascii')\\nvar5 = bytes(data,encoding='ansi')\\nprint(var1)\\nprint(var2)\\nprint(var3)\\nprint(var4)\\nprint(var5)\", 'help(bytearray)', \"#help(bytearray)\\nbytearray('helloworld')\", \"#help(bytearray)\\nbytearray('helloworld',encoding='utf-16')\", \"#help(bytearray)\\nx = bytearray('helloworld',encoding='utf-16')\\nprint(x)\\nprint(dir(x))\", \"#help(bytearray)\\nx = bytearray('helloworld',encoding='utf-16')\\nprint(x)\", 'hello.callable', \"hello = 'sachin'\\nhello.callable\", \"hello = 'sachin'\\ncallable(hello)\", 'callable(print)', \"hello = 'sachin'\\nprint(callable(hello))\\nprint(callable(print))\\nprint(callable(if))\", \"hello = 'sachin'\\nprint(callable(hello))\\nprint(callable(print))\\nprint(callable(input))\", '#chr(int) --> will return utf-8 char for given int value\\nprint(chr(1008))\\nprint(chr(3396))\\nprint(chr(65))', '#chr(int) --> will return utf-8 char for given int value\\nprint(chr(1008))\\nprint(chr(3390))\\nprint(chr(65))', '#chr(int) --> will return utf-8 char for given int value\\nprint(chr(1008))\\nprint(chr(3290))\\nprint(chr(65))', '#chr(int) --> will return utf-8 char for given int value\\nprint(chr(1008))\\nprint(chr(3190))\\nprint(chr(65))', '#chr(int) --> will return utf-8 char for given int value\\nprint(chr(1008))\\nprint(chr(3490))\\nprint(chr(65))', \"#ord(char) --> wil return an int value for utf-8 charcter\\n\\nprint(ord('φ'))\", \"#ord(char) --> wil return an int value for utf-8 charcter\\n\\nprint(ord('φ'))\\nprint(chr(966))\", \"#ord(char) --> wil return an int value for utf-8 charcter\\nprint(ord('φ'))\\nprint(chr(966))\", 'compile(\\'print(\"Hello World\")\\')', 'compile(\\'print(\"Hello World\")\\',\\'one\\')', 'print(help(compile))', '#global -->  will print global variables\\nglobals', '#global -->  will print global variables\\nglobals()', '#global -->  will print global variables\\nprint(globals())', '#locals --> for local variables\\n\\nlocals', '#locals --> for local variables\\n\\nlocals()', '#locals --> for local variables\\n\\nprint(locals())', '#hash --> unique value for every object', \"#hash --> unique value for every object\\nprint(hash('sachin'))\", 'print(hash(-630579327259743570))', \"print(hash('sachin'))\", \"#iter --> iterator\\ns = 'python'\\ns = iter(s)\\nwhile True : \\n    next(s)\", \"#iter --> iterator\\ns = 'python'\\ns = iter(s)\\nwhile True : \\n    x  = next(s)\\n    print(x)\", '#vars --> will print symbol table\\n\\nprint(vars)', '#vars --> will print symbol table\\n\\nprint(vars())'], 'Out': {4: False, 13: 4, 23: \"'hello world'\", 25: \"'hello world'\", 31: b'hello world', 32: b'\\xff\\xfeh\\x00e\\x00l\\x00l\\x00o\\x00 \\x00w\\x00o\\x00r\\x00l\\x00d\\x00', 33: b'\\xff\\xfe\\x00\\x00h\\x00\\x00\\x00e\\x00\\x00\\x00l\\x00\\x00\\x00l\\x00\\x00\\x00o\\x00\\x00\\x00 \\x00\\x00\\x00w\\x00\\x00\\x00o\\x00\\x00\\x00r\\x00\\x00\\x00l\\x00\\x00\\x00d\\x00\\x00\\x00', 38: bytearray(b'\\xff\\xfeh\\x00e\\x00l\\x00l\\x00o\\x00w\\x00o\\x00r\\x00l\\x00d\\x00'), 43: False, 44: True, 58: <built-in function globals>, 59: {...}, 61: <built-in function locals>, 62: {...}}, 'get_ipython': <bound method InteractiveShell.get_ipython of <ipykernel.zmqshell.ZMQInteractiveShell object at 0x0000016665589A90>>, 'exit': <IPython.core.autocall.ZMQExitAutocall object at 0x000001666719BB00>, 'quit': <IPython.core.autocall.ZMQExitAutocall object at 0x000001666719BB00>, '_': {...}, '__': <built-in function locals>, '___': {...}, '_i': '#vars --> will print symbol table\\n\\nprint(vars)', '_ii': \"#iter --> iterator\\ns = 'python'\\ns = iter(s)\\nwhile True : \\n    x  = next(s)\\n    print(x)\", '_iii': \"#iter --> iterator\\ns = 'python'\\ns = iter(s)\\nwhile True : \\n    next(s)\", '_i1': '<h2>Type of Function </h2>\\n<ol>\\n<li>Built-in Functions</li>\\n<li>User Define functions</li>\\n</ol>', '_i2': '<h2>Type of Function </h2>m\\n<ol>\\n<li>Built-in Functions</li>\\n<li>User Define functions</li>\\n</ol>', '_i3': \"any([0,','{}',[]',]) # any(sequence) --> will True if any of one in sequence is True\", '_i4': \"any([0,'',{},[],]) # any(sequence) --> will True if any of one in sequence is True\", '_4': False, '_i5': \"one = any([0,'',{},[],]) # any(sequence) --> will True if any of one in sequence is True\\ntwo = any([0,'',{},1])\\nprint(one)\\nprint(two)\", 'one': <enumerate object at 0x000001666719C630>, 'two': <enumerate object at 0x000001666729DCA8>, '_i6': \"#all(sequence) --> return True if all items in seq is True\\none = [ {},1,'hi',[1,2,3]]\\ntwo = [ 1,1.2,1+3j,'hi',[1,2],(2,'hi'),{'one':'two'}]\\nprint(one)\\nprint(two)\", '_i7': \"#all(sequence) --> return True if all items in seq is True\\none = all([ {},1,'hi',[1,2,3]])\\ntwo = all([ 1,1.2,1+3j,'hi',[1,2],(2,'hi'),{'one':'two'}])\\nprint(one)\\nprint(two)\", '_i8': \"#enumerate(seq) function --> will return seq with index values\\none = enumerate('hello')\\ntwo = enumerate(['hi','hello','how','are','you'])\\nthree = enumerate({'one':1,'two':2,'three':3})\\nprint(one)\\nprint(two)\\nprint(three)\", 'three': <enumerate object at 0x00000166672D2E10>, '_i9': \"#enumerate(seq) function --> will return seq with index values\\none = enumerate('hello')\\ntwo = enumerate(['hi','hello','how','are','you'])\\nthree = enumerate({'one':1,'two':2,'three':3})\\nprint(*one)\\nprint(*two)\\nprint(*three)\", '_i10': '#abs() --> will return absolute value \\npi = 22/7\\nprint(pi)\\nprint(abs(pi))', 'pi': 3.142857142857143, '_i11': '#abs() --> will return absolute value \\npi = 22/7\\nprint(pi)\\nx = abs(pi)\\nprint(x)', 'x': 'n', '_i12': '#round() --> round will roundup the float value\\npi = 22/7\\nprint(pi)\\nr = round(pi)\\nprint(r)', 'r': 3, '_i13': '#round() --> round will roundup the float value\\npi = 22/7\\nprint(pi)\\nr = round(pi)\\nprint(r)\\nround(3.6)', '_13': 4, '_i14': '#round() --> round will roundup the float value\\npi = 22/7\\nprint(pi)\\nr = round(pi)\\nprint(r)\\nx = round(3.6)\\nprint(x)', '_i15': '#round() --> round will roundup the float value\\npi = 22/7\\nprint(pi)\\nr = round(pi)\\nprint(r)\\nx = round(3.5)\\nprint(x)', '_i16': '#these are not builtin function these part of math module\\nimport math\\nprint(dir(math))', 'math': <module 'math' (built-in)>, '_i17': \"#these are not builtin function these part of math module\\nimport math\\nprint(dir(math))\\nprint('squreroot of 127 is ',math.sqrt(127))\\nx = math.celi(3.6)\\ny = math.floor(3.6)\\nprint(x)\\nprint(y)\", '_i18': \"#these are not builtin function these part of math module\\nimport math\\nprint(dir(math))\\nprint('squreroot of 127 is ',math.sqrt(127))\\nx = math.cei(l3.6)\\ny = math.floor(3.6)\\nprint(x)\\nprint(y)\", '_i19': \"#these are not builtin function these part of math module\\nimport math\\nprint(dir(math))\\nprint('squreroot of 127 is ',math.sqrt(127))\\nx = math.ceil(3.6)\\ny = math.floor(3.6)\\nprint(x)\\nprint(y)\", 'y': 3, '_i20': \"#these are not builtin function these part of math module\\nimport math\\nprint(dir(math))\\nsq = math.sqrt(127)\\nprint(f'squreroot of 127 is {sq}')\\nx = math.ceil(3.6)\\ny = math.floor(3.6)\\nprint(x)\\nprint(y)\", 'sq': 11.269427669584644, '_i21': \"#these are not builtin function these part of math module\\nimport math\\nprint(dir(math))\\nsq = math.sqrt(127)\\nprint(f'squreroot of 127 is {sq:.3f}')\\nx = math.ceil(3.6)\\ny = math.floor(3.6)\\nprint(x)\\nprint(y)\", '_i22': \"#these are not builtin function these part of math module\\nimport math\\nprint(dir(math))\\nsq = math.sqrt(127)\\nprint(f'squreroot of 127 is {sq:.2f}')\\nx = math.ceil(3.6)\\ny = math.floor(3.6)\\nprint(x)\\nprint(y)\", '_i23': \"ascii('hello world')\", '_23': \"'hello world'\", '_i24': \"#ascii will change utf-8 values to ascii\\ndata = ascii('hello world')\", 'data': 'Hello World', '_i25': \"#ascii will change utf-8 values to ascii\\ndata = ascii('hello world')\\ndata\", '_25': \"'hello world'\", '_i26': \"#ascii will change utf-8 values to ascii\\ndata = ascii('hello world')\\ndata\\nd = ascii('π')\\nprint(d)\", 'd': \"'\\\\u03c0'\", '_i27': \"#ascii will change utf-8 values to ascii\\ndata = ascii('hello world')\\nprint(data)\\nd = ascii('π')\\nprint(d)\", '_i28': 'help(breakpoint)', '_i29': '#breakpoint() --> used to debug a code --> pdb (pythond dubug)\\nhelp(breakpoint)', '_i30': \"bytes('hello world')\", '_i31': \"bytes('hello world',encoding='utf-8')\", '_31': b'hello world', '_i32': \"bytes('hello world',encoding='utf-16')\", '_32': b'\\xff\\xfeh\\x00e\\x00l\\x00l\\x00o\\x00 \\x00w\\x00o\\x00r\\x00l\\x00d\\x00', '_i33': \"bytes('hello world',encoding='utf-32')\", '_33': b'\\xff\\xfe\\x00\\x00h\\x00\\x00\\x00e\\x00\\x00\\x00l\\x00\\x00\\x00l\\x00\\x00\\x00o\\x00\\x00\\x00 \\x00\\x00\\x00w\\x00\\x00\\x00o\\x00\\x00\\x00r\\x00\\x00\\x00l\\x00\\x00\\x00d\\x00\\x00\\x00', '_i34': \"data = 'Hello World'\\nvar1 = bytes(data,encoding='utf-8')\\nvar2 = bytes(data,encoding='utf-16')\\nvar3 = bytes(data,encoding='utf-32')\\nvar4 = bytes(data,encoding='ascii')\\nvar5 = bytes(data,encoding='ansi')\\nvar6 = bytes(data,encoding='utf-64')\\nprint(var1)\\nprint(var2)\\nprint(var3)\\nprint(var4)\\nprint(var5)\\nprint(var6)\", 'var1': b'Hello World', 'var2': b'\\xff\\xfeH\\x00e\\x00l\\x00l\\x00o\\x00 \\x00W\\x00o\\x00r\\x00l\\x00d\\x00', 'var3': b'\\xff\\xfe\\x00\\x00H\\x00\\x00\\x00e\\x00\\x00\\x00l\\x00\\x00\\x00l\\x00\\x00\\x00o\\x00\\x00\\x00 \\x00\\x00\\x00W\\x00\\x00\\x00o\\x00\\x00\\x00r\\x00\\x00\\x00l\\x00\\x00\\x00d\\x00\\x00\\x00', 'var4': b'Hello World', 'var5': b'Hello World', '_i35': \"#bytes --> will change string encoding\\ndata = 'Hello World'\\nvar1 = bytes(data,encoding='utf-8')\\nvar2 = bytes(data,encoding='utf-16')\\nvar3 = bytes(data,encoding='utf-32')\\nvar4 = bytes(data,encoding='ascii')\\nvar5 = bytes(data,encoding='ansi')\\nprint(var1)\\nprint(var2)\\nprint(var3)\\nprint(var4)\\nprint(var5)\", '_i36': 'help(bytearray)', '_i37': \"#help(bytearray)\\nbytearray('helloworld')\", '_i38': \"#help(bytearray)\\nbytearray('helloworld',encoding='utf-16')\", '_38': bytearray(b'\\xff\\xfeh\\x00e\\x00l\\x00l\\x00o\\x00w\\x00o\\x00r\\x00l\\x00d\\x00'), '_i39': \"#help(bytearray)\\nx = bytearray('helloworld',encoding='utf-16')\\nprint(x)\\nprint(dir(x))\", '_i40': \"#help(bytearray)\\nx = bytearray('helloworld',encoding='utf-16')\\nprint(x)\", '_i41': 'hello.callable', '_i42': \"hello = 'sachin'\\nhello.callable\", 'hello': 'sachin', '_i43': \"hello = 'sachin'\\ncallable(hello)\", '_43': False, '_i44': 'callable(print)', '_44': True, '_i45': \"hello = 'sachin'\\nprint(callable(hello))\\nprint(callable(print))\\nprint(callable(if))\", '_i46': \"hello = 'sachin'\\nprint(callable(hello))\\nprint(callable(print))\\nprint(callable(input))\", '_i47': '#chr(int) --> will return utf-8 char for given int value\\nprint(chr(1008))\\nprint(chr(3396))\\nprint(chr(65))', '_i48': '#chr(int) --> will return utf-8 char for given int value\\nprint(chr(1008))\\nprint(chr(3390))\\nprint(chr(65))', '_i49': '#chr(int) --> will return utf-8 char for given int value\\nprint(chr(1008))\\nprint(chr(3290))\\nprint(chr(65))', '_i50': '#chr(int) --> will return utf-8 char for given int value\\nprint(chr(1008))\\nprint(chr(3190))\\nprint(chr(65))', '_i51': '#chr(int) --> will return utf-8 char for given int value\\nprint(chr(1008))\\nprint(chr(3490))\\nprint(chr(65))', '_i52': \"#ord(char) --> wil return an int value for utf-8 charcter\\n\\nprint(ord('φ'))\", '_i53': \"#ord(char) --> wil return an int value for utf-8 charcter\\n\\nprint(ord('φ'))\\nprint(chr(966))\", '_i54': \"#ord(char) --> wil return an int value for utf-8 charcter\\nprint(ord('φ'))\\nprint(chr(966))\", '_i55': 'compile(\\'print(\"Hello World\")\\')', '_i56': 'compile(\\'print(\"Hello World\")\\',\\'one\\')', '_i57': 'print(help(compile))', '_i58': '#global -->  will print global variables\\nglobals', '_58': <built-in function globals>, '_i59': '#global -->  will print global variables\\nglobals()', '_59': {...}, '_i60': '#global -->  will print global variables\\nprint(globals())', '_i61': '#locals --> for local variables\\n\\nlocals', '_61': <built-in function locals>, '_i62': '#locals --> for local variables\\n\\nlocals()', '_62': {...}, '_i63': '#locals --> for local variables\\n\\nprint(locals())', '_i64': '#hash --> unique value for every object', '_i65': \"#hash --> unique value for every object\\nprint(hash('sachin'))\", '_i66': 'print(hash(-630579327259743570))', '_i67': \"print(hash('sachin'))\", '_i68': \"#iter --> iterator\\ns = 'python'\\ns = iter(s)\\nwhile True : \\n    next(s)\", 's': <str_iterator object at 0x0000016667389198>, '_i69': \"#iter --> iterator\\ns = 'python'\\ns = iter(s)\\nwhile True : \\n    x  = next(s)\\n    print(x)\", '_i70': '#vars --> will print symbol table\\n\\nprint(vars)', '_i71': '#vars --> will print symbol table\\n\\nprint(vars())'}\n"
     ]
    }
   ],
   "source": [
    "#vars --> will print symbol table\n",
    "\n",
    "print(vars())"
   ]
  },
  {
   "cell_type": "code",
   "execution_count": 72,
   "metadata": {},
   "outputs": [],
   "source": [
    "def hello():\n",
    "    name = input(\"Enter your name : \") #defination\n",
    "    print(f\"Welcome mr {name} to the world of python\")"
   ]
  },
  {
   "cell_type": "code",
   "execution_count": 73,
   "metadata": {},
   "outputs": [
    {
     "name": "stdout",
     "output_type": "stream",
     "text": [
      "Enter your name : sachin\n",
      "Welcome mr sachin to the world of python\n"
     ]
    }
   ],
   "source": [
    "hello() #user define function"
   ]
  },
  {
   "cell_type": "code",
   "execution_count": 75,
   "metadata": {},
   "outputs": [],
   "source": [
    "def add(x,y):\n",
    "    return x+y #it will x +y"
   ]
  },
  {
   "cell_type": "code",
   "execution_count": 76,
   "metadata": {},
   "outputs": [
    {
     "name": "stdout",
     "output_type": "stream",
     "text": [
      "100\n"
     ]
    }
   ],
   "source": [
    "s = add(45,55)\n",
    "print(s)"
   ]
  },
  {
   "cell_type": "code",
   "execution_count": 1,
   "metadata": {},
   "outputs": [],
   "source": []
  },
  {
   "cell_type": "code",
   "execution_count": 6,
   "metadata": {},
   "outputs": [
    {
     "name": "stdout",
     "output_type": "stream",
     "text": [
      "meena\n",
      "123456\n"
     ]
    }
   ],
   "source": [
    "name = data.get(1002)\n",
    "print(name.get('name'))\n",
    "print(name.get('password'))"
   ]
  },
  {
   "cell_type": "code",
   "execution_count": 50,
   "metadata": {},
   "outputs": [
    {
     "name": "stdout",
     "output_type": "stream",
     "text": [
      "Enter account number : 1002\n",
      "········\n",
      "user meena have loogged sucessfully\n",
      "name = meena\n",
      "password = 123456\n",
      "dob = 1-2-1999\n",
      "language = engilsh\n"
     ]
    }
   ],
   "source": [
    "#formal parameter\n",
    "data = { \n",
    "        1001:{'name':'jitu','password':'jaimatadi'},\n",
    "        1002:{'name':'meena','password':'123456','dob':'1-2-1999','language':'engilsh'},\n",
    "        1003:{'name':'ramwatar','password':'jaishreeram'}\n",
    "            }\n",
    "def login(acc,password):\n",
    "    \"\"\"login(acc,password)--> it will acc and password as argument and \n",
    "    will return True if user with this acc and password exists else\n",
    "    will return false\"\"\" \n",
    "    user_info = data.get(acc,False)\n",
    "    if user_info :\n",
    "        if password == user_info.get('password'):\n",
    "            return user_info\n",
    "        else :\n",
    "            False\n",
    "    else :\n",
    "        return False\n",
    "from getpass import getpass\n",
    "def main():\n",
    "    acc = int(input(\"Enter account number : \"))\n",
    "    p = getpass()\n",
    "    d = login(acc,p)\n",
    "    if  d :\n",
    "        print(f\"user {d.get('name')} have loogged sucessfully\")\n",
    "        for key,value in d.items():\n",
    "            print(f\"{key} = {value}\")\n",
    "    else : \n",
    "        print(\"Invalid username of password\")\n",
    "\n",
    "main()"
   ]
  },
  {
   "cell_type": "code",
   "execution_count": 12,
   "metadata": {},
   "outputs": [
    {
     "name": "stdout",
     "output_type": "stream",
     "text": [
      "login(acc,password)--> it will acc and password as argument and \n",
      "    will return True if user with this acc and password exists else\n",
      "    will return false\n"
     ]
    }
   ],
   "source": [
    "print(login.__doc__)"
   ]
  },
  {
   "cell_type": "code",
   "execution_count": 42,
   "metadata": {},
   "outputs": [],
   "source": []
  },
  {
   "cell_type": "code",
   "execution_count": 17,
   "metadata": {},
   "outputs": [
    {
     "name": "stdout",
     "output_type": "stream",
     "text": [
      "acc = sachin\n",
      "password = yadav\n"
     ]
    }
   ],
   "source": [
    "login('sachin','yadav') #parameter or argumet passing\n",
    "#actual paramenter or actual argument"
   ]
  },
  {
   "cell_type": "code",
   "execution_count": 15,
   "metadata": {},
   "outputs": [
    {
     "data": {
      "text/plain": [
       "<zip at 0x1b8f2f51508>"
      ]
     },
     "execution_count": 15,
     "metadata": {},
     "output_type": "execute_result"
    }
   ],
   "source": []
  },
  {
   "cell_type": "code",
   "execution_count": 45,
   "metadata": {},
   "outputs": [
    {
     "name": "stdout",
     "output_type": "stream",
     "text": [
      "Enter account number : 24\n",
      "········\n",
      "Invalid username of password\n"
     ]
    }
   ],
   "source": [
    "main()"
   ]
  },
  {
   "cell_type": "code",
   "execution_count": 32,
   "metadata": {},
   "outputs": [
    {
     "data": {
      "text/plain": [
       "'jaimatadi'"
      ]
     },
     "execution_count": 32,
     "metadata": {},
     "output_type": "execute_result"
    }
   ],
   "source": [
    "data[1001].get('password')"
   ]
  },
  {
   "cell_type": "code",
   "execution_count": 51,
   "metadata": {},
   "outputs": [
    {
     "data": {
      "text/plain": [
       "{'name': 'ramwatar', 'password': 'jaishreeram'}"
      ]
     },
     "execution_count": 51,
     "metadata": {},
     "output_type": "execute_result"
    }
   ],
   "source": [
    "login(1003,'jaishreeram')"
   ]
  },
  {
   "cell_type": "code",
   "execution_count": 1,
   "metadata": {},
   "outputs": [
    {
     "name": "stdout",
     "output_type": "stream",
     "text": [
      "print(value, ..., sep=' ', end='\\n', file=sys.stdout, flush=False)\n",
      "\n",
      "Prints the values to a stream, or to sys.stdout by default.\n",
      "Optional keyword arguments:\n",
      "file:  a file-like object (stream); defaults to the current sys.stdout.\n",
      "sep:   string inserted between values, default a space.\n",
      "end:   string appended after the last value, default a newline.\n",
      "flush: whether to forcibly flush the stream.\n"
     ]
    }
   ],
   "source": [
    "print(print.__doc__)"
   ]
  },
  {
   "cell_type": "code",
   "execution_count": 2,
   "metadata": {},
   "outputs": [
    {
     "name": "stdout",
     "output_type": "stream",
     "text": [
      "Enter your age : 11\n",
      "Hey!small buddy!!you still away to vote.\n"
     ]
    }
   ],
   "source": [
    "def get_data(age):\n",
    "    '''get_data(age) --> will return True if age >= 18 else False'''\n",
    "    if age >= 18 : \n",
    "        return True\n",
    "    else :\n",
    "        return False\n",
    "age = int(input(\"Enter your age : \"))\n",
    "if get_data(age) : \n",
    "    print(\"You are eligible to vote for your country.\")\n",
    "else : \n",
    "    print(\"Hey!small buddy!!you still away to vote.\")"
   ]
  },
  {
   "cell_type": "code",
   "execution_count": 4,
   "metadata": {},
   "outputs": [
    {
     "data": {
      "text/plain": [
       "True"
      ]
     },
     "execution_count": 4,
     "metadata": {},
     "output_type": "execute_result"
    }
   ],
   "source": [
    "get_data(123)"
   ]
  },
  {
   "cell_type": "code",
   "execution_count": 13,
   "metadata": {},
   "outputs": [
    {
     "name": "stdout",
     "output_type": "stream",
     "text": [
      "None\n"
     ]
    }
   ],
   "source": [
    "def hello(): #defination No argument no return value\n",
    "    pass\n",
    "data = hello()\n",
    "print(data)"
   ]
  },
  {
   "cell_type": "code",
   "execution_count": 14,
   "metadata": {},
   "outputs": [],
   "source": [
    "l = [ var for var in range(100000)]"
   ]
  },
  {
   "cell_type": "code",
   "execution_count": null,
   "metadata": {},
   "outputs": [],
   "source": [
    "data = [ var**2 for var in range(999999999999999999999)]"
   ]
  },
  {
   "cell_type": "raw",
   "metadata": {},
   "source": []
  },
  {
   "cell_type": "code",
   "execution_count": 16,
   "metadata": {},
   "outputs": [
    {
     "ename": "SyntaxError",
     "evalue": "invalid syntax (<ipython-input-16-9161032e19f2>, line 1)",
     "output_type": "error",
     "traceback": [
      "\u001b[1;36m  File \u001b[1;32m\"<ipython-input-16-9161032e19f2>\"\u001b[1;36m, line \u001b[1;32m1\u001b[0m\n\u001b[1;33m    d = [ for var in range(9999999999999999999999999999999) ]\u001b[0m\n\u001b[1;37m            ^\u001b[0m\n\u001b[1;31mSyntaxError\u001b[0m\u001b[1;31m:\u001b[0m invalid syntax\n"
     ]
    }
   ],
   "source": [
    "d = [ for var in range(9999999999999999999999999999999) ]"
   ]
  },
  {
   "cell_type": "code",
   "execution_count": 3,
   "metadata": {},
   "outputs": [
    {
     "name": "stdout",
     "output_type": "stream",
     "text": [
      "Hello World\n",
      "None\n"
     ]
    }
   ],
   "source": [
    "def hello():\n",
    "    print(\"Hello World\")\n",
    "\n",
    "x = hello()\n",
    "print(x)"
   ]
  },
  {
   "cell_type": "code",
   "execution_count": 5,
   "metadata": {},
   "outputs": [
    {
     "name": "stdout",
     "output_type": "stream",
     "text": [
      "123456789hello world\n"
     ]
    }
   ],
   "source": [
    "def hi():\n",
    "    c = 1\n",
    "    while True:\n",
    "        if c == 10 : \n",
    "            return 'hello world'\n",
    "        print(c,end='')\n",
    "        c = c + 1\n",
    "data = hi()\n",
    "print(data)"
   ]
  },
  {
   "cell_type": "code",
   "execution_count": 7,
   "metadata": {},
   "outputs": [
    {
     "name": "stdout",
     "output_type": "stream",
     "text": [
      "5\n",
      "x =  5\n",
      "5\n"
     ]
    }
   ],
   "source": [
    "x = 5\n",
    "print(x)\n",
    "def hello():\n",
    "   # x = x + 5\n",
    "    print(\"x = \",x)\n",
    "    \n",
    "hello()\n",
    "print(x)"
   ]
  },
  {
   "cell_type": "code",
   "execution_count": 9,
   "metadata": {},
   "outputs": [
    {
     "name": "stdout",
     "output_type": "stream",
     "text": [
      "5\n",
      "10\n",
      "5\n"
     ]
    }
   ],
   "source": [
    "x = 5\n",
    "def add(x):\n",
    "    x = x + x\n",
    "    return x\n",
    "\n",
    "print(x)\n",
    "r = add(x)\n",
    "print(r)\n",
    "print(x)"
   ]
  },
  {
   "cell_type": "code",
   "execution_count": 10,
   "metadata": {},
   "outputs": [
    {
     "name": "stdout",
     "output_type": "stream",
     "text": [
      "125\n"
     ]
    }
   ],
   "source": [
    "x = 5\n",
    "def add():\n",
    "    global x \n",
    "    x = x**3\n",
    "add()\n",
    "print(x)"
   ]
  },
  {
   "cell_type": "code",
   "execution_count": null,
   "metadata": {},
   "outputs": [],
   "source": []
  }
 ],
 "metadata": {
  "kernelspec": {
   "display_name": "Python 3",
   "language": "python",
   "name": "python3"
  },
  "language_info": {
   "codemirror_mode": {
    "name": "ipython",
    "version": 3
   },
   "file_extension": ".py",
   "mimetype": "text/x-python",
   "name": "python",
   "nbconvert_exporter": "python",
   "pygments_lexer": "ipython3",
   "version": "3.6.5"
  }
 },
 "nbformat": 4,
 "nbformat_minor": 2
}
