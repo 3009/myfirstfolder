{
 "cells": [
  {
   "cell_type": "raw",
   "metadata": {},
   "source": [
    "                              CLASS\n",
    "1. Encapsulation --> binding different data into a single unit.\n",
    "\n",
    "2. Abstraction --> (Encapsulation + data hiding) hiding background  details while showing essential informtion.\n",
    "\n",
    "3. Data hiding/information hiding\n",
    "4. Data Binding --> we can change at run time.\n",
    "\n",
    "5. Inheritance\n",
    "\n",
    "6. Polymorphism --> many forms(one function with different data or functionality)\n",
    "\n",
    "7. Class\n",
    "8. Object or instance or real time entity"
   ]
  },
  {
   "cell_type": "raw",
   "metadata": {},
   "source": [
    "x=5 --> public variable (can be inherit)\n",
    "\n",
    "_x=5 --> protected variable (we can see the functionality but we cannot modify and can be inherit)\n",
    "\n",
    "__x=5 --> private variable (cannot be inherit)\n",
    "__x__ --> magic methods"
   ]
  },
  {
   "cell_type": "raw",
   "metadata": {},
   "source": [
    "super class\n",
    "base class or parent class\n",
    "derived class or child class"
   ]
  },
  {
   "cell_type": "markdown",
   "metadata": {},
   "source": [
    "python doesnot support function overloading because python is a pure OPPS and it support overriding or polymorphism as its use classes.\n"
   ]
  },
  {
   "cell_type": "raw",
   "metadata": {},
   "source": [
    "Name space for class and self space for objects.\n",
    "clas space is shared memory (the changes in class affect all the objects) and object space is self space.\n",
    "\n",
    "Ques --> why we think in object way but not in class way."
   ]
  },
  {
   "cell_type": "raw",
   "metadata": {},
   "source": [
    "by default every class inherit one class and object and type is superclass for every class and it automatically inherit in the class."
   ]
  },
  {
   "cell_type": "raw",
   "metadata": {},
   "source": [
    "when ever we define function in a class then the first argument must be self"
   ]
  },
  {
   "cell_type": "raw",
   "metadata": {},
   "source": [
    "function in function is called closure and __init__ is a constructor method in python. and closure is used "
   ]
  },
  {
   "cell_type": "raw",
   "metadata": {},
   "source": [
    "CONSTRUCTOR -->\n",
    "__new__  --> it will allocate memory for the objects and by default at first constructors are call whenever we create object (x= person()).\n",
    "__init__ --> it will make the default values for the objects.\n",
    "\n",
    "but in python we dont use __new__ because by default garbage collector do all the things."
   ]
  },
  {
   "cell_type": "code",
   "execution_count": null,
   "metadata": {},
   "outputs": [],
   "source": [
    "MRO"
   ]
  }
 ],
 "metadata": {
  "kernelspec": {
   "display_name": "Python 3",
   "language": "python",
   "name": "python3"
  },
  "language_info": {
   "codemirror_mode": {
    "name": "ipython",
    "version": 3
   },
   "file_extension": ".py",
   "mimetype": "text/x-python",
   "name": "python",
   "nbconvert_exporter": "python",
   "pygments_lexer": "ipython3",
   "version": "3.6.5"
  }
 },
 "nbformat": 4,
 "nbformat_minor": 2
}
