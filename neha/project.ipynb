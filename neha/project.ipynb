{
 "cells": [
  {
   "cell_type": "raw",
   "metadata": {},
   "source": [
    "                        LIBRARY MANAGEMENT SYSTEM"
   ]
  },
  {
   "cell_type": "code",
   "execution_count": 1,
   "metadata": {},
   "outputs": [],
   "source": [
    "data = { \n",
    "        1001: { 'username':'ram','password':'123redhat','branch':'CSE','email':'ram@gmail.com','ph_no':1234567890,'addr':'jaipur'},\n",
    "        1002: { 'username':'shyam','password':'redhat123','branch':'EEE','email':'shyam@gmail.com','ph_no':123453490,'addr':'kota'},\n",
    "        1003: { 'username':'priyanka','password':'Asimov','branch':'ECE','email':'hari@gmail.com','ph_no':1223567230,'addr':'ajmer'},    \n",
    "     }\n",
    "from getpass import getpass"
   ]
  },
  {
   "cell_type": "code",
   "execution_count": 2,
   "metadata": {},
   "outputs": [],
   "source": [
    "def issue_book(std_id):\n",
    "    pass\n",
    "    "
   ]
  },
  {
   "cell_type": "code",
   "execution_count": 3,
   "metadata": {},
   "outputs": [],
   "source": [
    "def deposit_book(std_id):\n",
    "    pass"
   ]
  },
  {
   "cell_type": "code",
   "execution_count": null,
   "metadata": {},
   "outputs": [],
   "source": [
    "def choice(std_id):\n",
    "    print(\"\\n\\nChoose one of the service : \")\n",
    "            print(\"\\n1.issue\\n2.depost\\n3.Logout\")\n",
    "            ch = int(input(\"Enter your Choice : \"))\n",
    "            if ch == 1 : \n",
    "                issue_book(acc_no)\n",
    "            elif ch == 2 : \n",
    "                deposit_book(acc_no)\n",
    "            elif ch == 3 :\n",
    "                print(\" Logging you out \")\n",
    "                main()\n",
    "            else : \n",
    "                print(\"Invalid Choice\")\n",
    "                choice(std_id)\n",
    "            "
   ]
  }
 ],
 "metadata": {
  "kernelspec": {
   "display_name": "Python 3",
   "language": "python",
   "name": "python3"
  },
  "language_info": {
   "codemirror_mode": {
    "name": "ipython",
    "version": 3
   },
   "file_extension": ".py",
   "mimetype": "text/x-python",
   "name": "python",
   "nbconvert_exporter": "python",
   "pygments_lexer": "ipython3",
   "version": "3.6.5"
  }
 },
 "nbformat": 4,
 "nbformat_minor": 2
}
