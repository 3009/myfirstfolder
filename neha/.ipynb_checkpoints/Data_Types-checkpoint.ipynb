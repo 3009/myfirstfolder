{
 "cells": [
  {
   "cell_type": "markdown",
   "metadata": {},
   "source": [
    "<h1 style='color:#123456'>Data Types</h1>\n",
    "\n",
    "<ol style='color:#123456'>\n",
    "    <li>Numbers --> int, float, complex</li>\n",
    "    <li>Strings --> group of characters like 'hello'</li>\n",
    "    <li>List --> group of valid python objects or data types [ 1,2,3,4] </li>\n",
    "    <li>Tuples --> Same as list but immutable, like we can not change it</li>\n",
    "    <li>Dictionary --> always store key-value pairs, </li>\n",
    "    <li>Sets --> it implementation of set theory in python</li>\n",
    "   </ol>\n",
    "    \n",
    " <img src='logo.png' height=50 width=50 align=top>"
   ]
  },
  {
   "cell_type": "code",
   "execution_count": 1,
   "metadata": {},
   "outputs": [
    {
     "name": "stdout",
     "output_type": "stream",
     "text": [
      "Hello World\n",
      "Enter your name112\n",
      "WElcome user  112\n"
     ]
    }
   ],
   "source": [
    "print(\"Hello World\") #for output\n",
    "name = input(\"Enter your name\") #for input\n",
    "\"\"\"\n",
    "name --> variable hai, jisko main contanier bolunga\n",
    "\"\"\"\n",
    "print(\"WElcome user \",name)"
   ]
  },
  {
   "cell_type": "code",
   "execution_count": 2,
   "metadata": {},
   "outputs": [
    {
     "name": "stdout",
     "output_type": "stream",
     "text": [
      "<class 'int'>\n",
      "Value of x =  28736827632738727638\n"
     ]
    }
   ],
   "source": [
    "x = 28736827632738727638\n",
    "print(type(x))\n",
    "print(\"Value of x = \",x)"
   ]
  },
  {
   "cell_type": "code",
   "execution_count": 3,
   "metadata": {},
   "outputs": [
    {
     "name": "stdout",
     "output_type": "stream",
     "text": [
      "['False', 'None', 'True', 'and', 'as', 'assert', 'break', 'class', 'continue', 'def', 'del', 'elif', 'else', 'except', 'finally', 'for', 'from', 'global', 'if', 'import', 'in', 'is', 'lambda', 'nonlocal', 'not', 'or', 'pass', 'raise', 'return', 'try', 'while', 'with', 'yield']\n"
     ]
    }
   ],
   "source": [
    "from keyword import kwlist\n",
    "print(kwlist)"
   ]
  },
  {
   "cell_type": "code",
   "execution_count": 4,
   "metadata": {},
   "outputs": [
    {
     "name": "stdout",
     "output_type": "stream",
     "text": [
      "982739\n"
     ]
    }
   ],
   "source": [
    "anything = 982739\n",
    "print(anything)"
   ]
  },
  {
   "cell_type": "code",
   "execution_count": 5,
   "metadata": {},
   "outputs": [
    {
     "name": "stdout",
     "output_type": "stream",
     "text": [
      "Enter a number : 1\n",
      "<class 'int'>\n",
      "Value =  1\n"
     ]
    }
   ],
   "source": [
    "num = input(\"Enter a number : \")\n",
    "num = int(num)\n",
    "print(type(num))\n",
    "print(\"Value = \",num)"
   ]
  },
  {
   "cell_type": "code",
   "execution_count": 6,
   "metadata": {},
   "outputs": [
    {
     "data": {
      "text/plain": [
       "int"
      ]
     },
     "execution_count": 6,
     "metadata": {},
     "output_type": "execute_result"
    }
   ],
   "source": [
    "type(num)"
   ]
  },
  {
   "cell_type": "code",
   "execution_count": 7,
   "metadata": {
    "scrolled": true
   },
   "outputs": [
    {
     "name": "stdout",
     "output_type": "stream",
     "text": [
      "Enter a number : 1\n"
     ]
    },
    {
     "data": {
      "text/plain": [
       "1"
      ]
     },
     "execution_count": 7,
     "metadata": {},
     "output_type": "execute_result"
    }
   ],
   "source": [
    "num = int(input(\"Enter a number : \"))\n",
    "type(num)\n",
    "num"
   ]
  },
  {
   "cell_type": "code",
   "execution_count": 8,
   "metadata": {},
   "outputs": [
    {
     "name": "stdout",
     "output_type": "stream",
     "text": [
      "Enter a number : 1\n",
      "<class 'int'>\n",
      "1\n"
     ]
    }
   ],
   "source": [
    "num = int(input(\"Enter a number : \"))\n",
    "print(type(num))\n",
    "print(num)"
   ]
  },
  {
   "cell_type": "code",
   "execution_count": 9,
   "metadata": {},
   "outputs": [
    {
     "name": "stdout",
     "output_type": "stream",
     "text": [
      "<class 'float'>\n",
      "value of x =  6.534\n"
     ]
    }
   ],
   "source": [
    "#float\n",
    "x = 6.534\n",
    "print(type(x))\n",
    "print(\"value of x = \",x)"
   ]
  },
  {
   "cell_type": "code",
   "execution_count": 10,
   "metadata": {},
   "outputs": [
    {
     "name": "stdout",
     "output_type": "stream",
     "text": [
      "Enter a number : 123\n",
      "<class 'float'>\n",
      "value =  123.0\n"
     ]
    }
   ],
   "source": [
    "num  = float(input(\"Enter a number : \"))\n",
    "print(type(num))\n",
    "print(\"value = \",num)"
   ]
  },
  {
   "cell_type": "code",
   "execution_count": 11,
   "metadata": {},
   "outputs": [
    {
     "name": "stdout",
     "output_type": "stream",
     "text": [
      "Bit Length =  763 bits\n",
      "Size taken byx =  128 bytes\n"
     ]
    }
   ],
   "source": [
    "x = 29847983274923041239847237489239083278947239848924893248927894178947329847981324798324798327493274327984327984329849328498302498324983274983249832789473298473289479832749832798473298439284792379487398432947329479327432432874983247\n",
    "print(\"Bit Length = \",x.bit_length(),'bits')\n",
    "print(\"Size taken byx = \",x.__sizeof__(),\"bytes\")"
   ]
  },
  {
   "cell_type": "code",
   "execution_count": 12,
   "metadata": {},
   "outputs": [
    {
     "name": "stdout",
     "output_type": "stream",
     "text": [
      "<class 'complex'>\n",
      "value =  (3+5j)\n"
     ]
    }
   ],
   "source": [
    "x = 3+5j\n",
    "print(type(x))\n",
    "print(\"value = \",x)"
   ]
  },
  {
   "cell_type": "code",
   "execution_count": 13,
   "metadata": {},
   "outputs": [
    {
     "name": "stdout",
     "output_type": "stream",
     "text": [
      "X =  (5+3j)\n",
      "Y =  (5-3j)\n",
      "result =  (34+0j)\n"
     ]
    }
   ],
   "source": [
    "x = 5+3j\n",
    "y = 5-3j\n",
    "result = x*y\n",
    "print(\"X = \",x)\n",
    "print(\"Y = \",y)\n",
    "print(\"result = \",result)\n"
   ]
  },
  {
   "cell_type": "code",
   "execution_count": 14,
   "metadata": {},
   "outputs": [
    {
     "name": "stdout",
     "output_type": "stream",
     "text": [
      "Enter complex num : 123\n",
      "Enter another complex : 312\n",
      "Type of x =  <class 'complex'>\n",
      "Type of y =  <class 'complex'>\n",
      "Value of x =  (123+0j)\n",
      "Value of y =  (312+0j)\n",
      "Multiplication of complex number :  (38376+0j)\n"
     ]
    }
   ],
   "source": [
    "x = complex(input(\"Enter complex num : \"))\n",
    "y = complex(input(\"Enter another complex : \"))\n",
    "print(\"Type of x = \",type(x))\n",
    "print(\"Type of y = \",type(y))\n",
    "print(\"Value of x = \",x)\n",
    "print(\"Value of y = \",y)\n",
    "print(\"Multiplication of complex number : \",x*y)"
   ]
  },
  {
   "cell_type": "code",
   "execution_count": 15,
   "metadata": {},
   "outputs": [
    {
     "name": "stdout",
     "output_type": "stream",
     "text": [
      "Number : 23\n"
     ]
    },
    {
     "data": {
      "text/plain": [
       "int"
      ]
     },
     "execution_count": 15,
     "metadata": {},
     "output_type": "execute_result"
    }
   ],
   "source": [
    "x = eval(input(\"Number : \"))\n",
    "type(x)"
   ]
  },
  {
   "cell_type": "code",
   "execution_count": 16,
   "metadata": {},
   "outputs": [
    {
     "data": {
      "text/plain": [
       "11"
      ]
     },
     "execution_count": 16,
     "metadata": {},
     "output_type": "execute_result"
    }
   ],
   "source": [
    "5+6"
   ]
  },
  {
   "cell_type": "code",
   "execution_count": 17,
   "metadata": {},
   "outputs": [
    {
     "data": {
      "text/plain": [
       "30"
      ]
     },
     "execution_count": 17,
     "metadata": {},
     "output_type": "execute_result"
    }
   ],
   "source": [
    "5*6"
   ]
  },
  {
   "cell_type": "code",
   "execution_count": 18,
   "metadata": {},
   "outputs": [
    {
     "data": {
      "text/plain": [
       "3.3333333333333335"
      ]
     },
     "execution_count": 18,
     "metadata": {},
     "output_type": "execute_result"
    }
   ],
   "source": [
    "10/3"
   ]
  },
  {
   "cell_type": "code",
   "execution_count": 19,
   "metadata": {},
   "outputs": [
    {
     "data": {
      "text/plain": [
       "(10+7.2j)"
      ]
     },
     "execution_count": 19,
     "metadata": {},
     "output_type": "execute_result"
    }
   ],
   "source": [
    "10.0+3j / 2.5+6j"
   ]
  },
  {
   "cell_type": "code",
   "execution_count": 20,
   "metadata": {},
   "outputs": [
    {
     "data": {
      "text/plain": [
       "27"
      ]
     },
     "execution_count": 20,
     "metadata": {},
     "output_type": "execute_result"
    }
   ],
   "source": [
    "3**3"
   ]
  },
  {
   "cell_type": "code",
   "execution_count": 21,
   "metadata": {},
   "outputs": [
    {
     "data": {
      "text/plain": [
       "16"
      ]
     },
     "execution_count": 21,
     "metadata": {},
     "output_type": "execute_result"
    }
   ],
   "source": [
    "2**4"
   ]
  },
  {
   "cell_type": "code",
   "execution_count": 22,
   "metadata": {},
   "outputs": [
    {
     "name": "stdout",
     "output_type": "stream",
     "text": [
      "['__abs__', '__add__', '__and__', '__bool__', '__ceil__', '__class__', '__delattr__', '__dir__', '__divmod__', '__doc__', '__eq__', '__float__', '__floor__', '__floordiv__', '__format__', '__ge__', '__getattribute__', '__getnewargs__', '__gt__', '__hash__', '__index__', '__init__', '__init_subclass__', '__int__', '__invert__', '__le__', '__lshift__', '__lt__', '__mod__', '__mul__', '__ne__', '__neg__', '__new__', '__or__', '__pos__', '__pow__', '__radd__', '__rand__', '__rdivmod__', '__reduce__', '__reduce_ex__', '__repr__', '__rfloordiv__', '__rlshift__', '__rmod__', '__rmul__', '__ror__', '__round__', '__rpow__', '__rrshift__', '__rshift__', '__rsub__', '__rtruediv__', '__rxor__', '__setattr__', '__sizeof__', '__str__', '__sub__', '__subclasshook__', '__truediv__', '__trunc__', '__xor__', 'bit_length', 'conjugate', 'denominator', 'from_bytes', 'imag', 'numerator', 'real', 'to_bytes']\n"
     ]
    }
   ],
   "source": [
    "x = 5\n",
    "print(dir(x))"
   ]
  },
  {
   "cell_type": "markdown",
   "metadata": {},
   "source": [
    "<h1 style='color:#123123'>Strings</h1>\n",
    "<h2 style='color:#123456'>strings are combinations of characters define inside single quotes or double quotes. eg. 'hello world' or \"123hello\" </h2>"
   ]
  },
  {
   "cell_type": "code",
   "execution_count": 23,
   "metadata": {},
   "outputs": [
    {
     "name": "stdout",
     "output_type": "stream",
     "text": [
      "Enter your name : sachin\n"
     ]
    }
   ],
   "source": [
    "name = input(\"Enter your name : \")"
   ]
  },
  {
   "cell_type": "code",
   "execution_count": 24,
   "metadata": {},
   "outputs": [
    {
     "data": {
      "text/plain": [
       "'name'"
      ]
     },
     "execution_count": 24,
     "metadata": {},
     "output_type": "execute_result"
    }
   ],
   "source": [
    "\"name\""
   ]
  },
  {
   "cell_type": "code",
   "execution_count": 25,
   "metadata": {},
   "outputs": [
    {
     "data": {
      "text/plain": [
       "'sachin'"
      ]
     },
     "execution_count": 25,
     "metadata": {},
     "output_type": "execute_result"
    }
   ],
   "source": [
    "name"
   ]
  },
  {
   "cell_type": "code",
   "execution_count": 26,
   "metadata": {},
   "outputs": [
    {
     "name": "stdout",
     "output_type": "stream",
     "text": [
      "enter something : hi i am something\n"
     ]
    }
   ],
   "source": [
    "name = input(prompt='enter something : ' )\n",
    "#name = 'hi i am something'"
   ]
  },
  {
   "cell_type": "code",
   "execution_count": 27,
   "metadata": {},
   "outputs": [
    {
     "data": {
      "text/plain": [
       "'hi i am something'"
      ]
     },
     "execution_count": 27,
     "metadata": {},
     "output_type": "execute_result"
    }
   ],
   "source": [
    "name"
   ]
  },
  {
   "cell_type": "code",
   "execution_count": 28,
   "metadata": {},
   "outputs": [
    {
     "name": "stdout",
     "output_type": "stream",
     "text": [
      "<class 'str'>\n"
     ]
    }
   ],
   "source": [
    "type_name = type(name)\n",
    "print(type_name)"
   ]
  },
  {
   "cell_type": "code",
   "execution_count": 30,
   "metadata": {},
   "outputs": [
    {
     "name": "stdout",
     "output_type": "stream",
     "text": [
      "X : 12\n",
      "Y : 12\n",
      "24\n"
     ]
    }
   ],
   "source": [
    "x = input(\"X : \")\n",
    "x = int(x)\n",
    "y = int(input(\"Y : \"))\n",
    "print(x+y)"
   ]
  },
  {
   "cell_type": "code",
   "execution_count": 31,
   "metadata": {},
   "outputs": [],
   "source": [
    "s = \"Hello World\"\n",
    "s1 = 'hi how are you '"
   ]
  },
  {
   "cell_type": "code",
   "execution_count": 32,
   "metadata": {},
   "outputs": [
    {
     "name": "stdout",
     "output_type": "stream",
     "text": [
      "Hello World\n",
      "hi how are you \n",
      "<class 'str'> <class 'str'>\n"
     ]
    }
   ],
   "source": [
    "print(s)\n",
    "print(s1)\n",
    "print(type(s),type(s1))"
   ]
  },
  {
   "cell_type": "code",
   "execution_count": 34,
   "metadata": {},
   "outputs": [
    {
     "name": "stdout",
     "output_type": "stream",
     "text": [
      "Hello my name is sachin i am going to teach you python. python is awesome language, simple as well aspowerfull enough to hadle all kind of situtations in programming\n"
     ]
    }
   ],
   "source": [
    "s = \"Hello \\\n",
    "my name is sachin \\\n",
    "i am going to teach you python. \\\n",
    "python is awesome language, simple as well as\\\n",
    "powerfull enough to hadle all kind of situtations in programming\"\n",
    "\n",
    "print(s)"
   ]
  },
  {
   "cell_type": "code",
   "execution_count": 39,
   "metadata": {},
   "outputs": [
    {
     "name": "stdout",
     "output_type": "stream",
     "text": [
      "Hello \n",
      "my name is sachin \n",
      "    i am going to teach you python. \n",
      "python is  awesome language, simple as well as\n",
      "powerfull enough to hadle all kind of situtations in programming\n"
     ]
    },
    {
     "data": {
      "text/plain": [
       "'Hello \\nmy name is sachin \\n    i am going to teach you python. \\npython is  awesome language, simple as well as\\npowerfull enough to hadle all kind of situtations in programming'"
      ]
     },
     "execution_count": 39,
     "metadata": {},
     "output_type": "execute_result"
    }
   ],
   "source": [
    "s = \"\"\"Hello \n",
    "my name is sachin \n",
    "    i am going to teach you python. \n",
    "python is  awesome language, simple as well as\n",
    "powerfull enough to hadle all kind of situtations in programming\"\"\"\n",
    "\n",
    "print(s)\n",
    "s"
   ]
  },
  {
   "cell_type": "code",
   "execution_count": 37,
   "metadata": {},
   "outputs": [
    {
     "name": "stdout",
     "output_type": "stream",
     "text": [
      "hello\n",
      "hi how are\t you\n",
      "\tgood to go\n"
     ]
    }
   ],
   "source": [
    "s = \"hello\\nhi how are\\t you\\n\\tgood to go\"\n",
    "print(s)"
   ]
  },
  {
   "cell_type": "code",
   "execution_count": 40,
   "metadata": {},
   "outputs": [
    {
     "name": "stdout",
     "output_type": "stream",
     "text": [
      "Hello\n",
      "hi\thow\tare\tyou\n",
      "good to go\n"
     ]
    }
   ],
   "source": [
    "s = \"Hello\\nhi\\thow\\tare\\tyou\\ngood to go\"\n",
    "print(s)"
   ]
  },
  {
   "cell_type": "code",
   "execution_count": 41,
   "metadata": {},
   "outputs": [
    {
     "ename": "SyntaxError",
     "evalue": "invalid syntax (<ipython-input-41-993a26b64c19>, line 1)",
     "output_type": "error",
     "traceback": [
      "\u001b[1;36m  File \u001b[1;32m\"<ipython-input-41-993a26b64c19>\"\u001b[1;36m, line \u001b[1;32m1\u001b[0m\n\u001b[1;33m    s = \"He said,\"she is Beautiful.\"\"\u001b[0m\n\u001b[1;37m                    ^\u001b[0m\n\u001b[1;31mSyntaxError\u001b[0m\u001b[1;31m:\u001b[0m invalid syntax\n"
     ]
    }
   ],
   "source": [
    "s = \"He said,\"she is Beautiful.\"\"\n",
    "print(s)"
   ]
  },
  {
   "cell_type": "code",
   "execution_count": 42,
   "metadata": {},
   "outputs": [
    {
     "name": "stdout",
     "output_type": "stream",
     "text": [
      "He said,\"she is Beautiful.\"\n"
     ]
    }
   ],
   "source": [
    "s = 'He said,\"she is Beautiful.\"'\n",
    "print(s)"
   ]
  },
  {
   "cell_type": "code",
   "execution_count": 43,
   "metadata": {},
   "outputs": [
    {
     "name": "stdout",
     "output_type": "stream",
     "text": [
      "He said,\"she is Beautiful.\"\n"
     ]
    }
   ],
   "source": [
    "# \\ --> escape charcter ( escape sequence )\n",
    "#\\n --> new line\n",
    "#\\t --> tab space ( by default 8 spaces )\n",
    "# encodig used by python is utf-8\n",
    "# # --> is used comment lines ( python will not read lines startig with #)\n",
    "s = \"He said,\\\"she is Beautiful.\\\"\"\n",
    "print(s)\n",
    "#Question --> read about all esacape sequences in python\n",
    "#eg. \\n, \\t, \\h, \\b, \\a, \\w what is the meaning of all ? \n",
    "#reference sites --> python.org, python-course.eu, \n",
    "#geeksforgeeks, tutorials point"
   ]
  },
  {
   "cell_type": "code",
   "execution_count": 46,
   "metadata": {},
   "outputs": [
    {
     "ename": "SyntaxError",
     "evalue": "EOL while scanning string literal (<ipython-input-46-abdc1990c68e>, line 3)",
     "output_type": "error",
     "traceback": [
      "\u001b[1;36m  File \u001b[1;32m\"<ipython-input-46-abdc1990c68e>\"\u001b[1;36m, line \u001b[1;32m3\u001b[0m\n\u001b[1;33m    print(\"Hello World\u001b[0m\n\u001b[1;37m                       ^\u001b[0m\n\u001b[1;31mSyntaxError\u001b[0m\u001b[1;31m:\u001b[0m EOL while scanning string literal\n"
     ]
    }
   ],
   "source": [
    "# ; --> usually used in every language as statement termination operator\n",
    "# python used \\n (new line ) as statement termination\n",
    "print(\"Hello World \n",
    "      #statement already terminated half\n",
    "      \")\n",
    "      \n",
    "#EOF --> End Of Line --> when statement is not complete"
   ]
  },
  {
   "cell_type": "code",
   "execution_count": 47,
   "metadata": {},
   "outputs": [
    {
     "name": "stdout",
     "output_type": "stream",
     "text": [
      "Hello world         \n"
     ]
    }
   ],
   "source": [
    "#\\ is also work as line continutation \n",
    "print(\"Hello world \\\n",
    "        \")\n"
   ]
  },
  {
   "cell_type": "code",
   "execution_count": 48,
   "metadata": {},
   "outputs": [
    {
     "name": "stdout",
     "output_type": "stream",
     "text": [
      "Hello how are you \n",
      " this is good to use back-slash when you want to coninue same line in new line use as we are using here\n"
     ]
    }
   ],
   "source": [
    "print(\"Hello how are you \\n this is good to use back-slash \\\n",
    "when you want to coninue same line in new line use \\\n",
    "as we are using here\")"
   ]
  },
  {
   "cell_type": "code",
   "execution_count": 49,
   "metadata": {},
   "outputs": [
    {
     "name": "stdout",
     "output_type": "stream",
     "text": [
      "Three quotes\n",
      "        generally used to \n",
      "        \n",
      "declear multi-line strings\n",
      "        where you can write your\n",
      "whole paragraph without worry about\n",
      "        how you should store it. \n",
      "        \n"
     ]
    }
   ],
   "source": [
    "para = \"\"\"Three quotes\n",
    "        generally used to \n",
    "        \n",
    "declear multi-line strings\n",
    "        where you can write your\n",
    "whole paragraph without worry about\n",
    "        how you should store it. \n",
    "        \"\"\"\n",
    "# x = 5 --> initilization\n",
    "# name = 'sachin' --> it also known as declaration\n",
    "print(para)"
   ]
  },
  {
   "cell_type": "code",
   "execution_count": 52,
   "metadata": {},
   "outputs": [
    {
     "name": "stdout",
     "output_type": "stream",
     "text": [
      "triple quotes are alose used to give multi-line comments\n"
     ]
    }
   ],
   "source": [
    "#here is an example of multiple line comments\n",
    "\"\"\" everything is object in python\n",
    " object is run time instance of a class\n",
    " class is just combination of methonds and attributes\n",
    " methods  are step by step procedure to slove a problem and also\n",
    " known as functions.\n",
    " attributes are the operators like + , - which decide behaviour\n",
    " \"\"\"\n",
    "print(\"triple quotes are alose used to give multi-line comments\")"
   ]
  },
  {
   "cell_type": "code",
   "execution_count": 53,
   "metadata": {},
   "outputs": [
    {
     "name": "stdout",
     "output_type": "stream",
     "text": [
      "['__add__', '__class__', '__contains__', '__delattr__', '__dir__', '__doc__', '__eq__', '__format__', '__ge__', '__getattribute__', '__getitem__', '__getnewargs__', '__gt__', '__hash__', '__init__', '__init_subclass__', '__iter__', '__le__', '__len__', '__lt__', '__mod__', '__mul__', '__ne__', '__new__', '__reduce__', '__reduce_ex__', '__repr__', '__rmod__', '__rmul__', '__setattr__', '__sizeof__', '__str__', '__subclasshook__', 'capitalize', 'casefold', 'center', 'count', 'encode', 'endswith', 'expandtabs', 'find', 'format', 'format_map', 'index', 'isalnum', 'isalpha', 'isdecimal', 'isdigit', 'isidentifier', 'islower', 'isnumeric', 'isprintable', 'isspace', 'istitle', 'isupper', 'join', 'ljust', 'lower', 'lstrip', 'maketrans', 'partition', 'replace', 'rfind', 'rindex', 'rjust', 'rpartition', 'rsplit', 'rstrip', 'split', 'splitlines', 'startswith', 'strip', 'swapcase', 'title', 'translate', 'upper', 'zfill']\n"
     ]
    }
   ],
   "source": [
    "# dir(obj) --> will all attributes and methods of obj\n",
    "s = \"hello world \" # s is an object of string class\n",
    "print(dir(s)) # dir(s) will print all function of string class"
   ]
  },
  {
   "cell_type": "code",
   "execution_count": 54,
   "metadata": {},
   "outputs": [
    {
     "name": "stdout",
     "output_type": "stream",
     "text": [
      "['__abs__', '__add__', '__and__', '__bool__', '__ceil__', '__class__', '__delattr__', '__dir__', '__divmod__', '__doc__', '__eq__', '__float__', '__floor__', '__floordiv__', '__format__', '__ge__', '__getattribute__', '__getnewargs__', '__gt__', '__hash__', '__index__', '__init__', '__init_subclass__', '__int__', '__invert__', '__le__', '__lshift__', '__lt__', '__mod__', '__mul__', '__ne__', '__neg__', '__new__', '__or__', '__pos__', '__pow__', '__radd__', '__rand__', '__rdivmod__', '__reduce__', '__reduce_ex__', '__repr__', '__rfloordiv__', '__rlshift__', '__rmod__', '__rmul__', '__ror__', '__round__', '__rpow__', '__rrshift__', '__rshift__', '__rsub__', '__rtruediv__', '__rxor__', '__setattr__', '__sizeof__', '__str__', '__sub__', '__subclasshook__', '__truediv__', '__trunc__', '__xor__', 'bit_length', 'conjugate', 'denominator', 'from_bytes', 'imag', 'numerator', 'real', 'to_bytes']\n"
     ]
    }
   ],
   "source": [
    "x = 5 # x is an integer object\n",
    "print(dir(x)) # wil print methods and attributes of integer class"
   ]
  },
  {
   "cell_type": "code",
   "execution_count": 55,
   "metadata": {},
   "outputs": [
    {
     "name": "stdout",
     "output_type": "stream",
     "text": [
      "['__abs__', '__add__', '__bool__', '__class__', '__delattr__', '__dir__', '__divmod__', '__doc__', '__eq__', '__float__', '__floordiv__', '__format__', '__ge__', '__getattribute__', '__getformat__', '__getnewargs__', '__gt__', '__hash__', '__init__', '__init_subclass__', '__int__', '__le__', '__lt__', '__mod__', '__mul__', '__ne__', '__neg__', '__new__', '__pos__', '__pow__', '__radd__', '__rdivmod__', '__reduce__', '__reduce_ex__', '__repr__', '__rfloordiv__', '__rmod__', '__rmul__', '__round__', '__rpow__', '__rsub__', '__rtruediv__', '__setattr__', '__setformat__', '__sizeof__', '__str__', '__sub__', '__subclasshook__', '__truediv__', '__trunc__', 'as_integer_ratio', 'conjugate', 'fromhex', 'hex', 'imag', 'is_integer', 'real']\n"
     ]
    }
   ],
   "source": [
    "print(dir(float)) # will list all attributes and methods of float class"
   ]
  },
  {
   "cell_type": "code",
   "execution_count": 56,
   "metadata": {},
   "outputs": [
    {
     "name": "stdout",
     "output_type": "stream",
     "text": [
      "11\n"
     ]
    }
   ],
   "source": [
    "x = 5\n",
    "y = 6\n",
    "print(x+y)"
   ]
  },
  {
   "cell_type": "code",
   "execution_count": 58,
   "metadata": {},
   "outputs": [
    {
     "name": "stdout",
     "output_type": "stream",
     "text": [
      "11\n"
     ]
    }
   ],
   "source": [
    "x = 5 ; y = 6 # ; is used terminate statement and we can use it\n",
    "#to give multiple statements in a single line\n",
    "print(x.__add__(y))"
   ]
  },
  {
   "cell_type": "code",
   "execution_count": 59,
   "metadata": {},
   "outputs": [],
   "source": [
    "s = \"Hello World\" #string is group of char\n",
    "#each charcter has it's position and it starts from 0\n",
    "#we call index number"
   ]
  },
  {
   "cell_type": "code",
   "execution_count": 64,
   "metadata": {},
   "outputs": [
    {
     "data": {
      "text/plain": [
       "'W'"
      ]
     },
     "execution_count": 64,
     "metadata": {},
     "output_type": "execute_result"
    }
   ],
   "source": [
    "s[6] # indexing --> we are travsing 6 position char"
   ]
  },
  {
   "cell_type": "code",
   "execution_count": 66,
   "metadata": {},
   "outputs": [
    {
     "name": "stdout",
     "output_type": "stream",
     "text": [
      "l l H o e\n"
     ]
    }
   ],
   "source": [
    "print(s[3],s[2],s[0],s[4],s[1])"
   ]
  },
  {
   "cell_type": "code",
   "execution_count": 68,
   "metadata": {},
   "outputs": [
    {
     "name": "stdout",
     "output_type": "stream",
     "text": [
      "['__add__', '__class__', '__contains__', '__delattr__', '__dir__', '__doc__', '__eq__', '__format__', '__ge__', '__getattribute__', '__getitem__', '__getnewargs__', '__gt__', '__hash__', '__init__', '__init_subclass__', '__iter__', '__le__', '__len__', '__lt__', '__mod__', '__mul__', '__ne__', '__new__', '__reduce__', '__reduce_ex__', '__repr__', '__rmod__', '__rmul__', '__setattr__', '__sizeof__', '__str__', '__subclasshook__', 'capitalize', 'casefold', 'center', 'count', 'encode', 'endswith', 'expandtabs', 'find', 'format', 'format_map', 'index', 'isalnum', 'isalpha', 'isdecimal', 'isdigit', 'isidentifier', 'islower', 'isnumeric', 'isprintable', 'isspace', 'istitle', 'isupper', 'join', 'ljust', 'lower', 'lstrip', 'maketrans', 'partition', 'replace', 'rfind', 'rindex', 'rjust', 'rpartition', 'rsplit', 'rstrip', 'split', 'splitlines', 'startswith', 'strip', 'swapcase', 'title', 'translate', 'upper', 'zfill']\n"
     ]
    }
   ],
   "source": [
    "print(dir(s))"
   ]
  },
  {
   "cell_type": "code",
   "execution_count": 69,
   "metadata": {},
   "outputs": [
    {
     "data": {
      "text/plain": [
       "'HELLO WORLD'"
      ]
     },
     "execution_count": 69,
     "metadata": {},
     "output_type": "execute_result"
    }
   ],
   "source": [
    "# obj.method() --> . is known access specifier and used check whether\n",
    "# obj can use method or not\n",
    "s.upper()"
   ]
  },
  {
   "cell_type": "code",
   "execution_count": 71,
   "metadata": {},
   "outputs": [
    {
     "data": {
      "text/plain": [
       "'****************************************************************************************************************************************************************************************************************************************************Hello World*****************************************************************************************************************************************************************************************************************************************************'"
      ]
     },
     "execution_count": 71,
     "metadata": {},
     "output_type": "execute_result"
    }
   ],
   "source": [
    "s.center(500,\"*\")"
   ]
  },
  {
   "cell_type": "code",
   "execution_count": 73,
   "metadata": {},
   "outputs": [
    {
     "name": "stdout",
     "output_type": "stream",
     "text": [
      "Help on built-in function strip:\n",
      "\n",
      "strip(...) method of builtins.str instance\n",
      "    S.strip([chars]) -> str\n",
      "    \n",
      "    Return a copy of the string S with leading and trailing\n",
      "    whitespace removed.\n",
      "    If chars is given and not None, remove characters in chars instead.\n",
      "\n"
     ]
    }
   ],
   "source": [
    "help(s.strip)"
   ]
  },
  {
   "cell_type": "code",
   "execution_count": 76,
   "metadata": {},
   "outputs": [
    {
     "name": "stdout",
     "output_type": "stream",
     "text": [
      "S.strip([chars]) -> str\n",
      "\n",
      "Return a copy of the string S with leading and trailing\n",
      "whitespace removed.\n",
      "If chars is given and not None, remove characters in chars instead.\n"
     ]
    }
   ],
   "source": [
    "print(s.strip.__doc__)\n",
    "#help(obj.method) --> will print help for particular method\n",
    "#obj.method.__doc__ --> will print default documentation regarding method\n",
    "#__doc__ doc-string (documentation string)\n",
    "# __ is also known as dunder\n",
    "# __doc__ will also called dunder doc or dunder methods\n",
    "# all methods that stars with __ are know as either magic methods\n",
    "# of dunder (double underscore) methods"
   ]
  },
  {
   "cell_type": "code",
   "execution_count": 3,
   "metadata": {},
   "outputs": [
    {
     "name": "stdout",
     "output_type": "stream",
     "text": [
      "Help on method raw_input in module ipykernel.kernelbase:\n",
      "\n",
      "raw_input(prompt='') method of ipykernel.ipkernel.IPythonKernel instance\n",
      "    Forward raw_input to frontends\n",
      "    \n",
      "    Raises\n",
      "    ------\n",
      "    StdinNotImplentedError if active frontend doesn't support stdin.\n",
      "\n"
     ]
    }
   ],
   "source": [
    "help(input)"
   ]
  },
  {
   "cell_type": "code",
   "execution_count": 6,
   "metadata": {},
   "outputs": [
    {
     "name": "stdout",
     "output_type": "stream",
     "text": [
      "Length of string s is =  12\n"
     ]
    }
   ],
   "source": [
    "s = \"Hello World!\"\n",
    "#len(str) --> it will return length of the string str (no of chars in str)\n",
    "print(\"Length of string s is = \",len(s))"
   ]
  },
  {
   "cell_type": "code",
   "execution_count": 7,
   "metadata": {},
   "outputs": [],
   "source": [
    "# index --> position of char (item) inside a string (sequence)\n",
    "# positive indexing --> it starts from 0 and goes up to len(str) -  1\n",
    "# it means first item will at position 0\n",
    "# and last will be at position len(str) - 1 (n-1, where n is length of string)\n",
    "#negative indexing --> it starts from -1 upto -len(str)\n",
    "#it means last item will at position -1 \n",
    "# and first will at position -len(str) ( -n , where n is length of string)"
   ]
  },
  {
   "cell_type": "code",
   "execution_count": 8,
   "metadata": {},
   "outputs": [
    {
     "name": "stdout",
     "output_type": "stream",
     "text": [
      "l\n"
     ]
    }
   ],
   "source": [
    "s = \"Hello World!\"\n",
    "# [] --> is used travese an index number and known as indexing\n",
    "\n",
    "item = s[3] # we are travesing item at position 3 \n",
    "#[n] --> [] indexing and n is index number\n",
    "print(item)"
   ]
  },
  {
   "cell_type": "raw",
   "metadata": {},
   "source": [
    "#Q. find index number ? \n",
    "s = \"Hello World!\"\n",
    "x = ?  #x is positive index of W i Hello World!\n",
    "y = ? #y is negative index of W in Hello World!\n",
    "p_item = s[x]\n",
    "n_item = s[y]\n",
    "\n",
    "print(\"W with positive index\",p_item)\n",
    "print(\"W with negative index\",n_item)"
   ]
  },
  {
   "cell_type": "code",
   "execution_count": 9,
   "metadata": {},
   "outputs": [
    {
     "name": "stdout",
     "output_type": "stream",
     "text": [
      "W with positive index W\n",
      "W with negative index W\n"
     ]
    }
   ],
   "source": [
    "#Ans find index number ? \n",
    "s = \"Hello World!\"\n",
    "x = 6  #x is positive index of W i Hello World!\n",
    "y = -6 #y is negative index of W in Hello World!\n",
    "p_item = s[x]\n",
    "n_item = s[y]\n",
    "\n",
    "print(\"W with positive index\",p_item)\n",
    "print(\"W with negative index\",n_item)"
   ]
  },
  {
   "cell_type": "code",
   "execution_count": 10,
   "metadata": {},
   "outputs": [
    {
     "data": {
      "text/plain": [
       "'helloworld'"
      ]
     },
     "execution_count": 10,
     "metadata": {},
     "output_type": "execute_result"
    }
   ],
   "source": [
    "'hello' + 'world' #we can concatenate strings "
   ]
  },
  {
   "cell_type": "markdown",
   "metadata": {},
   "source": [
    "<h1 style='color:#123456'>mutable and immutable data types</h1>\n",
    "\n",
    "<h2 style='color:#123345'>mutable --> we can change or modify the structure of data structure or data type like we can add or remove items from data structure.eg list, dictionary, sets</h2>\n",
    "<h2 style='color:#123345'>immutable --> we can neigther change or nor modify the structure of data type if it is immutable. eg. numbers, strings, tuples</h2>"
   ]
  },
  {
   "cell_type": "code",
   "execution_count": 16,
   "metadata": {},
   "outputs": [
    {
     "name": "stdout",
     "output_type": "stream",
     "text": [
      "Hello World!\n",
      "l\n"
     ]
    },
    {
     "ename": "TypeError",
     "evalue": "'str' object does not support item assignment",
     "output_type": "error",
     "traceback": [
      "\u001b[1;31m---------------------------------------------------------------------------\u001b[0m",
      "\u001b[1;31mTypeError\u001b[0m                                 Traceback (most recent call last)",
      "\u001b[1;32m<ipython-input-16-573d79e703d7>\u001b[0m in \u001b[0;36m<module>\u001b[1;34m()\u001b[0m\n\u001b[0;32m      4\u001b[0m \u001b[0mprint\u001b[0m\u001b[1;33m(\u001b[0m\u001b[0ms\u001b[0m\u001b[1;33m[\u001b[0m\u001b[1;36m2\u001b[0m\u001b[1;33m]\u001b[0m\u001b[1;33m)\u001b[0m\u001b[1;33m\u001b[0m\u001b[0m\n\u001b[0;32m      5\u001b[0m \u001b[1;33m\u001b[0m\u001b[0m\n\u001b[1;32m----> 6\u001b[1;33m \u001b[0ms\u001b[0m\u001b[1;33m[\u001b[0m\u001b[1;36m2\u001b[0m\u001b[1;33m]\u001b[0m \u001b[1;33m=\u001b[0m \u001b[1;34m'i'\u001b[0m \u001b[1;31m#trying to change s[2] which is l with i\u001b[0m\u001b[1;33m\u001b[0m\u001b[0m\n\u001b[0m\u001b[0;32m      7\u001b[0m \u001b[1;31m#error because list is mutable\u001b[0m\u001b[1;33m\u001b[0m\u001b[1;33m\u001b[0m\u001b[0m\n",
      "\u001b[1;31mTypeError\u001b[0m: 'str' object does not support item assignment"
     ]
    }
   ],
   "source": [
    "#strings are mutable so we can not change them\n",
    "s = \"Hello World!\"\n",
    "print(s)\n",
    "print(s[2])\n",
    "\n",
    "s[2] = 'i' #trying to change s[2] which is l with i\n",
    "#error because list is mutable\n"
   ]
  },
  {
   "cell_type": "code",
   "execution_count": 12,
   "metadata": {},
   "outputs": [
    {
     "name": "stdout",
     "output_type": "stream",
     "text": [
      "ell\n",
      "ell\n"
     ]
    }
   ],
   "source": [
    "# ell ? \n",
    "# () --> paranthesis --> used to call a function like pirnt()\n",
    "# [] --> square barkets --> used for traversing or indexing like str[5]\n",
    "s = \"Hello World!\"\n",
    "#ans = s[?] + s[?] + s[?]\n",
    "ans1 = s[1] + s[2] + s[3]\n",
    "ans2 = s[-11] + s[-10] + s[-9]\n",
    "print(ans1)\n",
    "print(ans2)"
   ]
  },
  {
   "cell_type": "code",
   "execution_count": 19,
   "metadata": {},
   "outputs": [
    {
     "name": "stdout",
     "output_type": "stream",
     "text": [
      "llo W\n",
      "Hello World!\n"
     ]
    }
   ],
   "source": [
    "#Slicing --> used to get a sub-string (part of a string) from a string\n",
    "# str[start:end:step] where \n",
    "# start --> index from where we will start traversing\n",
    "# end --> index where we should end our traversing\n",
    "# step --> we will jump steps to travers items from start --> end\n",
    "name = \"Hello World!\"\n",
    "ans = name[2:7:1]\n",
    "#will start from 2 means l\n",
    "#will end at 7 means W but as indexing starts from 0 we always go end -1\n",
    "#we will end at 6\n",
    "#sliced string is --> \"llo \" \n",
    "#traverse with step 1 it means travers all inside string\n",
    "print(ans)\n",
    "print(name)"
   ]
  },
  {
   "cell_type": "code",
   "execution_count": 20,
   "metadata": {},
   "outputs": [
    {
     "name": "stdout",
     "output_type": "stream",
     "text": [
      "l o\n",
      "Hello World!\n"
     ]
    }
   ],
   "source": [
    "s = \"Hello World!\"\n",
    "ans = name[3:9:2]\n",
    "print(ans)\n",
    "print(s)"
   ]
  },
  {
   "cell_type": "code",
   "execution_count": 21,
   "metadata": {},
   "outputs": [
    {
     "name": "stdout",
     "output_type": "stream",
     "text": [
      "eoo\n",
      "Hello World!\n"
     ]
    }
   ],
   "source": [
    "s = \"Hello World!\"\n",
    "ans = s[1:10:3]\n",
    "print(ans)\n",
    "print(s)"
   ]
  },
  {
   "cell_type": "code",
   "execution_count": 22,
   "metadata": {},
   "outputs": [
    {
     "name": "stdout",
     "output_type": "stream",
     "text": [
      "\n",
      "Hello World!\n"
     ]
    }
   ],
   "source": [
    "s  = \"Hello World!\"\n",
    "ans = s[10:1:2]\n",
    "print(ans)\n",
    "print(s)"
   ]
  },
  {
   "cell_type": "code",
   "execution_count": 23,
   "metadata": {},
   "outputs": [
    {
     "name": "stdout",
     "output_type": "stream",
     "text": [
      "drWol\n",
      "Hello World!\n"
     ]
    }
   ],
   "source": [
    "s  = \"Hello World!\"\n",
    "ans = s[10:1:-2]\n",
    "print(ans)\n",
    "print(s)"
   ]
  },
  {
   "cell_type": "code",
   "execution_count": 26,
   "metadata": {},
   "outputs": [
    {
     "name": "stdout",
     "output_type": "stream",
     "text": [
      "Hello World!\n",
      "\n"
     ]
    }
   ],
   "source": [
    "s = \"Hello World!\"\n",
    "ans = s[0:len(s):-1]\n",
    "print(s)\n",
    "print(ans)"
   ]
  },
  {
   "cell_type": "code",
   "execution_count": 28,
   "metadata": {},
   "outputs": [
    {
     "name": "stdout",
     "output_type": "stream",
     "text": [
      "12\n",
      "Hello World!\n",
      "!dlroW olle\n"
     ]
    }
   ],
   "source": [
    "s = \"Hello World!\"\n",
    "print(len(s))\n",
    "ans = s[len(s):0:-1]\n",
    "print(s)\n",
    "print(ans)"
   ]
  },
  {
   "cell_type": "code",
   "execution_count": 29,
   "metadata": {},
   "outputs": [
    {
     "name": "stdout",
     "output_type": "stream",
     "text": [
      "!dlroW oll\n"
     ]
    }
   ],
   "source": [
    "print(s[15:1:-1])"
   ]
  },
  {
   "cell_type": "code",
   "execution_count": 30,
   "metadata": {},
   "outputs": [
    {
     "data": {
      "text/plain": [
       "'l ol'"
      ]
     },
     "execution_count": 30,
     "metadata": {},
     "output_type": "execute_result"
    }
   ],
   "source": [
    "s[3:11:2]"
   ]
  },
  {
   "cell_type": "code",
   "execution_count": 31,
   "metadata": {},
   "outputs": [
    {
     "data": {
      "text/plain": [
       "'doo'"
      ]
     },
     "execution_count": 31,
     "metadata": {},
     "output_type": "execute_result"
    }
   ],
   "source": [
    "s[10:2:-3]"
   ]
  },
  {
   "cell_type": "code",
   "execution_count": 32,
   "metadata": {},
   "outputs": [
    {
     "name": "stdout",
     "output_type": "stream",
     "text": [
      "Hello World!\n",
      "Hello World!\n",
      "Hello Worl\n",
      "l r!\n",
      "!dlroW olleH\n"
     ]
    }
   ],
   "source": [
    "s = \"Hello World!\" # by default step = 1\n",
    "j = s[:] #Hello World!\n",
    "print(j)\n",
    "k = s[::] #Hello World!\n",
    "print(k)\n",
    "l = s[:10] #Hello Worl\n",
    "print(l)\n",
    "m = s[2::3] #l r!\n",
    "print(m)\n",
    "n = s[::-1] #!dlroW olleH\n",
    "print(n)"
   ]
  },
  {
   "cell_type": "code",
   "execution_count": 33,
   "metadata": {},
   "outputs": [
    {
     "name": "stdout",
     "output_type": "stream",
     "text": [
      "Hello World\n"
     ]
    }
   ],
   "source": [
    "s = \"Hello World!\"\n",
    "print(s[:-1])"
   ]
  },
  {
   "cell_type": "code",
   "execution_count": 34,
   "metadata": {},
   "outputs": [
    {
     "name": "stdout",
     "output_type": "stream",
     "text": [
      "llo Worl\n"
     ]
    }
   ],
   "source": [
    "s = \"Hello World!\"\n",
    "name = s[-10:-2]\n",
    "print(name)"
   ]
  },
  {
   "cell_type": "code",
   "execution_count": 35,
   "metadata": {},
   "outputs": [],
   "source": [
    "s = \"Hello World!\"\n",
    "name = s[-6:5:2]"
   ]
  },
  {
   "cell_type": "code",
   "execution_count": 37,
   "metadata": {},
   "outputs": [
    {
     "name": "stdout",
     "output_type": "stream",
     "text": [
      "Wr\n"
     ]
    }
   ],
   "source": [
    "s = \"Hello World!\"\n",
    "name = s[-6:10:2]\n",
    "print(name)"
   ]
  },
  {
   "cell_type": "code",
   "execution_count": 39,
   "metadata": {},
   "outputs": [
    {
     "name": "stdout",
     "output_type": "stream",
     "text": [
      "['__add__', '__class__', '__contains__', '__delattr__', '__dir__', '__doc__', '__eq__', '__format__', '__ge__', '__getattribute__', '__getitem__', '__getnewargs__', '__gt__', '__hash__', '__init__', '__init_subclass__', '__iter__', '__le__', '__len__', '__lt__', '__mod__', '__mul__', '__ne__', '__new__', '__reduce__', '__reduce_ex__', '__repr__', '__rmod__', '__rmul__', '__setattr__', '__sizeof__', '__str__', '__subclasshook__', 'capitalize', 'casefold', 'center', 'count', 'encode', 'endswith', 'expandtabs', 'find', 'format', 'format_map', 'index', 'isalnum', 'isalpha', 'isdecimal', 'isdigit', 'isidentifier', 'islower', 'isnumeric', 'isprintable', 'isspace', 'istitle', 'isupper', 'join', 'ljust', 'lower', 'lstrip', 'maketrans', 'partition', 'replace', 'rfind', 'rindex', 'rjust', 'rpartition', 'rsplit', 'rstrip', 'split', 'splitlines', 'startswith', 'strip', 'swapcase', 'title', 'translate', 'upper', 'zfill']\n"
     ]
    }
   ],
   "source": [
    "print(dir(str))"
   ]
  },
  {
   "cell_type": "code",
   "execution_count": 42,
   "metadata": {},
   "outputs": [
    {
     "name": "stdout",
     "output_type": "stream",
     "text": [
      "Help on built-in function capitalize:\n",
      "\n",
      "capitalize(...) method of builtins.str instance\n",
      "    S.capitalize() -> str\n",
      "    \n",
      "    Return a capitalized version of S, i.e. make the first character\n",
      "    have upper case and the rest lower case.\n",
      "\n",
      "None\n"
     ]
    }
   ],
   "source": [
    "s = \"hello world!\"\n",
    "print(help(s.capitalize))"
   ]
  },
  {
   "cell_type": "code",
   "execution_count": 43,
   "metadata": {},
   "outputs": [
    {
     "name": "stdout",
     "output_type": "stream",
     "text": [
      "S.capitalize() -> str\n",
      "\n",
      "Return a capitalized version of S, i.e. make the first character\n",
      "have upper case and the rest lower case.\n"
     ]
    }
   ],
   "source": [
    "print(s.capitalize.__doc__) #doc-string"
   ]
  },
  {
   "cell_type": "code",
   "execution_count": 45,
   "metadata": {},
   "outputs": [
    {
     "name": "stdout",
     "output_type": "stream",
     "text": [
      "hello WorLD!\n",
      "Hello world!\n"
     ]
    }
   ],
   "source": [
    "s = \"hello WorLD!\"\n",
    "k = s.capitalize()\n",
    "print(s)\n",
    "print(k)"
   ]
  },
  {
   "cell_type": "code",
   "execution_count": 53,
   "metadata": {},
   "outputs": [
    {
     "name": "stdout",
     "output_type": "stream",
     "text": [
      "S.center(width[, fillchar]) -> str\n",
      "\n",
      "Return S centered in a string of length width. Padding is\n",
      "done using the specified fill character (default is a space)\n",
      "MY name is KHAN\n",
      "                 MY name is KHAN                  \n",
      "#################MY name is KHAN##################\n"
     ]
    }
   ],
   "source": [
    "s = \"MY name is KHAN\"\n",
    "print(s.center.__doc__)\n",
    "k = s.center(50)\n",
    "l = s.center(50,'#')\n",
    "print(s)\n",
    "print(k)\n",
    "print(l)"
   ]
  },
  {
   "cell_type": "code",
   "execution_count": 55,
   "metadata": {},
   "outputs": [
    {
     "name": "stdout",
     "output_type": "stream",
     "text": [
      "S.split(sep=None, maxsplit=-1) -> list of strings\n",
      "\n",
      "Return a list of the words in S, using sep as the\n",
      "delimiter string.  If maxsplit is given, at most maxsplit\n",
      "splits are done. If sep is not specified or is None, any\n",
      "whitespace string is a separator and empty strings are\n",
      "removed from the result.\n",
      "Hello World how are you ? what's going on let's discover split.\n",
      "['Hello', 'World', 'how', 'are', 'you', '?', \"what's\", 'going', 'on', \"let's\", 'discover', 'split.']\n"
     ]
    }
   ],
   "source": [
    "s = \"Hello World how are you ? what's going on let's discover split.\"\n",
    "print(s.split.__doc__)\n",
    "l = s.split()\n",
    "print(s)\n",
    "print(l)"
   ]
  },
  {
   "cell_type": "code",
   "execution_count": 62,
   "metadata": {},
   "outputs": [
    {
     "name": "stdout",
     "output_type": "stream",
     "text": [
      "['Hello my name is khan', ' i am not a terrist', ' do you understand']\n"
     ]
    }
   ],
   "source": [
    "s = \"Hello my name is khan, i am not a terrist, do you understand\"\n",
    "k = s.split(',')\n",
    "print(k)"
   ]
  },
  {
   "cell_type": "code",
   "execution_count": 64,
   "metadata": {},
   "outputs": [
    {
     "name": "stdout",
     "output_type": "stream",
     "text": [
      "\"\\nhello world. how are you ?\\nthis is strings in python.\\ni am learning strings as well it's function.\\n\"\n"
     ]
    }
   ],
   "source": [
    "s = \"\"\"\n",
    "hello world. how are you ?\n",
    "this is strings in python.\n",
    "i am learning strings as well it's function.\n",
    "\"\"\"\n",
    "print(repr(s))"
   ]
  },
  {
   "cell_type": "code",
   "execution_count": 66,
   "metadata": {},
   "outputs": [
    {
     "name": "stdout",
     "output_type": "stream",
     "text": [
      "['', 'hello world. how are you ?', 'this is strings in python.', \"i am learning strings as well it's function.\", '']\n"
     ]
    }
   ],
   "source": [
    "k = s.split('\\n')\n",
    "print(k)"
   ]
  },
  {
   "cell_type": "code",
   "execution_count": 67,
   "metadata": {},
   "outputs": [
    {
     "name": "stdout",
     "output_type": "stream",
     "text": [
      "\"\\t\\t\\n\\nhello world. how are you ?\\t\\t\\n\\nthis is strings in python.\\t\\t\\n\\ni am learning strings as well it's function.\\t\\t\\n\\n\"\n"
     ]
    }
   ],
   "source": [
    "join = '\\t\\t\\n\\n'.join(k)\n",
    "print(repr(join))"
   ]
  },
  {
   "cell_type": "code",
   "execution_count": 68,
   "metadata": {},
   "outputs": [
    {
     "name": "stdout",
     "output_type": "stream",
     "text": [
      "\t\t\n",
      "\n",
      "hello world. how are you ?\t\t\n",
      "\n",
      "this is strings in python.\t\t\n",
      "\n",
      "i am learning strings as well it's function.\t\t\n",
      "\n",
      "\n"
     ]
    }
   ],
   "source": [
    "print(join)"
   ]
  },
  {
   "cell_type": "code",
   "execution_count": 69,
   "metadata": {},
   "outputs": [
    {
     "name": "stdout",
     "output_type": "stream",
     "text": [
      "['Hello', 'World', 'how', 'are', 'you', '?']\n"
     ]
    }
   ],
   "source": [
    "s = \"Hello World how are you ? \"\n",
    "k = s.split()\n",
    "print(k)"
   ]
  },
  {
   "cell_type": "code",
   "execution_count": 70,
   "metadata": {},
   "outputs": [
    {
     "name": "stdout",
     "output_type": "stream",
     "text": [
      "Hello-^-.^-World-^-.^-how-^-.^-are-^-.^-you-^-.^-?\n"
     ]
    }
   ],
   "source": [
    "new_string = '-^-.^-'.join(k)\n",
    "print(new_string)"
   ]
  },
  {
   "cell_type": "code",
   "execution_count": 71,
   "metadata": {},
   "outputs": [
    {
     "name": "stdout",
     "output_type": "stream",
     "text": [
      "Dog is not like cat, and cat is not like Dog.\n",
      "CAT is not like cat, and cat is not like CAT.\n"
     ]
    }
   ],
   "source": [
    "s = \"Dog is not like cat, and cat is not like Dog.\"\n",
    "k = s.replace('Dog','CAT')\n",
    "print(s)\n",
    "print(k)"
   ]
  },
  {
   "cell_type": "code",
   "execution_count": 73,
   "metadata": {},
   "outputs": [
    {
     "name": "stdout",
     "output_type": "stream",
     "text": [
      "['__add__', '__class__', '__contains__', '__delattr__', '__dir__', '__doc__', '__eq__', '__format__', '__ge__', '__getattribute__', '__getitem__', '__getnewargs__', '__gt__', '__hash__', '__init__', '__init_subclass__', '__iter__', '__le__', '__len__', '__lt__', '__mod__', '__mul__', '__ne__', '__new__', '__reduce__', '__reduce_ex__', '__repr__', '__rmod__', '__rmul__', '__setattr__', '__sizeof__', '__str__', '__subclasshook__', 'capitalize', 'casefold', 'center', 'count', 'encode', 'endswith', 'expandtabs', 'find', 'format', 'format_map', 'index', 'isalnum', 'isalpha', 'isdecimal', 'isdigit', 'isidentifier', 'islower', 'isnumeric', 'isprintable', 'isspace', 'istitle', 'isupper', 'join', 'ljust', 'lower', 'lstrip', 'maketrans', 'partition', 'replace', 'rfind', 'rindex', 'rjust', 'rpartition', 'rsplit', 'rstrip', 'split', 'splitlines', 'startswith', 'strip', 'swapcase', 'title', 'translate', 'upper', 'zfill']\n"
     ]
    }
   ],
   "source": [
    "print(dir(s))"
   ]
  },
  {
   "cell_type": "code",
   "execution_count": null,
   "metadata": {},
   "outputs": [],
   "source": []
  }
 ],
 "metadata": {
  "kernelspec": {
   "display_name": "Python 3",
   "language": "python",
   "name": "python3"
  },
  "language_info": {
   "codemirror_mode": {
    "name": "ipython",
    "version": 3
   },
   "file_extension": ".py",
   "mimetype": "text/x-python",
   "name": "python",
   "nbconvert_exporter": "python",
   "pygments_lexer": "ipython3",
   "version": "3.6.5"
  }
 },
 "nbformat": 4,
 "nbformat_minor": 2
}
