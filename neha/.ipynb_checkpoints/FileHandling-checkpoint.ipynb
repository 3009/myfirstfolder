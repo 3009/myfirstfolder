{
 "cells": [
  {
   "cell_type": "markdown",
   "metadata": {},
   "source": [
    "<h1 style='color:#123456'>File Handling</h1>"
   ]
  },
  {
   "cell_type": "code",
   "execution_count": 2,
   "metadata": {},
   "outputs": [
    {
     "data": {
      "text/plain": [
       "'C:\\\\batch10'"
      ]
     },
     "execution_count": 2,
     "metadata": {},
     "output_type": "execute_result"
    }
   ],
   "source": [
    "import os \n",
    "os.getcwd()"
   ]
  },
  {
   "cell_type": "code",
   "execution_count": 3,
   "metadata": {},
   "outputs": [
    {
     "ename": "FileNotFoundError",
     "evalue": "[Errno 2] No such file or directory: 'abracadabra'",
     "output_type": "error",
     "traceback": [
      "\u001b[1;31m---------------------------------------------------------------------------\u001b[0m",
      "\u001b[1;31mFileNotFoundError\u001b[0m                         Traceback (most recent call last)",
      "\u001b[1;32m<ipython-input-3-28af197d41a5>\u001b[0m in \u001b[0;36m<module>\u001b[1;34m()\u001b[0m\n\u001b[1;32m----> 1\u001b[1;33m \u001b[0mfp\u001b[0m \u001b[1;33m=\u001b[0m \u001b[0mopen\u001b[0m\u001b[1;33m(\u001b[0m\u001b[1;34m'abracadabra'\u001b[0m\u001b[1;33m)\u001b[0m\u001b[1;33m\u001b[0m\u001b[0m\n\u001b[0m",
      "\u001b[1;31mFileNotFoundError\u001b[0m: [Errno 2] No such file or directory: 'abracadabra'"
     ]
    }
   ],
   "source": [
    "fp = open('abracadabra')"
   ]
  },
  {
   "cell_type": "code",
   "execution_count": 6,
   "metadata": {},
   "outputs": [
    {
     "name": "stdout",
     "output_type": "stream",
     "text": [
      "c:\\data\\you\\me\\thank\\you\n",
      "c:\\data\\you\\me\\thank\\you\n"
     ]
    }
   ],
   "source": [
    "name = input()\n",
    "print(name)"
   ]
  },
  {
   "cell_type": "code",
   "execution_count": 7,
   "metadata": {},
   "outputs": [
    {
     "name": "stdout",
     "output_type": "stream",
     "text": [
      "'c:\\\\data\\\\you\\\\me\\\\thank\\\\you'\n"
     ]
    }
   ],
   "source": [
    "print(repr(name))"
   ]
  },
  {
   "cell_type": "code",
   "execution_count": 8,
   "metadata": {},
   "outputs": [
    {
     "data": {
      "text/plain": [
       "'c:\\\\data\\\\you\\\\me\\\\thank\\\\you'"
      ]
     },
     "execution_count": 8,
     "metadata": {},
     "output_type": "execute_result"
    }
   ],
   "source": [
    "name"
   ]
  },
  {
   "cell_type": "code",
   "execution_count": 13,
   "metadata": {},
   "outputs": [
    {
     "name": "stdout",
     "output_type": "stream",
     "text": [
      "\\n\n"
     ]
    }
   ],
   "source": [
    "print(\"\\\\n\")"
   ]
  },
  {
   "cell_type": "code",
   "execution_count": 3,
   "metadata": {},
   "outputs": [],
   "source": [
    "fp = open('C:\\\\users\\\\sachin\\\\Desktop\\\\aws_instance.ppk')"
   ]
  },
  {
   "cell_type": "code",
   "execution_count": 4,
   "metadata": {},
   "outputs": [
    {
     "name": "stdout",
     "output_type": "stream",
     "text": [
      "<class '_io.TextIOWrapper'>\n"
     ]
    }
   ],
   "source": [
    "print(type(fp))"
   ]
  },
  {
   "cell_type": "code",
   "execution_count": 5,
   "metadata": {},
   "outputs": [
    {
     "name": "stdout",
     "output_type": "stream",
     "text": [
      "['_CHUNK_SIZE', '__class__', '__del__', '__delattr__', '__dict__', '__dir__', '__doc__', '__enter__', '__eq__', '__exit__', '__format__', '__ge__', '__getattribute__', '__getstate__', '__gt__', '__hash__', '__init__', '__init_subclass__', '__iter__', '__le__', '__lt__', '__ne__', '__new__', '__next__', '__reduce__', '__reduce_ex__', '__repr__', '__setattr__', '__sizeof__', '__str__', '__subclasshook__', '_checkClosed', '_checkReadable', '_checkSeekable', '_checkWritable', '_finalizing', 'buffer', 'close', 'closed', 'detach', 'encoding', 'errors', 'fileno', 'flush', 'isatty', 'line_buffering', 'mode', 'name', 'newlines', 'read', 'readable', 'readline', 'readlines', 'reconfigure', 'seek', 'seekable', 'tell', 'truncate', 'writable', 'write', 'write_through', 'writelines']\n"
     ]
    }
   ],
   "source": [
    "print(dir(fp))"
   ]
  },
  {
   "cell_type": "code",
   "execution_count": 6,
   "metadata": {},
   "outputs": [],
   "source": [
    "# read, write, tell, seek , readline, readlines, readable, writeable, seekabled"
   ]
  },
  {
   "cell_type": "code",
   "execution_count": 7,
   "metadata": {},
   "outputs": [
    {
     "name": "stdout",
     "output_type": "stream",
     "text": [
      "File name = C:\\users\\sachin\\Desktop\\aws_instance.ppk\n"
     ]
    }
   ],
   "source": [
    "print(f\"File name = {fp.name}\")"
   ]
  },
  {
   "cell_type": "code",
   "execution_count": 9,
   "metadata": {},
   "outputs": [
    {
     "name": "stdout",
     "output_type": "stream",
     "text": [
      "Is seekable = True\n"
     ]
    }
   ],
   "source": [
    "print(f\"Is seekable = {fp.seekable()}\")"
   ]
  },
  {
   "cell_type": "code",
   "execution_count": 14,
   "metadata": {},
   "outputs": [
    {
     "name": "stdout",
     "output_type": "stream",
     "text": [
      "Is readable = True\n"
     ]
    }
   ],
   "source": [
    "print(f\"Is readable = {fp.readable()}\")"
   ]
  },
  {
   "cell_type": "code",
   "execution_count": 16,
   "metadata": {},
   "outputs": [
    {
     "name": "stdout",
     "output_type": "stream",
     "text": [
      "Is writeable = False\n"
     ]
    }
   ],
   "source": [
    "print(f\"Is writeable = {fp.writable()}\")"
   ]
  },
  {
   "cell_type": "code",
   "execution_count": 17,
   "metadata": {},
   "outputs": [],
   "source": [
    "data = fp.read()"
   ]
  },
  {
   "cell_type": "code",
   "execution_count": 18,
   "metadata": {},
   "outputs": [
    {
     "name": "stdout",
     "output_type": "stream",
     "text": [
      "PuTTY-User-Key-File-2: ssh-rsa\n",
      "Encryption: none\n",
      "Comment: imported-openssh-key\n",
      "Public-Lines: 6\n",
      "AAAAB3NzaC1yc2EAAAADAQABAAABAQCpfymgEgcW4H8kdAHQMHJq/pbf5V/uByT6\n",
      "M9ntyc+jeW0RJD9h7DuZ5bo+6jDisbhJLR24AUOcIMPcjNnge6YRadkjvIdpuk6u\n",
      "Xgz+pAhUsEd1E7/fgY5JdSkzUsq8S3XdvpmC/qY218rRk7FnuH4uxdP/USu7gA8n\n",
      "04UDbMBNR5zqwQwR9Oj5e+0bYrnxEonFo2Fp1llGpHzUBt2OLnyOzwkkJ77DUKJ+\n",
      "hpiAlnFO0IUoqKviCE60bkm9iw6jOUYJ5SS7V16icuVxyQ4/Os3+x7UFwCJRWwFF\n",
      "o3zhF09QPEIK2VXgcWfHp4a7nveYBUP4jh2/0RHuDXbvqkjP+ecV\n",
      "Private-Lines: 14\n",
      "AAABABR5E6IOC2UsAK96g62N7IQX9Ele/1NU8ZZ3JN+f/MCWLiJf6nf9fMV+Bh0L\n",
      "VJRNOyE7nddX776wBnhhWv/Ob6Sy0FOMth6DLnXJTnCDh64TDM6LcCWjFHiy+iME\n",
      "4RAVXUtHdmtoLtN5BTqDSG5qznL/2jeAqnOfaDU7S1m6jQ/IX5ah25gNDJ4ctoTI\n",
      "9SJ/x/JCUWLEZ6CeqDpYm38oyxLGcfVjduE78MMYVx/DkdJNxFEds0L4iGyheC+6\n",
      "5EHNJOTI346CtiUmN0XBtYC5lmjs1o9WXTQmRIP426nty09Cw25yyeU0Vg6JvemP\n",
      "+ecwnsvmolfMhcAMdKqwYqyWNQEAAACBAPZ5Y5lxcASzdz0ibXJSBF7XDxMOawcc\n",
      "pLdIEfi7I28/ZdaRQvFnQKS0yB83iUUj9igz+JFvV+lKS99QbnmHSZi2UyfuUAWa\n",
      "SNNDgVuYc9HPEBPft+v47CYsgDI3s6aJBlOkRjifv1J45VH93Fr+rQJZqTgm6Ch7\n",
      "gn3d9jbelDxxAAAAgQCwDCj8VPP9Iy2LUM8vtSVfg8kYgkxTrufQHyOpdNxpKyQ5\n",
      "0sAvY/3RD7Dy4PXWNoIvdTRssrpgVPzgGntF62GvEzjZP07cl//B2aXlBcFzX5qr\n",
      "fdYiFZJoahJbhHmcMkCUt1oOYHITJRyc5au7iueFYza1RJrb2KogCJ1CSqA25QAA\n",
      "AIEAnWwcMyo1aLEg4kjcliifNUhVHfvoOH0azKfjNF49qF7YZCSrZPh9D5ACEN/B\n",
      "pfP2ptN9JghqRL0NIfyCgEljex/0pL55esVmmAbaQynTOHIe9yd2ccPi1jBHn2lY\n",
      "7s+Lzh655HIsyLUmhd2dze1ofH1b9bmiOwR3JSlqaCmQ+ws=\n",
      "Private-MAC: 163a1bd721096bef22d005b4aad97213ea9327aa\n",
      "\n"
     ]
    }
   ],
   "source": [
    "print(data)"
   ]
  },
  {
   "cell_type": "code",
   "execution_count": 19,
   "metadata": {},
   "outputs": [
    {
     "ename": "UnsupportedOperation",
     "evalue": "not writable",
     "output_type": "error",
     "traceback": [
      "\u001b[1;31m---------------------------------------------------------------------------\u001b[0m",
      "\u001b[1;31mUnsupportedOperation\u001b[0m                      Traceback (most recent call last)",
      "\u001b[1;32m<ipython-input-19-0d69e5f04233>\u001b[0m in \u001b[0;36m<module>\u001b[1;34m()\u001b[0m\n\u001b[1;32m----> 1\u001b[1;33m \u001b[0mfp\u001b[0m\u001b[1;33m.\u001b[0m\u001b[0mwrite\u001b[0m\u001b[1;33m(\u001b[0m\u001b[1;34m\"HI i am writing into file\"\u001b[0m\u001b[1;33m)\u001b[0m\u001b[1;33m\u001b[0m\u001b[0m\n\u001b[0m",
      "\u001b[1;31mUnsupportedOperation\u001b[0m: not writable"
     ]
    }
   ],
   "source": [
    "fp.write(\"HI i am writing into file\")"
   ]
  },
  {
   "cell_type": "code",
   "execution_count": 20,
   "metadata": {},
   "outputs": [],
   "source": [
    "fp.close()"
   ]
  },
  {
   "cell_type": "code",
   "execution_count": 22,
   "metadata": {},
   "outputs": [],
   "source": [
    "fp = open('C:\\\\users\\\\sachin\\\\Desktop\\\\Hello.txt','w+')\n"
   ]
  },
  {
   "cell_type": "code",
   "execution_count": 23,
   "metadata": {},
   "outputs": [
    {
     "name": "stdout",
     "output_type": "stream",
     "text": [
      "\n",
      "id\tname\tenglish\thindi\tmaths\n",
      "1\tsachin\t56\t78\t100\n",
      "2\tmeena\t90\t95\t99\n",
      "2\tmeena\t90\t95\t992\t\n",
      "meena\t90\t95\t992\t\n",
      "meena\t90\t95\t992\t\n",
      "meena\t90\t95\t992\t\n",
      "meena\t90\t95\t99\n",
      "\n"
     ]
    }
   ],
   "source": [
    "data = \"\"\"\n",
    "id\\tname\\tenglish\\thindi\\tmaths\n",
    "1\\tsachin\\t56\\t78\\t100\n",
    "2\\tmeena\\t90\\t95\\t99\n",
    "2\\tmeena\\t90\\t95\\t992\\t\n",
    "meena\\t90\\t95\\t992\\t\n",
    "meena\\t90\\t95\\t992\\t\n",
    "meena\\t90\\t95\\t992\\t\n",
    "meena\\t90\\t95\\t99\n",
    "\"\"\"\n",
    "print(data)"
   ]
  },
  {
   "cell_type": "code",
   "execution_count": 24,
   "metadata": {},
   "outputs": [
    {
     "data": {
      "text/plain": [
       "150"
      ]
     },
     "execution_count": 24,
     "metadata": {},
     "output_type": "execute_result"
    }
   ],
   "source": [
    "fp.write(data)"
   ]
  },
  {
   "cell_type": "code",
   "execution_count": 25,
   "metadata": {},
   "outputs": [],
   "source": [
    "fp.close()"
   ]
  },
  {
   "cell_type": "code",
   "execution_count": 26,
   "metadata": {},
   "outputs": [],
   "source": [
    "fp = open('C:\\\\users\\\\sachin\\\\desktop\\\\hello.txt')\n",
    "data = fp.read()\n",
    "fp.close()"
   ]
  },
  {
   "cell_type": "code",
   "execution_count": 27,
   "metadata": {},
   "outputs": [
    {
     "name": "stdout",
     "output_type": "stream",
     "text": [
      "\n",
      "id\tname\tenglish\thindi\tmaths\n",
      "1\tsachin\t56\t78\t100\n",
      "2\tmeena\t90\t95\t99\n",
      "2\tmeena\t90\t95\t992\t\n",
      "meena\t90\t95\t992\t\n",
      "meena\t90\t95\t992\t\n",
      "meena\t90\t95\t992\t\n",
      "meena\t90\t95\t99\n",
      "\n"
     ]
    }
   ],
   "source": [
    "print(data)"
   ]
  },
  {
   "cell_type": "code",
   "execution_count": 28,
   "metadata": {},
   "outputs": [],
   "source": [
    "fp  = open('c:\\\\users\\\\sachin\\\\desktop\\\\hello.txt')"
   ]
  },
  {
   "cell_type": "code",
   "execution_count": null,
   "metadata": {},
   "outputs": [],
   "source": []
  }
 ],
 "metadata": {
  "kernelspec": {
   "display_name": "Python 3",
   "language": "python",
   "name": "python3"
  },
  "language_info": {
   "codemirror_mode": {
    "name": "ipython",
    "version": 3
   },
   "file_extension": ".py",
   "mimetype": "text/x-python",
   "name": "python",
   "nbconvert_exporter": "python",
   "pygments_lexer": "ipython3",
   "version": "3.6.5"
  }
 },
 "nbformat": 4,
 "nbformat_minor": 2
}
