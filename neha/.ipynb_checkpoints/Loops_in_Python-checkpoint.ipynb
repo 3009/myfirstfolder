{
 "cells": [
  {
   "cell_type": "markdown",
   "metadata": {},
   "source": [
    "<h1 style='color:#123456'>Python Supports For and While Loops</h1>"
   ]
  },
  {
   "cell_type": "markdown",
   "metadata": {},
   "source": [
    "<p style='color:red'>Loop are use to repeat a block of code or statements to\n",
    "a particular time</p>"
   ]
  },
  {
   "cell_type": "markdown",
   "metadata": {},
   "source": [
    "<p style='color:#123456'>While Loop consists of Three Parts <br />\n",
    "<ol style='color:red'>\n",
    "<li> Initiliazion of counter </li>\n",
    "<li> Condition on Counter to decide repeatation of loop</li>\n",
    "<li> Increment or Decrement to make condition False</li>\n",
    "</li>\n"
   ]
  },
  {
   "cell_type": "code",
   "execution_count": 1,
   "metadata": {},
   "outputs": [
    {
     "name": "stdout",
     "output_type": "stream",
     "text": [
      "Hello World\n",
      "Value of counter is 1.\n",
      "\n",
      "\n",
      "\n",
      "Hello World\n",
      "Value of counter is 2.\n",
      "\n",
      "\n",
      "\n",
      "Hello World\n",
      "Value of counter is 3.\n",
      "\n",
      "\n",
      "\n",
      "Hello World\n",
      "Value of counter is 4.\n",
      "\n",
      "\n",
      "\n",
      "Hello World\n",
      "Value of counter is 5.\n",
      "\n",
      "\n",
      "\n",
      "Hello World\n",
      "Value of counter is 6.\n",
      "\n",
      "\n",
      "\n",
      "Hello World\n",
      "Value of counter is 7.\n",
      "\n",
      "\n",
      "\n",
      "Hello World\n",
      "Value of counter is 8.\n",
      "\n",
      "\n",
      "\n",
      "Hello World\n",
      "Value of counter is 9.\n",
      "\n",
      "\n",
      "\n",
      "Hello World\n",
      "Value of counter is 10.\n",
      "\n",
      "\n",
      "\n"
     ]
    }
   ],
   "source": [
    "#syntax of while loop\n",
    "\n",
    "counter = 1 #initlization of loop variable\n",
    "while counter <= 10 : #loop Condition\n",
    "    \n",
    "    print(\"Hello World\") # Statement1\n",
    "    print(f\"Value of counter is {counter}.\") #statement2\n",
    "    print(\"\\n\\n\") #statement3\n",
    "    \n",
    "    counter = counter + 1 #increment of loop variable\n",
    "    "
   ]
  },
  {
   "cell_type": "code",
   "execution_count": 21,
   "metadata": {},
   "outputs": [
    {
     "name": "stdout",
     "output_type": "stream",
     "text": [
      "1, 2, 3, 4, 5, 6, 7, 8, 9, 10, 11, 12, 13, 14, 15, 16, 17, 18, 19, 20, 21, 22, 23, 24, 25, 26, 27, 28, 29, 30, 31, 32, 33, 34, 35, 36, 37, 38, 39, 40, 41, 42, 43, 44, 45, 46, 47, 48, 49, 50, 51, 52, 53, 54, 55, 56, 57, 58, 59, 60, 61, 62, 63, 64, 65, 66, 67, 68, 69, 70, 71, 72, 73, 74, 75, 76, 77, 78, 79, 80, 81, 82, 83, 84, 85, 86, 87, 88, 89, 90, 91, 92, 93, 94, 95, 96, 97, 98, 99, 100, "
     ]
    }
   ],
   "source": [
    "ginti = 1\n",
    "while ginti <= 100 : \n",
    "    \n",
    "    print(ginti,end=', ')\n",
    "     \n",
    "    ginti += 1"
   ]
  },
  {
   "cell_type": "code",
   "execution_count": 3,
   "metadata": {},
   "outputs": [],
   "source": [
    "print?"
   ]
  },
  {
   "cell_type": "code",
   "execution_count": 12,
   "metadata": {},
   "outputs": [
    {
     "name": "stdout",
     "output_type": "stream",
     "text": [
      "hello\thi\tbye\thi hi\thi hello how are you\n"
     ]
    }
   ],
   "source": [
    "#sepration\n",
    "print('hello','hi','bye','hi hi',sep='\\t',end='\\t') # , is a sepratorr\n",
    "print('hi','hello','how','are','you')"
   ]
  },
  {
   "cell_type": "code",
   "execution_count": 14,
   "metadata": {},
   "outputs": [
    {
     "name": "stdout",
     "output_type": "stream",
     "text": [
      "hello\thi\n",
      "how\n",
      "are\n",
      "you?\n"
     ]
    }
   ],
   "source": [
    "print('hello',end='\\t')\n",
    "print('hi')\n",
    "print('how')\n",
    "print('are')\n",
    "print('you?')"
   ]
  },
  {
   "cell_type": "code",
   "execution_count": 18,
   "metadata": {},
   "outputs": [
    {
     "name": "stdout",
     "output_type": "stream",
     "text": [
      "1\t2\t3\t4\t5\t6\t7\t8\t9\t10\t11\t12\t12\t14\n"
     ]
    }
   ],
   "source": [
    "print(1,2,3,4,5,6,7,sep='\\t',end='\\t')\n",
    "print(8,9,10,11,12,12,14,sep='\\t')"
   ]
  },
  {
   "cell_type": "code",
   "execution_count": 22,
   "metadata": {},
   "outputs": [
    {
     "name": "stdout",
     "output_type": "stream",
     "text": [
      "100, 99, 98, 97, 96, 95, 94, 93, 92, 91, 90, 89, 88, 87, 86, 85, 84, 83, 82, 81, 80, 79, 78, 77, 76, 75, 74, 73, 72, 71, 70, 69, 68, 67, 66, 65, 64, 63, 62, 61, 60, 59, 58, 57, 56, 55, 54, 53, 52, 51, 50, 49, 48, 47, 46, 45, 44, 43, 42, 41, 40, 39, 38, 37, 36, 35, 34, 33, 32, 31, 30, 29, 28, 27, 26, 25, 24, 23, 22, 21, 20, 19, 18, 17, 16, 15, 14, 13, 12, 11, 10, 9, 8, 7, 6, 5, 4, 3, 2, 1, "
     ]
    }
   ],
   "source": [
    "ginti = 100\n",
    "\n",
    "while ginti >= 1 : \n",
    "    print(ginti,end=', ')\n",
    "    ginti = ginti - 1"
   ]
  },
  {
   "cell_type": "code",
   "execution_count": 25,
   "metadata": {},
   "outputs": [
    {
     "name": "stdout",
     "output_type": "stream",
     "text": [
      "Enter staring Point : 1\n",
      "Enter end Point : 100\n",
      "All Even Numbers in range 1 - 100 \n",
      "2, 4, 6, 8, 10, 12, 14, 16, 18, 20, 22, 24, 26, 28, 30, 32, 34, 36, 38, 40, 42, 44, 46, 48, 50, 52, 54, 56, 58, 60, 62, 64, 66, 68, 70, 72, 74, 76, 78, 80, 82, 84, 86, 88, 90, 92, 94, 96, 98, 100, "
     ]
    }
   ],
   "source": [
    "start = int(input(\"Enter staring Point : \"))\n",
    "end = int(input(\"Enter end Point : \"))\n",
    "print(\"All Even Numbers in range {} - {} \".format(start,end))\n",
    "while start <= end : \n",
    "    \n",
    "    if start % 2 == 0 :\n",
    "        print(start,end=', ')\n",
    "    \n",
    "    start = start + 1"
   ]
  },
  {
   "cell_type": "code",
   "execution_count": 27,
   "metadata": {},
   "outputs": [
    {
     "name": "stdout",
     "output_type": "stream",
     "text": [
      "Enter staring Point : 101\n",
      "Enter end Point : 300\n",
      "All Odd Numbers in range 101 - 300 \n",
      "101, 103, 105, 107, 109, 111, 113, 115, 117, 119, 121, 123, 125, 127, 129, 131, 133, 135, 137, 139, 141, 143, 145, 147, 149, 151, 153, 155, 157, 159, 161, 163, 165, 167, 169, 171, 173, 175, 177, 179, 181, 183, 185, 187, 189, 191, 193, 195, 197, 199, 201, 203, 205, 207, 209, 211, 213, 215, 217, 219, 221, 223, 225, 227, 229, 231, 233, 235, 237, 239, 241, 243, 245, 247, 249, 251, 253, 255, 257, 259, 261, 263, 265, 267, 269, 271, 273, 275, 277, 279, 281, 283, 285, 287, 289, 291, 293, 295, 297, 299, "
     ]
    }
   ],
   "source": [
    "start = int(input(\"Enter staring Point : \"))\n",
    "end = int(input(\"Enter end Point : \"))\n",
    "print(\"All Odd Numbers in range {} - {} \".format(start,end))\n",
    "while start <= end : \n",
    "    \n",
    "    if start % 2 :\n",
    "        print(start,end=', ')\n",
    "    \n",
    "    start = start + 1"
   ]
  },
  {
   "cell_type": "code",
   "execution_count": 28,
   "metadata": {},
   "outputs": [
    {
     "name": "stdout",
     "output_type": "stream",
     "text": [
      "Enter number of lines : 10\n",
      "*\n",
      "**\n",
      "***\n",
      "****\n",
      "*****\n",
      "******\n",
      "*******\n",
      "********\n",
      "*********\n",
      "**********\n"
     ]
    }
   ],
   "source": [
    "stop = int(input(\"Enter number of lines : \"))\n",
    "c = 1\n",
    "while c <= stop : \n",
    "    print(\"*\"*c)\n",
    "    c = c + 1"
   ]
  },
  {
   "cell_type": "code",
   "execution_count": 2,
   "metadata": {},
   "outputs": [
    {
     "name": "stdout",
     "output_type": "stream",
     "text": [
      "Hello World Times 1\n",
      "Hello World Times 2\n",
      "Hello World Times 3\n",
      "Hello World Times 4\n",
      "Hello World Times 5\n"
     ]
    }
   ],
   "source": [
    "c = 1\n",
    "while c <= 5  : \n",
    "    print(f\"Hello World Times {c}\")\n",
    "    c = c + 1"
   ]
  },
  {
   "cell_type": "code",
   "execution_count": 3,
   "metadata": {},
   "outputs": [
    {
     "name": "stdout",
     "output_type": "stream",
     "text": [
      "Enter a number : 13\n",
      "13*1=13\n",
      "13*2=26\n",
      "13*3=39\n",
      "13*4=52\n",
      "13*5=65\n",
      "13*6=78\n",
      "13*7=91\n",
      "13*8=104\n",
      "13*9=117\n",
      "13*10=130\n"
     ]
    }
   ],
   "source": [
    "num = int(input(\"Enter a number : \"))\n",
    "c = 1\n",
    "while c <= 10 :\n",
    "    print(f\"{num}*{c}={num*c}\")\n",
    "    c = c + 1"
   ]
  },
  {
   "cell_type": "code",
   "execution_count": 4,
   "metadata": {},
   "outputs": [
    {
     "name": "stdout",
     "output_type": "stream",
     "text": [
      "Hello World Time 1\n",
      "Hello World Time 3\n",
      "Hello World Time 5\n",
      "Hello World Time 7\n",
      "Hello World Time 9\n"
     ]
    }
   ],
   "source": [
    "c = 1 \n",
    "while c <= 10 :\n",
    "    print(f\"Hello World Time {c}\")\n",
    "    c = c + 2"
   ]
  },
  {
   "cell_type": "code",
   "execution_count": 5,
   "metadata": {},
   "outputs": [
    {
     "name": "stdout",
     "output_type": "stream",
     "text": [
      "Hello World Times 3\n",
      "Hello World Times 5\n",
      "Hello World Times 7\n",
      "Hello World Times 9\n",
      "Hello World Times 11\n"
     ]
    }
   ],
   "source": [
    "c = 1 \n",
    "while c <= 10 :\n",
    "    if c % 2  : \n",
    "        c = c + 2\n",
    "    else :\n",
    "        c = c + 1\n",
    "    print(f\"Hello World Times {c}\")"
   ]
  },
  {
   "cell_type": "code",
   "execution_count": 17,
   "metadata": {},
   "outputs": [
    {
     "name": "stdout",
     "output_type": "stream",
     "text": [
      "Enter a number : 10\n",
      "Here is Squre List -  100 81 64 49 36 25 16 9 4 1 0\n"
     ]
    }
   ],
   "source": [
    "x = int(input(\"Enter a number : \"))\n",
    "l = []\n",
    "while x >= 0 : \n",
    "    l.append(x**2)\n",
    "    x -= 1\n",
    "print(\"Here is Squre List - \",*l)"
   ]
  },
  {
   "cell_type": "code",
   "execution_count": 15,
   "metadata": {},
   "outputs": [
    {
     "name": "stdout",
     "output_type": "stream",
     "text": [
      "1 2 3 4\n"
     ]
    }
   ],
   "source": [
    "l = [ 1,2,3,4]\n",
    "print(*l) # print(1,2,3,4)"
   ]
  },
  {
   "cell_type": "code",
   "execution_count": 11,
   "metadata": {},
   "outputs": [
    {
     "name": "stdout",
     "output_type": "stream",
     "text": [
      "hello world\n"
     ]
    }
   ],
   "source": [
    "print('hello world')"
   ]
  },
  {
   "cell_type": "code",
   "execution_count": 14,
   "metadata": {},
   "outputs": [
    {
     "name": "stdout",
     "output_type": "stream",
     "text": [
      "h e l l o   w o r l d\t"
     ]
    }
   ],
   "source": [
    "print(*'hello world',end='\\t') # print('h','e','l','l','o',' ','w','o','r','l','d')"
   ]
  },
  {
   "cell_type": "code",
   "execution_count": 20,
   "metadata": {},
   "outputs": [
    {
     "name": "stdout",
     "output_type": "stream",
     "text": [
      "Hello World Times 1\n",
      "2\n"
     ]
    }
   ],
   "source": [
    "c = 1\n",
    "while c <= 10 :\n",
    "    print(f\"Hello World Times {c}\")\n",
    "    c = c  + 1\n",
    "    print(c)\n",
    "    break"
   ]
  },
  {
   "cell_type": "code",
   "execution_count": 22,
   "metadata": {},
   "outputs": [
    {
     "name": "stdout",
     "output_type": "stream",
     "text": [
      "Hello World\n",
      "Enter 1 to continue : 123\n"
     ]
    }
   ],
   "source": [
    "while True : \n",
    "    print(\"Hello World\")\n",
    "    ch = int(input(\"Enter 1 to continue : \"))\n",
    "    if ch != 1 : \n",
    "        break"
   ]
  },
  {
   "cell_type": "code",
   "execution_count": 25,
   "metadata": {},
   "outputs": [
    {
     "name": "stdout",
     "output_type": "stream",
     "text": [
      "Press something : j\n",
      "Hello World\n",
      "\n",
      "Press something : k\n",
      "Hello World\n",
      "\n",
      "Press something : y\n",
      "Hello World\n",
      "\n",
      "Press something : 0\n",
      "Hello World\n",
      "\n",
      "Press something : True\n",
      "Hello World\n",
      "\n",
      "Press something : Fasle\n",
      "Hello World\n",
      "\n",
      "Press something : None\n",
      "Hello World\n",
      "\n",
      "Press something : \n"
     ]
    }
   ],
   "source": [
    "while input(\"Press something : \") : \n",
    "    print(\"Hello World\\n\")"
   ]
  },
  {
   "cell_type": "code",
   "execution_count": 24,
   "metadata": {},
   "outputs": [
    {
     "name": "stdout",
     "output_type": "stream",
     "text": [
      "Before Loop\n",
      "Hello World\n",
      "After Loop\n"
     ]
    }
   ],
   "source": [
    "\n",
    "print(\"Before Loop\")\n",
    "while print(\"Hello World\") : \n",
    "    print(\"I am inside The Loop \")\n",
    "print(\"After Loop\")    "
   ]
  },
  {
   "cell_type": "code",
   "execution_count": 27,
   "metadata": {},
   "outputs": [
    {
     "name": "stdout",
     "output_type": "stream",
     "text": [
      "Hello world Time 1\n",
      "Hello world Time 2\n",
      "Hello world Time 3\n",
      "Hello world Time 4\n",
      "Hello world Time 5\n"
     ]
    }
   ],
   "source": [
    "c = 1 \n",
    "while c <= 10 : \n",
    "    print(f\"Hello world Time {c}\")\n",
    "    if c == 5 : \n",
    "        break \n",
    "    c = c + 1"
   ]
  },
  {
   "cell_type": "code",
   "execution_count": 1,
   "metadata": {},
   "outputs": [
    {
     "name": "stdout",
     "output_type": "stream",
     "text": [
      "Hello World Times 2\n",
      "Hello World Times 3\n",
      "Hello World Times 4\n",
      "Hello World Times 5\n",
      "Hello World Times 6\n",
      "Hello World Times 7\n",
      "Hello World Times 8\n",
      "Hello World Times 9\n",
      "Hello World Times 10\n",
      "Hello World Times 11\n"
     ]
    }
   ],
   "source": [
    "c = 1\n",
    "while c <= 10 :\n",
    "    c = c + 1\n",
    "    print(f\"Hello World Times {c}\")\n",
    "    continue \n",
    "    print(\"bye world\")\n",
    "    print(\"Whaterver\")\n",
    "    "
   ]
  },
  {
   "cell_type": "code",
   "execution_count": 6,
   "metadata": {},
   "outputs": [
    {
     "name": "stdout",
     "output_type": "stream",
     "text": [
      "Enter starting Point : 1\n",
      "Etner ending point : 100\n",
      "2,\t4,\t6,\t8,\t"
     ]
    }
   ],
   "source": [
    "start = int(input(\"Enter starting Point : \")) - 1\n",
    "end = int(input(\"Etner ending point : \"))\n",
    "\n",
    "while start <= end :\n",
    "    start += 1\n",
    "    if start % 2 :\n",
    "        continue\n",
    "    if start % 5 == 0 : \n",
    "        break\n",
    "    print(start,end=',\\t')\n",
    "    "
   ]
  },
  {
   "cell_type": "code",
   "execution_count": 7,
   "metadata": {},
   "outputs": [
    {
     "name": "stdout",
     "output_type": "stream",
     "text": [
      "let's what happens\n",
      "Hello World Times 1\n",
      "Hello World Times 2\n",
      "Hello World Times 3\n",
      "Hello World Times 4\n",
      "Hello World Times 5\n",
      "Hello World Times 6\n",
      "Hello World Times 7\n",
      "Hello World Times 8\n",
      "Hello World Times 9\n",
      "Hello World Times 10\n",
      "Yeah man you have successed in your work\n"
     ]
    }
   ],
   "source": [
    "print(\"let's what happens\")\n",
    "c = 1 \n",
    "while c <= 10 : \n",
    "    print(f\"Hello World Times {c}\")\n",
    "    c = c + 1\n",
    "else : \n",
    "    print(\"Yeah man you have successed in your work\")\n"
   ]
  },
  {
   "cell_type": "code",
   "execution_count": 10,
   "metadata": {},
   "outputs": [
    {
     "name": "stdout",
     "output_type": "stream",
     "text": [
      "let's what happens\n",
      "Hello World Times 1\n",
      "Hello World Times 2\n",
      "Hello World Times 3\n",
      "Hello World Times 4\n",
      "Hello World Times 5\n"
     ]
    }
   ],
   "source": [
    "print(\"let's what happens\")\n",
    "c = 1 \n",
    "while c <= 10 : \n",
    "    print(f\"Hello World Times {c}\")\n",
    "    if c == 5 : \n",
    "        break\n",
    "    c = c + 1 \n",
    "else : \n",
    "    print(\"Yeah man you have successed in your work\")\n"
   ]
  },
  {
   "cell_type": "code",
   "execution_count": 12,
   "metadata": {},
   "outputs": [
    {
     "name": "stdout",
     "output_type": "stream",
     "text": [
      "let's what happens\n",
      "Hello World Times 2\n",
      "Hello World Times 4\n",
      "Hello World Times 6\n",
      "Hello World Times 8\n",
      "Hello World Times 10\n",
      "Yeah man you have successed in your work\n"
     ]
    }
   ],
   "source": [
    "print(\"let's what happens\")\n",
    "c = 1 \n",
    "while c <= 10 : \n",
    "    c = c + 1 \n",
    "    if c % 2 : \n",
    "        continue\n",
    "    print(f\"Hello World Times {c}\")\n",
    "else : \n",
    "    print(\"Yeah man you have successed in your work\")\n"
   ]
  },
  {
   "cell_type": "code",
   "execution_count": 17,
   "metadata": {},
   "outputs": [
    {
     "data": {
      "text/plain": [
       "6"
      ]
     },
     "execution_count": 17,
     "metadata": {},
     "output_type": "execute_result"
    }
   ],
   "source": [
    "from random import randint\n",
    "randint(1,10)"
   ]
  },
  {
   "cell_type": "code",
   "execution_count": 24,
   "metadata": {},
   "outputs": [
    {
     "name": "stdout",
     "output_type": "stream",
     "text": [
      "Welcome to Guessing Game\n",
      "Number limit is 1 - 50 \n",
      "\n",
      "\n",
      "Press Any key to Play a game : k\n",
      "Enter your Guess[1] : 25\n",
      "Hint: Be Big Think Big\n",
      "Enter your Guess[2] : 35\n",
      "Hint: Be Big Think Big\n",
      "Enter your Guess[3] : 45\n",
      "Hint: Be in Limits Think Smaller\n",
      "Enter your Guess[4] : 30\n",
      "Hint: Be Big Think Big\n",
      "Enter your Guess[5] : 43\n",
      "Hint: Be in Limits Think Smaller\n",
      "comGuess was :  36\n",
      "userGuess was :  43\n",
      "You such a looser.\n",
      "\n",
      "\n",
      "Press Any key to Play a game : k\n",
      "Enter your Guess[1] : 25\n",
      "Hint: Be in Limits Think Smaller\n",
      "Enter your Guess[2] : 12\n",
      "Hint: Be Big Think Big\n",
      "Enter your Guess[3] : 20\n",
      "Hint: Be in Limits Think Smaller\n",
      "Enter your Guess[4] : 15\n",
      "Hint: Be in Limits Think Smaller\n",
      "Enter your Guess[5] : 14\n",
      "Yeah!!You Have Won the Game\n",
      "\n",
      "\n",
      "Press Any key to Play a game : \n"
     ]
    }
   ],
   "source": [
    "#Guessing Game\n",
    "# 1-50 computer will choose any number randomly from 1 - 50 \n",
    "# than ask user to guess --> \n",
    "#if uses's guess is less than computer guess than print guess high\n",
    "#else if user's guess is higher than computer guess than print guess low\n",
    "#if user guess is correct print you have won the game \n",
    "#user is only allow 5 times\n",
    "from random import randint\n",
    "print(\"Welcome to Guessing Game\")\n",
    "print(\"Number limit is 1 - 50 \")\n",
    "while input(\"\\n\\nPress Any key to Play a game : \") :\n",
    "    chance = 1\n",
    "    comGuess = randint(1,50)\n",
    "    while chance <= 5 :\n",
    "        userGuess = int(input(f\"Enter your Guess[{chance}] : \"))\n",
    "        if userGuess > comGuess : \n",
    "            print(\"Hint: Be in Limits Think Smaller\")\n",
    "        elif userGuess < comGuess : \n",
    "            print(\"Hint: Be Big Think Big\")\n",
    "        else :\n",
    "            print(\"Yeah!!You Have Won the Game\")\n",
    "            break\n",
    "        chance = chance + 1\n",
    "    else : \n",
    "        print(\"comGuess was : \",comGuess)\n",
    "        print(\"userGuess was : \",userGuess)\n",
    "        print(\"You such a looser.\")\n",
    "        \n",
    "    "
   ]
  },
  {
   "cell_type": "code",
   "execution_count": 29,
   "metadata": {},
   "outputs": [
    {
     "name": "stdout",
     "output_type": "stream",
     "text": [
      "Enter number of rows : 10\n",
      "**********\n",
      " *********\n",
      "  ********\n",
      "   *******\n",
      "    ******\n",
      "     *****\n",
      "      ****\n",
      "       ***\n",
      "        **\n",
      "         *\n"
     ]
    }
   ],
   "source": [
    "n = int(input(\"Enter number of rows : \"))\n",
    "c = 1\n",
    "while c <= n  :\n",
    "    print(\" \"*(c-1),end='')\n",
    "    print(\"*\"*(n+1-c))\n",
    "    c = c + 1\n"
   ]
  },
  {
   "cell_type": "code",
   "execution_count": 2,
   "metadata": {},
   "outputs": [
    {
     "name": "stdout",
     "output_type": "stream",
     "text": [
      "Outer loop Starts from here\n",
      "\n",
      "Outer loop Value  1\n",
      "Inner loop Starts from here\n",
      "\n",
      "Inner loop Value  1\n",
      "\n",
      "Inner loop Value  2\n",
      "\n",
      "Inner loop Value  3\n",
      "\n",
      "Inner loop Value  4\n",
      "\n",
      "Inner loop Value  5\n",
      "Inner loop Stops Here\n",
      "\n",
      "Outer loop Value  2\n",
      "Inner loop Starts from here\n",
      "\n",
      "Inner loop Value  1\n",
      "\n",
      "Inner loop Value  2\n",
      "\n",
      "Inner loop Value  3\n",
      "\n",
      "Inner loop Value  4\n",
      "\n",
      "Inner loop Value  5\n",
      "Inner loop Stops Here\n",
      "\n",
      "Outer loop Value  3\n",
      "Inner loop Starts from here\n",
      "\n",
      "Inner loop Value  1\n",
      "\n",
      "Inner loop Value  2\n",
      "\n",
      "Inner loop Value  3\n",
      "\n",
      "Inner loop Value  4\n",
      "\n",
      "Inner loop Value  5\n",
      "Inner loop Stops Here\n",
      "\n",
      "Outer loop Value  4\n",
      "Inner loop Starts from here\n",
      "\n",
      "Inner loop Value  1\n",
      "\n",
      "Inner loop Value  2\n",
      "\n",
      "Inner loop Value  3\n",
      "\n",
      "Inner loop Value  4\n",
      "\n",
      "Inner loop Value  5\n",
      "Inner loop Stops Here\n",
      "\n",
      "Outer loop Value  5\n",
      "Inner loop Starts from here\n",
      "\n",
      "Inner loop Value  1\n",
      "\n",
      "Inner loop Value  2\n",
      "\n",
      "Inner loop Value  3\n",
      "\n",
      "Inner loop Value  4\n",
      "\n",
      "Inner loop Value  5\n",
      "Inner loop Stops Here\n",
      "Outer loop ends here\n"
     ]
    }
   ],
   "source": [
    "#Nested loops\n",
    "outer_loop = 1\n",
    "print(\"Outer loop Starts from here\")\n",
    "while outer_loop <= 5 : \n",
    "    inner_loop = 1\n",
    "    print(\"\\nOuter loop Value \",outer_loop)\n",
    "    print(\"Inner loop Starts from here\")\n",
    "    while inner_loop <= 5:\n",
    "        print(\"\\nInner loop Value \",inner_loop)\n",
    "        inner_loop += 1\n",
    "    print(\"Inner loop Stops Here\")\n",
    "    outer_loop += 1\n",
    "print(\"Outer loop ends here\")"
   ]
  },
  {
   "cell_type": "code",
   "execution_count": 5,
   "metadata": {},
   "outputs": [
    {
     "name": "stdout",
     "output_type": "stream",
     "text": [
      "1 --> 1, 2, 3, 4, 5, \n",
      "2 --> 1, 2, 3, 4, 5, \n",
      "3 --> 1, 2, 3, 4, 5, \n",
      "4 --> 1, 2, 3, 4, 5, \n",
      "5 --> 1, 2, 3, 4, 5, \n"
     ]
    }
   ],
   "source": [
    "i = 1\n",
    "while i <= 5 : \n",
    "    print(i,'--> ',end='')\n",
    "    j = 1\n",
    "    while j <= 5 : \n",
    "        print(j,end=', ')\n",
    "        j = j + 1\n",
    "    print()\n",
    "    i = i + 1"
   ]
  },
  {
   "cell_type": "code",
   "execution_count": 7,
   "metadata": {},
   "outputs": [],
   "source": [
    "l = [ 12,34,23,12,42,11,22,55,23,12,43,32,21]"
   ]
  },
  {
   "cell_type": "code",
   "execution_count": 1,
   "metadata": {},
   "outputs": [
    {
     "name": "stdout",
     "output_type": "stream",
     "text": [
      "('sachin', 'rajat', 'nidhi', 'kushal')\n",
      "python 3.7 Guido Van Rossum\n"
     ]
    }
   ],
   "source": [
    "data = 'sachin','rajat','nidhi','kushal'\n",
    "name,version,father='python','3.7','Guido Van Rossum'\n",
    "print(data)\n",
    "print(name,version,father)"
   ]
  },
  {
   "cell_type": "code",
   "execution_count": 3,
   "metadata": {},
   "outputs": [
    {
     "name": "stdout",
     "output_type": "stream",
     "text": [
      "1\n",
      "2\n"
     ]
    }
   ],
   "source": [
    "x,y,z,p,q = [1,2,3,4,5]\n",
    "print(x)\n",
    "print(y)"
   ]
  },
  {
   "cell_type": "code",
   "execution_count": 4,
   "metadata": {},
   "outputs": [
    {
     "name": "stdout",
     "output_type": "stream",
     "text": [
      "6\n",
      "5\n"
     ]
    }
   ],
   "source": [
    "#swaping\n",
    "x = 5\n",
    "y = 6\n",
    "x,y = y,x\n",
    "print(x)\n",
    "print(y)"
   ]
  },
  {
   "cell_type": "code",
   "execution_count": 5,
   "metadata": {},
   "outputs": [
    {
     "name": "stdout",
     "output_type": "stream",
     "text": [
      "6\n",
      "5\n"
     ]
    }
   ],
   "source": [
    "#using 3rd var\n",
    "x = 5\n",
    "y = 6\n",
    "temp = x\n",
    "x = y\n",
    "y = temp\n",
    "print(x)\n",
    "print(y)"
   ]
  },
  {
   "cell_type": "code",
   "execution_count": 6,
   "metadata": {},
   "outputs": [
    {
     "name": "stdout",
     "output_type": "stream",
     "text": [
      "6\n",
      "5\n"
     ]
    }
   ],
   "source": [
    "#without third var swap c \n",
    "x = 5\n",
    "y = 6\n",
    "\n",
    "x = x + y\n",
    "y = x - y\n",
    "x = x - y\n",
    "\n",
    "print(x)\n",
    "print(y)"
   ]
  },
  {
   "cell_type": "code",
   "execution_count": 7,
   "metadata": {},
   "outputs": [
    {
     "name": "stdout",
     "output_type": "stream",
     "text": [
      "The Zen of Python, by Tim Peters\n",
      "\n",
      "Beautiful is better than ugly.\n",
      "Explicit is better than implicit.\n",
      "Simple is better than complex.\n",
      "Complex is better than complicated.\n",
      "Flat is better than nested.\n",
      "Sparse is better than dense.\n",
      "Readability counts.\n",
      "Special cases aren't special enough to break the rules.\n",
      "Although practicality beats purity.\n",
      "Errors should never pass silently.\n",
      "Unless explicitly silenced.\n",
      "In the face of ambiguity, refuse the temptation to guess.\n",
      "There should be one-- and preferably only one --obvious way to do it.\n",
      "Although that way may not be obvious at first unless you're Dutch.\n",
      "Now is better than never.\n",
      "Although never is often better than *right* now.\n",
      "If the implementation is hard to explain, it's a bad idea.\n",
      "If the implementation is easy to explain, it may be a good idea.\n",
      "Namespaces are one honking great idea -- let's do more of those!\n"
     ]
    }
   ],
   "source": [
    "import this"
   ]
  },
  {
   "cell_type": "markdown",
   "metadata": {},
   "source": [
    "#syntax for for loop \n",
    "\n",
    "for loop_var in sequence :\n",
    "    \n",
    "    statement1\n",
    "    statement2\n",
    "    .\n",
    "    .\n",
    "    .\n",
    "    statement3\n"
   ]
  },
  {
   "cell_type": "code",
   "execution_count": 8,
   "metadata": {},
   "outputs": [
    {
     "name": "stdout",
     "output_type": "stream",
     "text": [
      "Hello World\n",
      "Hello World\n",
      "Hello World\n",
      "Hello World\n",
      "Hello World\n",
      "Hello World\n"
     ]
    }
   ],
   "source": [
    "for var in 'python' : \n",
    "    print(\"Hello World\")"
   ]
  },
  {
   "cell_type": "code",
   "execution_count": 9,
   "metadata": {},
   "outputs": [
    {
     "name": "stdout",
     "output_type": "stream",
     "text": [
      "p\n",
      "y\n",
      "t\n",
      "h\n",
      "o\n",
      "n\n"
     ]
    }
   ],
   "source": [
    "for var in 'python' : \n",
    "    print(var)"
   ]
  },
  {
   "cell_type": "code",
   "execution_count": 10,
   "metadata": {},
   "outputs": [
    {
     "name": "stdout",
     "output_type": "stream",
     "text": [
      "1\n",
      "2\n",
      "3\n",
      "4\n",
      "5\n",
      "6\n",
      "7\n",
      "8\n",
      "9\n",
      "0\n"
     ]
    }
   ],
   "source": [
    "for var in '1234567890':\n",
    "    print(var)"
   ]
  },
  {
   "cell_type": "code",
   "execution_count": 11,
   "metadata": {},
   "outputs": [],
   "source": [
    "l = [ 'one','two','five','nine',1,2,3,[5,6,7],{'name':'sachin'},]"
   ]
  },
  {
   "cell_type": "code",
   "execution_count": 12,
   "metadata": {},
   "outputs": [
    {
     "name": "stdout",
     "output_type": "stream",
     "text": [
      "one\n",
      "two\n",
      "five\n",
      "nine\n",
      "1\n",
      "2\n",
      "3\n",
      "[5, 6, 7]\n",
      "{'name': 'sachin'}\n"
     ]
    }
   ],
   "source": [
    "for var in l : \n",
    "    print(var)"
   ]
  },
  {
   "cell_type": "code",
   "execution_count": 13,
   "metadata": {},
   "outputs": [
    {
     "name": "stdout",
     "output_type": "stream",
     "text": [
      "name\n",
      "version\n",
      "father\n"
     ]
    }
   ],
   "source": [
    "d = { 'name':'python','version':3.7,'father':'Guido Van Rossum'}\n",
    "\n",
    "for k in d : \n",
    "    print(k)"
   ]
  },
  {
   "cell_type": "code",
   "execution_count": 14,
   "metadata": {},
   "outputs": [
    {
     "name": "stdout",
     "output_type": "stream",
     "text": [
      "name = python\n",
      "version = 3.7\n",
      "father = Guido Van Rossum\n"
     ]
    }
   ],
   "source": [
    "d = { 'name':'python','version':3.7,'father':'Guido Van Rossum'}\n",
    "\n",
    "for k in d : \n",
    "    print(f\"{k} = {d[k]}\")"
   ]
  },
  {
   "cell_type": "code",
   "execution_count": 15,
   "metadata": {},
   "outputs": [
    {
     "name": "stdout",
     "output_type": "stream",
     "text": [
      "name\n",
      "version\n",
      "father\n"
     ]
    }
   ],
   "source": [
    "for key in d.keys():\n",
    "    print(key)"
   ]
  },
  {
   "cell_type": "code",
   "execution_count": 16,
   "metadata": {},
   "outputs": [
    {
     "name": "stdout",
     "output_type": "stream",
     "text": [
      "python\n",
      "3.7\n",
      "Guido Van Rossum\n"
     ]
    }
   ],
   "source": [
    "for value in d.values() : \n",
    "    print(value)"
   ]
  },
  {
   "cell_type": "code",
   "execution_count": 18,
   "metadata": {},
   "outputs": [
    {
     "name": "stdout",
     "output_type": "stream",
     "text": [
      "('name', 'python')\n",
      "('version', 3.7)\n",
      "('father', 'Guido Van Rossum')\n"
     ]
    }
   ],
   "source": [
    "for data in d.items() : \n",
    "    print(data)"
   ]
  },
  {
   "cell_type": "code",
   "execution_count": 19,
   "metadata": {},
   "outputs": [
    {
     "name": "stdout",
     "output_type": "stream",
     "text": [
      "name\n",
      "python\n"
     ]
    }
   ],
   "source": [
    "x,y = ('name','python')\n",
    "print(x)\n",
    "print(y)"
   ]
  },
  {
   "cell_type": "code",
   "execution_count": 20,
   "metadata": {},
   "outputs": [
    {
     "name": "stdout",
     "output_type": "stream",
     "text": [
      "name = python \n",
      "version = 3.7 \n",
      "father = Guido Van Rossum \n"
     ]
    }
   ],
   "source": [
    "for key,value in d.items() : \n",
    "    print(f\"{key} = {value} \")"
   ]
  },
  {
   "cell_type": "code",
   "execution_count": 21,
   "metadata": {},
   "outputs": [
    {
     "name": "stdout",
     "output_type": "stream",
     "text": [
      "32\n",
      "1\n",
      "2\n",
      "3\n",
      "6\n",
      "42\n",
      "54\n"
     ]
    }
   ],
   "source": [
    "s = { 1,2,3,54,6,42,32,3,2}\n",
    "for item in s : \n",
    "    print(item)"
   ]
  },
  {
   "cell_type": "code",
   "execution_count": 22,
   "metadata": {},
   "outputs": [
    {
     "name": "stdout",
     "output_type": "stream",
     "text": [
      "a\n",
      "b\n"
     ]
    }
   ],
   "source": [
    "x,y = 'ab'\n",
    "print(x)\n",
    "print(y)"
   ]
  },
  {
   "cell_type": "code",
   "execution_count": 23,
   "metadata": {},
   "outputs": [
    {
     "name": "stdout",
     "output_type": "stream",
     "text": [
      "x = a and y = b \n",
      "\n",
      "x = c and y = d \n",
      "\n",
      "x = e and y = f \n",
      "\n",
      "x = g and y = h \n",
      "\n",
      "x = i and y = j \n",
      "\n"
     ]
    }
   ],
   "source": [
    "s = [ 'ab', 'cd', 'ef', 'gh', 'ij' ]\n",
    "for x,y in s : \n",
    "    print(f'x = {x} and y = {y} \\n')\n",
    "    \n",
    "# aaj ye divare pardo ki trah hilne lgi\n",
    "# shart lekin ye thi ki ye buniyad hilni chaiye\n",
    "# mere sine m na shi to tere sine m shi\n",
    "# aag kahi b ho lekin aag jalni chaiye\n"
   ]
  },
  {
   "cell_type": "code",
   "execution_count": 25,
   "metadata": {},
   "outputs": [
    {
     "name": "stdout",
     "output_type": "stream",
     "text": [
      "Name\t\tPercentage\t\trollno\n",
      "sachin\t\t80\t\t123\n",
      "meena\t\t89\t\t456\n",
      "ramwatar\t\t77\t\t543\n"
     ]
    }
   ],
   "source": [
    "x = [ \n",
    "        ('sachin','80','123'),\n",
    "        ('meena','89','456'),\n",
    "        ('ramwatar','77','543'),\n",
    "]\n",
    "\n",
    "print(\"Name\\t\\tPercentage\\t\\trollno\")\n",
    "\n",
    "for name,per,roll in x : \n",
    "    print(f\"{name}\\t\\t{per}\\t\\t{roll}\")"
   ]
  },
  {
   "cell_type": "code",
   "execution_count": 26,
   "metadata": {},
   "outputs": [
    {
     "data": {
      "text/plain": [
       "'                                                                                               hello'"
      ]
     },
     "execution_count": 26,
     "metadata": {},
     "output_type": "execute_result"
    }
   ],
   "source": [
    "'hello'.rjust(100)"
   ]
  },
  {
   "cell_type": "code",
   "execution_count": 30,
   "metadata": {},
   "outputs": [
    {
     "name": "stdout",
     "output_type": "stream",
     "text": [
      "[0, 1, 2, 3, 4, 5, 6, 7, 8, 9]\n"
     ]
    }
   ],
   "source": [
    "#range(start,end,jump)\n",
    "k = list(range(10))\n",
    "print(k)"
   ]
  },
  {
   "cell_type": "code",
   "execution_count": 33,
   "metadata": {},
   "outputs": [
    {
     "name": "stdout",
     "output_type": "stream",
     "text": [
      "[6, 7, 8, 9, 10]\n"
     ]
    }
   ],
   "source": [
    "k = list(range(6,11))\n",
    "print(k)"
   ]
  },
  {
   "cell_type": "code",
   "execution_count": 37,
   "metadata": {},
   "outputs": [
    {
     "name": "stdout",
     "output_type": "stream",
     "text": [
      "13\n",
      "26\n",
      "39\n",
      "52\n",
      "65\n",
      "78\n",
      "91\n",
      "104\n",
      "117\n"
     ]
    }
   ],
   "source": [
    "k = list(range(13,130,13))\n",
    "print(*k,sep='\\n')"
   ]
  },
  {
   "cell_type": "code",
   "execution_count": 39,
   "metadata": {},
   "outputs": [
    {
     "name": "stdout",
     "output_type": "stream",
     "text": [
      "Enter number : 5\n",
      "5\n",
      "10\n",
      "15\n",
      "20\n",
      "25\n",
      "30\n",
      "35\n",
      "40\n",
      "45\n",
      "50\n"
     ]
    }
   ],
   "source": [
    "num = int(input(\"Enter number : \"))\n",
    "print(*list(range(num,(num*10)+1,num)),sep='\\n')"
   ]
  },
  {
   "cell_type": "code",
   "execution_count": 40,
   "metadata": {},
   "outputs": [
    {
     "name": "stdout",
     "output_type": "stream",
     "text": [
      "1\n",
      "2\n",
      "3\n",
      "4\n",
      "5\n",
      "6\n",
      "7\n",
      "8\n",
      "9\n",
      "10\n"
     ]
    }
   ],
   "source": [
    "for var in range(1,11):\n",
    "    print(var)"
   ]
  },
  {
   "cell_type": "code",
   "execution_count": 43,
   "metadata": {},
   "outputs": [
    {
     "name": "stdout",
     "output_type": "stream",
     "text": [
      "1 --> 1, 2, 3, 4, 5, \n",
      "2 --> 1, 2, 3, 4, 5, \n",
      "3 --> 1, 2, 3, 4, 5, \n",
      "4 --> 1, 2, 3, 4, 5, \n",
      "5 --> 1, 2, 3, 4, 5, \n"
     ]
    }
   ],
   "source": [
    "for outer in range(1,6):\n",
    "    print(outer,'--> ',end='')\n",
    "    for inner in range(1,6):\n",
    "        print(inner,end=', ')\n",
    "    print()"
   ]
  },
  {
   "cell_type": "code",
   "execution_count": 44,
   "metadata": {},
   "outputs": [
    {
     "name": "stdout",
     "output_type": "stream",
     "text": [
      "| * || * || * || * || * || * || * || * || * || * |\n",
      "| * || * || * || * || * || * || * || * || * || * |\n",
      "| * || * || * || * || * || * || * || * || * || * |\n",
      "| * || * || * || * || * || * || * || * || * || * |\n",
      "| * || * || * || * || * || * || * || * || * || * |\n",
      "| * || * || * || * || * || * || * || * || * || * |\n",
      "| * || * || * || * || * || * || * || * || * || * |\n",
      "| * || * || * || * || * || * || * || * || * || * |\n",
      "| * || * || * || * || * || * || * || * || * || * |\n",
      "| * || * || * || * || * || * || * || * || * || * |\n"
     ]
    }
   ],
   "source": [
    "for row in range(10):\n",
    "    for col in range(10):\n",
    "        print(\"| * |\",end='')\n",
    "    print()"
   ]
  },
  {
   "cell_type": "code",
   "execution_count": 48,
   "metadata": {},
   "outputs": [
    {
     "name": "stdout",
     "output_type": "stream",
     "text": [
      "\n",
      "*\n",
      "**\n",
      "***\n",
      "****\n",
      "*****\n",
      "******\n",
      "*******\n",
      "********\n",
      "*********\n"
     ]
    }
   ],
   "source": [
    "for row in range(10):\n",
    "    for col in range(row):\n",
    "        print(\"*\",end='')\n",
    "    print()"
   ]
  },
  {
   "cell_type": "code",
   "execution_count": 49,
   "metadata": {},
   "outputs": [
    {
     "name": "stdout",
     "output_type": "stream",
     "text": [
      "**********\n",
      "*********\n",
      "********\n",
      "*******\n",
      "******\n",
      "*****\n",
      "****\n",
      "***\n",
      "**\n",
      "*\n"
     ]
    }
   ],
   "source": [
    "for row in range(10):\n",
    "    for col in range(10-row):\n",
    "        print(\"*\",end='')\n",
    "    print()"
   ]
  },
  {
   "cell_type": "code",
   "execution_count": 50,
   "metadata": {},
   "outputs": [
    {
     "name": "stdout",
     "output_type": "stream",
     "text": [
      "**********\n",
      " *********\n",
      "  ********\n",
      "   *******\n",
      "    ******\n",
      "     *****\n",
      "      ****\n",
      "       ***\n",
      "        **\n",
      "         *\n"
     ]
    }
   ],
   "source": [
    "for row in range(10):\n",
    "    for col in range(row):\n",
    "        print(\" \",end='')\n",
    "    for col in range(10-row):\n",
    "        print(\"*\",end='')\n",
    "    print()"
   ]
  },
  {
   "cell_type": "code",
   "execution_count": 51,
   "metadata": {},
   "outputs": [
    {
     "name": "stdout",
     "output_type": "stream",
     "text": [
      "          \n",
      "         *\n",
      "        **\n",
      "       ***\n",
      "      ****\n",
      "     *****\n",
      "    ******\n",
      "   *******\n",
      "  ********\n",
      " *********\n"
     ]
    }
   ],
   "source": [
    "for row in range(10):\n",
    "    for col in range(10-row):\n",
    "        print(\" \",end='')\n",
    "    for col in range(row):\n",
    "        print(\"*\",end='')\n",
    "    print()"
   ]
  },
  {
   "cell_type": "code",
   "execution_count": 52,
   "metadata": {},
   "outputs": [
    {
     "name": "stdout",
     "output_type": "stream",
     "text": [
      "\n",
      "*\n",
      "**\n",
      "***\n",
      "****\n",
      "*****\n",
      "******\n",
      "*******\n",
      "********\n",
      "*********\n"
     ]
    }
   ],
   "source": [
    "for row in range(10):\n",
    "    print(\"*\"*row)"
   ]
  },
  {
   "cell_type": "code",
   "execution_count": 54,
   "metadata": {},
   "outputs": [
    {
     "name": "stdout",
     "output_type": "stream",
     "text": [
      "**********\n",
      " *********\n",
      "  ********\n",
      "   *******\n",
      "    ******\n",
      "     *****\n",
      "      ****\n",
      "       ***\n",
      "        **\n",
      "         *\n"
     ]
    }
   ],
   "source": [
    "for row in range(10):\n",
    "    print(\" \"*row,end='')\n",
    "    print(\"*\"*(10-row))"
   ]
  },
  {
   "cell_type": "code",
   "execution_count": 58,
   "metadata": {},
   "outputs": [
    {
     "name": "stdout",
     "output_type": "stream",
     "text": [
      "          \n",
      "         **\n",
      "        ****\n",
      "       ******\n",
      "      ********\n",
      "     **********\n",
      "    ************\n",
      "   **************\n",
      "  ****************\n",
      " ******************\n",
      "********************\n",
      " ******************\n",
      "  ****************\n",
      "   **************\n",
      "    ************\n",
      "     **********\n",
      "      ********\n",
      "       ******\n",
      "        ****\n",
      "         **\n"
     ]
    }
   ],
   "source": [
    "for row in range(10):\n",
    "    print(\" \"*(10-row),end='')\n",
    "    print(\"*\"*row,end='')\n",
    "    print(\"*\"*row)\n",
    "for row in range(10):\n",
    "    print(\" \"*row,end='')\n",
    "    print(\"*\"*(10-row),end='')\n",
    "    print(\"*\"*(10-row))"
   ]
  },
  {
   "cell_type": "code",
   "execution_count": 64,
   "metadata": {},
   "outputs": [
    {
     "name": "stdout",
     "output_type": "stream",
     "text": [
      "********************\n",
      "*********  *********\n",
      "********    ********\n",
      "*******      *******\n",
      "******        ******\n",
      "*****          *****\n",
      "****            ****\n",
      "***              ***\n",
      "**                **\n",
      "*                  *\n",
      "*                  *\n",
      "**                **\n",
      "***              ***\n",
      "****            ****\n",
      "*****          *****\n",
      "******        ******\n",
      "*******      *******\n",
      "********    ********\n",
      "*********  *********\n",
      "********************\n"
     ]
    }
   ],
   "source": [
    "for row in range(10):\n",
    "    print(\"*\"*(10-row),end='')\n",
    "    print(\" \"*row,end='')\n",
    "    print(\" \"*row,end='')\n",
    "    print(\"*\"*(10-row))\n",
    "for row in range(1,11):\n",
    "    print(\"*\"*row,end='')\n",
    "    print(\" \"*(10-row),end='')\n",
    "    print(\" \"*(10-row),end='')\n",
    "    print(\"*\"*row)"
   ]
  },
  {
   "cell_type": "code",
   "execution_count": null,
   "metadata": {},
   "outputs": [],
   "source": []
  }
 ],
 "metadata": {
  "kernelspec": {
   "display_name": "Python 3",
   "language": "python",
   "name": "python3"
  },
  "language_info": {
   "codemirror_mode": {
    "name": "ipython",
    "version": 3
   },
   "file_extension": ".py",
   "mimetype": "text/x-python",
   "name": "python",
   "nbconvert_exporter": "python",
   "pygments_lexer": "ipython3",
   "version": "3.6.5"
  }
 },
 "nbformat": 4,
 "nbformat_minor": 2
}
