{
 "cells": [
  {
   "cell_type": "code",
   "execution_count": 39,
   "metadata": {},
   "outputs": [
    {
     "name": "stdout",
     "output_type": "stream",
     "text": [
      "enter a number4\n",
      "****************"
     ]
    }
   ],
   "source": [
    "row=int(input(\"enter a number\"))\n",
    "for i in range(row):\n",
    "    print(\"*\"*row,end='')"
   ]
  },
  {
   "cell_type": "code",
   "execution_count": 41,
   "metadata": {},
   "outputs": [
    {
     "name": "stdout",
     "output_type": "stream",
     "text": [
      "enter a number3\n",
      "***"
     ]
    }
   ],
   "source": [
    "start=1\n",
    "end=int(input(\"enter a number\"))\n",
    "while start<=end:\n",
    "    print(\"*\",end='')\n",
    "    start=start+1"
   ]
  },
  {
   "cell_type": "code",
   "execution_count": 95,
   "metadata": {},
   "outputs": [
    {
     "name": "stdout",
     "output_type": "stream",
     "text": [
      "enter num of rows3\n",
      "|__||__||__|\n",
      "\n",
      "|__||__||__|\n",
      "\n",
      "|__||__||__|\n",
      "\n"
     ]
    }
   ],
   "source": [
    "row=int(input(\"enter num of rows\"))\n",
    "for i in range(row):\n",
    "    print(\"|__|\",end='')\n",
    "    for j in range(row-1):\n",
    "            print(\"|__|\",end='')\n",
    "    print('\\n')"
   ]
  },
  {
   "cell_type": "code",
   "execution_count": 163,
   "metadata": {},
   "outputs": [
    {
     "name": "stdout",
     "output_type": "stream",
     "text": [
      "enter a number3\n",
      "***\n",
      "***\n",
      "***\n"
     ]
    }
   ],
   "source": [
    "start=1\n",
    "end=int(input(\"enter a number\"))\n",
    "while start<=end:\n",
    "    print(\"*\"*end,end='')\n",
    "    start=start+1\n",
    "    start1=1\n",
    "    ##while start1<=end:\n",
    "      #  print(\"*\",end='')\n",
    "      #  start1=start1+1\n",
    "    \n",
    "    print()"
   ]
  },
  {
   "cell_type": "code",
   "execution_count": 94,
   "metadata": {},
   "outputs": [
    {
     "name": "stdout",
     "output_type": "stream",
     "text": [
      "*    *\n",
      "*    *\n",
      "******    *\n",
      "*    *\n",
      "*    *\n"
     ]
    }
   ],
   "source": [
    "for j in range(5):\n",
    "        if(j==2):\n",
    "            print(\"*\"*5,end=\"\")\n",
    "        print(\"*\",end='    ')\n",
    "    \n",
    "            #if(j==2):\n",
    "            \n",
    "                #print(\"*\"*3,end='')\n",
    "        print(\"*\")\n"
   ]
  },
  {
   "cell_type": "code",
   "execution_count": 156,
   "metadata": {},
   "outputs": [
    {
     "name": "stdout",
     "output_type": "stream",
     "text": [
      "*   *\n",
      "*   *\n",
      "*****\n",
      "*   *\n",
      "*   *\n"
     ]
    }
   ],
   "source": [
    "for i in range(5):\n",
    "    for j in range(5):\n",
    "        if(j==0 or j==4)or(i==2):\n",
    "            print(\"*\",end='')\n",
    "        else:\n",
    "            print(end=' ')\n",
    "    print()"
   ]
  },
  {
   "cell_type": "code",
   "execution_count": 167,
   "metadata": {},
   "outputs": [
    {
     "name": "stdout",
     "output_type": "stream",
     "text": [
      "     * * * * * ** ** ** ** ** *** *** *** *** *** **** **** **** **** **** "
     ]
    }
   ],
   "source": [
    "for i in range(5):\n",
    "    for j in range(5):\n",
    "        print(\"*\"*i,end=' ')"
   ]
  },
  {
   "cell_type": "code",
   "execution_count": 214,
   "metadata": {},
   "outputs": [
    {
     "name": "stdout",
     "output_type": "stream",
     "text": [
      "      * \n",
      "      * \n",
      "      * \n",
      "* * * * * * * \n",
      "      * \n",
      "      * \n",
      "      * \n"
     ]
    }
   ],
   "source": [
    "for  row in range(7):\n",
    "    for col in range(7):\n",
    "        if(row==3 or col==6):\n",
    "        #if (row==4 or col==8) or row==8 or (row==4 or col==0) or row==0 or col==8:\n",
    "            print(\"*\",end=\" \")\n",
    "        else:\n",
    "            print(end=\" \")\n",
    "    #if(row==0 or col==3):\n",
    "        #print(\"*\"+\" *\"+\" *\",end=' ')\n",
    "    print()"
   ]
  },
  {
   "cell_type": "code",
   "execution_count": 173,
   "metadata": {},
   "outputs": [
    {
     "name": "stdout",
     "output_type": "stream",
     "text": [
      "*******\n",
      "     * \n",
      "    *  \n",
      "   *   \n",
      "  *    \n",
      " *     \n",
      "*******\n",
      "\n"
     ]
    }
   ],
   "source": [
    "z=\"\"\n",
    "for row in range(0,7):\n",
    "    for column in range(0,7):\n",
    "        if(((row==0 or row==6) and column>=0 and column<=6) or row+column==6):\n",
    "            z=z+\"*\"\n",
    "        else:\n",
    "            z=z+\" \"\n",
    "    z=z+\"\\n\"\n",
    "print(z)"
   ]
  },
  {
   "cell_type": "code",
   "execution_count": 103,
   "metadata": {},
   "outputs": [
    {
     "name": "stdout",
     "output_type": "stream",
     "text": [
      "*\n",
      "*\n",
      "*\n",
      "*\n",
      "*\n",
      "*\n",
      "*\n",
      "\n",
      "*\n",
      "*\n",
      "*\n",
      "*\n",
      "*\n",
      "*\n",
      "*\n",
      "\n",
      "*\n",
      "*\n",
      "*\n",
      "*\n",
      "*\n",
      "*\n",
      "*\n",
      "\n",
      "*\n",
      "*\n",
      "*\n",
      "*\n",
      "*\n",
      "*\n",
      "*\n",
      "\n",
      "*\n",
      "*\n",
      "*\n",
      "*\n",
      "*\n",
      "*\n",
      "*\n",
      "\n",
      "*\n",
      "*\n",
      "*\n",
      "*\n",
      "*\n",
      "*\n",
      "*\n",
      "\n",
      "*\n",
      "*\n",
      "*\n",
      "*\n",
      "*\n",
      "*\n",
      "*\n",
      "\n"
     ]
    }
   ],
   "source": [
    "for i in range(7):\n",
    "    for j in range(7):\n",
    "        if(row==0 or col==5):\n",
    "            print(\"*\",end=' ')\n",
    "        else:\n",
    "            print(\"*\")\n",
    "    print()       "
   ]
  },
  {
   "cell_type": "code",
   "execution_count": 198,
   "metadata": {},
   "outputs": [
    {
     "name": "stdout",
     "output_type": "stream",
     "text": [
      "2\n"
     ]
    }
   ],
   "source": [
    "x=//2\n",
    "print(x)"
   ]
  },
  {
   "cell_type": "code",
   "execution_count": 19,
   "metadata": {},
   "outputs": [
    {
     "name": "stdout",
     "output_type": "stream",
     "text": [
      "* * * * * \n",
      "* * * * * \n",
      "* * * * * \n",
      "* * * * * \n",
      "* * * * * \n"
     ]
    }
   ],
   "source": [
    "for i in range(5):\n",
    "    \n",
    "    for j in range(5):\n",
    "        #(i==2 or j==4)or\n",
    "        if(i+j<=8):\n",
    "            print(\"*\",end=\" \")\n",
    "        else:\n",
    "            print(\" \",end=\"\")\n",
    "    print()\n",
    "    "
   ]
  },
  {
   "cell_type": "code",
   "execution_count": 85,
   "metadata": {
    "collapsed": true
   },
   "outputs": [
    {
     "name": "stdout",
     "output_type": "stream",
     "text": [
      "*   * * \n",
      "*     \n",
      "* * * * * \n",
      "    * \n",
      "* * * * * \n"
     ]
    }
   ],
   "source": [
    "for i in range(5):\n",
    "    \n",
    "    for j in range(5):\n",
    "        if(i==2 or (j==4 and i+j>=6))or(j==0 and i+j<=2)or i==4 or(i==0 and i+j>2):\n",
    "            print(\"*\",end=\" \")\n",
    "        else:\n",
    "            print(\" \",end=\"\")\n",
    "    print()"
   ]
  },
  {
   "cell_type": "code",
   "execution_count": 1,
   "metadata": {},
   "outputs": [
    {
     "name": "stdout",
     "output_type": "stream",
     "text": [
      "********************\n",
      "*********  *********\n",
      "********    ********\n",
      "*******      *******\n",
      "******        ******\n",
      "*****          *****\n",
      "****            ****\n",
      "***              ***\n",
      "**                **\n",
      "*                  *\n",
      "*                  *\n",
      "**                **\n",
      "***              ***\n",
      "****            ****\n",
      "*****          *****\n",
      "******        ******\n",
      "*******      *******\n",
      "********    ********\n",
      "*********  *********\n",
      "********************\n"
     ]
    }
   ],
   "source": [
    "for row in range(10):\n",
    "    print(\"*\"*(10-row),end='')\n",
    "    print(\" \"*row,end='')\n",
    "    print(\" \"*row,end='')\n",
    "    print(\"*\"*(10-row))\n",
    "for row in range(1,11):\n",
    "    print(\"*\"*row,end='')\n",
    "    print(\" \"*(10-row),end='')\n",
    "    print(\" \"*(10-row),end='')\n",
    "    print(\"*\"*row)"
   ]
  },
  {
   "cell_type": "code",
   "execution_count": 105,
   "metadata": {},
   "outputs": [
    {
     "name": "stdout",
     "output_type": "stream",
     "text": [
      "********************\n",
      "*********  *********\n",
      "********    ********\n",
      "*******      *******\n",
      "******        ******\n",
      "*****          *****\n",
      "****            ****\n",
      "***              ***\n",
      "**                **\n",
      "*                  *\n",
      "                    \n",
      "*                  *\n",
      "**                **\n",
      "***              ***\n",
      "****            ****\n",
      "*****          *****\n",
      "******        ******\n",
      "*******      *******\n",
      "********    ********\n",
      "*********  *********\n",
      "********************\n"
     ]
    }
   ],
   "source": [
    "start=0\n",
    "while start<=10:\n",
    "    print(\"*\"*(10-start),end='')\n",
    "    print(\" \"*start,end='')\n",
    "    print(\" \"*start,end='')\n",
    "    print(\"*\"*(10-start))\n",
    "    start=start+1\n",
    "start1=1\n",
    "while start1<=10:\n",
    "    print(\"*\"*start1,end='')\n",
    "    print(\" \"*(10-start1),end='')\n",
    "    print(\" \"*(10-start1),end='')\n",
    "    print(\"*\"*start1)\n",
    "    start1=start1+1\n",
    "    "
   ]
  },
  {
   "cell_type": "code",
   "execution_count": 30,
   "metadata": {},
   "outputs": [
    {
     "name": "stdout",
     "output_type": "stream",
     "text": [
      "enter a number2\n",
      "enter a number1\n",
      "enter a number2\n",
      "enter a number1\n",
      "enter a number2\n",
      "enter a number12\n",
      "enter a number1\n",
      "enter a number2\n",
      "enter a number1\n",
      "[[2, 1, 2], [1, 2, 12], [1, 2, 1]]\n"
     ]
    }
   ],
   "source": [
    "m=3\n",
    "mat1=[]\n",
    "for var in range(m):\n",
    "    mat = []\n",
    "    for var in range(m):\n",
    "        #ma1[row][col]=int(input(f\"mat1[{row}][{col}]:\"))\n",
    "        #ma2[row][col]=int(input(f\"mat2[{row}][{col}]:\"))\n",
    "        mat.append(int(input(\"enter a number\")))\n",
    "        #mat3[row][col]=ma1[row][col]+ma2[row][col]\n",
    "    \n",
    "    mat1.append(mat)\n",
    "print(mat1)\n",
    "\n",
    "    \n",
    "\n",
    "        \n",
    "        \n",
    "    "
   ]
  },
  {
   "cell_type": "markdown",
   "metadata": {},
   "source": [
    "## ## "
   ]
  },
  {
   "cell_type": "code",
   "execution_count": 18,
   "metadata": {},
   "outputs": [
    {
     "name": "stdout",
     "output_type": "stream",
     "text": [
      "enter your choice : 1\n",
      "login\n",
      "enter your account number1001\n",
      "enter your password: abcd\n"
     ]
    }
   ],
   "source": [
    "#bank application\n",
    "data={\n",
    "      1001:{'users':'ram','password':'abcd','balance':250000,\n",
    "           'phone no.':23489023456,'address':'jaipur','email':'abc@gmail.com'},\n",
    "      1002:{'users':'shyam','password':'xyz','balance':350000,\n",
    "           'phone no.':23489012456,'address':'jaipur','email':'xyz@gmail.com'},\n",
    "      1003:{'users':'ghanshyam','password':'1234','balance':450000,\n",
    "           'phone no.':2348902348,'address':'ajmer','email':'wxyz@gmail.com'}\n",
    "     }\n",
    "\n",
    "def main_menu():\n",
    "    print(\"login\")\n",
    "    print(\"signup\")\n",
    "    print(\"exit\")\n",
    "#def login(acc,password):\n",
    "#def signup():\n",
    "#def exit():\n",
    "choice=int(input(\"enter your choice : \"))\n",
    "if(choice==1):\n",
    "    #def login(acc,password):\n",
    "        print(\"login\")\n",
    "        x=int(input(\"enter your account number\"))\n",
    "        y=input(\"enter your password: \")\n",
    "        #user_info = data.get(acc,False)\n",
    "        #if user_info :\n",
    "            #if password == user_info.get('password'):\n",
    "                #return user_info\n",
    "            #else :\n",
    "                #False\n",
    "        #else :\n",
    "            #return False)\n",
    "elif(choice==2):\n",
    "    print(\"signup\")\n",
    "    #signup()\n",
    "    users=input(\"enter username: \")\n",
    "    passw=input(\"enter password: \")\n",
    "    bal=int(input(\"enter balance: \"))\n",
    "    phn=int(input(\"enter phone number: \"))\n",
    "    address=input(\"enter your address: \") \n",
    "    acc=int(input(\"enter account number: \"))\n",
    "    data.update()\n",
    "elif(choice==3):\n",
    "    print(\"stop\")\n",
    "else:\n",
    "    print(\"invalid choice\")\n",
    "   "
   ]
  },
  {
   "cell_type": "code",
   "execution_count": null,
   "metadata": {},
   "outputs": [],
   "source": [
    "row=3\n",
    "col=3\n",
    "matrix=[[int(input(\"enter values\"))for var in range(col)]for var in range(row)]\n",
    "print(matrix)"
   ]
  },
  {
   "cell_type": "code",
   "execution_count": 4,
   "metadata": {},
   "outputs": [
    {
     "name": "stdout",
     "output_type": "stream",
     "text": [
      "30\n"
     ]
    }
   ],
   "source": [
    "c=5*6\n",
    "print(c)"
   ]
  },
  {
   "cell_type": "code",
   "execution_count": 4,
   "metadata": {},
   "outputs": [
    {
     "name": "stdout",
     "output_type": "stream",
     "text": [
      "enter a number1\n",
      "enter a number2+j**2\n"
     ]
    },
    {
     "ename": "ValueError",
     "evalue": "complex() arg is a malformed string",
     "output_type": "error",
     "traceback": [
      "\u001b[1;31m---------------------------------------------------------------------------\u001b[0m",
      "\u001b[1;31mValueError\u001b[0m                                Traceback (most recent call last)",
      "\u001b[1;32m<ipython-input-4-ca742cb4411f>\u001b[0m in \u001b[0;36m<module>\u001b[1;34m()\u001b[0m\n\u001b[0;32m      1\u001b[0m \u001b[0mx\u001b[0m\u001b[1;33m=\u001b[0m\u001b[0mcomplex\u001b[0m\u001b[1;33m(\u001b[0m\u001b[0minput\u001b[0m\u001b[1;33m(\u001b[0m\u001b[1;34m\"enter a number\"\u001b[0m\u001b[1;33m)\u001b[0m\u001b[1;33m)\u001b[0m\u001b[1;33m\u001b[0m\u001b[0m\n\u001b[1;32m----> 2\u001b[1;33m \u001b[0my\u001b[0m\u001b[1;33m=\u001b[0m\u001b[0mcomplex\u001b[0m\u001b[1;33m(\u001b[0m\u001b[0minput\u001b[0m\u001b[1;33m(\u001b[0m\u001b[1;34m\"enter a number\"\u001b[0m\u001b[1;33m)\u001b[0m\u001b[1;33m)\u001b[0m\u001b[1;33m\u001b[0m\u001b[0m\n\u001b[0m\u001b[0;32m      3\u001b[0m \u001b[0mc\u001b[0m\u001b[1;33m=\u001b[0m\u001b[0mx\u001b[0m\u001b[1;33m+\u001b[0m\u001b[0my\u001b[0m\u001b[1;33m\u001b[0m\u001b[0m\n\u001b[0;32m      4\u001b[0m \u001b[0mprint\u001b[0m\u001b[1;33m(\u001b[0m\u001b[0mc\u001b[0m\u001b[1;33m)\u001b[0m\u001b[1;33m\u001b[0m\u001b[0m\n",
      "\u001b[1;31mValueError\u001b[0m: complex() arg is a malformed string"
     ]
    }
   ],
   "source": [
    "x=complex(input(\"enter a number\"))\n",
    "y=complex(input(\"enter a number\"))\n",
    "c=x+y\n",
    "print(c)"
   ]
  },
  {
   "cell_type": "code",
   "execution_count": 3,
   "metadata": {},
   "outputs": [
    {
     "data": {
      "text/plain": [
       "4"
      ]
     },
     "execution_count": 3,
     "metadata": {},
     "output_type": "execute_result"
    }
   ],
   "source": [
    "pow(2,2)\n"
   ]
  },
  {
   "cell_type": "code",
   "execution_count": 7,
   "metadata": {},
   "outputs": [
    {
     "name": "stdout",
     "output_type": "stream",
     "text": [
      "4\n"
     ]
    }
   ],
   "source": [
    "c=(2**2)\n",
    "print(c)"
   ]
  },
  {
   "cell_type": "code",
   "execution_count": 1,
   "metadata": {},
   "outputs": [
    {
     "data": {
      "text/plain": [
       "'D:\\\\python program'"
      ]
     },
     "execution_count": 1,
     "metadata": {},
     "output_type": "execute_result"
    }
   ],
   "source": [
    "import os\n",
    "os.getcwd()"
   ]
  },
  {
   "cell_type": "code",
   "execution_count": 12,
   "metadata": {},
   "outputs": [
    {
     "name": "stdout",
     "output_type": "stream",
     "text": [
      "hello neha \n",
      "how are you doing today\n"
     ]
    }
   ],
   "source": [
    "fp=open('D:\\\\files\\\\filesprogram.txt')\n",
    "data=fp.read()\n",
    "fp.close()\n",
    "print(data)\n",
    "\n"
   ]
  },
  {
   "cell_type": "code",
   "execution_count": null,
   "metadata": {},
   "outputs": [],
   "source": []
  }
 ],
 "metadata": {
  "kernelspec": {
   "display_name": "Python 3",
   "language": "python",
   "name": "python3"
  },
  "language_info": {
   "codemirror_mode": {
    "name": "ipython",
    "version": 3
   },
   "file_extension": ".py",
   "mimetype": "text/x-python",
   "name": "python",
   "nbconvert_exporter": "python",
   "pygments_lexer": "ipython3",
   "version": "3.6.5"
  }
 },
 "nbformat": 4,
 "nbformat_minor": 2
}
