{
 "cells": [
  {
   "cell_type": "raw",
   "metadata": {},
   "source": [
    "Python supports for and while loop\n"
   ]
  },
  {
   "cell_type": "code",
   "execution_count": 1,
   "metadata": {},
   "outputs": [
    {
     "name": "stdout",
     "output_type": "stream",
     "text": [
      "enter a number3\n",
      "3\n",
      "\n",
      "\n",
      "6\n",
      "\n",
      "\n",
      "9\n",
      "\n",
      "\n",
      "12\n",
      "\n",
      "\n",
      "15\n",
      "\n",
      "\n",
      "18\n",
      "\n",
      "\n",
      "21\n",
      "\n",
      "\n",
      "24\n",
      "\n",
      "\n",
      "27\n",
      "\n",
      "\n",
      "30\n",
      "\n",
      "\n"
     ]
    }
   ],
   "source": [
    "num=int(input(\"enter a number\")) #to print table of any number\n",
    "counter=1\n",
    "while counter<=10:\n",
    "    print(num*counter)\n",
    "    print(\"\\n\")\n",
    "    counter=counter+1"
   ]
  },
  {
   "cell_type": "markdown",
   "metadata": {},
   "source": []
  },
  {
   "cell_type": "code",
   "execution_count": 2,
   "metadata": {},
   "outputs": [],
   "source": [
    "print?\n"
   ]
  },
  {
   "cell_type": "code",
   "execution_count": 3,
   "metadata": {},
   "outputs": [
    {
     "name": "stdout",
     "output_type": "stream",
     "text": [
      "*\n",
      "**\n",
      "***\n",
      "****\n",
      "*****\n",
      "******\n"
     ]
    }
   ],
   "source": [
    "c=1\n",
    "while c<=6:\n",
    "    print('*'*c)\n",
    "    c=c+1"
   ]
  },
  {
   "cell_type": "code",
   "execution_count": 1,
   "metadata": {},
   "outputs": [
    {
     "name": "stdout",
     "output_type": "stream",
     "text": [
      "enter a number6\n",
      "enter a number6\n",
      "******\n"
     ]
    }
   ],
   "source": [
    "start=int(input(\"enter a number\"))\n",
    "end=int(input(\"enter a number\"))\n",
    "while end>=start:\n",
    "    print(start*'*')\n",
    "    start=start+1\n",
    "    "
   ]
  },
  {
   "cell_type": "code",
   "execution_count": 13,
   "metadata": {},
   "outputs": [
    {
     "name": "stdout",
     "output_type": "stream",
     "text": [
      "******\n",
      "*****\n",
      "****\n",
      "***\n",
      "**\n",
      "*\n"
     ]
    }
   ],
   "source": [
    "start=1\n",
    "c=6\n",
    "while start<=c:\n",
    "    print('*'*c)\n",
    "    c=c-1\n"
   ]
  },
  {
   "cell_type": "code",
   "execution_count": 1,
   "metadata": {},
   "outputs": [
    {
     "name": "stdout",
     "output_type": "stream",
     "text": [
      "enter a number6\n",
      "***\t***\t***\t***\t***\t***\t"
     ]
    }
   ],
   "source": [
    "start=1\n",
    "end=int(input(\"enter a number\"))\n",
    "while start<=end:\n",
    "    print('*'*3,end='\\t')\n",
    "    start=start+1\n",
    "\n",
    "    \n",
    "    ##end1=int(input(\"enter a number\"))\n",
    "    #while end1>=start1:\n",
    "        #print(\"*\",sep='\\t')\n",
    "        #start1=Start1+1)\n",
    "        #start1=end\n",
    "\n",
    "    "
   ]
  },
  {
   "cell_type": "code",
   "execution_count": null,
   "metadata": {},
   "outputs": [],
   "source": [
    "print(\"*\\n*\\n*\\n*\\n*\\n* * * * * *\\n*\\n*\\n*\\n*\\n*\")"
   ]
  },
  {
   "cell_type": "code",
   "execution_count": 38,
   "metadata": {},
   "outputs": [
    {
     "name": "stdout",
     "output_type": "stream",
     "text": [
      "enter a number7\n",
      "*\t\t*\t\t*\t\t\n",
      "*\t\t*\t\t*\t\t\n",
      "*\t\t*\t\t*\t\t\n",
      "*\t\t*\t\t*\t\t\n",
      "*\t\t*\t\t*\t\t\n",
      "*\t\t*\t\t*\t\t\n",
      "*\t\t*\t\t*\t\t\n"
     ]
    }
   ],
   "source": [
    "start=1\n",
    "end=int(input(\"enter a number\"))\n",
    "if end%2:\n",
    "\n",
    "    while start<=end:\n",
    "        print('*\\t\\t'*3)\n",
    "        start=start+1\n",
    "    middle=(start+end)/2\n",
    "    \n",
    "        "
   ]
  },
  {
   "cell_type": "code",
   "execution_count": 51,
   "metadata": {},
   "outputs": [
    {
     "name": "stdout",
     "output_type": "stream",
     "text": [
      "enter a number7\n",
      "* * * * * * * "
     ]
    }
   ],
   "source": [
    "start=1\n",
    "end=int(input(\"enter a number\"))\n",
    "while start<=end:\n",
    "    print('*',end=' ')\n",
    "    start=start+1"
   ]
  },
  {
   "cell_type": "code",
   "execution_count": 13,
   "metadata": {},
   "outputs": [
    {
     "name": "stdout",
     "output_type": "stream",
     "text": [
      "*****\n",
      " ****\n",
      "  ***\n",
      "   **\n",
      "    *\n",
      "     \n"
     ]
    }
   ],
   "source": [
    "c=5\n",
    "while c>=0:\n",
    "    print(\" \"*(5-c),end='')\n",
    "    print(\"*\"*c)\n",
    "    c=c-1\n",
    "    "
   ]
  },
  {
   "cell_type": "code",
   "execution_count": 7,
   "metadata": {},
   "outputs": [
    {
     "name": "stdout",
     "output_type": "stream",
     "text": [
      "        * \n",
      "        * \n",
      "        * \n",
      "        * \n",
      "* * * * * * * * * \n",
      "        * \n",
      "        * \n",
      "        * \n",
      "        * \n"
     ]
    }
   ],
   "source": [
    "for  row in range(9):\n",
    "    for col in range(9):\n",
    "        if row==4 or col==8 :\n",
    "            print(\"*\",end=\" \")\n",
    "        else:\n",
    "            print(end=\" \")\n",
    "    print()\n"
   ]
  },
  {
   "cell_type": "code",
   "execution_count": 8,
   "metadata": {},
   "outputs": [
    {
     "ename": "SyntaxError",
     "evalue": "unexpected EOF while parsing (<ipython-input-8-407bc6cd6a9b>, line 4)",
     "output_type": "error",
     "traceback": [
      "\u001b[1;36m  File \u001b[1;32m\"<ipython-input-8-407bc6cd6a9b>\"\u001b[1;36m, line \u001b[1;32m4\u001b[0m\n\u001b[1;33m    \u001b[0m\n\u001b[1;37m    ^\u001b[0m\n\u001b[1;31mSyntaxError\u001b[0m\u001b[1;31m:\u001b[0m unexpected EOF while parsing\n"
     ]
    }
   ],
   "source": [
    "for row in range(100):\n",
    "    for col in range(100):\n",
    "        \n",
    "        "
   ]
  },
  {
   "cell_type": "code",
   "execution_count": 11,
   "metadata": {},
   "outputs": [
    {
     "name": "stdout",
     "output_type": "stream",
     "text": [
      "outer loop starts from here\n",
      "\n",
      "outer loop value 1\n",
      "enter loop starts from here\n",
      "\n",
      "enter loop value  1\n",
      "\n",
      "enter loop value  2\n",
      "\n",
      "enter loop value  3\n",
      "\n",
      "enter loop value  4\n",
      "\n",
      "enter loop value  5\n",
      "inner loop stops here\n",
      "\n",
      "outer loop value 2\n",
      "enter loop starts from here\n",
      "\n",
      "enter loop value  1\n",
      "\n",
      "enter loop value  2\n",
      "\n",
      "enter loop value  3\n",
      "\n",
      "enter loop value  4\n",
      "\n",
      "enter loop value  5\n",
      "inner loop stops here\n",
      "\n",
      "outer loop value 3\n",
      "enter loop starts from here\n",
      "\n",
      "enter loop value  1\n",
      "\n",
      "enter loop value  2\n",
      "\n",
      "enter loop value  3\n",
      "\n",
      "enter loop value  4\n",
      "\n",
      "enter loop value  5\n",
      "inner loop stops here\n",
      "\n",
      "outer loop value 4\n",
      "enter loop starts from here\n",
      "\n",
      "enter loop value  1\n",
      "\n",
      "enter loop value  2\n",
      "\n",
      "enter loop value  3\n",
      "\n",
      "enter loop value  4\n",
      "\n",
      "enter loop value  5\n",
      "inner loop stops here\n",
      "\n",
      "outer loop value 5\n",
      "enter loop starts from here\n",
      "\n",
      "enter loop value  1\n",
      "\n",
      "enter loop value  2\n",
      "\n",
      "enter loop value  3\n",
      "\n",
      "enter loop value  4\n",
      "\n",
      "enter loop value  5\n",
      "inner loop stops here\n",
      "outer loop stops here\n"
     ]
    }
   ],
   "source": [
    "#nested loop\n",
    "outer_loop=1\n",
    "print(\"outer loop starts from here\")\n",
    "while outer_loop<=5:\n",
    "    inner_loop=1\n",
    "    print(\"\\nouter loop value\",outer_loop)\n",
    "    print(\"enter loop starts from here\")\n",
    "    while inner_loop<=5:\n",
    "        print(\"\\nenter loop value \",inner_loop)\n",
    "        inner_loop += 1\n",
    "    print(\"inner loop stops here\")\n",
    "    outer_loop += 1\n",
    "print(\"outer loop stops here\")"
   ]
  },
  {
   "cell_type": "code",
   "execution_count": 12,
   "metadata": {},
   "outputs": [
    {
     "name": "stdout",
     "output_type": "stream",
     "text": [
      "6\n",
      "5\n"
     ]
    }
   ],
   "source": [
    "x=5\n",
    "y=6\n",
    "x,y=y,x\n",
    "print(x)\n",
    "print(y)"
   ]
  },
  {
   "cell_type": "code",
   "execution_count": 13,
   "metadata": {},
   "outputs": [
    {
     "name": "stdout",
     "output_type": "stream",
     "text": [
      "The Zen of Python, by Tim Peters\n",
      "\n",
      "Beautiful is better than ugly.\n",
      "Explicit is better than implicit.\n",
      "Simple is better than complex.\n",
      "Complex is better than complicated.\n",
      "Flat is better than nested.\n",
      "Sparse is better than dense.\n",
      "Readability counts.\n",
      "Special cases aren't special enough to break the rules.\n",
      "Although practicality beats purity.\n",
      "Errors should never pass silently.\n",
      "Unless explicitly silenced.\n",
      "In the face of ambiguity, refuse the temptation to guess.\n",
      "There should be one-- and preferably only one --obvious way to do it.\n",
      "Although that way may not be obvious at first unless you're Dutch.\n",
      "Now is better than never.\n",
      "Although never is often better than *right* now.\n",
      "If the implementation is hard to explain, it's a bad idea.\n",
      "If the implementation is easy to explain, it may be a good idea.\n",
      "Namespaces are one honking great idea -- let's do more of those!\n"
     ]
    }
   ],
   "source": [
    "import this"
   ]
  },
  {
   "cell_type": "code",
   "execution_count": 14,
   "metadata": {},
   "outputs": [
    {
     "name": "stdout",
     "output_type": "stream",
     "text": [
      "\n",
      "*\n",
      "**\n",
      "***\n",
      "****\n",
      "*****\n",
      "******\n",
      "*******\n",
      "********\n",
      "*********\n"
     ]
    }
   ],
   "source": [
    "for row in range(10):\n",
    "    for col in range(row):\n",
    "        print(\"*\",end='')\n",
    "    print()"
   ]
  },
  {
   "cell_type": "code",
   "execution_count": null,
   "metadata": {},
   "outputs": [],
   "source": []
  }
 ],
 "metadata": {
  "kernelspec": {
   "display_name": "Python 3",
   "language": "python",
   "name": "python3"
  },
  "language_info": {
   "codemirror_mode": {
    "name": "ipython",
    "version": 3
   },
   "file_extension": ".py",
   "mimetype": "text/x-python",
   "name": "python",
   "nbconvert_exporter": "python",
   "pygments_lexer": "ipython3",
   "version": "3.6.5"
  }
 },
 "nbformat": 4,
 "nbformat_minor": 2
}
