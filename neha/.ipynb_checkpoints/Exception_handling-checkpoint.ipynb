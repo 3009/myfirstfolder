{
 "cells": [
  {
   "cell_type": "raw",
   "metadata": {},
   "source": [
    "raise --> raise is used to build any built in class.\n",
    "assert error --> it occur only when assertion error occur.\n"
   ]
  },
  {
   "cell_type": "code",
   "execution_count": 6,
   "metadata": {},
   "outputs": [
    {
     "name": "stdout",
     "output_type": "stream",
     "text": [
      "enter a number: 2.0\n",
      "input integer number\n"
     ]
    }
   ],
   "source": [
    "try:\n",
    "    y=int(input(\"enter a number: \"))\n",
    "    z=int(input(\"enter a number: \"))\n",
    "    c=y+z\n",
    "    print(c)\n",
    "    \n",
    "except ValueError as arg:\n",
    "    print(\"input integer number\")\n",
    "    \n",
    "    "
   ]
  },
  {
   "cell_type": "code",
   "execution_count": null,
   "metadata": {},
   "outputs": [],
   "source": [
    "try:\n",
    "    y=int(input(\"enter a number: \"))\n",
    "    z=int(input(\"enter a number: \"))\n",
    "    if(z<0):\n",
    "        raise ZeroDivisionError(\"\\nonly positive integer\\n\")\n",
    "        \n",
    "    c=y/z\n",
    "    print(c)\n",
    "    \n",
    "except ValueError as arg:\n",
    "    print(\"input integer number\")\n",
    "except ZeroDivisionError as e:\n",
    "    print(\"enter positive number\")\n",
    "    "
   ]
  },
  {
   "cell_type": "code",
   "execution_count": 1,
   "metadata": {},
   "outputs": [
    {
     "ename": "MyError",
     "evalue": "hello world",
     "output_type": "error",
     "traceback": [
      "\u001b[1;31m---------------------------------------------------------------------------\u001b[0m",
      "\u001b[1;31mMyError\u001b[0m                                   Traceback (most recent call last)",
      "\u001b[1;32m<ipython-input-1-1c3b8eb7c2dc>\u001b[0m in \u001b[0;36m<module>\u001b[1;34m()\u001b[0m\n\u001b[0;32m      2\u001b[0m     \u001b[1;32mdef\u001b[0m \u001b[0m__init__\u001b[0m\u001b[1;33m(\u001b[0m\u001b[0mself\u001b[0m\u001b[1;33m,\u001b[0m\u001b[0marg\u001b[0m\u001b[1;33m)\u001b[0m\u001b[1;33m:\u001b[0m\u001b[1;33m\u001b[0m\u001b[0m\n\u001b[0;32m      3\u001b[0m         \u001b[0msuper\u001b[0m\u001b[1;33m(\u001b[0m\u001b[1;33m)\u001b[0m\u001b[1;33m.\u001b[0m\u001b[0m__init__\u001b[0m\u001b[1;33m(\u001b[0m\u001b[0marg\u001b[0m\u001b[1;33m)\u001b[0m\u001b[1;33m\u001b[0m\u001b[0m\n\u001b[1;32m----> 4\u001b[1;33m \u001b[1;32mraise\u001b[0m \u001b[0mMyError\u001b[0m\u001b[1;33m(\u001b[0m\u001b[1;34m\"hello world\"\u001b[0m\u001b[1;33m)\u001b[0m\u001b[1;33m\u001b[0m\u001b[0m\n\u001b[0m",
      "\u001b[1;31mMyError\u001b[0m: hello world"
     ]
    }
   ],
   "source": [
    "class MyError(ZeroDivisionError):\n",
    "    def __init__(self,arg):\n",
    "        super().__init__(arg)\n",
    "raise MyError(\"hello world\")"
   ]
  },
  {
   "cell_type": "code",
   "execution_count": null,
   "metadata": {},
   "outputs": [],
   "source": []
  }
 ],
 "metadata": {
  "kernelspec": {
   "display_name": "Python 3",
   "language": "python",
   "name": "python3"
  },
  "language_info": {
   "codemirror_mode": {
    "name": "ipython",
    "version": 3
   },
   "file_extension": ".py",
   "mimetype": "text/x-python",
   "name": "python",
   "nbconvert_exporter": "python",
   "pygments_lexer": "ipython3",
   "version": "3.6.5"
  }
 },
 "nbformat": 4,
 "nbformat_minor": 2
}
