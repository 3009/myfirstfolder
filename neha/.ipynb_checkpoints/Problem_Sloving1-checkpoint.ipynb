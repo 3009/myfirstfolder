{
 "cells": [
  {
   "cell_type": "markdown",
   "metadata": {},
   "source": [
    "<h1>Armstrong Numbers</h1>"
   ]
  },
  {
   "cell_type": "code",
   "execution_count": 14,
   "metadata": {},
   "outputs": [
    {
     "name": "stdout",
     "output_type": "stream",
     "text": [
      "Enter a number : 9474\n",
      "Total num of digits in 9474 are 4\n",
      "Original Number 9474 \n",
      "Resulted Number 9474\n",
      "Congratulations number 9474 an armstrong number\n"
     ]
    }
   ],
   "source": [
    "num = int(input(\"Enter a number : \")) #123456\n",
    "num_copy = num \n",
    "num_of_digits = 0 \n",
    "while num_copy : #1\n",
    "    num_of_digits += 1 #num_of_digits = 6\n",
    "    num_copy = num_copy // 10  #0\n",
    "print(f\"Total num of digits in {num} are {num_of_digits}\")  \n",
    "\n",
    "num_copy = num #123456\n",
    "arg_num = 0\n",
    "while num_copy :#123456\n",
    "    last_digit = num_copy  % 10  #123456 % 10 --> 6\n",
    "    arg_num = arg_num + last_digit ** num_of_digits # 0 + 6 ** 6 \n",
    "    num_copy = num_copy // 10 #123456 // 10 --> 12345\n",
    "    \n",
    "print(f\"Original Number {num} \")\n",
    "print(f\"Resulted Number {arg_num}\")\n",
    "\n",
    "if num == arg_num : \n",
    "    print(f\"Congratulations number {num} an armstrong number\")\n",
    "else : \n",
    "    print(f\"Given number {num} is not an armstrong number \")"
   ]
  },
  {
   "cell_type": "code",
   "execution_count": 17,
   "metadata": {},
   "outputs": [],
   "source": [
    "def armStrong(num):\n",
    "    \"\"\"armStrong(num) --> it will return True if num is an armstrong number.\n",
    "    else it will return False.\"\"\"\n",
    "    #num = int(input(\"Enter a number : \")) #123456\n",
    "    num_copy = num \n",
    "    num_of_digits = 0 \n",
    "    while num_copy : #1\n",
    "        num_of_digits += 1 #num_of_digits = 6\n",
    "        num_copy = num_copy // 10  #0\n",
    "    #print(f\"Total num of digits in {num} are {num_of_digits}\")  \n",
    "\n",
    "    num_copy = num #123456\n",
    "    arg_num = 0\n",
    "    while num_copy :#123456\n",
    "        last_digit = num_copy  % 10  #123456 % 10 --> 6\n",
    "        arg_num = arg_num + last_digit ** num_of_digits # 0 + 6 ** 6 \n",
    "        num_copy = num_copy // 10 #123456 // 10 --> 12345\n",
    "\n",
    "    #print(f\"Original Number {num} \")\n",
    "    #print(f\"Resulted Number {arg_num}\")\n",
    "\n",
    "    if num == arg_num : \n",
    "        #print(f\"Congratulations number {num} an armstrong number\")\n",
    "        return True\n",
    "    else : \n",
    "        #print(f\"Given number {num} is not an armstrong number \")\n",
    "        return False"
   ]
  },
  {
   "cell_type": "code",
   "execution_count": null,
   "metadata": {},
   "outputs": [],
   "source": []
  }
 ],
 "metadata": {
  "kernelspec": {
   "display_name": "Python 3",
   "language": "python",
   "name": "python3"
  },
  "language_info": {
   "codemirror_mode": {
    "name": "ipython",
    "version": 3
   },
   "file_extension": ".py",
   "mimetype": "text/x-python",
   "name": "python",
   "nbconvert_exporter": "python",
   "pygments_lexer": "ipython3",
   "version": "3.6.5"
  }
 },
 "nbformat": 4,
 "nbformat_minor": 2
}
