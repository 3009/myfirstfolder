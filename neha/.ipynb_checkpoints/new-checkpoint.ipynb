{
 "cells": [
  {
   "cell_type": "code",
   "execution_count": 66,
   "metadata": {},
   "outputs": [
    {
     "name": "stdout",
     "output_type": "stream",
     "text": [
      "1\tMeena\t78\t89\t98\n",
      "2\tNeha\t87\t89\t87\n",
      "3\tPoonam\t89\t78\t90\n",
      "4\tManisha\t89\t78\t90\n",
      "\t\n"
     ]
    }
   ],
   "source": [
    "f=open('C:\\\\Users\\\\Dell\\\\Desktop\\\\neha\\\\new.txt','r')\n",
    "f1=f.read()\n",
    "f.close\n",
    "print(f1)"
   ]
  },
  {
   "cell_type": "code",
   "execution_count": 67,
   "metadata": {},
   "outputs": [
    {
     "name": "stdout",
     "output_type": "stream",
     "text": [
      "'1\\tMeena\\t78\\t89\\t98\\n2\\tNeha\\t87\\t89\\t87\\n3\\tPoonam\\t89\\t78\\t90\\n4\\tManisha\\t89\\t78\\t90\\n\\t'\n"
     ]
    }
   ],
   "source": [
    "print(repr(f1))"
   ]
  },
  {
   "cell_type": "code",
   "execution_count": 68,
   "metadata": {},
   "outputs": [
    {
     "name": "stdout",
     "output_type": "stream",
     "text": [
      "<_io.TextIOWrapper name='C:\\\\Users\\\\Dell\\\\Desktop\\\\neha\\\\new.txt' mode='r' encoding='cp1252'>\n"
     ]
    }
   ],
   "source": [
    "print(repr(f))"
   ]
  },
  {
   "cell_type": "code",
   "execution_count": 69,
   "metadata": {},
   "outputs": [
    {
     "name": "stdout",
     "output_type": "stream",
     "text": [
      "['1\\tMeena\\t78\\t89\\t98', '2\\tNeha\\t87\\t89\\t87', '3\\tPoonam\\t89\\t78\\t90', '4\\tManisha\\t89\\t78\\t90', '\\t']\n"
     ]
    }
   ],
   "source": [
    "new=f1.split(\"\\n\")\n",
    "print(new)"
   ]
  },
  {
   "cell_type": "code",
   "execution_count": 86,
   "metadata": {},
   "outputs": [
    {
     "ename": "IndexError",
     "evalue": "list index out of range",
     "output_type": "error",
     "traceback": [
      "\u001b[1;31m---------------------------------------------------------------------------\u001b[0m",
      "\u001b[1;31mIndexError\u001b[0m                                Traceback (most recent call last)",
      "\u001b[1;32m<ipython-input-86-a2a70b3fc219>\u001b[0m in \u001b[0;36m<module>\u001b[1;34m()\u001b[0m\n\u001b[0;32m      2\u001b[0m \u001b[1;32mfor\u001b[0m \u001b[0mitems\u001b[0m \u001b[1;32min\u001b[0m \u001b[0mnew\u001b[0m\u001b[1;33m:\u001b[0m\u001b[1;33m\u001b[0m\u001b[0m\n\u001b[0;32m      3\u001b[0m     \u001b[0md\u001b[0m\u001b[1;33m=\u001b[0m\u001b[0mitems\u001b[0m\u001b[1;33m.\u001b[0m\u001b[0msplit\u001b[0m\u001b[1;33m(\u001b[0m\u001b[1;34m'\\t'\u001b[0m\u001b[1;33m)\u001b[0m\u001b[1;33m\u001b[0m\u001b[0m\n\u001b[1;32m----> 4\u001b[1;33m     \u001b[0md\u001b[0m\u001b[1;33m[\u001b[0m\u001b[1;36m2\u001b[0m\u001b[1;33m]\u001b[0m\u001b[1;33m=\u001b[0m\u001b[0mint\u001b[0m\u001b[1;33m(\u001b[0m\u001b[0md\u001b[0m\u001b[1;33m[\u001b[0m\u001b[1;36m2\u001b[0m\u001b[1;33m]\u001b[0m\u001b[1;33m)\u001b[0m\u001b[1;33m\u001b[0m\u001b[0m\n\u001b[0m\u001b[0;32m      5\u001b[0m     \u001b[0md\u001b[0m\u001b[1;33m[\u001b[0m\u001b[1;36m3\u001b[0m\u001b[1;33m]\u001b[0m\u001b[1;33m=\u001b[0m\u001b[0mint\u001b[0m\u001b[1;33m(\u001b[0m\u001b[0md\u001b[0m\u001b[1;33m[\u001b[0m\u001b[1;36m3\u001b[0m\u001b[1;33m]\u001b[0m\u001b[1;33m)\u001b[0m\u001b[1;33m\u001b[0m\u001b[0m\n\u001b[0;32m      6\u001b[0m     \u001b[0md\u001b[0m\u001b[1;33m[\u001b[0m\u001b[1;36m4\u001b[0m\u001b[1;33m]\u001b[0m\u001b[1;33m=\u001b[0m\u001b[0mint\u001b[0m\u001b[1;33m(\u001b[0m\u001b[0md\u001b[0m\u001b[1;33m[\u001b[0m\u001b[1;36m4\u001b[0m\u001b[1;33m]\u001b[0m\u001b[1;33m)\u001b[0m\u001b[1;33m\u001b[0m\u001b[0m\n",
      "\u001b[1;31mIndexError\u001b[0m: list index out of range"
     ]
    }
   ],
   "source": [
    "new1=[]\n",
    "for items in new:\n",
    "    d=items.split('\\t')\n",
    "    d[2]=int(d[2])\n",
    "    d[3]=int(d[3])\n",
    "    d[4]=int(d[4])\n",
    "    d.append((d[2]+d[3]+d[4])/3)\n",
    "    d[2]=str(d[2])\n",
    "    d[3]=str(d[3])\n",
    "    d[4]=str(d[4])\n",
    "    d[5]=str(round(d[5],2))\n",
    "    d='\\t'.join(d)\n",
    "    new1.append(d)\n",
    "final_result='\\n'.join(new1)\n",
    "print(repr(final_result))\n",
    "    \n",
    "    "
   ]
  },
  {
   "cell_type": "code",
   "execution_count": 134,
   "metadata": {},
   "outputs": [
    {
     "name": "stdout",
     "output_type": "stream",
     "text": [
      "*\n",
      "* *\n"
     ]
    }
   ],
   "source": [
    "value=list(map(lambda x: \"*\",[1]))\n",
    "value1=list(map(lambda x: \"*\",[1,2]))\n",
    "\n",
    "print(*value)\n",
    "print(*value1)"
   ]
  },
  {
   "cell_type": "code",
   "execution_count": 108,
   "metadata": {},
   "outputs": [
    {
     "name": "stdout",
     "output_type": "stream",
     "text": [
      "*\n",
      "**\n",
      "***\n",
      "****\n",
      "*****\n",
      "******\n",
      "*******\n",
      "********\n",
      "*********\n",
      "**********\n"
     ]
    }
   ],
   "source": [
    "for i in range(1,11):\n",
    "    print(\"*\"*i)"
   ]
  },
  {
   "cell_type": "code",
   "execution_count": 1,
   "metadata": {},
   "outputs": [
    {
     "name": "stdout",
     "output_type": "stream",
     "text": [
      "*\n",
      "**\n",
      "***\n",
      "****\n",
      "*****\n",
      "******\n",
      "*******\n",
      "********\n",
      "*********\n",
      "**********\n"
     ]
    }
   ],
   "source": [
    "numbers=[1,2,3,4,5,6,7,8,9,10]\n",
    "val=(map(lambda x:\"*\"*x,numbers))\n",
    "print(*val,sep='\\n')"
   ]
  },
  {
   "cell_type": "code",
   "execution_count": 32,
   "metadata": {},
   "outputs": [
    {
     "name": "stdout",
     "output_type": "stream",
     "text": [
      "enter a number : 123\n",
      "6\n"
     ]
    }
   ],
   "source": [
    "num=int(input(\"enter a number : \")) #sum of entered digits\n",
    "copy=num\n",
    "a=0\n",
    "while copy:\n",
    "    number_of_digits=copy%10\n",
    "    a=a+number_of_digits\n",
    "    copy=copy//10\n",
    "print(a)\n",
    "    "
   ]
  },
  {
   "cell_type": "code",
   "execution_count": 27,
   "metadata": {},
   "outputs": [
    {
     "name": "stdout",
     "output_type": "stream",
     "text": [
      "enter a number : 321\n",
      "3\n"
     ]
    }
   ],
   "source": [
    "num=int(input(\"enter a number : \"))\n",
    "copy=num\n",
    "num_ofdigits=0\n",
    "while copy:\n",
    "    num_ofdigits+=1\n",
    "    copy=copy//10\n",
    "print(num_ofdigits)\n"
   ]
  },
  {
   "cell_type": "code",
   "execution_count": 29,
   "metadata": {},
   "outputs": [
    {
     "name": "stdout",
     "output_type": "stream",
     "text": [
      "36\n",
      "numberr is not armstrong\n"
     ]
    }
   ],
   "source": [
    "copy=num\n",
    "a=0\n",
    "while copy:\n",
    "    div=copy%10\n",
    "    a=a+div**num_ofdigits\n",
    "    copy=copy//10\n",
    "print(a)\n",
    "if(a==num):\n",
    "        print(\"number is armstrong\")\n",
    "else:\n",
    "        print(\"numberr is not armstrong\")"
   ]
  },
  {
   "cell_type": "code",
   "execution_count": 38,
   "metadata": {},
   "outputs": [
    {
     "name": "stdout",
     "output_type": "stream",
     "text": [
      "\n",
      "        name=RDS sr sec public school\n",
      "        address=Station Road\n",
      "        contact=1234567890\n",
      "        \n",
      "        Students Detail\n",
      "        \n",
      "        sname=Neha\n",
      "        standard=10\n",
      "        phone number=2134567890\n",
      "        \n",
      "\n",
      "        name=RDS sr sec public school\n",
      "        address=Station Road\n",
      "        contact=1234567890\n",
      "        \n",
      "        Students Detail\n",
      "        \n",
      "        sname=Guddu\n",
      "        standard=12\n",
      "        phone number=4533166789\n",
      "        \n"
     ]
    }
   ],
   "source": [
    "def school(name,address,contact):  #closure function\n",
    "    def students(sname,standard,phn_num):\n",
    "        para=f\"\"\"\n",
    "        name={name}\n",
    "        address={address}\n",
    "        contact={contact}\n",
    "        \n",
    "        Students Detail\n",
    "        \n",
    "        sname={sname}\n",
    "        standard={standard}\n",
    "        phone number={phn_num}\n",
    "        \"\"\"\n",
    "        return para\n",
    "    return students\n",
    "detail=school('RDS sr sec public school','Station Road',1234567890)\n",
    "s1=detail('Neha',10,2134567890)\n",
    "s2=detail('Guddu',12,4533166789)\n",
    "print(s1)\n",
    "print(s2)"
   ]
  },
  {
   "cell_type": "code",
   "execution_count": null,
   "metadata": {},
   "outputs": [],
   "source": []
  },
  {
   "cell_type": "code",
   "execution_count": null,
   "metadata": {},
   "outputs": [],
   "source": []
  }
 ],
 "metadata": {
  "kernelspec": {
   "display_name": "Python 3",
   "language": "python",
   "name": "python3"
  },
  "language_info": {
   "codemirror_mode": {
    "name": "ipython",
    "version": 3
   },
   "file_extension": ".py",
   "mimetype": "text/x-python",
   "name": "python",
   "nbconvert_exporter": "python",
   "pygments_lexer": "ipython3",
   "version": "3.6.5"
  }
 },
 "nbformat": 4,
 "nbformat_minor": 2
}
