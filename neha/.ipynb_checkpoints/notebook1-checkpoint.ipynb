{
 "cells": [
  {
   "cell_type": "code",
   "execution_count": 1,
   "metadata": {},
   "outputs": [
    {
     "name": "stdout",
     "output_type": "stream",
     "text": [
      "hello this is my notebook\n"
     ]
    }
   ],
   "source": [
    "print(\"hello this is my notebook\")"
   ]
  },
  {
   "cell_type": "markdown",
   "metadata": {},
   "source": [
    "<h1 style='color:#\"red\"'>Python Data Types</h1>\n",
    "<ol>\n",
    "    <li>Numbers= used to show numbers like int, float, complex in pyhton with different values</li>\n",
    "    <li>String= used to define set of characters like other languages</li>\n",
    "    <li>list= it defines series of and same type values like an array</li>\n",
    "    <li>dictionary= it contains mix values and can be updated</li>\n",
    "    <li>tuples= it contains set of different values and cannot be updated</li>\n",
    "    <li>sets= a set is an unordered collection of items, every element is unique which cannot be change</li>\n",
    "    </ol>"
   ]
  },
  {
   "cell_type": "code",
   "execution_count": null,
   "metadata": {},
   "outputs": [],
   "source": []
  }
 ],
 "metadata": {
  "kernelspec": {
   "display_name": "Python 3",
   "language": "python",
   "name": "python3"
  },
  "language_info": {
   "codemirror_mode": {
    "name": "ipython",
    "version": 3
   },
   "file_extension": ".py",
   "mimetype": "text/x-python",
   "name": "python",
   "nbconvert_exporter": "python",
   "pygments_lexer": "ipython3",
   "version": "3.6.5"
  }
 },
 "nbformat": 4,
 "nbformat_minor": 2
}
