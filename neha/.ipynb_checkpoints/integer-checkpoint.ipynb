{
 "cells": [
  {
   "cell_type": "raw",
   "metadata": {},
   "source": [
    "integer does not start with 0 digit.\n",
    "python have 32 keywords\n"
   ]
  },
  {
   "cell_type": "code",
   "execution_count": 1,
   "metadata": {},
   "outputs": [
    {
     "name": "stdout",
     "output_type": "stream",
     "text": [
      "<class 'int'>\n"
     ]
    }
   ],
   "source": [
    "x= 12\n",
    "print(type(x))"
   ]
  },
  {
   "cell_type": "code",
   "execution_count": null,
   "metadata": {},
   "outputs": [],
   "source": []
  },
  {
   "cell_type": "code",
   "execution_count": 2,
   "metadata": {},
   "outputs": [
    {
     "data": {
      "text/plain": [
       "int"
      ]
     },
     "execution_count": 2,
     "metadata": {},
     "output_type": "execute_result"
    }
   ],
   "source": [
    "x=12   #variable is a container that value can be change with time\n",
    "type(x) "
   ]
  },
  {
   "cell_type": "code",
   "execution_count": 3,
   "metadata": {},
   "outputs": [
    {
     "name": "stdout",
     "output_type": "stream",
     "text": [
      "['False', 'None', 'True', 'and', 'as', 'assert', 'break', 'class', 'continue', 'def', 'del', 'elif', 'else', 'except', 'finally', 'for', 'from', 'global', 'if', 'import', 'in', 'is', 'lambda', 'nonlocal', 'not', 'or', 'pass', 'raise', 'return', 'try', 'while', 'with', 'yield']\n"
     ]
    }
   ],
   "source": [
    "from keyword import kwlist\n",
    "print(kwlist)"
   ]
  },
  {
   "cell_type": "code",
   "execution_count": 4,
   "metadata": {},
   "outputs": [
    {
     "data": {
      "text/plain": [
       "{'__name__': '__main__',\n",
       " '__doc__': 'Automatically created module for IPython interactive environment',\n",
       " '__package__': None,\n",
       " '__loader__': None,\n",
       " '__spec__': None,\n",
       " '__builtin__': <module 'builtins' (built-in)>,\n",
       " '__builtins__': <module 'builtins' (built-in)>,\n",
       " '_ih': ['',\n",
       "  'x= 12\\nprint(type(x))',\n",
       "  'x=12\\ntype(x)',\n",
       "  'from keyword import kwlist\\nprint(kwlist)',\n",
       "  'globals()'],\n",
       " '_oh': {2: int},\n",
       " '_dh': ['d:\\\\python program'],\n",
       " 'In': ['',\n",
       "  'x= 12\\nprint(type(x))',\n",
       "  'x=12\\ntype(x)',\n",
       "  'from keyword import kwlist\\nprint(kwlist)',\n",
       "  'globals()'],\n",
       " 'Out': {2: int},\n",
       " 'get_ipython': <bound method InteractiveShell.get_ipython of <ipykernel.zmqshell.ZMQInteractiveShell object at 0x000002C5CEB6A898>>,\n",
       " 'exit': <IPython.core.autocall.ZMQExitAutocall at 0x2c5ceb9a0b8>,\n",
       " 'quit': <IPython.core.autocall.ZMQExitAutocall at 0x2c5ceb9a0b8>,\n",
       " '_': int,\n",
       " '__': '',\n",
       " '___': '',\n",
       " '_i': 'from keyword import kwlist\\nprint(kwlist)',\n",
       " '_ii': 'x=12\\ntype(x)',\n",
       " '_iii': 'x= 12\\nprint(type(x))',\n",
       " '_i1': 'x= 12\\nprint(type(x))',\n",
       " 'x': 12,\n",
       " '_i2': 'x=12\\ntype(x)',\n",
       " '_2': int,\n",
       " '_i3': 'from keyword import kwlist\\nprint(kwlist)',\n",
       " 'kwlist': ['False',\n",
       "  'None',\n",
       "  'True',\n",
       "  'and',\n",
       "  'as',\n",
       "  'assert',\n",
       "  'break',\n",
       "  'class',\n",
       "  'continue',\n",
       "  'def',\n",
       "  'del',\n",
       "  'elif',\n",
       "  'else',\n",
       "  'except',\n",
       "  'finally',\n",
       "  'for',\n",
       "  'from',\n",
       "  'global',\n",
       "  'if',\n",
       "  'import',\n",
       "  'in',\n",
       "  'is',\n",
       "  'lambda',\n",
       "  'nonlocal',\n",
       "  'not',\n",
       "  'or',\n",
       "  'pass',\n",
       "  'raise',\n",
       "  'return',\n",
       "  'try',\n",
       "  'while',\n",
       "  'with',\n",
       "  'yield'],\n",
       " '_i4': 'globals()'}"
      ]
     },
     "execution_count": 4,
     "metadata": {},
     "output_type": "execute_result"
    }
   ],
   "source": [
    "globals()"
   ]
  },
  {
   "cell_type": "code",
   "execution_count": 5,
   "metadata": {},
   "outputs": [
    {
     "data": {
      "text/plain": [
       "{'__name__': '__main__',\n",
       " '__doc__': 'Automatically created module for IPython interactive environment',\n",
       " '__package__': None,\n",
       " '__loader__': None,\n",
       " '__spec__': None,\n",
       " '__builtin__': <module 'builtins' (built-in)>,\n",
       " '__builtins__': <module 'builtins' (built-in)>,\n",
       " '_ih': ['',\n",
       "  'x= 12\\nprint(type(x))',\n",
       "  'x=12\\ntype(x)',\n",
       "  'from keyword import kwlist\\nprint(kwlist)',\n",
       "  'globals()',\n",
       "  'locals()'],\n",
       " '_oh': {2: int, 4: {...}},\n",
       " '_dh': ['d:\\\\python program'],\n",
       " 'In': ['',\n",
       "  'x= 12\\nprint(type(x))',\n",
       "  'x=12\\ntype(x)',\n",
       "  'from keyword import kwlist\\nprint(kwlist)',\n",
       "  'globals()',\n",
       "  'locals()'],\n",
       " 'Out': {2: int, 4: {...}},\n",
       " 'get_ipython': <bound method InteractiveShell.get_ipython of <ipykernel.zmqshell.ZMQInteractiveShell object at 0x000002C5CEB6A898>>,\n",
       " 'exit': <IPython.core.autocall.ZMQExitAutocall at 0x2c5ceb9a0b8>,\n",
       " 'quit': <IPython.core.autocall.ZMQExitAutocall at 0x2c5ceb9a0b8>,\n",
       " '_': {...},\n",
       " '__': int,\n",
       " '___': '',\n",
       " '_i': 'globals()',\n",
       " '_ii': 'from keyword import kwlist\\nprint(kwlist)',\n",
       " '_iii': 'x=12\\ntype(x)',\n",
       " '_i1': 'x= 12\\nprint(type(x))',\n",
       " 'x': 12,\n",
       " '_i2': 'x=12\\ntype(x)',\n",
       " '_2': int,\n",
       " '_i3': 'from keyword import kwlist\\nprint(kwlist)',\n",
       " 'kwlist': ['False',\n",
       "  'None',\n",
       "  'True',\n",
       "  'and',\n",
       "  'as',\n",
       "  'assert',\n",
       "  'break',\n",
       "  'class',\n",
       "  'continue',\n",
       "  'def',\n",
       "  'del',\n",
       "  'elif',\n",
       "  'else',\n",
       "  'except',\n",
       "  'finally',\n",
       "  'for',\n",
       "  'from',\n",
       "  'global',\n",
       "  'if',\n",
       "  'import',\n",
       "  'in',\n",
       "  'is',\n",
       "  'lambda',\n",
       "  'nonlocal',\n",
       "  'not',\n",
       "  'or',\n",
       "  'pass',\n",
       "  'raise',\n",
       "  'return',\n",
       "  'try',\n",
       "  'while',\n",
       "  'with',\n",
       "  'yield'],\n",
       " '_i4': 'globals()',\n",
       " '_4': {...},\n",
       " '_i5': 'locals()'}"
      ]
     },
     "execution_count": 5,
     "metadata": {},
     "output_type": "execute_result"
    }
   ],
   "source": [
    "locals()"
   ]
  },
  {
   "cell_type": "code",
   "execution_count": 7,
   "metadata": {},
   "outputs": [
    {
     "name": "stdout",
     "output_type": "stream",
     "text": [
      "bit length= 466 bit\n",
      "size taken by x= 88 bytes\n"
     ]
    }
   ],
   "source": [
    "x=123456789999999999999999999999999999999999999999999999999999999999999999999999999999999999999999999999999999999999999999999999999999999999999\n",
    "print(\"bit length=\",x.bit_length(),\"bit\")\n",
    "print(\"size taken by x=\",x.__sizeof__(),\"bytes\") #1byte=8 bit\n",
    "                                                #s*1024kb*1024bytes*8bits"
   ]
  },
  {
   "cell_type": "code",
   "execution_count": 8,
   "metadata": {},
   "outputs": [
    {
     "name": "stdout",
     "output_type": "stream",
     "text": [
      "(34+0j)\n"
     ]
    }
   ],
   "source": [
    "x=3+5j #complex number\n",
    "y=3-5j\n",
    "print(x*y)"
   ]
  },
  {
   "cell_type": "code",
   "execution_count": 14,
   "metadata": {},
   "outputs": [
    {
     "name": "stdout",
     "output_type": "stream",
     "text": [
      "enter a number3+4j\n",
      "enter another number3-9j\n",
      "<class 'complex'>\n",
      "<class 'complex'>\n",
      "result is (45-15j)\n"
     ]
    }
   ],
   "source": [
    "x=complex(input(\"enter a number\"))\n",
    "y=complex(input(\"enter another number\"))\n",
    "z=x*y\n",
    "print(type(x))\n",
    "print(type(y))\n",
    "print(\"result is\",z)"
   ]
  },
  {
   "cell_type": "markdown",
   "metadata": {},
   "source": [
    "##### "
   ]
  },
  {
   "cell_type": "code",
   "execution_count": 13,
   "metadata": {},
   "outputs": [
    {
     "name": "stdout",
     "output_type": "stream",
     "text": [
      "['__abs__', '__add__', '__and__', '__bool__', '__ceil__', '__class__', '__delattr__', '__dir__', '__divmod__', '__doc__', '__eq__', '__float__', '__floor__', '__floordiv__', '__format__', '__ge__', '__getattribute__', '__getnewargs__', '__gt__', '__hash__', '__index__', '__init__', '__init_subclass__', '__int__', '__invert__', '__le__', '__lshift__', '__lt__', '__mod__', '__mul__', '__ne__', '__neg__', '__new__', '__or__', '__pos__', '__pow__', '__radd__', '__rand__', '__rdivmod__', '__reduce__', '__reduce_ex__', '__repr__', '__rfloordiv__', '__rlshift__', '__rmod__', '__rmul__', '__ror__', '__round__', '__rpow__', '__rrshift__', '__rshift__', '__rsub__', '__rtruediv__', '__rxor__', '__setattr__', '__sizeof__', '__str__', '__sub__', '__subclasshook__', '__truediv__', '__trunc__', '__xor__', 'bit_length', 'conjugate', 'denominator', 'from_bytes', 'imag', 'numerator', 'real', 'to_bytes']\n"
     ]
    }
   ],
   "source": [
    "x=5\n",
    "print(dir(x))"
   ]
  },
  {
   "cell_type": "code",
   "execution_count": null,
   "metadata": {},
   "outputs": [],
   "source": []
  }
 ],
 "metadata": {
  "kernelspec": {
   "display_name": "Python 3",
   "language": "python",
   "name": "python3"
  },
  "language_info": {
   "codemirror_mode": {
    "name": "ipython",
    "version": 3
   },
   "file_extension": ".py",
   "mimetype": "text/x-python",
   "name": "python",
   "nbconvert_exporter": "python",
   "pygments_lexer": "ipython3",
   "version": "3.6.5"
  }
 },
 "nbformat": 4,
 "nbformat_minor": 2
}
