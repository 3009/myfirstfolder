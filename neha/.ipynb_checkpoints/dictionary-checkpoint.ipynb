{
 "cells": [
  {
   "cell_type": "code",
   "execution_count": null,
   "metadata": {
    "slideshow": {
     "slide_type": "skip"
    }
   },
   "outputs": [],
   "source": []
  },
  {
   "cell_type": "code",
   "execution_count": 2,
   "metadata": {
    "slideshow": {
     "slide_type": "slide"
    }
   },
   "outputs": [
    {
     "name": "stdout",
     "output_type": "stream",
     "text": [
      "['__class__', '__contains__', '__delattr__', '__delitem__', '__dir__', '__doc__', '__eq__', '__format__', '__ge__', '__getattribute__', '__getitem__', '__gt__', '__hash__', '__init__', '__init_subclass__', '__iter__', '__le__', '__len__', '__lt__', '__ne__', '__new__', '__reduce__', '__reduce_ex__', '__repr__', '__setattr__', '__setitem__', '__sizeof__', '__str__', '__subclasshook__', 'clear', 'copy', 'fromkeys', 'get', 'items', 'keys', 'pop', 'popitem', 'setdefault', 'update', 'values']\n"
     ]
    }
   ],
   "source": [
    "print(dir(dict))"
   ]
  },
  {
   "cell_type": "code",
   "execution_count": 3,
   "metadata": {
    "slideshow": {
     "slide_type": "fragment"
    }
   },
   "outputs": [
    {
     "name": "stdout",
     "output_type": "stream",
     "text": [
      "D.pop(k[,d]) -> v, remove specified key and return the corresponding value.\n",
      "If key is not found, d is returned if given, otherwise KeyError is raised\n"
     ]
    }
   ],
   "source": [
    "print(dict.pop.__doc__)"
   ]
  },
  {
   "cell_type": "code",
   "execution_count": 31,
   "metadata": {
    "slideshow": {
     "slide_type": "slide"
    }
   },
   "outputs": [
    {
     "name": "stdout",
     "output_type": "stream",
     "text": [
      "{'Name': 'Neha Soni', 'Graduation': 'Btech', 'DOB': '30-sep-1996', 'Birth Place': 'Sujangarh', 'Current city': 'Jaipur', 'Hobbies': 'Love to play with camera in free time', 'Skills': {'education': ['C', 'python', 'Java', 'Microsoft'], 'others': ['singing', 'dancing', 'sports', 'art']}}\n"
     ]
    }
   ],
   "source": [
    "intro={'Name':'Neha Soni',\n",
    "       'Graduation':'Btech',\n",
    "       'DOB': '30-sep-1996', \n",
    "       'Birth Place': 'Sujangarh',\n",
    "       'Current city' : 'Jaipur', \n",
    "       'Hobbies' : 'Love to play with camera in free time',\n",
    "       'Skills':{'education': ['C','python','Java', 'Microsoft'],\n",
    "                 'others' : ['singing', 'dancing', 'sports', 'art']}\n",
    "      }\n",
    "print(intro)"
   ]
  },
  {
   "cell_type": "code",
   "execution_count": 21,
   "metadata": {
    "slideshow": {
     "slide_type": "fragment"
    }
   },
   "outputs": [
    {
     "name": "stdout",
     "output_type": "stream",
     "text": [
      "dict_values(['Neha Soni', 'Btech', '30-sep-1996', 'Sujangarh', 'Jaipur', 'Love to play with camera in free time', {'education': ['C', 'python', 'Java', 'Microsoft'], 'others': ['singing', 'dancing', 'sports', 'art']}])\n"
     ]
    }
   ],
   "source": [
    "print(intro.values())"
   ]
  },
  {
   "cell_type": "code",
   "execution_count": 9,
   "metadata": {
    "slideshow": {
     "slide_type": "slide"
    }
   },
   "outputs": [
    {
     "name": "stdout",
     "output_type": "stream",
     "text": [
      "1005766197416963348\n",
      "0b110111110101001100110000011100011100001000100010110100010100\n"
     ]
    }
   ],
   "source": [
    "s='neha'\n",
    "h=hash(s) #hash function \n",
    "k=bin(h)\n",
    "print(h)\n",
    "print(k)"
   ]
  },
  {
   "cell_type": "raw",
   "metadata": {
    "slideshow": {
     "slide_type": "fragment"
    }
   },
   "source": [
    "#List works on index number it will take time to traverse the data, it is a structured format of items.the position or index number will change of a item by push,pop,append operation.\n",
    "\n",
    "#list has redundancy means we can add item with same name. It is not hashable.\n",
    "\n",
    "#Dictionary works on keys. it will not change the position of a item. Key is unique. It is hashable.\n"
   ]
  },
  {
   "cell_type": "code",
   "execution_count": 22,
   "metadata": {
    "slideshow": {
     "slide_type": "fragment"
    }
   },
   "outputs": [
    {
     "name": "stdout",
     "output_type": "stream",
     "text": [
      "{'Birth Place': 'Sujangarh',\n",
      " 'Current city': 'Jaipur',\n",
      " 'DOB': '30-sep-1996',\n",
      " 'Graduation': 'Btech',\n",
      " 'Hobbies': 'Love to play with camera in free time',\n",
      " 'Name': 'Neha Soni',\n",
      " 'Skills': {'education': ['C', 'python', 'Java', 'Microsoft'],\n",
      "            'others': ['singing', 'dancing', 'sports', 'art']}}\n"
     ]
    }
   ],
   "source": [
    "from pprint import pprint\n",
    "pprint(intro)"
   ]
  },
  {
   "cell_type": "code",
   "execution_count": 15,
   "metadata": {
    "slideshow": {
     "slide_type": "slide"
    }
   },
   "outputs": [
    {
     "data": {
      "text/plain": [
       "'30-sep-1996'"
      ]
     },
     "execution_count": 15,
     "metadata": {},
     "output_type": "execute_result"
    }
   ],
   "source": [
    "intro['DOB']"
   ]
  },
  {
   "cell_type": "code",
   "execution_count": 18,
   "metadata": {
    "slideshow": {
     "slide_type": "fragment"
    }
   },
   "outputs": [
    {
     "data": {
      "text/plain": [
       "'Microsoft'"
      ]
     },
     "execution_count": 18,
     "metadata": {},
     "output_type": "execute_result"
    }
   ],
   "source": [
    "intro['Skills'][3]"
   ]
  },
  {
   "cell_type": "code",
   "execution_count": 23,
   "metadata": {
    "slideshow": {
     "slide_type": "fragment"
    }
   },
   "outputs": [
    {
     "data": {
      "text/plain": [
       "'art'"
      ]
     },
     "execution_count": 23,
     "metadata": {},
     "output_type": "execute_result"
    }
   ],
   "source": [
    "intro['Skills']['others'][3]"
   ]
  },
  {
   "cell_type": "code",
   "execution_count": 25,
   "metadata": {
    "slideshow": {
     "slide_type": "slide"
    }
   },
   "outputs": [
    {
     "name": "stdout",
     "output_type": "stream",
     "text": [
      "['__class__', '__contains__', '__delattr__', '__delitem__', '__dir__', '__doc__', '__eq__', '__format__', '__ge__', '__getattribute__', '__getitem__', '__gt__', '__hash__', '__init__', '__init_subclass__', '__iter__', '__le__', '__len__', '__lt__', '__ne__', '__new__', '__reduce__', '__reduce_ex__', '__repr__', '__setattr__', '__setitem__', '__sizeof__', '__str__', '__subclasshook__', 'clear', 'copy', 'fromkeys', 'get', 'items', 'keys', 'pop', 'popitem', 'setdefault', 'update', 'values']\n"
     ]
    }
   ],
   "source": [
    "print(dir(dict))"
   ]
  },
  {
   "cell_type": "code",
   "execution_count": 28,
   "metadata": {
    "slideshow": {
     "slide_type": "fragment"
    }
   },
   "outputs": [],
   "source": [
    "intro['Name']='guddu' #addition of new key and value (mutation)"
   ]
  },
  {
   "cell_type": "code",
   "execution_count": 27,
   "metadata": {
    "slideshow": {
     "slide_type": "slide"
    }
   },
   "outputs": [
    {
     "data": {
      "text/plain": [
       "'guddu'"
      ]
     },
     "execution_count": 27,
     "metadata": {},
     "output_type": "execute_result"
    }
   ],
   "source": [
    "intro['Name']"
   ]
  },
  {
   "cell_type": "code",
   "execution_count": null,
   "metadata": {
    "slideshow": {
     "slide_type": "fragment"
    }
   },
   "outputs": [],
   "source": [
    "key= input(\"what do yo want to see: \").strip().lower() #input gives string thats why we used strip function because it also gives string\n",
    "key= ''.join(key.split())\n",
    "intro[key]"
   ]
  },
  {
   "cell_type": "code",
   "execution_count": null,
   "metadata": {
    "slideshow": {
     "slide_type": "fragment"
    }
   },
   "outputs": [],
   "source": [
    "print(intro.pop.__doc__)"
   ]
  },
  {
   "cell_type": "raw",
   "metadata": {
    "slideshow": {
     "slide_type": "fragment"
    }
   },
   "source": [
    "#popitem()= will delete the item from the last and sort in ascending order or alphabeticaly.\n",
    "#setdefault()= it will return the default value of a function.\n",
    "#update function will update the old dictionary with the new one."
   ]
  },
  {
   "cell_type": "code",
   "execution_count": 16,
   "metadata": {
    "slideshow": {
     "slide_type": "fragment"
    }
   },
   "outputs": [
    {
     "name": "stdout",
     "output_type": "stream",
     "text": [
      "[('account no', [1001, 1002, 1003, 1004, 1005, 1006]), ('user', ['sachin', 'jitendra', 'meena', 'ramawatar', 'poonam', 'meena']), ('balance', [9, 6500, 75000, 125790, 320012, 157912]), ('password', ['python@123', 'redhat@5921', 'password', '123abcdef', 'query', '123abcd']), ('loan', ['yes', 'no', 'no', 'yes', 'no', 'yes'])]\n"
     ]
    }
   ],
   "source": [
    "bank=[('account no',[1001,1002,1003,1004,1005,1006]),\n",
    "       ('user',['sachin','jitendra','meena','ramawatar','poonam','meena']),\n",
    "        ('balance',[9,6500,75000,125790,320012,157912]),\n",
    "         ('password',['python@123','redhat@5921','password','123abcdef','query','123abcd']),\n",
    "          ('loan',['yes','no','no','yes','no','yes'])]\n",
    "print(bank)"
   ]
  },
  {
   "cell_type": "code",
   "execution_count": 17,
   "metadata": {
    "slideshow": {
     "slide_type": "slide"
    }
   },
   "outputs": [
    {
     "name": "stdout",
     "output_type": "stream",
     "text": [
      "{'account no': [1001, 1002, 1003, 1004, 1005, 1006], 'user': ['sachin', 'jitendra', 'meena', 'ramawatar', 'poonam', 'meena'], 'balance': [9, 6500, 75000, 125790, 320012, 157912], 'password': ['python@123', 'redhat@5921', 'password', '123abcdef', 'query', '123abcd'], 'loan': ['yes', 'no', 'no', 'yes', 'no', 'yes']}\n"
     ]
    }
   ],
   "source": [
    "l2=dict(bank)\n",
    "print(l2)"
   ]
  },
  {
   "cell_type": "code",
   "execution_count": 20,
   "metadata": {
    "slideshow": {
     "slide_type": "fragment"
    }
   },
   "outputs": [
    {
     "ename": "ImportError",
     "evalue": "cannot import name 'ppr'",
     "output_type": "error",
     "traceback": [
      "\u001b[1;31m---------------------------------------------------------------------------\u001b[0m",
      "\u001b[1;31mImportError\u001b[0m                               Traceback (most recent call last)",
      "\u001b[1;32m<ipython-input-20-5e05fe559b57>\u001b[0m in \u001b[0;36m<module>\u001b[1;34m()\u001b[0m\n\u001b[1;32m----> 1\u001b[1;33m \u001b[1;32mfrom\u001b[0m \u001b[0mpprint\u001b[0m \u001b[1;32mimport\u001b[0m \u001b[0mppr\u001b[0m\u001b[1;33m\u001b[0m\u001b[0m\n\u001b[0m",
      "\u001b[1;31mImportError\u001b[0m: cannot import name 'ppr'"
     ]
    }
   ],
   "source": [
    "from pprint import ppr"
   ]
  },
  {
   "cell_type": "code",
   "execution_count": null,
   "metadata": {
    "slideshow": {
     "slide_type": "skip"
    }
   },
   "outputs": [],
   "source": []
  }
 ],
 "metadata": {
  "celltoolbar": "Slideshow",
  "kernelspec": {
   "display_name": "Python 3",
   "language": "python",
   "name": "python3"
  },
  "language_info": {
   "codemirror_mode": {
    "name": "ipython",
    "version": 3
   },
   "file_extension": ".py",
   "mimetype": "text/x-python",
   "name": "python",
   "nbconvert_exporter": "python",
   "pygments_lexer": "ipython3",
   "version": "3.6.5"
  }
 },
 "nbformat": 4,
 "nbformat_minor": 2
}
