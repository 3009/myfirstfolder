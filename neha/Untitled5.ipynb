{
 "cells": [
  {
   "cell_type": "code",
   "execution_count": 1,
   "metadata": {},
   "outputs": [
    {
     "name": "stdout",
     "output_type": "stream",
     "text": [
      "enter a number: 4\n",
      "\n",
      "*\n",
      "**\n",
      "***\n",
      "\n"
     ]
    }
   ],
   "source": [
    "num=int(input(\"enter a number: \"))\n",
    "for var in range(num):\n",
    "    print(\"*\"*var)\n",
    "print()"
   ]
  },
  {
   "cell_type": "code",
   "execution_count": 8,
   "metadata": {},
   "outputs": [
    {
     "name": "stdout",
     "output_type": "stream",
     "text": [
      "enter a number: 3\n",
      " * ** * \n",
      " * ** * \n",
      " * ** * \n",
      " * ** * \n",
      " * ** * \n",
      " * ** * \n",
      " * ** * \n",
      " * ** * \n",
      " * ** * \n"
     ]
    }
   ],
   "source": [
    "num=int(input(\"enter a number: \"))\n",
    "c=0\n",
    "for row in range(num):\n",
    "    for col in range(num):\n",
    "        print(\" *\"*var+\"* \"*var)"
   ]
  },
  {
   "cell_type": "code",
   "execution_count": 32,
   "metadata": {},
   "outputs": [
    {
     "name": "stdout",
     "output_type": "stream",
     "text": [
      "enter a number: 7\n",
      "*******\n",
      "*     *\n",
      "*     *\n",
      "*******\n",
      "*     *\n",
      "*     *\n",
      "*     *\n"
     ]
    }
   ],
   "source": [
    "num=int(input(\"enter a number: \"))\n",
    "for row in range(num):\n",
    "    for col in range(num):\n",
    "        if(col==0 or col==(num-1))or(row==0 or row==(num-1)/2):\n",
    "            print(\"*\",end='')\n",
    "        else:\n",
    "            print(end=' ')\n",
    "        \n",
    "    print()\n",
    "        "
   ]
  },
  {
   "cell_type": "code",
   "execution_count": 33,
   "metadata": {},
   "outputs": [
    {
     "name": "stdout",
     "output_type": "stream",
     "text": [
      "enter a number: 7\n",
      "*******\n",
      "*     *\n",
      "*     *\n",
      "*******\n",
      "*     *\n",
      "*     *\n",
      "*******\n"
     ]
    }
   ],
   "source": [
    "num=int(input(\"enter a number: \"))\n",
    "for row in range(num):\n",
    "    for col in range(num):\n",
    "        if(col==0 or col==(num-1))or(row==0 or row==(num-1)/2) or row==(num-1):\n",
    "            print(\"*\",end='')\n",
    "        else:\n",
    "            print(end=' ')\n",
    "        \n",
    "    print()\n",
    "        "
   ]
  },
  {
   "cell_type": "code",
   "execution_count": 35,
   "metadata": {},
   "outputs": [
    {
     "name": "stdout",
     "output_type": "stream",
     "text": [
      "enter a number: 7\n",
      "*******\n",
      "*      \n",
      "*      \n",
      "*******\n",
      "*      \n",
      "*      \n",
      "*******\n"
     ]
    }
   ],
   "source": [
    "num=int(input(\"enter a number: \"))\n",
    "for row in range(num):\n",
    "    for col in range(num):\n",
    "        if col==0 or(row==0 or row==(num-1)/2) or row==(num-1):\n",
    "            print(\"*\",end='')\n",
    "        else:\n",
    "            print(end=' ')\n",
    "        \n",
    "    print()\n",
    "        "
   ]
  },
  {
   "cell_type": "code",
   "execution_count": 36,
   "metadata": {},
   "outputs": [
    {
     "name": "stdout",
     "output_type": "stream",
     "text": [
      "enter a number: 7\n",
      "*******\n",
      "*      \n",
      "*      \n",
      "*******\n",
      "*      \n",
      "*      \n",
      "*      \n"
     ]
    }
   ],
   "source": [
    "num=int(input(\"enter a number: \"))\n",
    "for row in range(num):\n",
    "    for col in range(num):\n",
    "        if col==0 or(row==0 or row==(num-1)/2):\n",
    "            print(\"*\",end='')\n",
    "        else:\n",
    "            print(end=' ')\n",
    "        \n",
    "    print()\n",
    "        "
   ]
  },
  {
   "cell_type": "code",
   "execution_count": 37,
   "metadata": {},
   "outputs": [
    {
     "name": "stdout",
     "output_type": "stream",
     "text": [
      "enter a number: 7\n",
      "*     *\n",
      "*     *\n",
      "*     *\n",
      "*******\n",
      "*     *\n",
      "*     *\n",
      "*     *\n"
     ]
    }
   ],
   "source": [
    "num=int(input(\"enter a number: \"))\n",
    "for row in range(num):\n",
    "    for col in range(num):\n",
    "        if(col==0 or col==(num-1))or  row==(num-1)/2:\n",
    "            print(\"*\",end='')\n",
    "        else:\n",
    "            print(end=' ')\n",
    "        \n",
    "    print()\n",
    "        "
   ]
  },
  {
   "cell_type": "code",
   "execution_count": 42,
   "metadata": {},
   "outputs": [
    {
     "name": "stdout",
     "output_type": "stream",
     "text": [
      "enter a number: 7\n",
      "*******\n",
      "   *   \n",
      "   *   \n",
      "   *   \n",
      "   *   \n",
      "   *   \n",
      "*******\n"
     ]
    }
   ],
   "source": [
    "num=int(input(\"enter a number: \"))\n",
    "for row in range(num):\n",
    "    for col in range(num):\n",
    "        if col==(num-1)/2 or(row==0 or row==(num-1)):\n",
    "            print(\"*\",end='')\n",
    "        else:\n",
    "            print(end=' ')\n",
    "        \n",
    "    print()\n",
    "        "
   ]
  },
  {
   "cell_type": "code",
   "execution_count": 46,
   "metadata": {},
   "outputs": [
    {
     "name": "stdout",
     "output_type": "stream",
     "text": [
      "enter a number: 7\n",
      "*******\n",
      "   *   \n",
      "   *   \n",
      "   *   \n",
      "   *   \n",
      "   *   \n",
      "****   \n"
     ]
    }
   ],
   "source": [
    "num=int(input(\"enter a number: \"))\n",
    "for row in range(num):\n",
    "    for col in range(num):\n",
    "        if col==(num-1)/2 or (row==(num-1) and col<(num-1)/2)or row==0:\n",
    "            print(\"*\",end='')\n",
    "        else:\n",
    "            print(end=' ')\n",
    "        \n",
    "    print()\n",
    "        "
   ]
  },
  {
   "cell_type": "code",
   "execution_count": 47,
   "metadata": {},
   "outputs": [
    {
     "name": "stdout",
     "output_type": "stream",
     "text": [
      "enter a number: 6\n",
      "*     \n",
      "*     \n",
      "*     \n",
      "*     \n",
      "*     \n",
      "******\n"
     ]
    }
   ],
   "source": [
    "num=int(input(\"enter a number: \"))\n",
    "for row in range(num):\n",
    "    for col in range(num):\n",
    "        if col==0 or row==(num-1):\n",
    "            print(\"*\",end='')\n",
    "        else:\n",
    "            print(end=' ')\n",
    "        \n",
    "    print()\n",
    "        "
   ]
  },
  {
   "cell_type": "code",
   "execution_count": 48,
   "metadata": {},
   "outputs": [
    {
     "name": "stdout",
     "output_type": "stream",
     "text": [
      "enter a number: 5\n",
      "*   *\n",
      "**  *\n",
      "* * *\n",
      "*  **\n",
      "*   *\n"
     ]
    }
   ],
   "source": [
    "num=int(input(\"enter a number: \"))\n",
    "for row in range(num):\n",
    "    for col in range(num):\n",
    "        if(col==0 or col==(num-1))or(row==col):\n",
    "            print(\"*\",end='')\n",
    "        else:\n",
    "            print(end=' ')\n",
    "        \n",
    "    print()\n",
    "        "
   ]
  },
  {
   "cell_type": "code",
   "execution_count": 49,
   "metadata": {},
   "outputs": [
    {
     "name": "stdout",
     "output_type": "stream",
     "text": [
      "enter a number: 5\n",
      "*****\n",
      "*   *\n",
      "*   *\n",
      "*   *\n",
      "*****\n"
     ]
    }
   ],
   "source": [
    "num=int(input(\"enter a number: \"))\n",
    "for row in range(num):\n",
    "    for col in range(num):\n",
    "        if (col==0 or col==(num-1)) or (row==0 or row==(num-1)):\n",
    "            print(\"*\",end='')\n",
    "        else:\n",
    "            print(end=' ')\n",
    "        \n",
    "    print()\n",
    "        "
   ]
  },
  {
   "cell_type": "code",
   "execution_count": 54,
   "metadata": {},
   "outputs": [
    {
     "name": "stdout",
     "output_type": "stream",
     "text": [
      "enter a number: 6\n",
      "* * * * * * \n",
      " * * * * * \n",
      "  * * * * \n",
      "   * * * \n",
      "    * * \n",
      "     * \n"
     ]
    }
   ],
   "source": [
    "num=int(input(\"enter a number: \"))\n",
    "for row in range(num,0,-1):\n",
    "        print(\" \"*(num-row)+\"* \"*row)\n",
    "        "
   ]
  },
  {
   "cell_type": "code",
   "execution_count": 67,
   "metadata": {},
   "outputs": [
    {
     "name": "stdout",
     "output_type": "stream",
     "text": [
      "enter a number: 7\n",
      "****   \n",
      "*      \n",
      "*      \n",
      "*   ***\n",
      "*     *\n",
      "*     *\n",
      "*******\n"
     ]
    }
   ],
   "source": [
    "num=int(input(\"enter a number: \"))\n",
    "for row in range(num):\n",
    "    for col in range(num):\n",
    "        if(col==0 or row==(num-1))or(row==0 and col<=(num-1)/2) or (col==(num-1) and row>(num-1)/2) or (row==(num-1)/2 and col>(num-1)/2):\n",
    "            print(\"*\",end='')\n",
    "        else:\n",
    "            print(end=' ')\n",
    "        \n",
    "    print()\n",
    "        "
   ]
  },
  {
   "cell_type": "code",
   "execution_count": 71,
   "metadata": {},
   "outputs": [
    {
     "name": "stdout",
     "output_type": "stream",
     "text": [
      "enter a number: 7\n",
      "*******\n",
      "   *   \n",
      "   *   \n",
      "   *   \n",
      "   *   \n",
      "   *   \n",
      "   *   \n"
     ]
    }
   ],
   "source": [
    "num=int(input(\"enter a number: \"))\n",
    "for row in range(num):\n",
    "    for col in range(num):\n",
    "        if num%2:\n",
    "            if col==(num-1)/2 or row==0:\n",
    "                print(\"*\",end='')\n",
    "            else:\n",
    "                print(end=' ')\n",
    "        else:\n",
    "            print(\"invalid input\")\n",
    "    print()\n",
    "        "
   ]
  },
  {
   "cell_type": "code",
   "execution_count": 72,
   "metadata": {},
   "outputs": [
    {
     "name": "stdout",
     "output_type": "stream",
     "text": [
      "enter a number: 7\n",
      "*     *\n",
      "*     *\n",
      "*     *\n",
      "*     *\n",
      "*     *\n",
      "*     *\n",
      "*******\n"
     ]
    }
   ],
   "source": [
    "num=int(input(\"enter a number: \"))\n",
    "for row in range(num):\n",
    "    for col in range(num):\n",
    "        if(col==0 or col==(num-1)) or row==(num-1):\n",
    "            print(\"*\",end='')\n",
    "        else:\n",
    "            print(end=' ')\n",
    "        \n",
    "    print()\n",
    "        "
   ]
  },
  {
   "cell_type": "code",
   "execution_count": 80,
   "metadata": {},
   "outputs": [
    {
     "name": "stdout",
     "output_type": "stream",
     "text": [
      "enter a number: 7\n",
      "*******\n",
      "     *  \n",
      "       \n",
      "   *   \n",
      "       \n",
      " *      \n",
      "*******\n"
     ]
    }
   ],
   "source": [
    "num=int(input(\"enter a number: \"))\n",
    "for row in range(num):\n",
    "    for col in range(num):\n",
    "        if (row==0 or row==(num-1)):\n",
    "            print(\"*\",end='')\n",
    "        elif (row==1 and col==(num-2)) or (row==(num-2) and col==1):\n",
    "            print(\"* \",end='')\n",
    "        elif (row==3 and col==(num-4)):\n",
    "            print(\"*\",end='')\n",
    "        else:\n",
    "            print(end=' ')\n",
    "        \n",
    "    print()\n",
    "        "
   ]
  },
  {
   "cell_type": "code",
   "execution_count": 1,
   "metadata": {},
   "outputs": [
    {
     "name": "stdout",
     "output_type": "stream",
     "text": [
      "enter a number: 5\n",
      " ****\n",
      "* ***\n",
      "** **\n",
      "*** *\n",
      "**** \n"
     ]
    }
   ],
   "source": [
    "num=int(input(\"enter a number: \"))\n",
    "for row in range(num):\n",
    "    for col in range(num):\n",
    "        if col>row or row>col:\n",
    "            print(\"*\",end='')\n",
    "        else:\n",
    "            print(end=' ')\n",
    "        \n",
    "    print()"
   ]
  },
  {
   "cell_type": "code",
   "execution_count": 17,
   "metadata": {},
   "outputs": [
    {
     "name": "stdout",
     "output_type": "stream",
     "text": [
      "enter a even number: 6\n",
      "enter a odd  number: 7\n",
      "*      \n",
      " *     \n",
      "  *    \n",
      "   *   \n",
      "    *  \n",
      "     * \n"
     ]
    }
   ],
   "source": [
    "even=int(input(\"enter a even number: \"))\n",
    "odd=int(input(\"enter a odd  number: \"))\n",
    "for row in range(even):\n",
    "    for col in range(odd):\n",
    "        if (even%2==0 and odd%2):\n",
    "            \n",
    "            if (row==col):\n",
    "                print(\"*\",end='')\n",
    "            else:\n",
    "                print(end=' ')\n",
    "        else:\n",
    "            print(\"invalid input\")\n",
    "    print()"
   ]
  },
  {
   "cell_type": "code",
   "execution_count": null,
   "metadata": {},
   "outputs": [],
   "source": []
  }
 ],
 "metadata": {
  "kernelspec": {
   "display_name": "Python 3",
   "language": "python",
   "name": "python3"
  },
  "language_info": {
   "codemirror_mode": {
    "name": "ipython",
    "version": 3
   },
   "file_extension": ".py",
   "mimetype": "text/x-python",
   "name": "python",
   "nbconvert_exporter": "python",
   "pygments_lexer": "ipython3",
   "version": "3.6.5"
  }
 },
 "nbformat": 4,
 "nbformat_minor": 2
}
